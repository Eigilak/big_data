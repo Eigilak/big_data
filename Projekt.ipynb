{
 "cells": [
  {
   "cell_type": "code",
   "execution_count": 90,
   "id": "950c6eca-2430-4fd5-ba23-abb2cad07144",
   "metadata": {
    "tags": []
   },
   "outputs": [],
   "source": [
    "#import all libraries\n",
    "import pandas as pd\n",
    "import numpy as np\n",
    "\n",
    "from sklearn.tree import DecisionTreeClassifier\n",
    "from sklearn.model_selection import train_test_split\n",
    "import plotly.express as px\n",
    "import plotly.graph_objects as go\n",
    "from plotly.subplots import make_subplots\n",
    "import graphviz\n",
    "from sklearn.tree import export_graphviz\n",
    "import matplotlib.ticker as mtick # For specifying the axes tick format \n",
    "import matplotlib.pyplot as plt\n",
    "from sklearn import svm, datasets\n",
    "from sklearn.metrics import confusion_matrix\n",
    "from sklearn.metrics import classification_report\n",
    "from sklearn.preprocessing import MinMaxScaler\n",
    "import warnings\n",
    "warnings.filterwarnings('ignore')\n",
    "pd.options.display.max_columns = None\n",
    "\n",
    "from sklearn.ensemble import RandomForestClassifier\n",
    "from sklearn.model_selection import StratifiedKFold\n",
    "from sklearn.feature_selection import RFECV\n",
    "from sklearn.linear_model import LogisticRegression\n",
    "import seaborn as sns"
   ]
  },
  {
   "cell_type": "markdown",
   "id": "a0316fbe-6e03-487d-9583-d9fee66c7ae7",
   "metadata": {},
   "source": [
    "# Table of contents - virker ikke på github :("
   ]
  },
  {
   "cell_type": "markdown",
   "id": "3c4372f6-927c-410c-9f7e-cc4767fac613",
   "metadata": {},
   "source": [
    "[Data preperation](#Data-preperation)\n",
    "- [Make table mutable](#Make-features-mutable---from-different-val-to-yes-and-no)\n",
    "- [Pie Chart - churn ratio](#Pie-Chart---Churn-Ratio)\n",
    "- [Bar chart](#Bar-Chart---Churn-ratio)\n",
    "- [Heat map - correlation with feature and churn](#Heatmap---correlation-with-feature-and-churne)\n",
    "\n",
    "[Data modeling](#Modeling)\n",
    "- [Decision tree - Without Cross validation](#Decision-tree---without-Cross-validation)\n",
    "    - [Decision tree-accuracy - result](#Decision-tree-accuracy---result)\n",
    "    - [Feature importance - result](#decision-tree-feature-importance)\n",
    "    - [Confusion matrix - result](#decision-tree-confusion-matrix---result)\n",
    "    \n",
    "    \n",
    "- [Decision tree - With Cross-Validationn](#Decision-tree---Cross-Validation)\n",
    "    - [Accuracy-result](#Decision-three-with-cross-validation---Accuracy-result)\n",
    "    - [Feature importance - result](#Decision-three-with-cross-validation---Accuracy-result)\n",
    "    - [Confusion matrix - result](#decision-tree-cross---confusion-matrix)\n",
    "    \n",
    "    \n",
    "- [Random forrest - Without Cross-Validationn](#Random-forrest---without-cross-validation)\n",
    "    - [Accuracy-result](#rf-accuracy-result)\n",
    "    - [Feature importance - result](#rf---feature-importance---result)\n",
    "    - [Confusion matrix - result](#rf---confusion-matrix---result)\n",
    "    \n",
    "\n",
    "- [Random forrest - With Cross-Validationn](#Random-forest-with-cross-validation)\n",
    "    - [Accuracy-result](#rf-accuracy-cross-result )\n",
    "    - [Feature importance - result](#rf-feature-importance-cross---result)\n",
    "    - [Confusion matrix - result](#rf-cross---confusion-matrix---result)\n",
    "  "
   ]
  },
  {
   "cell_type": "markdown",
   "id": "d621dfad-e415-48e1-8078-2c7a07c47fb2",
   "metadata": {
    "tags": []
   },
   "source": [
    "## Data preperation"
   ]
  },
  {
   "cell_type": "code",
   "execution_count": 91,
   "id": "9444e910-d8bd-4d2e-8735-293a3cb8da01",
   "metadata": {
    "tags": []
   },
   "outputs": [],
   "source": [
    "#Retrieve the Dataset from the CSV file\n",
    "pre_df = pd.read_csv('Telco_Customer_Churn.csv')"
   ]
  },
  {
   "cell_type": "code",
   "execution_count": 92,
   "id": "a6d5b4ba-a93e-440f-abc0-53b4606d189c",
   "metadata": {
    "tags": []
   },
   "outputs": [
    {
     "data": {
      "text/html": [
       "<div>\n",
       "<style scoped>\n",
       "    .dataframe tbody tr th:only-of-type {\n",
       "        vertical-align: middle;\n",
       "    }\n",
       "\n",
       "    .dataframe tbody tr th {\n",
       "        vertical-align: top;\n",
       "    }\n",
       "\n",
       "    .dataframe thead th {\n",
       "        text-align: right;\n",
       "    }\n",
       "</style>\n",
       "<table border=\"1\" class=\"dataframe\">\n",
       "  <thead>\n",
       "    <tr style=\"text-align: right;\">\n",
       "      <th></th>\n",
       "      <th>customerID</th>\n",
       "      <th>gender</th>\n",
       "      <th>SeniorCitizen</th>\n",
       "      <th>Partner</th>\n",
       "      <th>Dependents</th>\n",
       "      <th>tenure</th>\n",
       "      <th>PhoneService</th>\n",
       "      <th>MultipleLines</th>\n",
       "      <th>InternetService</th>\n",
       "      <th>OnlineSecurity</th>\n",
       "      <th>OnlineBackup</th>\n",
       "      <th>DeviceProtection</th>\n",
       "      <th>TechSupport</th>\n",
       "      <th>StreamingTV</th>\n",
       "      <th>StreamingMovies</th>\n",
       "      <th>Contract</th>\n",
       "      <th>PaperlessBilling</th>\n",
       "      <th>PaymentMethod</th>\n",
       "      <th>MonthlyCharges</th>\n",
       "      <th>TotalCharges</th>\n",
       "      <th>Churn</th>\n",
       "    </tr>\n",
       "  </thead>\n",
       "  <tbody>\n",
       "    <tr>\n",
       "      <th>0</th>\n",
       "      <td>7590-VHVEG</td>\n",
       "      <td>Female</td>\n",
       "      <td>0</td>\n",
       "      <td>Yes</td>\n",
       "      <td>No</td>\n",
       "      <td>1</td>\n",
       "      <td>No</td>\n",
       "      <td>No phone service</td>\n",
       "      <td>DSL</td>\n",
       "      <td>No</td>\n",
       "      <td>Yes</td>\n",
       "      <td>No</td>\n",
       "      <td>No</td>\n",
       "      <td>No</td>\n",
       "      <td>No</td>\n",
       "      <td>Month-to-month</td>\n",
       "      <td>Yes</td>\n",
       "      <td>Electronic check</td>\n",
       "      <td>29.85</td>\n",
       "      <td>29.85</td>\n",
       "      <td>No</td>\n",
       "    </tr>\n",
       "    <tr>\n",
       "      <th>1</th>\n",
       "      <td>5575-GNVDE</td>\n",
       "      <td>Male</td>\n",
       "      <td>0</td>\n",
       "      <td>No</td>\n",
       "      <td>No</td>\n",
       "      <td>34</td>\n",
       "      <td>Yes</td>\n",
       "      <td>No</td>\n",
       "      <td>DSL</td>\n",
       "      <td>Yes</td>\n",
       "      <td>No</td>\n",
       "      <td>Yes</td>\n",
       "      <td>No</td>\n",
       "      <td>No</td>\n",
       "      <td>No</td>\n",
       "      <td>One year</td>\n",
       "      <td>No</td>\n",
       "      <td>Mailed check</td>\n",
       "      <td>56.95</td>\n",
       "      <td>1889.5</td>\n",
       "      <td>No</td>\n",
       "    </tr>\n",
       "    <tr>\n",
       "      <th>2</th>\n",
       "      <td>3668-QPYBK</td>\n",
       "      <td>Male</td>\n",
       "      <td>0</td>\n",
       "      <td>No</td>\n",
       "      <td>No</td>\n",
       "      <td>2</td>\n",
       "      <td>Yes</td>\n",
       "      <td>No</td>\n",
       "      <td>DSL</td>\n",
       "      <td>Yes</td>\n",
       "      <td>Yes</td>\n",
       "      <td>No</td>\n",
       "      <td>No</td>\n",
       "      <td>No</td>\n",
       "      <td>No</td>\n",
       "      <td>Month-to-month</td>\n",
       "      <td>Yes</td>\n",
       "      <td>Mailed check</td>\n",
       "      <td>53.85</td>\n",
       "      <td>108.15</td>\n",
       "      <td>Yes</td>\n",
       "    </tr>\n",
       "    <tr>\n",
       "      <th>3</th>\n",
       "      <td>7795-CFOCW</td>\n",
       "      <td>Male</td>\n",
       "      <td>0</td>\n",
       "      <td>No</td>\n",
       "      <td>No</td>\n",
       "      <td>45</td>\n",
       "      <td>No</td>\n",
       "      <td>No phone service</td>\n",
       "      <td>DSL</td>\n",
       "      <td>Yes</td>\n",
       "      <td>No</td>\n",
       "      <td>Yes</td>\n",
       "      <td>Yes</td>\n",
       "      <td>No</td>\n",
       "      <td>No</td>\n",
       "      <td>One year</td>\n",
       "      <td>No</td>\n",
       "      <td>Bank transfer (automatic)</td>\n",
       "      <td>42.30</td>\n",
       "      <td>1840.75</td>\n",
       "      <td>No</td>\n",
       "    </tr>\n",
       "    <tr>\n",
       "      <th>4</th>\n",
       "      <td>9237-HQITU</td>\n",
       "      <td>Female</td>\n",
       "      <td>0</td>\n",
       "      <td>No</td>\n",
       "      <td>No</td>\n",
       "      <td>2</td>\n",
       "      <td>Yes</td>\n",
       "      <td>No</td>\n",
       "      <td>Fiber optic</td>\n",
       "      <td>No</td>\n",
       "      <td>No</td>\n",
       "      <td>No</td>\n",
       "      <td>No</td>\n",
       "      <td>No</td>\n",
       "      <td>No</td>\n",
       "      <td>Month-to-month</td>\n",
       "      <td>Yes</td>\n",
       "      <td>Electronic check</td>\n",
       "      <td>70.70</td>\n",
       "      <td>151.65</td>\n",
       "      <td>Yes</td>\n",
       "    </tr>\n",
       "  </tbody>\n",
       "</table>\n",
       "</div>"
      ],
      "text/plain": [
       "   customerID  gender  SeniorCitizen Partner Dependents  tenure PhoneService  \\\n",
       "0  7590-VHVEG  Female              0     Yes         No       1           No   \n",
       "1  5575-GNVDE    Male              0      No         No      34          Yes   \n",
       "2  3668-QPYBK    Male              0      No         No       2          Yes   \n",
       "3  7795-CFOCW    Male              0      No         No      45           No   \n",
       "4  9237-HQITU  Female              0      No         No       2          Yes   \n",
       "\n",
       "      MultipleLines InternetService OnlineSecurity OnlineBackup  \\\n",
       "0  No phone service             DSL             No          Yes   \n",
       "1                No             DSL            Yes           No   \n",
       "2                No             DSL            Yes          Yes   \n",
       "3  No phone service             DSL            Yes           No   \n",
       "4                No     Fiber optic             No           No   \n",
       "\n",
       "  DeviceProtection TechSupport StreamingTV StreamingMovies        Contract  \\\n",
       "0               No          No          No              No  Month-to-month   \n",
       "1              Yes          No          No              No        One year   \n",
       "2               No          No          No              No  Month-to-month   \n",
       "3              Yes         Yes          No              No        One year   \n",
       "4               No          No          No              No  Month-to-month   \n",
       "\n",
       "  PaperlessBilling              PaymentMethod  MonthlyCharges TotalCharges  \\\n",
       "0              Yes           Electronic check           29.85        29.85   \n",
       "1               No               Mailed check           56.95       1889.5   \n",
       "2              Yes               Mailed check           53.85       108.15   \n",
       "3               No  Bank transfer (automatic)           42.30      1840.75   \n",
       "4              Yes           Electronic check           70.70       151.65   \n",
       "\n",
       "  Churn  \n",
       "0    No  \n",
       "1    No  \n",
       "2   Yes  \n",
       "3    No  \n",
       "4   Yes  "
      ]
     },
     "execution_count": 92,
     "metadata": {},
     "output_type": "execute_result"
    }
   ],
   "source": [
    "#Show the first ten rows of the dataset\n",
    "pre_df.head()"
   ]
  },
  {
   "cell_type": "code",
   "execution_count": 93,
   "id": "792ea73e-f810-41c3-b5c8-591e1c404039",
   "metadata": {
    "tags": []
   },
   "outputs": [
    {
     "data": {
      "text/plain": [
       "(7043, 21)"
      ]
     },
     "execution_count": 93,
     "metadata": {},
     "output_type": "execute_result"
    }
   ],
   "source": [
    "#Size of whole dataset\n",
    "pre_df.shape"
   ]
  },
  {
   "cell_type": "code",
   "execution_count": 94,
   "id": "d9f381ea-2959-4061-8524-672a4e30e5ce",
   "metadata": {
    "tags": []
   },
   "outputs": [],
   "source": [
    "#Clean table in case of duplicates\n",
    "pre_df.drop_duplicates(inplace = True)"
   ]
  },
  {
   "cell_type": "code",
   "execution_count": 95,
   "id": "445931cf-ca6a-40bb-b86c-deac0a2d79bc",
   "metadata": {
    "tags": []
   },
   "outputs": [
    {
     "data": {
      "text/plain": [
       "(7043, 21)"
      ]
     },
     "execution_count": 95,
     "metadata": {},
     "output_type": "execute_result"
    }
   ],
   "source": [
    "#Show none rows has been dropped\n",
    "pre_df.shape"
   ]
  },
  {
   "cell_type": "code",
   "execution_count": 96,
   "id": "4bd710c0-94bf-4189-adab-242b5495b950",
   "metadata": {
    "tags": []
   },
   "outputs": [],
   "source": [
    "# Remove missing values\n",
    "pre_df.dropna(inplace = True)"
   ]
  },
  {
   "cell_type": "code",
   "execution_count": 97,
   "id": "11becc42-decf-4e62-b39c-1a5de636672c",
   "metadata": {
    "tags": []
   },
   "outputs": [
    {
     "data": {
      "text/plain": [
       "(7043, 21)"
      ]
     },
     "execution_count": 97,
     "metadata": {},
     "output_type": "execute_result"
    }
   ],
   "source": [
    "#Show none rows has been dropped\n",
    "pre_df.shape"
   ]
  },
  {
   "cell_type": "code",
   "execution_count": 98,
   "id": "65b6dd3c-665a-477f-b141-34c7fafabe18",
   "metadata": {
    "tags": []
   },
   "outputs": [],
   "source": [
    "# remove customer ID, because it doesn't affect the reason question\n",
    "df = pre_df.iloc[:,1:]"
   ]
  },
  {
   "cell_type": "code",
   "execution_count": 99,
   "id": "de1b4846-0b85-41d9-9e42-52fa05d00b62",
   "metadata": {
    "tags": []
   },
   "outputs": [],
   "source": [
    "# Converting Total Charges to a numerical data type, so it is mutable \n",
    "df.TotalCharges = pd.to_numeric(df.TotalCharges, errors= 'coerce')"
   ]
  },
  {
   "cell_type": "code",
   "execution_count": 100,
   "id": "7f710a03-91aa-4b42-86ef-4a823155beed",
   "metadata": {
    "tags": []
   },
   "outputs": [
    {
     "data": {
      "text/plain": [
       "gender               0\n",
       "SeniorCitizen        0\n",
       "Partner              0\n",
       "Dependents           0\n",
       "tenure               0\n",
       "PhoneService         0\n",
       "MultipleLines        0\n",
       "InternetService      0\n",
       "OnlineSecurity       0\n",
       "OnlineBackup         0\n",
       "DeviceProtection     0\n",
       "TechSupport          0\n",
       "StreamingTV          0\n",
       "StreamingMovies      0\n",
       "Contract             0\n",
       "PaperlessBilling     0\n",
       "PaymentMethod        0\n",
       "MonthlyCharges       0\n",
       "TotalCharges        11\n",
       "Churn                0\n",
       "dtype: int64"
      ]
     },
     "execution_count": 100,
     "metadata": {},
     "output_type": "execute_result"
    }
   ],
   "source": [
    "#How many of the cols have a null value\n",
    "df.isnull().sum()"
   ]
  },
  {
   "cell_type": "code",
   "execution_count": 101,
   "id": "7051593a-f58c-42e5-8d27-fa490388a0ab",
   "metadata": {
    "tags": []
   },
   "outputs": [
    {
     "data": {
      "text/plain": [
       "(7043, 20)"
      ]
     },
     "execution_count": 101,
     "metadata": {},
     "output_type": "execute_result"
    }
   ],
   "source": [
    "# Show total amount of rows and cols\n",
    "df.shape"
   ]
  },
  {
   "cell_type": "code",
   "execution_count": 102,
   "id": "85400b2e-b7fd-4922-b358-790d107e545a",
   "metadata": {
    "tags": []
   },
   "outputs": [
    {
     "data": {
      "text/plain": [
       "(7032, 20)"
      ]
     },
     "execution_count": 102,
     "metadata": {},
     "output_type": "execute_result"
    }
   ],
   "source": [
    "#Drop rows where they haven't stayed for more than one month because of total charge is null\n",
    "df.drop(labels=df[df['tenure'] == 0].index, axis=0, inplace=True)\n",
    "df.shape"
   ]
  },
  {
   "cell_type": "code",
   "execution_count": 103,
   "id": "e7cf5cff-0708-40f0-8690-33dbe14e0734",
   "metadata": {
    "tags": []
   },
   "outputs": [
    {
     "data": {
      "text/plain": [
       "gender              0\n",
       "SeniorCitizen       0\n",
       "Partner             0\n",
       "Dependents          0\n",
       "tenure              0\n",
       "PhoneService        0\n",
       "MultipleLines       0\n",
       "InternetService     0\n",
       "OnlineSecurity      0\n",
       "OnlineBackup        0\n",
       "DeviceProtection    0\n",
       "TechSupport         0\n",
       "StreamingTV         0\n",
       "StreamingMovies     0\n",
       "Contract            0\n",
       "PaperlessBilling    0\n",
       "PaymentMethod       0\n",
       "MonthlyCharges      0\n",
       "TotalCharges        0\n",
       "Churn               0\n",
       "dtype: int64"
      ]
     },
     "execution_count": 103,
     "metadata": {},
     "output_type": "execute_result"
    }
   ],
   "source": [
    "# check if we have any nulls left\n",
    "df.isnull().sum()"
   ]
  },
  {
   "cell_type": "markdown",
   "id": "13c2453a-45ff-4096-8184-8a4ab68d4bfe",
   "metadata": {
    "tags": []
   },
   "source": [
    "## Make features mutable - from different val to yes and no"
   ]
  },
  {
   "cell_type": "code",
   "execution_count": 104,
   "id": "ed0be8d7-8b94-45c9-a127-ff6eff44667f",
   "metadata": {
    "tags": []
   },
   "outputs": [],
   "source": [
    "# Convert Multiple lines, Online Security, Online Backup, Device Protection, Tech support, Streaming Service, Streaming Movies, so it is mutable\n",
    "df['MultipleLines'] = df['MultipleLines'].replace(\"No phone service\", \"No\")\n",
    "df['OnlineSecurity'] = df['OnlineSecurity'].replace(\"No internet service\", \"No\")\n",
    "df['OnlineBackup'] = df['OnlineBackup'].replace(\"No internet service\", \"No\")\n",
    "df['DeviceProtection'] = df['DeviceProtection'].replace(\"No internet service\", \"No\")\n",
    "df['TechSupport'] = df['TechSupport'].replace(\"No internet service\", \"No\")\n",
    "df['StreamingTV'] = df['StreamingTV'].replace(\"No internet service\", \"No\")\n",
    "df['StreamingMovies'] = df['StreamingMovies'].replace(\"No internet service\", \"No\")\n",
    "\n",
    "#converting senior citizen into category\n",
    "df['SeniorCitizen'] = df['SeniorCitizen'].replace(1,\"Yes\")\n",
    "df['SeniorCitizen'] = df['SeniorCitizen'].replace(0,\"No\")\n",
    "df['TotalCharges'] = df['TotalCharges'].astype(float)"
   ]
  },
  {
   "cell_type": "code",
   "execution_count": 105,
   "id": "55971479-e73e-4b60-b2d7-a6bc46811a5a",
   "metadata": {
    "tags": []
   },
   "outputs": [
    {
     "data": {
      "text/html": [
       "<div>\n",
       "<style scoped>\n",
       "    .dataframe tbody tr th:only-of-type {\n",
       "        vertical-align: middle;\n",
       "    }\n",
       "\n",
       "    .dataframe tbody tr th {\n",
       "        vertical-align: top;\n",
       "    }\n",
       "\n",
       "    .dataframe thead th {\n",
       "        text-align: right;\n",
       "    }\n",
       "</style>\n",
       "<table border=\"1\" class=\"dataframe\">\n",
       "  <thead>\n",
       "    <tr style=\"text-align: right;\">\n",
       "      <th></th>\n",
       "      <th>gender</th>\n",
       "      <th>SeniorCitizen</th>\n",
       "      <th>Partner</th>\n",
       "      <th>Dependents</th>\n",
       "      <th>tenure</th>\n",
       "      <th>PhoneService</th>\n",
       "      <th>MultipleLines</th>\n",
       "      <th>InternetService</th>\n",
       "      <th>OnlineSecurity</th>\n",
       "      <th>OnlineBackup</th>\n",
       "      <th>DeviceProtection</th>\n",
       "      <th>TechSupport</th>\n",
       "      <th>StreamingTV</th>\n",
       "      <th>StreamingMovies</th>\n",
       "      <th>Contract</th>\n",
       "      <th>PaperlessBilling</th>\n",
       "      <th>PaymentMethod</th>\n",
       "      <th>MonthlyCharges</th>\n",
       "      <th>TotalCharges</th>\n",
       "      <th>Churn</th>\n",
       "    </tr>\n",
       "  </thead>\n",
       "  <tbody>\n",
       "    <tr>\n",
       "      <th>0</th>\n",
       "      <td>Female</td>\n",
       "      <td>No</td>\n",
       "      <td>Yes</td>\n",
       "      <td>No</td>\n",
       "      <td>1</td>\n",
       "      <td>No</td>\n",
       "      <td>No</td>\n",
       "      <td>DSL</td>\n",
       "      <td>No</td>\n",
       "      <td>Yes</td>\n",
       "      <td>No</td>\n",
       "      <td>No</td>\n",
       "      <td>No</td>\n",
       "      <td>No</td>\n",
       "      <td>Month-to-month</td>\n",
       "      <td>Yes</td>\n",
       "      <td>Electronic check</td>\n",
       "      <td>29.85</td>\n",
       "      <td>29.85</td>\n",
       "      <td>No</td>\n",
       "    </tr>\n",
       "    <tr>\n",
       "      <th>1</th>\n",
       "      <td>Male</td>\n",
       "      <td>No</td>\n",
       "      <td>No</td>\n",
       "      <td>No</td>\n",
       "      <td>34</td>\n",
       "      <td>Yes</td>\n",
       "      <td>No</td>\n",
       "      <td>DSL</td>\n",
       "      <td>Yes</td>\n",
       "      <td>No</td>\n",
       "      <td>Yes</td>\n",
       "      <td>No</td>\n",
       "      <td>No</td>\n",
       "      <td>No</td>\n",
       "      <td>One year</td>\n",
       "      <td>No</td>\n",
       "      <td>Mailed check</td>\n",
       "      <td>56.95</td>\n",
       "      <td>1889.50</td>\n",
       "      <td>No</td>\n",
       "    </tr>\n",
       "    <tr>\n",
       "      <th>2</th>\n",
       "      <td>Male</td>\n",
       "      <td>No</td>\n",
       "      <td>No</td>\n",
       "      <td>No</td>\n",
       "      <td>2</td>\n",
       "      <td>Yes</td>\n",
       "      <td>No</td>\n",
       "      <td>DSL</td>\n",
       "      <td>Yes</td>\n",
       "      <td>Yes</td>\n",
       "      <td>No</td>\n",
       "      <td>No</td>\n",
       "      <td>No</td>\n",
       "      <td>No</td>\n",
       "      <td>Month-to-month</td>\n",
       "      <td>Yes</td>\n",
       "      <td>Mailed check</td>\n",
       "      <td>53.85</td>\n",
       "      <td>108.15</td>\n",
       "      <td>Yes</td>\n",
       "    </tr>\n",
       "    <tr>\n",
       "      <th>3</th>\n",
       "      <td>Male</td>\n",
       "      <td>No</td>\n",
       "      <td>No</td>\n",
       "      <td>No</td>\n",
       "      <td>45</td>\n",
       "      <td>No</td>\n",
       "      <td>No</td>\n",
       "      <td>DSL</td>\n",
       "      <td>Yes</td>\n",
       "      <td>No</td>\n",
       "      <td>Yes</td>\n",
       "      <td>Yes</td>\n",
       "      <td>No</td>\n",
       "      <td>No</td>\n",
       "      <td>One year</td>\n",
       "      <td>No</td>\n",
       "      <td>Bank transfer (automatic)</td>\n",
       "      <td>42.30</td>\n",
       "      <td>1840.75</td>\n",
       "      <td>No</td>\n",
       "    </tr>\n",
       "    <tr>\n",
       "      <th>4</th>\n",
       "      <td>Female</td>\n",
       "      <td>No</td>\n",
       "      <td>No</td>\n",
       "      <td>No</td>\n",
       "      <td>2</td>\n",
       "      <td>Yes</td>\n",
       "      <td>No</td>\n",
       "      <td>Fiber optic</td>\n",
       "      <td>No</td>\n",
       "      <td>No</td>\n",
       "      <td>No</td>\n",
       "      <td>No</td>\n",
       "      <td>No</td>\n",
       "      <td>No</td>\n",
       "      <td>Month-to-month</td>\n",
       "      <td>Yes</td>\n",
       "      <td>Electronic check</td>\n",
       "      <td>70.70</td>\n",
       "      <td>151.65</td>\n",
       "      <td>Yes</td>\n",
       "    </tr>\n",
       "  </tbody>\n",
       "</table>\n",
       "</div>"
      ],
      "text/plain": [
       "   gender SeniorCitizen Partner Dependents  tenure PhoneService MultipleLines  \\\n",
       "0  Female            No     Yes         No       1           No            No   \n",
       "1    Male            No      No         No      34          Yes            No   \n",
       "2    Male            No      No         No       2          Yes            No   \n",
       "3    Male            No      No         No      45           No            No   \n",
       "4  Female            No      No         No       2          Yes            No   \n",
       "\n",
       "  InternetService OnlineSecurity OnlineBackup DeviceProtection TechSupport  \\\n",
       "0             DSL             No          Yes               No          No   \n",
       "1             DSL            Yes           No              Yes          No   \n",
       "2             DSL            Yes          Yes               No          No   \n",
       "3             DSL            Yes           No              Yes         Yes   \n",
       "4     Fiber optic             No           No               No          No   \n",
       "\n",
       "  StreamingTV StreamingMovies        Contract PaperlessBilling  \\\n",
       "0          No              No  Month-to-month              Yes   \n",
       "1          No              No        One year               No   \n",
       "2          No              No  Month-to-month              Yes   \n",
       "3          No              No        One year               No   \n",
       "4          No              No  Month-to-month              Yes   \n",
       "\n",
       "               PaymentMethod  MonthlyCharges  TotalCharges Churn  \n",
       "0           Electronic check           29.85         29.85    No  \n",
       "1               Mailed check           56.95       1889.50    No  \n",
       "2               Mailed check           53.85        108.15   Yes  \n",
       "3  Bank transfer (automatic)           42.30       1840.75    No  \n",
       "4           Electronic check           70.70        151.65   Yes  "
      ]
     },
     "execution_count": 105,
     "metadata": {},
     "output_type": "execute_result"
    }
   ],
   "source": [
    "#Show the conversion\n",
    "df.head()"
   ]
  },
  {
   "cell_type": "markdown",
   "id": "676983e4-29fd-4d03-9b4d-9c94b6ede7bf",
   "metadata": {
    "tags": []
   },
   "source": [
    "### Pie Chart - Churn Ratio"
   ]
  },
  {
   "cell_type": "code",
   "execution_count": 106,
   "id": "36282680-543e-474a-9ba0-1ff021a1ba68",
   "metadata": {
    "tags": []
   },
   "outputs": [
    {
     "data": {
      "application/vnd.plotly.v1+json": {
       "config": {
        "plotlyServerURL": "https://plot.ly"
       },
       "data": [
        {
         "hole": 0.4,
         "hoverinfo": "label+percent+name",
         "labels": [
          "No",
          "Yes"
         ],
         "name": "Churn",
         "textfont": {
          "size": 16
         },
         "type": "pie",
         "values": [
          5163,
          1869
         ]
        }
       ],
       "layout": {
        "autosize": true,
        "template": {
         "data": {
          "bar": [
           {
            "error_x": {
             "color": "#2a3f5f"
            },
            "error_y": {
             "color": "#2a3f5f"
            },
            "marker": {
             "line": {
              "color": "#E5ECF6",
              "width": 0.5
             },
             "pattern": {
              "fillmode": "overlay",
              "size": 10,
              "solidity": 0.2
             }
            },
            "type": "bar"
           }
          ],
          "barpolar": [
           {
            "marker": {
             "line": {
              "color": "#E5ECF6",
              "width": 0.5
             },
             "pattern": {
              "fillmode": "overlay",
              "size": 10,
              "solidity": 0.2
             }
            },
            "type": "barpolar"
           }
          ],
          "carpet": [
           {
            "aaxis": {
             "endlinecolor": "#2a3f5f",
             "gridcolor": "white",
             "linecolor": "white",
             "minorgridcolor": "white",
             "startlinecolor": "#2a3f5f"
            },
            "baxis": {
             "endlinecolor": "#2a3f5f",
             "gridcolor": "white",
             "linecolor": "white",
             "minorgridcolor": "white",
             "startlinecolor": "#2a3f5f"
            },
            "type": "carpet"
           }
          ],
          "choropleth": [
           {
            "colorbar": {
             "outlinewidth": 0,
             "ticks": ""
            },
            "type": "choropleth"
           }
          ],
          "contour": [
           {
            "colorbar": {
             "outlinewidth": 0,
             "ticks": ""
            },
            "colorscale": [
             [
              0,
              "#0d0887"
             ],
             [
              0.1111111111111111,
              "#46039f"
             ],
             [
              0.2222222222222222,
              "#7201a8"
             ],
             [
              0.3333333333333333,
              "#9c179e"
             ],
             [
              0.4444444444444444,
              "#bd3786"
             ],
             [
              0.5555555555555556,
              "#d8576b"
             ],
             [
              0.6666666666666666,
              "#ed7953"
             ],
             [
              0.7777777777777778,
              "#fb9f3a"
             ],
             [
              0.8888888888888888,
              "#fdca26"
             ],
             [
              1,
              "#f0f921"
             ]
            ],
            "type": "contour"
           }
          ],
          "contourcarpet": [
           {
            "colorbar": {
             "outlinewidth": 0,
             "ticks": ""
            },
            "type": "contourcarpet"
           }
          ],
          "heatmap": [
           {
            "colorbar": {
             "outlinewidth": 0,
             "ticks": ""
            },
            "colorscale": [
             [
              0,
              "#0d0887"
             ],
             [
              0.1111111111111111,
              "#46039f"
             ],
             [
              0.2222222222222222,
              "#7201a8"
             ],
             [
              0.3333333333333333,
              "#9c179e"
             ],
             [
              0.4444444444444444,
              "#bd3786"
             ],
             [
              0.5555555555555556,
              "#d8576b"
             ],
             [
              0.6666666666666666,
              "#ed7953"
             ],
             [
              0.7777777777777778,
              "#fb9f3a"
             ],
             [
              0.8888888888888888,
              "#fdca26"
             ],
             [
              1,
              "#f0f921"
             ]
            ],
            "type": "heatmap"
           }
          ],
          "heatmapgl": [
           {
            "colorbar": {
             "outlinewidth": 0,
             "ticks": ""
            },
            "colorscale": [
             [
              0,
              "#0d0887"
             ],
             [
              0.1111111111111111,
              "#46039f"
             ],
             [
              0.2222222222222222,
              "#7201a8"
             ],
             [
              0.3333333333333333,
              "#9c179e"
             ],
             [
              0.4444444444444444,
              "#bd3786"
             ],
             [
              0.5555555555555556,
              "#d8576b"
             ],
             [
              0.6666666666666666,
              "#ed7953"
             ],
             [
              0.7777777777777778,
              "#fb9f3a"
             ],
             [
              0.8888888888888888,
              "#fdca26"
             ],
             [
              1,
              "#f0f921"
             ]
            ],
            "type": "heatmapgl"
           }
          ],
          "histogram": [
           {
            "marker": {
             "pattern": {
              "fillmode": "overlay",
              "size": 10,
              "solidity": 0.2
             }
            },
            "type": "histogram"
           }
          ],
          "histogram2d": [
           {
            "colorbar": {
             "outlinewidth": 0,
             "ticks": ""
            },
            "colorscale": [
             [
              0,
              "#0d0887"
             ],
             [
              0.1111111111111111,
              "#46039f"
             ],
             [
              0.2222222222222222,
              "#7201a8"
             ],
             [
              0.3333333333333333,
              "#9c179e"
             ],
             [
              0.4444444444444444,
              "#bd3786"
             ],
             [
              0.5555555555555556,
              "#d8576b"
             ],
             [
              0.6666666666666666,
              "#ed7953"
             ],
             [
              0.7777777777777778,
              "#fb9f3a"
             ],
             [
              0.8888888888888888,
              "#fdca26"
             ],
             [
              1,
              "#f0f921"
             ]
            ],
            "type": "histogram2d"
           }
          ],
          "histogram2dcontour": [
           {
            "colorbar": {
             "outlinewidth": 0,
             "ticks": ""
            },
            "colorscale": [
             [
              0,
              "#0d0887"
             ],
             [
              0.1111111111111111,
              "#46039f"
             ],
             [
              0.2222222222222222,
              "#7201a8"
             ],
             [
              0.3333333333333333,
              "#9c179e"
             ],
             [
              0.4444444444444444,
              "#bd3786"
             ],
             [
              0.5555555555555556,
              "#d8576b"
             ],
             [
              0.6666666666666666,
              "#ed7953"
             ],
             [
              0.7777777777777778,
              "#fb9f3a"
             ],
             [
              0.8888888888888888,
              "#fdca26"
             ],
             [
              1,
              "#f0f921"
             ]
            ],
            "type": "histogram2dcontour"
           }
          ],
          "mesh3d": [
           {
            "colorbar": {
             "outlinewidth": 0,
             "ticks": ""
            },
            "type": "mesh3d"
           }
          ],
          "parcoords": [
           {
            "line": {
             "colorbar": {
              "outlinewidth": 0,
              "ticks": ""
             }
            },
            "type": "parcoords"
           }
          ],
          "pie": [
           {
            "automargin": true,
            "type": "pie"
           }
          ],
          "scatter": [
           {
            "marker": {
             "colorbar": {
              "outlinewidth": 0,
              "ticks": ""
             }
            },
            "type": "scatter"
           }
          ],
          "scatter3d": [
           {
            "line": {
             "colorbar": {
              "outlinewidth": 0,
              "ticks": ""
             }
            },
            "marker": {
             "colorbar": {
              "outlinewidth": 0,
              "ticks": ""
             }
            },
            "type": "scatter3d"
           }
          ],
          "scattercarpet": [
           {
            "marker": {
             "colorbar": {
              "outlinewidth": 0,
              "ticks": ""
             }
            },
            "type": "scattercarpet"
           }
          ],
          "scattergeo": [
           {
            "marker": {
             "colorbar": {
              "outlinewidth": 0,
              "ticks": ""
             }
            },
            "type": "scattergeo"
           }
          ],
          "scattergl": [
           {
            "marker": {
             "colorbar": {
              "outlinewidth": 0,
              "ticks": ""
             }
            },
            "type": "scattergl"
           }
          ],
          "scattermapbox": [
           {
            "marker": {
             "colorbar": {
              "outlinewidth": 0,
              "ticks": ""
             }
            },
            "type": "scattermapbox"
           }
          ],
          "scatterpolar": [
           {
            "marker": {
             "colorbar": {
              "outlinewidth": 0,
              "ticks": ""
             }
            },
            "type": "scatterpolar"
           }
          ],
          "scatterpolargl": [
           {
            "marker": {
             "colorbar": {
              "outlinewidth": 0,
              "ticks": ""
             }
            },
            "type": "scatterpolargl"
           }
          ],
          "scatterternary": [
           {
            "marker": {
             "colorbar": {
              "outlinewidth": 0,
              "ticks": ""
             }
            },
            "type": "scatterternary"
           }
          ],
          "surface": [
           {
            "colorbar": {
             "outlinewidth": 0,
             "ticks": ""
            },
            "colorscale": [
             [
              0,
              "#0d0887"
             ],
             [
              0.1111111111111111,
              "#46039f"
             ],
             [
              0.2222222222222222,
              "#7201a8"
             ],
             [
              0.3333333333333333,
              "#9c179e"
             ],
             [
              0.4444444444444444,
              "#bd3786"
             ],
             [
              0.5555555555555556,
              "#d8576b"
             ],
             [
              0.6666666666666666,
              "#ed7953"
             ],
             [
              0.7777777777777778,
              "#fb9f3a"
             ],
             [
              0.8888888888888888,
              "#fdca26"
             ],
             [
              1,
              "#f0f921"
             ]
            ],
            "type": "surface"
           }
          ],
          "table": [
           {
            "cells": {
             "fill": {
              "color": "#EBF0F8"
             },
             "line": {
              "color": "white"
             }
            },
            "header": {
             "fill": {
              "color": "#C8D4E3"
             },
             "line": {
              "color": "white"
             }
            },
            "type": "table"
           }
          ]
         },
         "layout": {
          "annotationdefaults": {
           "arrowcolor": "#2a3f5f",
           "arrowhead": 0,
           "arrowwidth": 1
          },
          "autotypenumbers": "strict",
          "coloraxis": {
           "colorbar": {
            "outlinewidth": 0,
            "ticks": ""
           }
          },
          "colorscale": {
           "diverging": [
            [
             0,
             "#8e0152"
            ],
            [
             0.1,
             "#c51b7d"
            ],
            [
             0.2,
             "#de77ae"
            ],
            [
             0.3,
             "#f1b6da"
            ],
            [
             0.4,
             "#fde0ef"
            ],
            [
             0.5,
             "#f7f7f7"
            ],
            [
             0.6,
             "#e6f5d0"
            ],
            [
             0.7,
             "#b8e186"
            ],
            [
             0.8,
             "#7fbc41"
            ],
            [
             0.9,
             "#4d9221"
            ],
            [
             1,
             "#276419"
            ]
           ],
           "sequential": [
            [
             0,
             "#0d0887"
            ],
            [
             0.1111111111111111,
             "#46039f"
            ],
            [
             0.2222222222222222,
             "#7201a8"
            ],
            [
             0.3333333333333333,
             "#9c179e"
            ],
            [
             0.4444444444444444,
             "#bd3786"
            ],
            [
             0.5555555555555556,
             "#d8576b"
            ],
            [
             0.6666666666666666,
             "#ed7953"
            ],
            [
             0.7777777777777778,
             "#fb9f3a"
            ],
            [
             0.8888888888888888,
             "#fdca26"
            ],
            [
             1,
             "#f0f921"
            ]
           ],
           "sequentialminus": [
            [
             0,
             "#0d0887"
            ],
            [
             0.1111111111111111,
             "#46039f"
            ],
            [
             0.2222222222222222,
             "#7201a8"
            ],
            [
             0.3333333333333333,
             "#9c179e"
            ],
            [
             0.4444444444444444,
             "#bd3786"
            ],
            [
             0.5555555555555556,
             "#d8576b"
            ],
            [
             0.6666666666666666,
             "#ed7953"
            ],
            [
             0.7777777777777778,
             "#fb9f3a"
            ],
            [
             0.8888888888888888,
             "#fdca26"
            ],
            [
             1,
             "#f0f921"
            ]
           ]
          },
          "colorway": [
           "#636efa",
           "#EF553B",
           "#00cc96",
           "#ab63fa",
           "#FFA15A",
           "#19d3f3",
           "#FF6692",
           "#B6E880",
           "#FF97FF",
           "#FECB52"
          ],
          "font": {
           "color": "#2a3f5f"
          },
          "geo": {
           "bgcolor": "white",
           "lakecolor": "white",
           "landcolor": "#E5ECF6",
           "showlakes": true,
           "showland": true,
           "subunitcolor": "white"
          },
          "hoverlabel": {
           "align": "left"
          },
          "hovermode": "closest",
          "mapbox": {
           "style": "light"
          },
          "paper_bgcolor": "white",
          "plot_bgcolor": "#E5ECF6",
          "polar": {
           "angularaxis": {
            "gridcolor": "white",
            "linecolor": "white",
            "ticks": ""
           },
           "bgcolor": "#E5ECF6",
           "radialaxis": {
            "gridcolor": "white",
            "linecolor": "white",
            "ticks": ""
           }
          },
          "scene": {
           "xaxis": {
            "backgroundcolor": "#E5ECF6",
            "gridcolor": "white",
            "gridwidth": 2,
            "linecolor": "white",
            "showbackground": true,
            "ticks": "",
            "zerolinecolor": "white"
           },
           "yaxis": {
            "backgroundcolor": "#E5ECF6",
            "gridcolor": "white",
            "gridwidth": 2,
            "linecolor": "white",
            "showbackground": true,
            "ticks": "",
            "zerolinecolor": "white"
           },
           "zaxis": {
            "backgroundcolor": "#E5ECF6",
            "gridcolor": "white",
            "gridwidth": 2,
            "linecolor": "white",
            "showbackground": true,
            "ticks": "",
            "zerolinecolor": "white"
           }
          },
          "shapedefaults": {
           "line": {
            "color": "#2a3f5f"
           }
          },
          "ternary": {
           "aaxis": {
            "gridcolor": "white",
            "linecolor": "white",
            "ticks": ""
           },
           "baxis": {
            "gridcolor": "white",
            "linecolor": "white",
            "ticks": ""
           },
           "bgcolor": "#E5ECF6",
           "caxis": {
            "gridcolor": "white",
            "linecolor": "white",
            "ticks": ""
           }
          },
          "title": {
           "x": 0.05
          },
          "xaxis": {
           "automargin": true,
           "gridcolor": "white",
           "linecolor": "white",
           "ticks": "",
           "title": {
            "standoff": 15
           },
           "zerolinecolor": "white",
           "zerolinewidth": 2
          },
          "yaxis": {
           "automargin": true,
           "gridcolor": "white",
           "linecolor": "white",
           "ticks": "",
           "title": {
            "standoff": 15
           },
           "zerolinecolor": "white",
           "zerolinewidth": 2
          }
         }
        },
        "title": {
         "text": "Churn Distributions"
        }
       }
      },
      "image/png": "[encoded data removed]",
      "text/html": [
       "<div>                            <div id=\"c6820cc2-c0cd-497e-8a63-b22a57b80638\" class=\"plotly-graph-div\" style=\"height:525px; width:100%;\"></div>            <script type=\"text/javascript\">                require([\"plotly\"], function(Plotly) {                    window.PLOTLYENV=window.PLOTLYENV || {};                                    if (document.getElementById(\"c6820cc2-c0cd-497e-8a63-b22a57b80638\")) {                    Plotly.newPlot(                        \"c6820cc2-c0cd-497e-8a63-b22a57b80638\",                        [{\"labels\":[\"No\",\"Yes\"],\"name\":\"Churn\",\"values\":[5163,1869],\"type\":\"pie\",\"textfont\":{\"size\":16},\"hole\":0.4,\"hoverinfo\":\"label+percent+name\"}],                        {\"template\":{\"data\":{\"bar\":[{\"error_x\":{\"color\":\"#2a3f5f\"},\"error_y\":{\"color\":\"#2a3f5f\"},\"marker\":{\"line\":{\"color\":\"#E5ECF6\",\"width\":0.5},\"pattern\":{\"fillmode\":\"overlay\",\"size\":10,\"solidity\":0.2}},\"type\":\"bar\"}],\"barpolar\":[{\"marker\":{\"line\":{\"color\":\"#E5ECF6\",\"width\":0.5},\"pattern\":{\"fillmode\":\"overlay\",\"size\":10,\"solidity\":0.2}},\"type\":\"barpolar\"}],\"carpet\":[{\"aaxis\":{\"endlinecolor\":\"#2a3f5f\",\"gridcolor\":\"white\",\"linecolor\":\"white\",\"minorgridcolor\":\"white\",\"startlinecolor\":\"#2a3f5f\"},\"baxis\":{\"endlinecolor\":\"#2a3f5f\",\"gridcolor\":\"white\",\"linecolor\":\"white\",\"minorgridcolor\":\"white\",\"startlinecolor\":\"#2a3f5f\"},\"type\":\"carpet\"}],\"choropleth\":[{\"colorbar\":{\"outlinewidth\":0,\"ticks\":\"\"},\"type\":\"choropleth\"}],\"contour\":[{\"colorbar\":{\"outlinewidth\":0,\"ticks\":\"\"},\"colorscale\":[[0.0,\"#0d0887\"],[0.1111111111111111,\"#46039f\"],[0.2222222222222222,\"#7201a8\"],[0.3333333333333333,\"#9c179e\"],[0.4444444444444444,\"#bd3786\"],[0.5555555555555556,\"#d8576b\"],[0.6666666666666666,\"#ed7953\"],[0.7777777777777778,\"#fb9f3a\"],[0.8888888888888888,\"#fdca26\"],[1.0,\"#f0f921\"]],\"type\":\"contour\"}],\"contourcarpet\":[{\"colorbar\":{\"outlinewidth\":0,\"ticks\":\"\"},\"type\":\"contourcarpet\"}],\"heatmap\":[{\"colorbar\":{\"outlinewidth\":0,\"ticks\":\"\"},\"colorscale\":[[0.0,\"#0d0887\"],[0.1111111111111111,\"#46039f\"],[0.2222222222222222,\"#7201a8\"],[0.3333333333333333,\"#9c179e\"],[0.4444444444444444,\"#bd3786\"],[0.5555555555555556,\"#d8576b\"],[0.6666666666666666,\"#ed7953\"],[0.7777777777777778,\"#fb9f3a\"],[0.8888888888888888,\"#fdca26\"],[1.0,\"#f0f921\"]],\"type\":\"heatmap\"}],\"heatmapgl\":[{\"colorbar\":{\"outlinewidth\":0,\"ticks\":\"\"},\"colorscale\":[[0.0,\"#0d0887\"],[0.1111111111111111,\"#46039f\"],[0.2222222222222222,\"#7201a8\"],[0.3333333333333333,\"#9c179e\"],[0.4444444444444444,\"#bd3786\"],[0.5555555555555556,\"#d8576b\"],[0.6666666666666666,\"#ed7953\"],[0.7777777777777778,\"#fb9f3a\"],[0.8888888888888888,\"#fdca26\"],[1.0,\"#f0f921\"]],\"type\":\"heatmapgl\"}],\"histogram\":[{\"marker\":{\"pattern\":{\"fillmode\":\"overlay\",\"size\":10,\"solidity\":0.2}},\"type\":\"histogram\"}],\"histogram2d\":[{\"colorbar\":{\"outlinewidth\":0,\"ticks\":\"\"},\"colorscale\":[[0.0,\"#0d0887\"],[0.1111111111111111,\"#46039f\"],[0.2222222222222222,\"#7201a8\"],[0.3333333333333333,\"#9c179e\"],[0.4444444444444444,\"#bd3786\"],[0.5555555555555556,\"#d8576b\"],[0.6666666666666666,\"#ed7953\"],[0.7777777777777778,\"#fb9f3a\"],[0.8888888888888888,\"#fdca26\"],[1.0,\"#f0f921\"]],\"type\":\"histogram2d\"}],\"histogram2dcontour\":[{\"colorbar\":{\"outlinewidth\":0,\"ticks\":\"\"},\"colorscale\":[[0.0,\"#0d0887\"],[0.1111111111111111,\"#46039f\"],[0.2222222222222222,\"#7201a8\"],[0.3333333333333333,\"#9c179e\"],[0.4444444444444444,\"#bd3786\"],[0.5555555555555556,\"#d8576b\"],[0.6666666666666666,\"#ed7953\"],[0.7777777777777778,\"#fb9f3a\"],[0.8888888888888888,\"#fdca26\"],[1.0,\"#f0f921\"]],\"type\":\"histogram2dcontour\"}],\"mesh3d\":[{\"colorbar\":{\"outlinewidth\":0,\"ticks\":\"\"},\"type\":\"mesh3d\"}],\"parcoords\":[{\"line\":{\"colorbar\":{\"outlinewidth\":0,\"ticks\":\"\"}},\"type\":\"parcoords\"}],\"pie\":[{\"automargin\":true,\"type\":\"pie\"}],\"scatter\":[{\"marker\":{\"colorbar\":{\"outlinewidth\":0,\"ticks\":\"\"}},\"type\":\"scatter\"}],\"scatter3d\":[{\"line\":{\"colorbar\":{\"outlinewidth\":0,\"ticks\":\"\"}},\"marker\":{\"colorbar\":{\"outlinewidth\":0,\"ticks\":\"\"}},\"type\":\"scatter3d\"}],\"scattercarpet\":[{\"marker\":{\"colorbar\":{\"outlinewidth\":0,\"ticks\":\"\"}},\"type\":\"scattercarpet\"}],\"scattergeo\":[{\"marker\":{\"colorbar\":{\"outlinewidth\":0,\"ticks\":\"\"}},\"type\":\"scattergeo\"}],\"scattergl\":[{\"marker\":{\"colorbar\":{\"outlinewidth\":0,\"ticks\":\"\"}},\"type\":\"scattergl\"}],\"scattermapbox\":[{\"marker\":{\"colorbar\":{\"outlinewidth\":0,\"ticks\":\"\"}},\"type\":\"scattermapbox\"}],\"scatterpolar\":[{\"marker\":{\"colorbar\":{\"outlinewidth\":0,\"ticks\":\"\"}},\"type\":\"scatterpolar\"}],\"scatterpolargl\":[{\"marker\":{\"colorbar\":{\"outlinewidth\":0,\"ticks\":\"\"}},\"type\":\"scatterpolargl\"}],\"scatterternary\":[{\"marker\":{\"colorbar\":{\"outlinewidth\":0,\"ticks\":\"\"}},\"type\":\"scatterternary\"}],\"surface\":[{\"colorbar\":{\"outlinewidth\":0,\"ticks\":\"\"},\"colorscale\":[[0.0,\"#0d0887\"],[0.1111111111111111,\"#46039f\"],[0.2222222222222222,\"#7201a8\"],[0.3333333333333333,\"#9c179e\"],[0.4444444444444444,\"#bd3786\"],[0.5555555555555556,\"#d8576b\"],[0.6666666666666666,\"#ed7953\"],[0.7777777777777778,\"#fb9f3a\"],[0.8888888888888888,\"#fdca26\"],[1.0,\"#f0f921\"]],\"type\":\"surface\"}],\"table\":[{\"cells\":{\"fill\":{\"color\":\"#EBF0F8\"},\"line\":{\"color\":\"white\"}},\"header\":{\"fill\":{\"color\":\"#C8D4E3\"},\"line\":{\"color\":\"white\"}},\"type\":\"table\"}]},\"layout\":{\"annotationdefaults\":{\"arrowcolor\":\"#2a3f5f\",\"arrowhead\":0,\"arrowwidth\":1},\"autotypenumbers\":\"strict\",\"coloraxis\":{\"colorbar\":{\"outlinewidth\":0,\"ticks\":\"\"}},\"colorscale\":{\"diverging\":[[0,\"#8e0152\"],[0.1,\"#c51b7d\"],[0.2,\"#de77ae\"],[0.3,\"#f1b6da\"],[0.4,\"#fde0ef\"],[0.5,\"#f7f7f7\"],[0.6,\"#e6f5d0\"],[0.7,\"#b8e186\"],[0.8,\"#7fbc41\"],[0.9,\"#4d9221\"],[1,\"#276419\"]],\"sequential\":[[0.0,\"#0d0887\"],[0.1111111111111111,\"#46039f\"],[0.2222222222222222,\"#7201a8\"],[0.3333333333333333,\"#9c179e\"],[0.4444444444444444,\"#bd3786\"],[0.5555555555555556,\"#d8576b\"],[0.6666666666666666,\"#ed7953\"],[0.7777777777777778,\"#fb9f3a\"],[0.8888888888888888,\"#fdca26\"],[1.0,\"#f0f921\"]],\"sequentialminus\":[[0.0,\"#0d0887\"],[0.1111111111111111,\"#46039f\"],[0.2222222222222222,\"#7201a8\"],[0.3333333333333333,\"#9c179e\"],[0.4444444444444444,\"#bd3786\"],[0.5555555555555556,\"#d8576b\"],[0.6666666666666666,\"#ed7953\"],[0.7777777777777778,\"#fb9f3a\"],[0.8888888888888888,\"#fdca26\"],[1.0,\"#f0f921\"]]},\"colorway\":[\"#636efa\",\"#EF553B\",\"#00cc96\",\"#ab63fa\",\"#FFA15A\",\"#19d3f3\",\"#FF6692\",\"#B6E880\",\"#FF97FF\",\"#FECB52\"],\"font\":{\"color\":\"#2a3f5f\"},\"geo\":{\"bgcolor\":\"white\",\"lakecolor\":\"white\",\"landcolor\":\"#E5ECF6\",\"showlakes\":true,\"showland\":true,\"subunitcolor\":\"white\"},\"hoverlabel\":{\"align\":\"left\"},\"hovermode\":\"closest\",\"mapbox\":{\"style\":\"light\"},\"paper_bgcolor\":\"white\",\"plot_bgcolor\":\"#E5ECF6\",\"polar\":{\"angularaxis\":{\"gridcolor\":\"white\",\"linecolor\":\"white\",\"ticks\":\"\"},\"bgcolor\":\"#E5ECF6\",\"radialaxis\":{\"gridcolor\":\"white\",\"linecolor\":\"white\",\"ticks\":\"\"}},\"scene\":{\"xaxis\":{\"backgroundcolor\":\"#E5ECF6\",\"gridcolor\":\"white\",\"gridwidth\":2,\"linecolor\":\"white\",\"showbackground\":true,\"ticks\":\"\",\"zerolinecolor\":\"white\"},\"yaxis\":{\"backgroundcolor\":\"#E5ECF6\",\"gridcolor\":\"white\",\"gridwidth\":2,\"linecolor\":\"white\",\"showbackground\":true,\"ticks\":\"\",\"zerolinecolor\":\"white\"},\"zaxis\":{\"backgroundcolor\":\"#E5ECF6\",\"gridcolor\":\"white\",\"gridwidth\":2,\"linecolor\":\"white\",\"showbackground\":true,\"ticks\":\"\",\"zerolinecolor\":\"white\"}},\"shapedefaults\":{\"line\":{\"color\":\"#2a3f5f\"}},\"ternary\":{\"aaxis\":{\"gridcolor\":\"white\",\"linecolor\":\"white\",\"ticks\":\"\"},\"baxis\":{\"gridcolor\":\"white\",\"linecolor\":\"white\",\"ticks\":\"\"},\"bgcolor\":\"#E5ECF6\",\"caxis\":{\"gridcolor\":\"white\",\"linecolor\":\"white\",\"ticks\":\"\"}},\"title\":{\"x\":0.05},\"xaxis\":{\"automargin\":true,\"gridcolor\":\"white\",\"linecolor\":\"white\",\"ticks\":\"\",\"title\":{\"standoff\":15},\"zerolinecolor\":\"white\",\"zerolinewidth\":2},\"yaxis\":{\"automargin\":true,\"gridcolor\":\"white\",\"linecolor\":\"white\",\"ticks\":\"\",\"title\":{\"standoff\":15},\"zerolinecolor\":\"white\",\"zerolinewidth\":2}}},\"title\":{\"text\":\"Churn Distributions\"}},                        {\"responsive\": true}                    ).then(function(){\n",
       "                            \n",
       "var gd = document.getElementById('c6820cc2-c0cd-497e-8a63-b22a57b80638');\n",
       "var x = new MutationObserver(function (mutations, observer) {{\n",
       "        var display = window.getComputedStyle(gd).display;\n",
       "        if (!display || display === 'none') {{\n",
       "            console.log([gd, 'removed!']);\n",
       "            Plotly.purge(gd);\n",
       "            observer.disconnect();\n",
       "        }}\n",
       "}});\n",
       "\n",
       "// Listen for the removal of the full notebook cells\n",
       "var notebookContainer = gd.closest('#notebook-container');\n",
       "if (notebookContainer) {{\n",
       "    x.observe(notebookContainer, {childList: true});\n",
       "}}\n",
       "\n",
       "// Listen for the clearing of the current output cell\n",
       "var outputEl = gd.closest('.output');\n",
       "if (outputEl) {{\n",
       "    x.observe(outputEl, {childList: true});\n",
       "}}\n",
       "\n",
       "                        })                };                });            </script>        </div>"
      ]
     },
     "metadata": {},
     "output_type": "display_data"
    }
   ],
   "source": [
    "#Which labels should be shown\n",
    "c_labels = ['No', 'Yes']\n",
    "\n",
    "# Create subplots: use 'domain' type for Pie subplot\n",
    "fig = make_subplots(rows=1, cols=2, specs=[[{'type':'domain'}, {'type':'domain'}]])\n",
    "fig.add_trace(\n",
    "    go.Pie(\n",
    "        labels=c_labels,\n",
    "        values=df['Churn'].value_counts(),\n",
    "        name=\"Churn\"\n",
    "    )\n",
    ")\n",
    "\n",
    "# Use `hole` to create a donut-like pie chart\n",
    "fig.update_traces(\n",
    "    hole=.4,\n",
    "    hoverinfo=\"label+percent+name\",\n",
    "    textfont_size=16\n",
    ")\n",
    "\n",
    "fig.update_layout(\n",
    "    title_text=\"Churn Distributions\"\n",
    "    # Add annotations in the center of the donut pies.\n",
    ")\n",
    "fig.show()"
   ]
  },
  {
   "cell_type": "markdown",
   "id": "b95ff955-bc16-4e2e-a774-2e27b834bf48",
   "metadata": {
    "tags": []
   },
   "source": [
    "### Bar Chart - Churn ratio"
   ]
  },
  {
   "cell_type": "code",
   "execution_count": 107,
   "id": "f5b67c8b-ba95-412e-9f9c-c6e3685ddb5b",
   "metadata": {
    "tags": []
   },
   "outputs": [
    {
     "name": "stdout",
     "output_type": "stream",
     "text": [
      "Churn\n",
      "No     5163\n",
      "Yes    1869\n",
      "dtype: int64\n"
     ]
    },
    {
     "data": {
      "image/png": "[encoded data removed]",
      "text/plain": [
       "<Figure size 432x288 with 1 Axes>"
      ]
     },
     "metadata": {
      "needs_background": "light"
     },
     "output_type": "display_data"
    }
   ],
   "source": [
    "## make barchart\n",
    "print(df.groupby(['Churn']).size())\n",
    "churn_plot = sns.countplot(data=df, x='Churn', order=df.Churn.value_counts().index)\n",
    "plt.ylabel('Count')\n",
    "for p in churn_plot.patches:\n",
    "    height = p.get_height()\n",
    "    churn_plot.text(p.get_x()+p.get_width()/2., height + 1,'{0:.0%}'.format(height/float(len(df))),ha=\"center\") \n",
    "plt.show()"
   ]
  },
  {
   "cell_type": "code",
   "execution_count": 108,
   "id": "7745066f-cb7d-41c0-955d-304e683137ad",
   "metadata": {
    "tags": []
   },
   "outputs": [],
   "source": [
    "#Convertin the predictor variable ( yes and no ) in a binary numeric variable \n",
    "df['Churn'].replace(to_replace='Yes', value=1, inplace=True)\n",
    "df['Churn'].replace(to_replace='No',  value=0, inplace=True)"
   ]
  },
  {
   "cell_type": "markdown",
   "id": "05a328f4-6240-4adf-8f8d-3226693647ba",
   "metadata": {
    "tags": []
   },
   "source": [
    "## Heatmap - correlation with feature and churn"
   ]
  },
  {
   "cell_type": "code",
   "execution_count": 109,
   "id": "44d125b2-f2c1-4382-b042-3652e4c66d77",
   "metadata": {
    "tags": []
   },
   "outputs": [
    {
     "data": {
      "image/png": "[encoded data removed]",
      "text/plain": [
       "<Figure size 2160x864 with 2 Axes>"
      ]
     },
     "metadata": {
      "needs_background": "light"
     },
     "output_type": "display_data"
    }
   ],
   "source": [
    "# Create a heat map to illustrate the correlation between feature and Churn\n",
    "\n",
    "#make figure\n",
    "plt.figure(\n",
    "    figsize=(30, 12)\n",
    ")\n",
    "\n",
    "# Make the corelation \n",
    "corr = df.apply(lambda x: pd.factorize(x)[0]).corr()\n",
    "\n",
    "# Create heatmap\n",
    "ax = sns.heatmap(corr, xticklabels=corr.columns, yticklabels=corr.columns, \n",
    "                 linewidths=.2, cmap=\"YlGnBu\", annot = True)"
   ]
  },
  {
   "cell_type": "code",
   "execution_count": 110,
   "id": "db900573-c0c4-4efe-b164-6ddacafad1c8",
   "metadata": {
    "tags": []
   },
   "outputs": [],
   "source": [
    "# Remove the two features which doesnt have a correlation to churn\n",
    "df_new = df.drop(columns=['gender','PhoneService'])"
   ]
  },
  {
   "cell_type": "code",
   "execution_count": 111,
   "id": "adf1ab3a-94ba-484b-98ae-f0b2cdce9707",
   "metadata": {
    "tags": []
   },
   "outputs": [
    {
     "data": {
      "text/plain": [
       "(7032, 18)"
      ]
     },
     "execution_count": 111,
     "metadata": {},
     "output_type": "execute_result"
    }
   ],
   "source": [
    "#Get rows and columns count\n",
    "df_new.shape"
   ]
  },
  {
   "cell_type": "markdown",
   "id": "84bb39cf-fd62-4b85-99aa-52a4381129ba",
   "metadata": {
    "tags": []
   },
   "source": [
    "# Modeling"
   ]
  },
  {
   "cell_type": "markdown",
   "id": "6a2eff1f-11dc-475c-aaf1-cd09c99796dd",
   "metadata": {
    "tags": []
   },
   "source": [
    "### Premodeling"
   ]
  },
  {
   "cell_type": "code",
   "execution_count": 112,
   "id": "c6cc2831-8d93-4372-a50d-ae286d60f970",
   "metadata": {
    "tags": []
   },
   "outputs": [],
   "source": [
    "# Remove churn for training\n",
    "Features = df_new.columns.drop('Churn')"
   ]
  },
  {
   "cell_type": "code",
   "execution_count": 113,
   "id": "6f39875a-332c-4377-a0e6-a281e8eea453",
   "metadata": {
    "tags": []
   },
   "outputs": [],
   "source": [
    "# Prepare split for the training data and the test data\n",
    "X = df_new[Features]\n",
    "y = df_new['Churn']"
   ]
  },
  {
   "cell_type": "markdown",
   "id": "807088e2-cce2-46b8-9007-969941ca7c5d",
   "metadata": {
    "tags": []
   },
   "source": [
    "Use get_dummies to add the additional features, 'Type of Sale', and 'Type'. You still want to include m2 and 'Build Year'. Note that get_dummies will only create dummy features for nominal values -- it will ignore numerical features like m2 and 'Build Year'. List the dummy features that were created for the feature 'Type'."
   ]
  },
  {
   "cell_type": "code",
   "execution_count": 114,
   "id": "6da7731e-90f9-4c30-a0e2-177c503afbad",
   "metadata": {
    "tags": []
   },
   "outputs": [
    {
     "data": {
      "text/html": [
       "<div>\n",
       "<style scoped>\n",
       "    .dataframe tbody tr th:only-of-type {\n",
       "        vertical-align: middle;\n",
       "    }\n",
       "\n",
       "    .dataframe tbody tr th {\n",
       "        vertical-align: top;\n",
       "    }\n",
       "\n",
       "    .dataframe thead th {\n",
       "        text-align: right;\n",
       "    }\n",
       "</style>\n",
       "<table border=\"1\" class=\"dataframe\">\n",
       "  <thead>\n",
       "    <tr style=\"text-align: right;\">\n",
       "      <th></th>\n",
       "      <th>tenure</th>\n",
       "      <th>MonthlyCharges</th>\n",
       "      <th>TotalCharges</th>\n",
       "      <th>SeniorCitizen_No</th>\n",
       "      <th>SeniorCitizen_Yes</th>\n",
       "      <th>Partner_No</th>\n",
       "      <th>Partner_Yes</th>\n",
       "      <th>Dependents_No</th>\n",
       "      <th>Dependents_Yes</th>\n",
       "      <th>MultipleLines_No</th>\n",
       "      <th>MultipleLines_Yes</th>\n",
       "      <th>InternetService_DSL</th>\n",
       "      <th>InternetService_Fiber optic</th>\n",
       "      <th>InternetService_No</th>\n",
       "      <th>OnlineSecurity_No</th>\n",
       "      <th>OnlineSecurity_Yes</th>\n",
       "      <th>OnlineBackup_No</th>\n",
       "      <th>OnlineBackup_Yes</th>\n",
       "      <th>DeviceProtection_No</th>\n",
       "      <th>DeviceProtection_Yes</th>\n",
       "      <th>TechSupport_No</th>\n",
       "      <th>TechSupport_Yes</th>\n",
       "      <th>StreamingTV_No</th>\n",
       "      <th>StreamingTV_Yes</th>\n",
       "      <th>StreamingMovies_No</th>\n",
       "      <th>StreamingMovies_Yes</th>\n",
       "      <th>Contract_Month-to-month</th>\n",
       "      <th>Contract_One year</th>\n",
       "      <th>Contract_Two year</th>\n",
       "      <th>PaperlessBilling_No</th>\n",
       "      <th>PaperlessBilling_Yes</th>\n",
       "      <th>PaymentMethod_Bank transfer (automatic)</th>\n",
       "      <th>PaymentMethod_Credit card (automatic)</th>\n",
       "      <th>PaymentMethod_Electronic check</th>\n",
       "      <th>PaymentMethod_Mailed check</th>\n",
       "    </tr>\n",
       "  </thead>\n",
       "  <tbody>\n",
       "    <tr>\n",
       "      <th>0</th>\n",
       "      <td>1</td>\n",
       "      <td>29.85</td>\n",
       "      <td>29.85</td>\n",
       "      <td>1</td>\n",
       "      <td>0</td>\n",
       "      <td>0</td>\n",
       "      <td>1</td>\n",
       "      <td>1</td>\n",
       "      <td>0</td>\n",
       "      <td>1</td>\n",
       "      <td>0</td>\n",
       "      <td>1</td>\n",
       "      <td>0</td>\n",
       "      <td>0</td>\n",
       "      <td>1</td>\n",
       "      <td>0</td>\n",
       "      <td>0</td>\n",
       "      <td>1</td>\n",
       "      <td>1</td>\n",
       "      <td>0</td>\n",
       "      <td>1</td>\n",
       "      <td>0</td>\n",
       "      <td>1</td>\n",
       "      <td>0</td>\n",
       "      <td>1</td>\n",
       "      <td>0</td>\n",
       "      <td>1</td>\n",
       "      <td>0</td>\n",
       "      <td>0</td>\n",
       "      <td>0</td>\n",
       "      <td>1</td>\n",
       "      <td>0</td>\n",
       "      <td>0</td>\n",
       "      <td>1</td>\n",
       "      <td>0</td>\n",
       "    </tr>\n",
       "    <tr>\n",
       "      <th>1</th>\n",
       "      <td>34</td>\n",
       "      <td>56.95</td>\n",
       "      <td>1889.50</td>\n",
       "      <td>1</td>\n",
       "      <td>0</td>\n",
       "      <td>1</td>\n",
       "      <td>0</td>\n",
       "      <td>1</td>\n",
       "      <td>0</td>\n",
       "      <td>1</td>\n",
       "      <td>0</td>\n",
       "      <td>1</td>\n",
       "      <td>0</td>\n",
       "      <td>0</td>\n",
       "      <td>0</td>\n",
       "      <td>1</td>\n",
       "      <td>1</td>\n",
       "      <td>0</td>\n",
       "      <td>0</td>\n",
       "      <td>1</td>\n",
       "      <td>1</td>\n",
       "      <td>0</td>\n",
       "      <td>1</td>\n",
       "      <td>0</td>\n",
       "      <td>1</td>\n",
       "      <td>0</td>\n",
       "      <td>0</td>\n",
       "      <td>1</td>\n",
       "      <td>0</td>\n",
       "      <td>1</td>\n",
       "      <td>0</td>\n",
       "      <td>0</td>\n",
       "      <td>0</td>\n",
       "      <td>0</td>\n",
       "      <td>1</td>\n",
       "    </tr>\n",
       "    <tr>\n",
       "      <th>2</th>\n",
       "      <td>2</td>\n",
       "      <td>53.85</td>\n",
       "      <td>108.15</td>\n",
       "      <td>1</td>\n",
       "      <td>0</td>\n",
       "      <td>1</td>\n",
       "      <td>0</td>\n",
       "      <td>1</td>\n",
       "      <td>0</td>\n",
       "      <td>1</td>\n",
       "      <td>0</td>\n",
       "      <td>1</td>\n",
       "      <td>0</td>\n",
       "      <td>0</td>\n",
       "      <td>0</td>\n",
       "      <td>1</td>\n",
       "      <td>0</td>\n",
       "      <td>1</td>\n",
       "      <td>1</td>\n",
       "      <td>0</td>\n",
       "      <td>1</td>\n",
       "      <td>0</td>\n",
       "      <td>1</td>\n",
       "      <td>0</td>\n",
       "      <td>1</td>\n",
       "      <td>0</td>\n",
       "      <td>1</td>\n",
       "      <td>0</td>\n",
       "      <td>0</td>\n",
       "      <td>0</td>\n",
       "      <td>1</td>\n",
       "      <td>0</td>\n",
       "      <td>0</td>\n",
       "      <td>0</td>\n",
       "      <td>1</td>\n",
       "    </tr>\n",
       "    <tr>\n",
       "      <th>3</th>\n",
       "      <td>45</td>\n",
       "      <td>42.30</td>\n",
       "      <td>1840.75</td>\n",
       "      <td>1</td>\n",
       "      <td>0</td>\n",
       "      <td>1</td>\n",
       "      <td>0</td>\n",
       "      <td>1</td>\n",
       "      <td>0</td>\n",
       "      <td>1</td>\n",
       "      <td>0</td>\n",
       "      <td>1</td>\n",
       "      <td>0</td>\n",
       "      <td>0</td>\n",
       "      <td>0</td>\n",
       "      <td>1</td>\n",
       "      <td>1</td>\n",
       "      <td>0</td>\n",
       "      <td>0</td>\n",
       "      <td>1</td>\n",
       "      <td>0</td>\n",
       "      <td>1</td>\n",
       "      <td>1</td>\n",
       "      <td>0</td>\n",
       "      <td>1</td>\n",
       "      <td>0</td>\n",
       "      <td>0</td>\n",
       "      <td>1</td>\n",
       "      <td>0</td>\n",
       "      <td>1</td>\n",
       "      <td>0</td>\n",
       "      <td>1</td>\n",
       "      <td>0</td>\n",
       "      <td>0</td>\n",
       "      <td>0</td>\n",
       "    </tr>\n",
       "    <tr>\n",
       "      <th>4</th>\n",
       "      <td>2</td>\n",
       "      <td>70.70</td>\n",
       "      <td>151.65</td>\n",
       "      <td>1</td>\n",
       "      <td>0</td>\n",
       "      <td>1</td>\n",
       "      <td>0</td>\n",
       "      <td>1</td>\n",
       "      <td>0</td>\n",
       "      <td>1</td>\n",
       "      <td>0</td>\n",
       "      <td>0</td>\n",
       "      <td>1</td>\n",
       "      <td>0</td>\n",
       "      <td>1</td>\n",
       "      <td>0</td>\n",
       "      <td>1</td>\n",
       "      <td>0</td>\n",
       "      <td>1</td>\n",
       "      <td>0</td>\n",
       "      <td>1</td>\n",
       "      <td>0</td>\n",
       "      <td>1</td>\n",
       "      <td>0</td>\n",
       "      <td>1</td>\n",
       "      <td>0</td>\n",
       "      <td>1</td>\n",
       "      <td>0</td>\n",
       "      <td>0</td>\n",
       "      <td>0</td>\n",
       "      <td>1</td>\n",
       "      <td>0</td>\n",
       "      <td>0</td>\n",
       "      <td>1</td>\n",
       "      <td>0</td>\n",
       "    </tr>\n",
       "  </tbody>\n",
       "</table>\n",
       "</div>"
      ],
      "text/plain": [
       "   tenure  MonthlyCharges  TotalCharges  SeniorCitizen_No  SeniorCitizen_Yes  \\\n",
       "0       1           29.85         29.85                 1                  0   \n",
       "1      34           56.95       1889.50                 1                  0   \n",
       "2       2           53.85        108.15                 1                  0   \n",
       "3      45           42.30       1840.75                 1                  0   \n",
       "4       2           70.70        151.65                 1                  0   \n",
       "\n",
       "   Partner_No  Partner_Yes  Dependents_No  Dependents_Yes  MultipleLines_No  \\\n",
       "0           0            1              1               0                 1   \n",
       "1           1            0              1               0                 1   \n",
       "2           1            0              1               0                 1   \n",
       "3           1            0              1               0                 1   \n",
       "4           1            0              1               0                 1   \n",
       "\n",
       "   MultipleLines_Yes  InternetService_DSL  InternetService_Fiber optic  \\\n",
       "0                  0                    1                            0   \n",
       "1                  0                    1                            0   \n",
       "2                  0                    1                            0   \n",
       "3                  0                    1                            0   \n",
       "4                  0                    0                            1   \n",
       "\n",
       "   InternetService_No  OnlineSecurity_No  OnlineSecurity_Yes  OnlineBackup_No  \\\n",
       "0                   0                  1                   0                0   \n",
       "1                   0                  0                   1                1   \n",
       "2                   0                  0                   1                0   \n",
       "3                   0                  0                   1                1   \n",
       "4                   0                  1                   0                1   \n",
       "\n",
       "   OnlineBackup_Yes  DeviceProtection_No  DeviceProtection_Yes  \\\n",
       "0                 1                    1                     0   \n",
       "1                 0                    0                     1   \n",
       "2                 1                    1                     0   \n",
       "3                 0                    0                     1   \n",
       "4                 0                    1                     0   \n",
       "\n",
       "   TechSupport_No  TechSupport_Yes  StreamingTV_No  StreamingTV_Yes  \\\n",
       "0               1                0               1                0   \n",
       "1               1                0               1                0   \n",
       "2               1                0               1                0   \n",
       "3               0                1               1                0   \n",
       "4               1                0               1                0   \n",
       "\n",
       "   StreamingMovies_No  StreamingMovies_Yes  Contract_Month-to-month  \\\n",
       "0                   1                    0                        1   \n",
       "1                   1                    0                        0   \n",
       "2                   1                    0                        1   \n",
       "3                   1                    0                        0   \n",
       "4                   1                    0                        1   \n",
       "\n",
       "   Contract_One year  Contract_Two year  PaperlessBilling_No  \\\n",
       "0                  0                  0                    0   \n",
       "1                  1                  0                    1   \n",
       "2                  0                  0                    0   \n",
       "3                  1                  0                    1   \n",
       "4                  0                  0                    0   \n",
       "\n",
       "   PaperlessBilling_Yes  PaymentMethod_Bank transfer (automatic)  \\\n",
       "0                     1                                        0   \n",
       "1                     0                                        0   \n",
       "2                     1                                        0   \n",
       "3                     0                                        1   \n",
       "4                     1                                        0   \n",
       "\n",
       "   PaymentMethod_Credit card (automatic)  PaymentMethod_Electronic check  \\\n",
       "0                                      0                               1   \n",
       "1                                      0                               0   \n",
       "2                                      0                               0   \n",
       "3                                      0                               0   \n",
       "4                                      0                               1   \n",
       "\n",
       "   PaymentMethod_Mailed check  \n",
       "0                           0  \n",
       "1                           1  \n",
       "2                           1  \n",
       "3                           0  \n",
       "4                           0  "
      ]
     },
     "execution_count": 114,
     "metadata": {},
     "output_type": "execute_result"
    }
   ],
   "source": [
    "X = pd.get_dummies(X)\n",
    "\n",
    "# show the first 5 rows\n",
    "X.head()"
   ]
  },
  {
   "cell_type": "code",
   "execution_count": 115,
   "id": "2e82a192-ef2d-4b80-bc64-c211c9673449",
   "metadata": {
    "tags": []
   },
   "outputs": [],
   "source": [
    "#Split the  Splits at 25% default\n",
    "X_train, X_test, y_train, y_test = train_test_split(\n",
    "    X,\n",
    "    y,\n",
    "    random_state=69\n",
    ")"
   ]
  },
  {
   "cell_type": "markdown",
   "id": "34db59a9-f84a-4144-bbfc-959d429d5433",
   "metadata": {},
   "source": [
    "# Decision trees"
   ]
  },
  {
   "cell_type": "markdown",
   "id": "02c4bbde-023e-42dd-b88a-dfc57b4afd51",
   "metadata": {},
   "source": [
    "#### https://www.kaggle.com/bhartiprasad17/customer-churn-prediction "
   ]
  },
  {
   "cell_type": "markdown",
   "id": "cd0b0058-e2d6-4252-bcf6-47571c7c9f80",
   "metadata": {},
   "source": [
    "### Decision tree - without Cross validation"
   ]
  },
  {
   "cell_type": "code",
   "execution_count": 27,
   "id": "4cb66542-3210-460e-877d-7d0106baa574",
   "metadata": {
    "tags": []
   },
   "outputs": [],
   "source": [
    "# Set the max depth use throughout the decision tree\n",
    "maxDepth = 5"
   ]
  },
  {
   "cell_type": "code",
   "execution_count": 28,
   "id": "4b145882-8492-42b3-bfab-990af7edc45d",
   "metadata": {
    "tags": []
   },
   "outputs": [
    {
     "name": "stdout",
     "output_type": "stream",
     "text": [
      "Depth: 3\n",
      "Accuracy of Decision tree classifier on test set: 0.78\n",
      "______\n",
      "\n",
      "Depth: 5\n",
      "Accuracy of Decision tree classifier on test set: 0.78\n",
      "______\n",
      "\n",
      "Depth: 10\n",
      "Accuracy of Decision tree classifier on test set: 0.75\n",
      "______\n",
      "\n",
      "Depth: 15\n",
      "Accuracy of Decision tree classifier on test set: 0.74\n",
      "______\n",
      "\n",
      "Depth: 20\n",
      "Accuracy of Decision tree classifier on test set: 0.73\n",
      "______\n",
      "\n",
      "Depth: 25\n",
      "Accuracy of Decision tree classifier on test set: 0.73\n",
      "______\n",
      "\n",
      "Depth: 200\n",
      "Accuracy of Decision tree classifier on test set: 0.73\n",
      "______\n",
      "\n"
     ]
    }
   ],
   "source": [
    "# different types of accuracy to test which type of hyper parameter should be used\n",
    "test_depth = [3,5,10,15,20,25,200]\n",
    "\n",
    "# loop through to show which depth gives which accuracy\n",
    "for d in test_depth:\n",
    "    dc = DecisionTreeClassifier(max_depth = d)\n",
    "    #Train model\n",
    "    dc_model = dc.fit(X_train,y_train)\n",
    "    #predict\n",
    "    y_pred_dc = dc_model.predict(X_test)\n",
    "    print('Depth:',d)\n",
    "    print('Accuracy of Decision tree classifier on test set: {:.2f}'.format(dc_model.score(X_test, y_test)))\n",
    "    print('______\\n')"
   ]
  },
  {
   "cell_type": "code",
   "execution_count": 29,
   "id": "e7051f2d-93f5-4127-8ee4-4b82a8e65582",
   "metadata": {
    "tags": []
   },
   "outputs": [],
   "source": [
    "#create the decision tree classifier\n",
    "dc = DecisionTreeClassifier(max_depth = maxDepth)\n",
    "\n",
    "#Train model\n",
    "dc_model = dc.fit(X_train,y_train)\n",
    "\n",
    "#predict\n",
    "Decision_y_pred_rfc = dc_model.predict(X_test)\n"
   ]
  },
  {
   "cell_type": "markdown",
   "id": "9f73ab62-250f-4ad8-9e11-08bc6a8c1d68",
   "metadata": {
    "tags": []
   },
   "source": [
    "### Decision tree accuracy - result"
   ]
  },
  {
   "cell_type": "code",
   "execution_count": 86,
   "id": "89c92ab6-e7ec-4a38-997b-0cff05736574",
   "metadata": {
    "tags": []
   },
   "outputs": [
    {
     "name": "stdout",
     "output_type": "stream",
     "text": [
      "Depth:  5\n",
      "Accuracy of Decision tree classifier on test set: 0.78\n"
     ]
    }
   ],
   "source": [
    "print('Depth: ',maxDepth)\n",
    "print('Accuracy of Decision tree classifier on test set: {:.2f}'.format(dc_model.score(X_test, y_test)))"
   ]
  },
  {
   "cell_type": "code",
   "execution_count": 87,
   "id": "eb50efec-1613-4459-856e-d637c71c7634",
   "metadata": {},
   "outputs": [],
   "source": [
    "### Decision tree - "
   ]
  },
  {
   "cell_type": "code",
   "execution_count": 89,
   "id": "5abbae9e-5282-4dc8-b72c-3af0b2d1fd81",
   "metadata": {},
   "outputs": [
    {
     "name": "stdout",
     "output_type": "stream",
     "text": [
      "              precision    recall  f1-score   support\n",
      "\n",
      "           0       0.83      0.88      0.85      1281\n",
      "           1       0.61      0.51      0.55       477\n",
      "\n",
      "    accuracy                           0.78      1758\n",
      "   macro avg       0.72      0.69      0.70      1758\n",
      "weighted avg       0.77      0.78      0.77      1758\n",
      "\n"
     ]
    }
   ],
   "source": [
    "print(classification_report(y_test,Decision_y_pred_rfc))"
   ]
  },
  {
   "cell_type": "code",
   "execution_count": 33,
   "id": "590f0cfa-d9cb-4609-b0ec-01cd46164a21",
   "metadata": {},
   "outputs": [
    {
     "data": {
      "text/html": [
       "<div>\n",
       "<style scoped>\n",
       "    .dataframe tbody tr th:only-of-type {\n",
       "        vertical-align: middle;\n",
       "    }\n",
       "\n",
       "    .dataframe tbody tr th {\n",
       "        vertical-align: top;\n",
       "    }\n",
       "\n",
       "    .dataframe thead th {\n",
       "        text-align: right;\n",
       "    }\n",
       "</style>\n",
       "<table border=\"1\" class=\"dataframe\">\n",
       "  <thead>\n",
       "    <tr style=\"text-align: right;\">\n",
       "      <th></th>\n",
       "      <th>tenure</th>\n",
       "      <th>MonthlyCharges</th>\n",
       "      <th>TotalCharges</th>\n",
       "      <th>SeniorCitizen_No</th>\n",
       "      <th>SeniorCitizen_Yes</th>\n",
       "      <th>Partner_No</th>\n",
       "      <th>Partner_Yes</th>\n",
       "      <th>Dependents_No</th>\n",
       "      <th>Dependents_Yes</th>\n",
       "      <th>MultipleLines_No</th>\n",
       "      <th>MultipleLines_Yes</th>\n",
       "      <th>InternetService_DSL</th>\n",
       "      <th>InternetService_Fiber optic</th>\n",
       "      <th>InternetService_No</th>\n",
       "      <th>OnlineSecurity_No</th>\n",
       "      <th>OnlineSecurity_Yes</th>\n",
       "      <th>OnlineBackup_No</th>\n",
       "      <th>OnlineBackup_Yes</th>\n",
       "      <th>DeviceProtection_No</th>\n",
       "      <th>DeviceProtection_Yes</th>\n",
       "      <th>TechSupport_No</th>\n",
       "      <th>TechSupport_Yes</th>\n",
       "      <th>StreamingTV_No</th>\n",
       "      <th>StreamingTV_Yes</th>\n",
       "      <th>StreamingMovies_No</th>\n",
       "      <th>StreamingMovies_Yes</th>\n",
       "      <th>Contract_Month-to-month</th>\n",
       "      <th>Contract_One year</th>\n",
       "      <th>Contract_Two year</th>\n",
       "      <th>PaperlessBilling_No</th>\n",
       "      <th>PaperlessBilling_Yes</th>\n",
       "      <th>PaymentMethod_Bank transfer (automatic)</th>\n",
       "      <th>PaymentMethod_Credit card (automatic)</th>\n",
       "      <th>PaymentMethod_Electronic check</th>\n",
       "      <th>PaymentMethod_Mailed check</th>\n",
       "    </tr>\n",
       "  </thead>\n",
       "  <tbody>\n",
       "    <tr>\n",
       "      <th>0</th>\n",
       "      <td>1</td>\n",
       "      <td>29.85</td>\n",
       "      <td>29.85</td>\n",
       "      <td>1</td>\n",
       "      <td>0</td>\n",
       "      <td>0</td>\n",
       "      <td>1</td>\n",
       "      <td>1</td>\n",
       "      <td>0</td>\n",
       "      <td>1</td>\n",
       "      <td>0</td>\n",
       "      <td>1</td>\n",
       "      <td>0</td>\n",
       "      <td>0</td>\n",
       "      <td>1</td>\n",
       "      <td>0</td>\n",
       "      <td>0</td>\n",
       "      <td>1</td>\n",
       "      <td>1</td>\n",
       "      <td>0</td>\n",
       "      <td>1</td>\n",
       "      <td>0</td>\n",
       "      <td>1</td>\n",
       "      <td>0</td>\n",
       "      <td>1</td>\n",
       "      <td>0</td>\n",
       "      <td>1</td>\n",
       "      <td>0</td>\n",
       "      <td>0</td>\n",
       "      <td>0</td>\n",
       "      <td>1</td>\n",
       "      <td>0</td>\n",
       "      <td>0</td>\n",
       "      <td>1</td>\n",
       "      <td>0</td>\n",
       "    </tr>\n",
       "    <tr>\n",
       "      <th>1</th>\n",
       "      <td>34</td>\n",
       "      <td>56.95</td>\n",
       "      <td>1889.50</td>\n",
       "      <td>1</td>\n",
       "      <td>0</td>\n",
       "      <td>1</td>\n",
       "      <td>0</td>\n",
       "      <td>1</td>\n",
       "      <td>0</td>\n",
       "      <td>1</td>\n",
       "      <td>0</td>\n",
       "      <td>1</td>\n",
       "      <td>0</td>\n",
       "      <td>0</td>\n",
       "      <td>0</td>\n",
       "      <td>1</td>\n",
       "      <td>1</td>\n",
       "      <td>0</td>\n",
       "      <td>0</td>\n",
       "      <td>1</td>\n",
       "      <td>1</td>\n",
       "      <td>0</td>\n",
       "      <td>1</td>\n",
       "      <td>0</td>\n",
       "      <td>1</td>\n",
       "      <td>0</td>\n",
       "      <td>0</td>\n",
       "      <td>1</td>\n",
       "      <td>0</td>\n",
       "      <td>1</td>\n",
       "      <td>0</td>\n",
       "      <td>0</td>\n",
       "      <td>0</td>\n",
       "      <td>0</td>\n",
       "      <td>1</td>\n",
       "    </tr>\n",
       "    <tr>\n",
       "      <th>2</th>\n",
       "      <td>2</td>\n",
       "      <td>53.85</td>\n",
       "      <td>108.15</td>\n",
       "      <td>1</td>\n",
       "      <td>0</td>\n",
       "      <td>1</td>\n",
       "      <td>0</td>\n",
       "      <td>1</td>\n",
       "      <td>0</td>\n",
       "      <td>1</td>\n",
       "      <td>0</td>\n",
       "      <td>1</td>\n",
       "      <td>0</td>\n",
       "      <td>0</td>\n",
       "      <td>0</td>\n",
       "      <td>1</td>\n",
       "      <td>0</td>\n",
       "      <td>1</td>\n",
       "      <td>1</td>\n",
       "      <td>0</td>\n",
       "      <td>1</td>\n",
       "      <td>0</td>\n",
       "      <td>1</td>\n",
       "      <td>0</td>\n",
       "      <td>1</td>\n",
       "      <td>0</td>\n",
       "      <td>1</td>\n",
       "      <td>0</td>\n",
       "      <td>0</td>\n",
       "      <td>0</td>\n",
       "      <td>1</td>\n",
       "      <td>0</td>\n",
       "      <td>0</td>\n",
       "      <td>0</td>\n",
       "      <td>1</td>\n",
       "    </tr>\n",
       "    <tr>\n",
       "      <th>3</th>\n",
       "      <td>45</td>\n",
       "      <td>42.30</td>\n",
       "      <td>1840.75</td>\n",
       "      <td>1</td>\n",
       "      <td>0</td>\n",
       "      <td>1</td>\n",
       "      <td>0</td>\n",
       "      <td>1</td>\n",
       "      <td>0</td>\n",
       "      <td>1</td>\n",
       "      <td>0</td>\n",
       "      <td>1</td>\n",
       "      <td>0</td>\n",
       "      <td>0</td>\n",
       "      <td>0</td>\n",
       "      <td>1</td>\n",
       "      <td>1</td>\n",
       "      <td>0</td>\n",
       "      <td>0</td>\n",
       "      <td>1</td>\n",
       "      <td>0</td>\n",
       "      <td>1</td>\n",
       "      <td>1</td>\n",
       "      <td>0</td>\n",
       "      <td>1</td>\n",
       "      <td>0</td>\n",
       "      <td>0</td>\n",
       "      <td>1</td>\n",
       "      <td>0</td>\n",
       "      <td>1</td>\n",
       "      <td>0</td>\n",
       "      <td>1</td>\n",
       "      <td>0</td>\n",
       "      <td>0</td>\n",
       "      <td>0</td>\n",
       "    </tr>\n",
       "    <tr>\n",
       "      <th>4</th>\n",
       "      <td>2</td>\n",
       "      <td>70.70</td>\n",
       "      <td>151.65</td>\n",
       "      <td>1</td>\n",
       "      <td>0</td>\n",
       "      <td>1</td>\n",
       "      <td>0</td>\n",
       "      <td>1</td>\n",
       "      <td>0</td>\n",
       "      <td>1</td>\n",
       "      <td>0</td>\n",
       "      <td>0</td>\n",
       "      <td>1</td>\n",
       "      <td>0</td>\n",
       "      <td>1</td>\n",
       "      <td>0</td>\n",
       "      <td>1</td>\n",
       "      <td>0</td>\n",
       "      <td>1</td>\n",
       "      <td>0</td>\n",
       "      <td>1</td>\n",
       "      <td>0</td>\n",
       "      <td>1</td>\n",
       "      <td>0</td>\n",
       "      <td>1</td>\n",
       "      <td>0</td>\n",
       "      <td>1</td>\n",
       "      <td>0</td>\n",
       "      <td>0</td>\n",
       "      <td>0</td>\n",
       "      <td>1</td>\n",
       "      <td>0</td>\n",
       "      <td>0</td>\n",
       "      <td>1</td>\n",
       "      <td>0</td>\n",
       "    </tr>\n",
       "    <tr>\n",
       "      <th>...</th>\n",
       "      <td>...</td>\n",
       "      <td>...</td>\n",
       "      <td>...</td>\n",
       "      <td>...</td>\n",
       "      <td>...</td>\n",
       "      <td>...</td>\n",
       "      <td>...</td>\n",
       "      <td>...</td>\n",
       "      <td>...</td>\n",
       "      <td>...</td>\n",
       "      <td>...</td>\n",
       "      <td>...</td>\n",
       "      <td>...</td>\n",
       "      <td>...</td>\n",
       "      <td>...</td>\n",
       "      <td>...</td>\n",
       "      <td>...</td>\n",
       "      <td>...</td>\n",
       "      <td>...</td>\n",
       "      <td>...</td>\n",
       "      <td>...</td>\n",
       "      <td>...</td>\n",
       "      <td>...</td>\n",
       "      <td>...</td>\n",
       "      <td>...</td>\n",
       "      <td>...</td>\n",
       "      <td>...</td>\n",
       "      <td>...</td>\n",
       "      <td>...</td>\n",
       "      <td>...</td>\n",
       "      <td>...</td>\n",
       "      <td>...</td>\n",
       "      <td>...</td>\n",
       "      <td>...</td>\n",
       "      <td>...</td>\n",
       "    </tr>\n",
       "    <tr>\n",
       "      <th>7038</th>\n",
       "      <td>24</td>\n",
       "      <td>84.80</td>\n",
       "      <td>1990.50</td>\n",
       "      <td>1</td>\n",
       "      <td>0</td>\n",
       "      <td>0</td>\n",
       "      <td>1</td>\n",
       "      <td>0</td>\n",
       "      <td>1</td>\n",
       "      <td>0</td>\n",
       "      <td>1</td>\n",
       "      <td>1</td>\n",
       "      <td>0</td>\n",
       "      <td>0</td>\n",
       "      <td>0</td>\n",
       "      <td>1</td>\n",
       "      <td>1</td>\n",
       "      <td>0</td>\n",
       "      <td>0</td>\n",
       "      <td>1</td>\n",
       "      <td>0</td>\n",
       "      <td>1</td>\n",
       "      <td>0</td>\n",
       "      <td>1</td>\n",
       "      <td>0</td>\n",
       "      <td>1</td>\n",
       "      <td>0</td>\n",
       "      <td>1</td>\n",
       "      <td>0</td>\n",
       "      <td>0</td>\n",
       "      <td>1</td>\n",
       "      <td>0</td>\n",
       "      <td>0</td>\n",
       "      <td>0</td>\n",
       "      <td>1</td>\n",
       "    </tr>\n",
       "    <tr>\n",
       "      <th>7039</th>\n",
       "      <td>72</td>\n",
       "      <td>103.20</td>\n",
       "      <td>7362.90</td>\n",
       "      <td>1</td>\n",
       "      <td>0</td>\n",
       "      <td>0</td>\n",
       "      <td>1</td>\n",
       "      <td>0</td>\n",
       "      <td>1</td>\n",
       "      <td>0</td>\n",
       "      <td>1</td>\n",
       "      <td>0</td>\n",
       "      <td>1</td>\n",
       "      <td>0</td>\n",
       "      <td>1</td>\n",
       "      <td>0</td>\n",
       "      <td>0</td>\n",
       "      <td>1</td>\n",
       "      <td>0</td>\n",
       "      <td>1</td>\n",
       "      <td>1</td>\n",
       "      <td>0</td>\n",
       "      <td>0</td>\n",
       "      <td>1</td>\n",
       "      <td>0</td>\n",
       "      <td>1</td>\n",
       "      <td>0</td>\n",
       "      <td>1</td>\n",
       "      <td>0</td>\n",
       "      <td>0</td>\n",
       "      <td>1</td>\n",
       "      <td>0</td>\n",
       "      <td>1</td>\n",
       "      <td>0</td>\n",
       "      <td>0</td>\n",
       "    </tr>\n",
       "    <tr>\n",
       "      <th>7040</th>\n",
       "      <td>11</td>\n",
       "      <td>29.60</td>\n",
       "      <td>346.45</td>\n",
       "      <td>1</td>\n",
       "      <td>0</td>\n",
       "      <td>0</td>\n",
       "      <td>1</td>\n",
       "      <td>0</td>\n",
       "      <td>1</td>\n",
       "      <td>1</td>\n",
       "      <td>0</td>\n",
       "      <td>1</td>\n",
       "      <td>0</td>\n",
       "      <td>0</td>\n",
       "      <td>0</td>\n",
       "      <td>1</td>\n",
       "      <td>1</td>\n",
       "      <td>0</td>\n",
       "      <td>1</td>\n",
       "      <td>0</td>\n",
       "      <td>1</td>\n",
       "      <td>0</td>\n",
       "      <td>1</td>\n",
       "      <td>0</td>\n",
       "      <td>1</td>\n",
       "      <td>0</td>\n",
       "      <td>1</td>\n",
       "      <td>0</td>\n",
       "      <td>0</td>\n",
       "      <td>0</td>\n",
       "      <td>1</td>\n",
       "      <td>0</td>\n",
       "      <td>0</td>\n",
       "      <td>1</td>\n",
       "      <td>0</td>\n",
       "    </tr>\n",
       "    <tr>\n",
       "      <th>7041</th>\n",
       "      <td>4</td>\n",
       "      <td>74.40</td>\n",
       "      <td>306.60</td>\n",
       "      <td>0</td>\n",
       "      <td>1</td>\n",
       "      <td>0</td>\n",
       "      <td>1</td>\n",
       "      <td>1</td>\n",
       "      <td>0</td>\n",
       "      <td>0</td>\n",
       "      <td>1</td>\n",
       "      <td>0</td>\n",
       "      <td>1</td>\n",
       "      <td>0</td>\n",
       "      <td>1</td>\n",
       "      <td>0</td>\n",
       "      <td>1</td>\n",
       "      <td>0</td>\n",
       "      <td>1</td>\n",
       "      <td>0</td>\n",
       "      <td>1</td>\n",
       "      <td>0</td>\n",
       "      <td>1</td>\n",
       "      <td>0</td>\n",
       "      <td>1</td>\n",
       "      <td>0</td>\n",
       "      <td>1</td>\n",
       "      <td>0</td>\n",
       "      <td>0</td>\n",
       "      <td>0</td>\n",
       "      <td>1</td>\n",
       "      <td>0</td>\n",
       "      <td>0</td>\n",
       "      <td>0</td>\n",
       "      <td>1</td>\n",
       "    </tr>\n",
       "    <tr>\n",
       "      <th>7042</th>\n",
       "      <td>66</td>\n",
       "      <td>105.65</td>\n",
       "      <td>6844.50</td>\n",
       "      <td>1</td>\n",
       "      <td>0</td>\n",
       "      <td>1</td>\n",
       "      <td>0</td>\n",
       "      <td>1</td>\n",
       "      <td>0</td>\n",
       "      <td>1</td>\n",
       "      <td>0</td>\n",
       "      <td>0</td>\n",
       "      <td>1</td>\n",
       "      <td>0</td>\n",
       "      <td>0</td>\n",
       "      <td>1</td>\n",
       "      <td>1</td>\n",
       "      <td>0</td>\n",
       "      <td>0</td>\n",
       "      <td>1</td>\n",
       "      <td>0</td>\n",
       "      <td>1</td>\n",
       "      <td>0</td>\n",
       "      <td>1</td>\n",
       "      <td>0</td>\n",
       "      <td>1</td>\n",
       "      <td>0</td>\n",
       "      <td>0</td>\n",
       "      <td>1</td>\n",
       "      <td>0</td>\n",
       "      <td>1</td>\n",
       "      <td>1</td>\n",
       "      <td>0</td>\n",
       "      <td>0</td>\n",
       "      <td>0</td>\n",
       "    </tr>\n",
       "  </tbody>\n",
       "</table>\n",
       "<p>7032 rows × 35 columns</p>\n",
       "</div>"
      ],
      "text/plain": [
       "      tenure  MonthlyCharges  TotalCharges  SeniorCitizen_No  \\\n",
       "0          1           29.85         29.85                 1   \n",
       "1         34           56.95       1889.50                 1   \n",
       "2          2           53.85        108.15                 1   \n",
       "3         45           42.30       1840.75                 1   \n",
       "4          2           70.70        151.65                 1   \n",
       "...      ...             ...           ...               ...   \n",
       "7038      24           84.80       1990.50                 1   \n",
       "7039      72          103.20       7362.90                 1   \n",
       "7040      11           29.60        346.45                 1   \n",
       "7041       4           74.40        306.60                 0   \n",
       "7042      66          105.65       6844.50                 1   \n",
       "\n",
       "      SeniorCitizen_Yes  Partner_No  Partner_Yes  Dependents_No  \\\n",
       "0                     0           0            1              1   \n",
       "1                     0           1            0              1   \n",
       "2                     0           1            0              1   \n",
       "3                     0           1            0              1   \n",
       "4                     0           1            0              1   \n",
       "...                 ...         ...          ...            ...   \n",
       "7038                  0           0            1              0   \n",
       "7039                  0           0            1              0   \n",
       "7040                  0           0            1              0   \n",
       "7041                  1           0            1              1   \n",
       "7042                  0           1            0              1   \n",
       "\n",
       "      Dependents_Yes  MultipleLines_No  MultipleLines_Yes  \\\n",
       "0                  0                 1                  0   \n",
       "1                  0                 1                  0   \n",
       "2                  0                 1                  0   \n",
       "3                  0                 1                  0   \n",
       "4                  0                 1                  0   \n",
       "...              ...               ...                ...   \n",
       "7038               1                 0                  1   \n",
       "7039               1                 0                  1   \n",
       "7040               1                 1                  0   \n",
       "7041               0                 0                  1   \n",
       "7042               0                 1                  0   \n",
       "\n",
       "      InternetService_DSL  InternetService_Fiber optic  InternetService_No  \\\n",
       "0                       1                            0                   0   \n",
       "1                       1                            0                   0   \n",
       "2                       1                            0                   0   \n",
       "3                       1                            0                   0   \n",
       "4                       0                            1                   0   \n",
       "...                   ...                          ...                 ...   \n",
       "7038                    1                            0                   0   \n",
       "7039                    0                            1                   0   \n",
       "7040                    1                            0                   0   \n",
       "7041                    0                            1                   0   \n",
       "7042                    0                            1                   0   \n",
       "\n",
       "      OnlineSecurity_No  OnlineSecurity_Yes  OnlineBackup_No  \\\n",
       "0                     1                   0                0   \n",
       "1                     0                   1                1   \n",
       "2                     0                   1                0   \n",
       "3                     0                   1                1   \n",
       "4                     1                   0                1   \n",
       "...                 ...                 ...              ...   \n",
       "7038                  0                   1                1   \n",
       "7039                  1                   0                0   \n",
       "7040                  0                   1                1   \n",
       "7041                  1                   0                1   \n",
       "7042                  0                   1                1   \n",
       "\n",
       "      OnlineBackup_Yes  DeviceProtection_No  DeviceProtection_Yes  \\\n",
       "0                    1                    1                     0   \n",
       "1                    0                    0                     1   \n",
       "2                    1                    1                     0   \n",
       "3                    0                    0                     1   \n",
       "4                    0                    1                     0   \n",
       "...                ...                  ...                   ...   \n",
       "7038                 0                    0                     1   \n",
       "7039                 1                    0                     1   \n",
       "7040                 0                    1                     0   \n",
       "7041                 0                    1                     0   \n",
       "7042                 0                    0                     1   \n",
       "\n",
       "      TechSupport_No  TechSupport_Yes  StreamingTV_No  StreamingTV_Yes  \\\n",
       "0                  1                0               1                0   \n",
       "1                  1                0               1                0   \n",
       "2                  1                0               1                0   \n",
       "3                  0                1               1                0   \n",
       "4                  1                0               1                0   \n",
       "...              ...              ...             ...              ...   \n",
       "7038               0                1               0                1   \n",
       "7039               1                0               0                1   \n",
       "7040               1                0               1                0   \n",
       "7041               1                0               1                0   \n",
       "7042               0                1               0                1   \n",
       "\n",
       "      StreamingMovies_No  StreamingMovies_Yes  Contract_Month-to-month  \\\n",
       "0                      1                    0                        1   \n",
       "1                      1                    0                        0   \n",
       "2                      1                    0                        1   \n",
       "3                      1                    0                        0   \n",
       "4                      1                    0                        1   \n",
       "...                  ...                  ...                      ...   \n",
       "7038                   0                    1                        0   \n",
       "7039                   0                    1                        0   \n",
       "7040                   1                    0                        1   \n",
       "7041                   1                    0                        1   \n",
       "7042                   0                    1                        0   \n",
       "\n",
       "      Contract_One year  Contract_Two year  PaperlessBilling_No  \\\n",
       "0                     0                  0                    0   \n",
       "1                     1                  0                    1   \n",
       "2                     0                  0                    0   \n",
       "3                     1                  0                    1   \n",
       "4                     0                  0                    0   \n",
       "...                 ...                ...                  ...   \n",
       "7038                  1                  0                    0   \n",
       "7039                  1                  0                    0   \n",
       "7040                  0                  0                    0   \n",
       "7041                  0                  0                    0   \n",
       "7042                  0                  1                    0   \n",
       "\n",
       "      PaperlessBilling_Yes  PaymentMethod_Bank transfer (automatic)  \\\n",
       "0                        1                                        0   \n",
       "1                        0                                        0   \n",
       "2                        1                                        0   \n",
       "3                        0                                        1   \n",
       "4                        1                                        0   \n",
       "...                    ...                                      ...   \n",
       "7038                     1                                        0   \n",
       "7039                     1                                        0   \n",
       "7040                     1                                        0   \n",
       "7041                     1                                        0   \n",
       "7042                     1                                        1   \n",
       "\n",
       "      PaymentMethod_Credit card (automatic)  PaymentMethod_Electronic check  \\\n",
       "0                                         0                               1   \n",
       "1                                         0                               0   \n",
       "2                                         0                               0   \n",
       "3                                         0                               0   \n",
       "4                                         0                               1   \n",
       "...                                     ...                             ...   \n",
       "7038                                      0                               0   \n",
       "7039                                      1                               0   \n",
       "7040                                      0                               1   \n",
       "7041                                      0                               0   \n",
       "7042                                      0                               0   \n",
       "\n",
       "      PaymentMethod_Mailed check  \n",
       "0                              0  \n",
       "1                              1  \n",
       "2                              1  \n",
       "3                              0  \n",
       "4                              0  \n",
       "...                          ...  \n",
       "7038                           1  \n",
       "7039                           0  \n",
       "7040                           0  \n",
       "7041                           1  \n",
       "7042                           0  \n",
       "\n",
       "[7032 rows x 35 columns]"
      ]
     },
     "execution_count": 33,
     "metadata": {},
     "output_type": "execute_result"
    }
   ],
   "source": [
    "dc_imp=list(dc_model.feature_importances_)\n",
    "\n",
    "dc_colname=list(X_train.columns)\n",
    "\n",
    "#Create dict for datafram\n",
    "dc_dict={'Feature':dc_colname,'Importance':dc_imp}\n",
    "\n",
    "#Create dataframe\n",
    "dc_feature_imp=pd.DataFrame(dc_dict)\n",
    "X"
   ]
  },
  {
   "cell_type": "code",
   "execution_count": 34,
   "id": "a38738d6-2f7c-44ec-8c24-bdf1903e2aeb",
   "metadata": {},
   "outputs": [],
   "source": [
    "dc_feature_rank=dc_feature_imp.sort_values(by='Importance',ascending = False)"
   ]
  },
  {
   "cell_type": "markdown",
   "id": "4018da82-861f-4cad-8d57-fd937c73caf5",
   "metadata": {},
   "source": [
    "### decision tree feature importance"
   ]
  },
  {
   "cell_type": "code",
   "execution_count": 35,
   "id": "b8d5f99c-bf3a-4ea3-85d0-5f33a7e33abd",
   "metadata": {},
   "outputs": [
    {
     "data": {
      "text/html": [
       "<div>\n",
       "<style scoped>\n",
       "    .dataframe tbody tr th:only-of-type {\n",
       "        vertical-align: middle;\n",
       "    }\n",
       "\n",
       "    .dataframe tbody tr th {\n",
       "        vertical-align: top;\n",
       "    }\n",
       "\n",
       "    .dataframe thead th {\n",
       "        text-align: right;\n",
       "    }\n",
       "</style>\n",
       "<table border=\"1\" class=\"dataframe\">\n",
       "  <thead>\n",
       "    <tr style=\"text-align: right;\">\n",
       "      <th></th>\n",
       "      <th>Feature</th>\n",
       "      <th>Importance</th>\n",
       "    </tr>\n",
       "  </thead>\n",
       "  <tbody>\n",
       "    <tr>\n",
       "      <th>26</th>\n",
       "      <td>Contract_Month-to-month</td>\n",
       "      <td>0.505002</td>\n",
       "    </tr>\n",
       "    <tr>\n",
       "      <th>0</th>\n",
       "      <td>tenure</td>\n",
       "      <td>0.180921</td>\n",
       "    </tr>\n",
       "    <tr>\n",
       "      <th>12</th>\n",
       "      <td>InternetService_Fiber optic</td>\n",
       "      <td>0.155176</td>\n",
       "    </tr>\n",
       "    <tr>\n",
       "      <th>2</th>\n",
       "      <td>TotalCharges</td>\n",
       "      <td>0.053858</td>\n",
       "    </tr>\n",
       "    <tr>\n",
       "      <th>1</th>\n",
       "      <td>MonthlyCharges</td>\n",
       "      <td>0.025204</td>\n",
       "    </tr>\n",
       "    <tr>\n",
       "      <th>13</th>\n",
       "      <td>InternetService_No</td>\n",
       "      <td>0.024703</td>\n",
       "    </tr>\n",
       "    <tr>\n",
       "      <th>10</th>\n",
       "      <td>MultipleLines_Yes</td>\n",
       "      <td>0.020197</td>\n",
       "    </tr>\n",
       "    <tr>\n",
       "      <th>28</th>\n",
       "      <td>Contract_Two year</td>\n",
       "      <td>0.008911</td>\n",
       "    </tr>\n",
       "    <tr>\n",
       "      <th>20</th>\n",
       "      <td>TechSupport_No</td>\n",
       "      <td>0.007339</td>\n",
       "    </tr>\n",
       "    <tr>\n",
       "      <th>23</th>\n",
       "      <td>StreamingTV_Yes</td>\n",
       "      <td>0.005336</td>\n",
       "    </tr>\n",
       "  </tbody>\n",
       "</table>\n",
       "</div>"
      ],
      "text/plain": [
       "                        Feature  Importance\n",
       "26      Contract_Month-to-month    0.505002\n",
       "0                        tenure    0.180921\n",
       "12  InternetService_Fiber optic    0.155176\n",
       "2                  TotalCharges    0.053858\n",
       "1                MonthlyCharges    0.025204\n",
       "13           InternetService_No    0.024703\n",
       "10            MultipleLines_Yes    0.020197\n",
       "28            Contract_Two year    0.008911\n",
       "20               TechSupport_No    0.007339\n",
       "23              StreamingTV_Yes    0.005336"
      ]
     },
     "execution_count": 35,
     "metadata": {},
     "output_type": "execute_result"
    }
   ],
   "source": [
    "dc_feature_rank.head(10)"
   ]
  },
  {
   "cell_type": "markdown",
   "id": "011a765b-eb22-42c2-945c-dd1ffb67304b",
   "metadata": {},
   "source": [
    "### decision tree confusion matrix - result"
   ]
  },
  {
   "cell_type": "code",
   "execution_count": 36,
   "id": "7cbcf03d-1530-4d55-95f9-f4b1306b3fdd",
   "metadata": {},
   "outputs": [
    {
     "data": {
      "image/png": "[encoded data removed]",
      "text/plain": [
       "<Figure size 288x216 with 2 Axes>"
      ]
     },
     "metadata": {
      "needs_background": "light"
     },
     "output_type": "display_data"
    }
   ],
   "source": [
    "plt.figure(figsize=(4,3))\n",
    "sns.heatmap(confusion_matrix(y_test, y_pred_dc),\n",
    "                annot=True,fmt = \"d\",linecolor=\"k\",linewidths=3)\n",
    "    \n",
    "plt.title(\" Decision tree CONFUSION MATRIX\",fontsize=14)\n",
    "plt.show()"
   ]
  },
  {
   "cell_type": "markdown",
   "id": "15258fc7-ceb8-41d8-bce1-c8a2cbf0dee2",
   "metadata": {},
   "source": [
    "### Decision tree - Cross Validation"
   ]
  },
  {
   "cell_type": "code",
   "execution_count": 37,
   "id": "6644a3a9-3ead-4132-a043-044646d43ae6",
   "metadata": {
    "tags": []
   },
   "outputs": [
    {
     "name": "stdout",
     "output_type": "stream",
     "text": [
      "Optimal feature amount: {} 5\n",
      "Chosen features: ['tenure', 'MonthlyCharges', 'TotalCharges', 'InternetService_Fiber optic', 'Contract_Month-to-month']\n"
     ]
    }
   ],
   "source": [
    "# Evaluation with the RFECV to find the most important the features in regard to accurassy \n",
    "# Decision tree Classifier for X \n",
    "\n",
    "Decision_rfc = DecisionTreeClassifier(max_depth = maxDepth)\n",
    "\n",
    "Decision_rfecv = RFECV(estimator = Decision_rfc, step=1, cv=5, scoring='accuracy')\n",
    "Decision_rfecv_model = Decision_rfecv.fit(X_train,y_train)\n",
    "\n",
    "#Print results\n",
    "print('Optimal feature amount: {}',Decision_rfecv_model.n_features_)\n",
    "print('Chosen features:', list(X.columns[Decision_rfecv_model.support_]))\n",
    "#print('Importance on chosen features: \\n', np.absolute(rfecv.estimator_.coef_))"
   ]
  },
  {
   "cell_type": "code",
   "execution_count": 38,
   "id": "55aed121-f5dc-4a23-9c12-83c79f104fab",
   "metadata": {},
   "outputs": [],
   "source": [
    "#plt.figure(figsize=(16, 9))\n",
    "#plt.title('Recursive Feature Elimination with Cross-Validation', fontsize=18, fontweight='bold', pad=20)\n",
    "#plt.xlabel('Number of features selected', fontsize=14, labelpad=20)\n",
    "#plt.ylabel('% Correct Classification', fontsize=14, labelpad=20)\n",
    "#plt.plot(range(1, len(Decision_rfecv.grid_scores_) + 1), Decision_rfecv.grid_scores_, color='#303F9F', linewidth=3)\n",
    "#plt.show()"
   ]
  },
  {
   "cell_type": "markdown",
   "id": "d0c182fc-741b-4bc5-90cf-d91db89ecd12",
   "metadata": {},
   "source": [
    "## Decision tree - feature importance"
   ]
  },
  {
   "cell_type": "code",
   "execution_count": 39,
   "id": "439ece83-c9ce-4f77-940a-f00b144abec2",
   "metadata": {},
   "outputs": [],
   "source": [
    "Decision_rfecv_imp = Decision_rfecv_model.estimator_.feature_importances_"
   ]
  },
  {
   "cell_type": "code",
   "execution_count": 40,
   "id": "005c0c85-16a7-47c1-b868-e333184b1bcc",
   "metadata": {},
   "outputs": [],
   "source": [
    "X_D = X.copy()\n",
    "X_D_Dropped = X_D.drop(X_D.columns[np.where(Decision_rfecv.support_ == False)[0]], axis=1, inplace=True)\n"
   ]
  },
  {
   "cell_type": "code",
   "execution_count": 41,
   "id": "272f6b65-2476-4536-85d8-da81ddb7c75c",
   "metadata": {},
   "outputs": [],
   "source": [
    "#Get the col names of Decision tree\n",
    "d_colname=list(X_D.columns)\n",
    "#d_colname"
   ]
  },
  {
   "cell_type": "code",
   "execution_count": 42,
   "id": "adad34c2-b514-4cd4-ac11-7d0ca5c23095",
   "metadata": {},
   "outputs": [],
   "source": [
    "#Create dict for datafram\n",
    "rfecv_dict={'Feature':d_colname,'Importance':Decision_rfecv_imp}\n",
    "\n",
    "#Create dataframe\n",
    "rfecv_feature_imp=pd.DataFrame(rfecv_dict)"
   ]
  },
  {
   "cell_type": "code",
   "execution_count": 43,
   "id": "2dadca32-3bdd-4d34-9c73-71febee6dc86",
   "metadata": {},
   "outputs": [
    {
     "data": {
      "text/html": [
       "<div>\n",
       "<style scoped>\n",
       "    .dataframe tbody tr th:only-of-type {\n",
       "        vertical-align: middle;\n",
       "    }\n",
       "\n",
       "    .dataframe tbody tr th {\n",
       "        vertical-align: top;\n",
       "    }\n",
       "\n",
       "    .dataframe thead th {\n",
       "        text-align: right;\n",
       "    }\n",
       "</style>\n",
       "<table border=\"1\" class=\"dataframe\">\n",
       "  <thead>\n",
       "    <tr style=\"text-align: right;\">\n",
       "      <th></th>\n",
       "      <th>Feature</th>\n",
       "      <th>Importance</th>\n",
       "    </tr>\n",
       "  </thead>\n",
       "  <tbody>\n",
       "    <tr>\n",
       "      <th>0</th>\n",
       "      <td>tenure</td>\n",
       "      <td>0.186780</td>\n",
       "    </tr>\n",
       "    <tr>\n",
       "      <th>1</th>\n",
       "      <td>MonthlyCharges</td>\n",
       "      <td>0.068839</td>\n",
       "    </tr>\n",
       "    <tr>\n",
       "      <th>2</th>\n",
       "      <td>TotalCharges</td>\n",
       "      <td>0.072730</td>\n",
       "    </tr>\n",
       "    <tr>\n",
       "      <th>3</th>\n",
       "      <td>InternetService_Fiber optic</td>\n",
       "      <td>0.157873</td>\n",
       "    </tr>\n",
       "    <tr>\n",
       "      <th>4</th>\n",
       "      <td>Contract_Month-to-month</td>\n",
       "      <td>0.513778</td>\n",
       "    </tr>\n",
       "  </tbody>\n",
       "</table>\n",
       "</div>"
      ],
      "text/plain": [
       "                       Feature  Importance\n",
       "0                       tenure    0.186780\n",
       "1               MonthlyCharges    0.068839\n",
       "2                 TotalCharges    0.072730\n",
       "3  InternetService_Fiber optic    0.157873\n",
       "4      Contract_Month-to-month    0.513778"
      ]
     },
     "execution_count": 43,
     "metadata": {},
     "output_type": "execute_result"
    }
   ],
   "source": [
    "rfecv_feature_imp"
   ]
  },
  {
   "cell_type": "markdown",
   "id": "c8cc924e-635f-4cc4-ac79-c3d34b0a4706",
   "metadata": {},
   "source": [
    "## Decision three with cross validation - Accuracy result"
   ]
  },
  {
   "cell_type": "code",
   "execution_count": 44,
   "id": "8de1542b-ae9f-4947-a27f-4d05dcabc442",
   "metadata": {
    "scrolled": true,
    "tags": []
   },
   "outputs": [
    {
     "name": "stdout",
     "output_type": "stream",
     "text": [
      "[[1081  200]\n",
      " [ 198  279]]\n",
      "              precision    recall  f1-score   support\n",
      "\n",
      "           0       0.85      0.84      0.84      1281\n",
      "           1       0.58      0.58      0.58       477\n",
      "\n",
      "    accuracy                           0.77      1758\n",
      "   macro avg       0.71      0.71      0.71      1758\n",
      "weighted avg       0.77      0.77      0.77      1758\n",
      "\n"
     ]
    }
   ],
   "source": [
    "# WE find the \n",
    "dc_prediction = Decision_rfecv.predict(X_test)\n",
    "print(confusion_matrix(y_test, dc_prediction))\n",
    "print(classification_report(y_test, dc_prediction))"
   ]
  },
  {
   "cell_type": "markdown",
   "id": "502cb43b-7922-4411-b61f-15926570b363",
   "metadata": {},
   "source": [
    "## decision tree cross - confusion matrix "
   ]
  },
  {
   "cell_type": "code",
   "execution_count": 45,
   "id": "f2607263-bcf1-4fec-9961-6b9b556086c2",
   "metadata": {},
   "outputs": [
    {
     "data": {
      "image/png": "[encoded data removed]",
      "text/plain": [
       "<Figure size 288x216 with 2 Axes>"
      ]
     },
     "metadata": {
      "needs_background": "light"
     },
     "output_type": "display_data"
    }
   ],
   "source": [
    "plt.figure(figsize=(4,3))\n",
    "sns.heatmap(confusion_matrix(y_test, dc_prediction),\n",
    "                annot=True,fmt = \"d\",linecolor=\"k\",linewidths=3)\n",
    "\n",
    "plt.title(\" RANDOM FOREST CONFUSION MATRIX\",fontsize=14)\n",
    "plt.show()"
   ]
  },
  {
   "cell_type": "markdown",
   "id": "1c926b57-3e54-4cfa-8f1b-281cb737362c",
   "metadata": {},
   "source": [
    "## Random forrest - without cross validation"
   ]
  },
  {
   "cell_type": "code",
   "execution_count": 46,
   "id": "050a0a18-376f-46a8-a753-0c3ca841004d",
   "metadata": {},
   "outputs": [
    {
     "data": {
      "text/plain": [
       "(5274, 35)"
      ]
     },
     "execution_count": 46,
     "metadata": {},
     "output_type": "execute_result"
    }
   ],
   "source": [
    "X_train.shape"
   ]
  },
  {
   "cell_type": "code",
   "execution_count": 47,
   "id": "bfae155d-7b11-47c4-9648-0884cb3441ce",
   "metadata": {},
   "outputs": [],
   "source": [
    "# Create random forest classifer object that uses entropy - very slow\n",
    "rfc = RandomForestClassifier(criterion='entropy', random_state=0, n_jobs=-1,n_estimators=200,max_depth=11)\n",
    "# Train model\n",
    "rfc_model = rfc.fit(X_train, y_train)\n",
    "# Predict    \n",
    "y_pred_rfc = rfc_model.predict(X_test)"
   ]
  },
  {
   "cell_type": "code",
   "execution_count": 48,
   "id": "0a607971-a18c-444b-a5d0-fc8d7a50cb84",
   "metadata": {},
   "outputs": [
    {
     "name": "stdout",
     "output_type": "stream",
     "text": [
      "Accuracy of random forest classifier on test set: 0.78\n"
     ]
    }
   ],
   "source": [
    "print('Accuracy of random forest classifier on test set: {:.2f}'.format(rfc_model.score(X_test, y_test)))"
   ]
  },
  {
   "cell_type": "markdown",
   "id": "02f8008f-0ead-4779-bb99-8bfba1da744e",
   "metadata": {},
   "source": [
    "### rf accuracy result"
   ]
  },
  {
   "cell_type": "code",
   "execution_count": 49,
   "id": "d82cc897-c401-4671-a41b-269ebe38e80c",
   "metadata": {},
   "outputs": [
    {
     "name": "stdout",
     "output_type": "stream",
     "text": [
      "              precision    recall  f1-score   support\n",
      "\n",
      "           0       0.83      0.89      0.86      1281\n",
      "           1       0.62      0.50      0.55       477\n",
      "\n",
      "    accuracy                           0.78      1758\n",
      "   macro avg       0.72      0.69      0.70      1758\n",
      "weighted avg       0.77      0.78      0.77      1758\n",
      "\n"
     ]
    }
   ],
   "source": [
    "print(classification_report(y_test,y_pred_rfc))"
   ]
  },
  {
   "cell_type": "code",
   "execution_count": 50,
   "id": "982864af-d056-486a-8606-3f10c947a762",
   "metadata": {},
   "outputs": [],
   "source": [
    "rfc_imp=list(rfc_model.feature_importances_)\n",
    "rfc_colname=list(X_train.columns)\n",
    "\n",
    "#Create dict for datafram\n",
    "rfc_dict={'Feature':rfc_colname,'Importance':rfc_imp}\n",
    "\n",
    "#Create dataframe\n",
    "rfc_feature_imp=pd.DataFrame(rfc_dict)"
   ]
  },
  {
   "cell_type": "code",
   "execution_count": 51,
   "id": "f5f76409-e031-4ee7-b8d7-81598cc64a09",
   "metadata": {},
   "outputs": [],
   "source": [
    "rfc_feature_rank=rfc_feature_imp.sort_values(by='Importance',ascending = False)"
   ]
  },
  {
   "cell_type": "markdown",
   "id": "b7694a50-3443-4f01-ad98-3d018d377be2",
   "metadata": {},
   "source": [
    "## rf - feature importance - result"
   ]
  },
  {
   "cell_type": "code",
   "execution_count": 52,
   "id": "2ff264c1-ee2e-49c5-8246-d93488383b7e",
   "metadata": {},
   "outputs": [
    {
     "data": {
      "text/html": [
       "<div>\n",
       "<style scoped>\n",
       "    .dataframe tbody tr th:only-of-type {\n",
       "        vertical-align: middle;\n",
       "    }\n",
       "\n",
       "    .dataframe tbody tr th {\n",
       "        vertical-align: top;\n",
       "    }\n",
       "\n",
       "    .dataframe thead th {\n",
       "        text-align: right;\n",
       "    }\n",
       "</style>\n",
       "<table border=\"1\" class=\"dataframe\">\n",
       "  <thead>\n",
       "    <tr style=\"text-align: right;\">\n",
       "      <th></th>\n",
       "      <th>Feature</th>\n",
       "      <th>Importance</th>\n",
       "    </tr>\n",
       "  </thead>\n",
       "  <tbody>\n",
       "    <tr>\n",
       "      <th>0</th>\n",
       "      <td>tenure</td>\n",
       "      <td>0.141016</td>\n",
       "    </tr>\n",
       "    <tr>\n",
       "      <th>2</th>\n",
       "      <td>TotalCharges</td>\n",
       "      <td>0.135910</td>\n",
       "    </tr>\n",
       "    <tr>\n",
       "      <th>1</th>\n",
       "      <td>MonthlyCharges</td>\n",
       "      <td>0.121701</td>\n",
       "    </tr>\n",
       "    <tr>\n",
       "      <th>26</th>\n",
       "      <td>Contract_Month-to-month</td>\n",
       "      <td>0.093309</td>\n",
       "    </tr>\n",
       "    <tr>\n",
       "      <th>28</th>\n",
       "      <td>Contract_Two year</td>\n",
       "      <td>0.049976</td>\n",
       "    </tr>\n",
       "    <tr>\n",
       "      <th>12</th>\n",
       "      <td>InternetService_Fiber optic</td>\n",
       "      <td>0.049618</td>\n",
       "    </tr>\n",
       "    <tr>\n",
       "      <th>33</th>\n",
       "      <td>PaymentMethod_Electronic check</td>\n",
       "      <td>0.036146</td>\n",
       "    </tr>\n",
       "    <tr>\n",
       "      <th>13</th>\n",
       "      <td>InternetService_No</td>\n",
       "      <td>0.021826</td>\n",
       "    </tr>\n",
       "    <tr>\n",
       "      <th>27</th>\n",
       "      <td>Contract_One year</td>\n",
       "      <td>0.020714</td>\n",
       "    </tr>\n",
       "    <tr>\n",
       "      <th>15</th>\n",
       "      <td>OnlineSecurity_Yes</td>\n",
       "      <td>0.016756</td>\n",
       "    </tr>\n",
       "  </tbody>\n",
       "</table>\n",
       "</div>"
      ],
      "text/plain": [
       "                           Feature  Importance\n",
       "0                           tenure    0.141016\n",
       "2                     TotalCharges    0.135910\n",
       "1                   MonthlyCharges    0.121701\n",
       "26         Contract_Month-to-month    0.093309\n",
       "28               Contract_Two year    0.049976\n",
       "12     InternetService_Fiber optic    0.049618\n",
       "33  PaymentMethod_Electronic check    0.036146\n",
       "13              InternetService_No    0.021826\n",
       "27               Contract_One year    0.020714\n",
       "15              OnlineSecurity_Yes    0.016756"
      ]
     },
     "execution_count": 52,
     "metadata": {},
     "output_type": "execute_result"
    }
   ],
   "source": [
    "rfc_feature_rank.head(10)"
   ]
  },
  {
   "cell_type": "markdown",
   "id": "9fad7ec5-2082-4003-a2b1-5fcb419e7347",
   "metadata": {},
   "source": [
    "# rf - confusion matrix - result"
   ]
  },
  {
   "cell_type": "code",
   "execution_count": 53,
   "id": "5909d8df-1953-4d48-b6a1-288d4199fdbf",
   "metadata": {},
   "outputs": [
    {
     "data": {
      "image/png": "[encoded data removed]",
      "text/plain": [
       "<Figure size 288x216 with 2 Axes>"
      ]
     },
     "metadata": {
      "needs_background": "light"
     },
     "output_type": "display_data"
    }
   ],
   "source": [
    "plt.figure(figsize=(4,3))\n",
    "sns.heatmap(confusion_matrix(y_test, y_pred_rfc),\n",
    "                annot=True,fmt = \"d\",linecolor=\"k\",linewidths=3)\n",
    "    \n",
    "plt.title(\" RANDOM FOREST CONFUSION MATRIX\",fontsize=14)\n",
    "plt.show()"
   ]
  },
  {
   "cell_type": "markdown",
   "id": "68a59f5c-4dd3-4741-9445-80f1f110b352",
   "metadata": {},
   "source": [
    "## Random forest with cross validation"
   ]
  },
  {
   "cell_type": "code",
   "execution_count": 54,
   "id": "c026b64f-a471-4b3f-b656-e6884b8de317",
   "metadata": {},
   "outputs": [
    {
     "data": {
      "text/plain": [
       "(7032, 35)"
      ]
     },
     "execution_count": 54,
     "metadata": {},
     "output_type": "execute_result"
    }
   ],
   "source": [
    "X.shape"
   ]
  },
  {
   "cell_type": "code",
   "execution_count": 55,
   "id": "fa49eb03-ed82-4c99-b021-d434c5995a30",
   "metadata": {},
   "outputs": [],
   "source": [
    "rfc = RandomForestClassifier(criterion='entropy', random_state=0, n_jobs=-1,n_estimators=200,max_depth=11)\n",
    "# Train model with Cross validation\n",
    "rfecv = RFECV(estimator=rfc, step=1, cv=StratifiedKFold(5), scoring='accuracy')\n",
    "\n",
    "rfecv_model = rfecv.fit(X_train, y_train)\n",
    "# Predict    \n",
    "y_pred_rfcv = rfecv_model.predict(X_test)"
   ]
  },
  {
   "cell_type": "code",
   "execution_count": 56,
   "id": "b864dfa0-b3df-4912-bb27-468c15c83a01",
   "metadata": {},
   "outputs": [
    {
     "name": "stdout",
     "output_type": "stream",
     "text": [
      "Accuracy of random forest classifier on test set: 0.79\n"
     ]
    }
   ],
   "source": [
    "print('Accuracy of random forest classifier on test set: {:.2f}'.format(rfecv_model.score(X_test, y_test)))"
   ]
  },
  {
   "cell_type": "code",
   "execution_count": 57,
   "id": "5393508c-c0d4-49fd-93de-3dbf9f452e90",
   "metadata": {},
   "outputs": [
    {
     "name": "stdout",
     "output_type": "stream",
     "text": [
      "Optimal feature amount: {} 32\n",
      "Chosen features: ['tenure', 'MonthlyCharges', 'TotalCharges', 'SeniorCitizen_No', 'SeniorCitizen_Yes', 'Partner_No', 'Partner_Yes', 'Dependents_No', 'Dependents_Yes', 'MultipleLines_No', 'MultipleLines_Yes', 'InternetService_DSL', 'InternetService_Fiber optic', 'InternetService_No', 'OnlineSecurity_No', 'OnlineSecurity_Yes', 'OnlineBackup_No', 'OnlineBackup_Yes', 'DeviceProtection_Yes', 'TechSupport_No', 'TechSupport_Yes', 'StreamingTV_Yes', 'StreamingMovies_No', 'StreamingMovies_Yes', 'Contract_Month-to-month', 'Contract_One year', 'Contract_Two year', 'PaperlessBilling_No', 'PaperlessBilling_Yes', 'PaymentMethod_Bank transfer (automatic)', 'PaymentMethod_Electronic check', 'PaymentMethod_Mailed check']\n"
     ]
    }
   ],
   "source": [
    "print('Optimal feature amount: {}',rfecv_model.n_features_)\n",
    "print('Chosen features:', list(X.columns[rfecv_model.support_]))"
   ]
  },
  {
   "cell_type": "code",
   "execution_count": 58,
   "id": "38345dc9-c0ac-4d94-9d38-630c983a9de7",
   "metadata": {},
   "outputs": [
    {
     "data": {
      "image/png": "[encoded data removed]",
      "text/plain": [
       "<Figure size 1152x648 with 1 Axes>"
      ]
     },
     "metadata": {
      "needs_background": "light"
     },
     "output_type": "display_data"
    }
   ],
   "source": [
    "plt.figure(figsize=(16, 9))\n",
    "plt.title('Recursive Feature Elimination with Cross-Validation', fontsize=18, fontweight='bold', pad=20)\n",
    "plt.xlabel('Number of features selected', fontsize=14, labelpad=20)\n",
    "plt.ylabel('% Correct Classification', fontsize=14, labelpad=20)\n",
    "plt.plot(range(1, len(rfecv_model.grid_scores_) + 1), rfecv_model.grid_scores_, color='#303F9F', linewidth=3)\n",
    "\n",
    "plt.show()"
   ]
  },
  {
   "cell_type": "markdown",
   "id": "846a7c6b-e976-46c0-b007-af4fc5614ff6",
   "metadata": {},
   "source": [
    "## rf accuracy cross result"
   ]
  },
  {
   "cell_type": "code",
   "execution_count": 59,
   "id": "d4ee901d-ef3d-4156-abe1-b335344fbcb7",
   "metadata": {
    "tags": []
   },
   "outputs": [
    {
     "name": "stdout",
     "output_type": "stream",
     "text": [
      "              precision    recall  f1-score   support\n",
      "\n",
      "           0       0.84      0.89      0.86      1281\n",
      "           1       0.64      0.53      0.58       477\n",
      "\n",
      "    accuracy                           0.79      1758\n",
      "   macro avg       0.74      0.71      0.72      1758\n",
      "weighted avg       0.78      0.79      0.79      1758\n",
      "\n"
     ]
    }
   ],
   "source": [
    "print(classification_report(y_test,y_pred_rfcv))"
   ]
  },
  {
   "cell_type": "code",
   "execution_count": 60,
   "id": "3ba26661-7280-4f42-89ac-1c62daaa9734",
   "metadata": {},
   "outputs": [],
   "source": [
    "rfecv_imp=rfecv_model.estimator_.feature_importances_"
   ]
  },
  {
   "cell_type": "code",
   "execution_count": 61,
   "id": "f8a0f0f4-c423-4f1f-8bbe-201c4f793713",
   "metadata": {},
   "outputs": [],
   "source": [
    "#Show which index should be deleted\n",
    "#print(np.where(rfecv.support_ == False)[0])"
   ]
  },
  {
   "cell_type": "code",
   "execution_count": 62,
   "id": "07abd422-29d3-44ad-bed0-e4a845ed8158",
   "metadata": {},
   "outputs": [
    {
     "data": {
      "text/plain": [
       "35"
      ]
     },
     "execution_count": 62,
     "metadata": {},
     "output_type": "execute_result"
    }
   ],
   "source": [
    "len(X.columns)"
   ]
  },
  {
   "cell_type": "code",
   "execution_count": 63,
   "id": "c51c4898-2813-4727-8e3f-882d3ce9b763",
   "metadata": {},
   "outputs": [],
   "source": [
    "#Remove the none important features\n",
    "X_rf = X.copy()\n",
    "X_Dropped =  (len(X_rf.columns) != 32) and X_rf.drop(X_rf.columns[np.where(rfecv.support_ == False)[0]], axis=1, inplace=True)"
   ]
  },
  {
   "cell_type": "code",
   "execution_count": 64,
   "id": "a3a33141-da4a-49ab-8aca-f3a193fa75d0",
   "metadata": {},
   "outputs": [
    {
     "data": {
      "text/plain": [
       "32"
      ]
     },
     "execution_count": 64,
     "metadata": {},
     "output_type": "execute_result"
    }
   ],
   "source": [
    "len(X_rf.columns)"
   ]
  },
  {
   "cell_type": "code",
   "execution_count": 65,
   "id": "06de6319-2d6c-471d-8308-a59ad975edf1",
   "metadata": {},
   "outputs": [],
   "source": [
    "rfecv_colname=list(X_rf.columns)"
   ]
  },
  {
   "cell_type": "code",
   "execution_count": 66,
   "id": "b2f0b346-fe9c-40d4-90c0-8014bfed2f2c",
   "metadata": {},
   "outputs": [],
   "source": [
    "#Create dict for datafram\n",
    "rfecv_dict={'Feature':rfecv_colname,'Importance':rfecv_imp}\n",
    "\n",
    "#Create dataframe\n",
    "rfecv_feature_imp=pd.DataFrame(rfecv_dict)"
   ]
  },
  {
   "cell_type": "code",
   "execution_count": 67,
   "id": "6c8ef655-9d5f-4539-9d99-a99ebf7c087b",
   "metadata": {},
   "outputs": [],
   "source": [
    "rfecv_feature_rank=rfecv_feature_imp.sort_values(by='Importance',ascending = False)"
   ]
  },
  {
   "cell_type": "markdown",
   "id": "fa975c9f-2cd8-40c6-a567-5bc65f0b1bdd",
   "metadata": {},
   "source": [
    "### rf feature importance cross - result"
   ]
  },
  {
   "cell_type": "code",
   "execution_count": 68,
   "id": "c957cc6a-f78b-4533-b6b4-ec463b88de98",
   "metadata": {},
   "outputs": [
    {
     "data": {
      "text/html": [
       "<div>\n",
       "<style scoped>\n",
       "    .dataframe tbody tr th:only-of-type {\n",
       "        vertical-align: middle;\n",
       "    }\n",
       "\n",
       "    .dataframe tbody tr th {\n",
       "        vertical-align: top;\n",
       "    }\n",
       "\n",
       "    .dataframe thead th {\n",
       "        text-align: right;\n",
       "    }\n",
       "</style>\n",
       "<table border=\"1\" class=\"dataframe\">\n",
       "  <thead>\n",
       "    <tr style=\"text-align: right;\">\n",
       "      <th></th>\n",
       "      <th>Feature</th>\n",
       "      <th>Importance</th>\n",
       "    </tr>\n",
       "  </thead>\n",
       "  <tbody>\n",
       "    <tr>\n",
       "      <th>0</th>\n",
       "      <td>tenure</td>\n",
       "      <td>0.144967</td>\n",
       "    </tr>\n",
       "    <tr>\n",
       "      <th>2</th>\n",
       "      <td>TotalCharges</td>\n",
       "      <td>0.141564</td>\n",
       "    </tr>\n",
       "    <tr>\n",
       "      <th>1</th>\n",
       "      <td>MonthlyCharges</td>\n",
       "      <td>0.129124</td>\n",
       "    </tr>\n",
       "    <tr>\n",
       "      <th>24</th>\n",
       "      <td>Contract_Month-to-month</td>\n",
       "      <td>0.093312</td>\n",
       "    </tr>\n",
       "    <tr>\n",
       "      <th>26</th>\n",
       "      <td>Contract_Two year</td>\n",
       "      <td>0.059741</td>\n",
       "    </tr>\n",
       "    <tr>\n",
       "      <th>12</th>\n",
       "      <td>InternetService_Fiber optic</td>\n",
       "      <td>0.044093</td>\n",
       "    </tr>\n",
       "    <tr>\n",
       "      <th>30</th>\n",
       "      <td>PaymentMethod_Electronic check</td>\n",
       "      <td>0.034833</td>\n",
       "    </tr>\n",
       "    <tr>\n",
       "      <th>13</th>\n",
       "      <td>InternetService_No</td>\n",
       "      <td>0.023837</td>\n",
       "    </tr>\n",
       "    <tr>\n",
       "      <th>25</th>\n",
       "      <td>Contract_One year</td>\n",
       "      <td>0.022182</td>\n",
       "    </tr>\n",
       "    <tr>\n",
       "      <th>11</th>\n",
       "      <td>InternetService_DSL</td>\n",
       "      <td>0.016612</td>\n",
       "    </tr>\n",
       "  </tbody>\n",
       "</table>\n",
       "</div>"
      ],
      "text/plain": [
       "                           Feature  Importance\n",
       "0                           tenure    0.144967\n",
       "2                     TotalCharges    0.141564\n",
       "1                   MonthlyCharges    0.129124\n",
       "24         Contract_Month-to-month    0.093312\n",
       "26               Contract_Two year    0.059741\n",
       "12     InternetService_Fiber optic    0.044093\n",
       "30  PaymentMethod_Electronic check    0.034833\n",
       "13              InternetService_No    0.023837\n",
       "25               Contract_One year    0.022182\n",
       "11             InternetService_DSL    0.016612"
      ]
     },
     "execution_count": 68,
     "metadata": {},
     "output_type": "execute_result"
    }
   ],
   "source": [
    "rfecv_feature_rank.head(10)"
   ]
  },
  {
   "cell_type": "markdown",
   "id": "59b4d7cc-0e1f-4015-ba68-9ea41efcb30f",
   "metadata": {},
   "source": [
    "## rf cross - confusion matrix - result"
   ]
  },
  {
   "cell_type": "code",
   "execution_count": 69,
   "id": "69ce8158-a981-48ed-93cb-f5aa6dae50e0",
   "metadata": {},
   "outputs": [
    {
     "data": {
      "image/png": "[encoded data removed]",
      "text/plain": [
       "<Figure size 288x216 with 2 Axes>"
      ]
     },
     "metadata": {
      "needs_background": "light"
     },
     "output_type": "display_data"
    }
   ],
   "source": [
    "# Call confusion_matrix function from sklearn.metrics using actual y_test and predicted y_test data sets \n",
    "plt.figure(figsize=(4,3))\n",
    "sns.heatmap(confusion_matrix(y_test, y_pred_rfcv),\n",
    "                annot=True,fmt = \"d\",linecolor=\"k\",linewidths=3)\n",
    "    \n",
    "plt.title(\" RANDOM FOREST CONFUSION MATRIX\",fontsize=14)\n",
    "plt.show()"
   ]
  },
  {
   "cell_type": "markdown",
   "id": "5a8a5e3c-39bd-4041-b144-c4a32c696041",
   "metadata": {},
   "source": [
    "## Logistic regression"
   ]
  },
  {
   "cell_type": "code",
   "execution_count": 70,
   "id": "583fecc2-e8be-4dee-9067-44690ce456c4",
   "metadata": {},
   "outputs": [],
   "source": [
    "# Save dataframe column titles to list for reassigning after min max scale \n",
    "cols = X.columns"
   ]
  },
  {
   "cell_type": "code",
   "execution_count": 71,
   "id": "93d34de8-6fd8-4bd4-9813-68747fd8d69d",
   "metadata": {},
   "outputs": [],
   "source": [
    "# Instantiate min-max scaling object\n",
    "mm = MinMaxScaler()\n",
    "# Fit and transform our feature dataframe\n",
    "X = pd.DataFrame(mm.fit_transform(X))\n",
    "# Reassign column names so new dataframe has corresponding names\n",
    "X.columns = cols"
   ]
  },
  {
   "cell_type": "code",
   "execution_count": 72,
   "id": "f62670bc-4a79-403c-a681-ba63bca5de57",
   "metadata": {},
   "outputs": [
    {
     "data": {
      "text/plain": [
       "LogisticRegression(C=1000000000000.0, fit_intercept=False, solver='liblinear')"
      ]
     },
     "execution_count": 72,
     "metadata": {},
     "output_type": "execute_result"
    }
   ],
   "source": [
    "# Instantiate a Logistic Regression model without an intercept. C is set to an arbitrarily large number. Use 'liblinear' solver method.\n",
    "logreg = LogisticRegression(fit_intercept = False, C = 1e12, solver = 'liblinear')\n",
    "# Fit the model to our X and y training sets\n",
    "logreg.fit(X_train, y_train)"
   ]
  },
  {
   "cell_type": "code",
   "execution_count": 73,
   "id": "5dba5e26-1d71-445b-9a83-14d0e1a06149",
   "metadata": {},
   "outputs": [],
   "source": [
    "# Generate model prediction data for train and test sets\n",
    "y_hat_train = logreg.predict(X_train)\n",
    "y_hat_test = logreg.predict(X_test)"
   ]
  },
  {
   "cell_type": "markdown",
   "id": "10606d52-a193-46f7-ad81-9febed62856c",
   "metadata": {},
   "source": [
    "## Difference between data and predicted data"
   ]
  },
  {
   "cell_type": "code",
   "execution_count": 74,
   "id": "675c0bcd-1d0b-435c-b221-861638f59598",
   "metadata": {
    "scrolled": true
   },
   "outputs": [
    {
     "name": "stdout",
     "output_type": "stream",
     "text": [
      "0    4265\n",
      "1    1009\n",
      "Name: Churn, dtype: int64\n",
      "----------------------------------\n",
      "0    0.808684\n",
      "1    0.191316\n",
      "Name: Churn, dtype: float64\n"
     ]
    }
   ],
   "source": [
    "# Find residual differences between train data and predicted train data\n",
    "residuals = np.abs(y_train - y_hat_train)\n",
    "# Print value counts of our predicted values \n",
    "print(pd.Series(residuals).value_counts())\n",
    "print('----------------------------------')\n",
    "# Print normalized value counts of our predicted values\n",
    "print(pd.Series(residuals).value_counts(normalize = True))"
   ]
  },
  {
   "cell_type": "code",
   "execution_count": 75,
   "id": "aac2b46e",
   "metadata": {},
   "outputs": [
    {
     "name": "stdout",
     "output_type": "stream",
     "text": [
      "0    1388\n",
      "1     370\n",
      "Name: Churn, dtype: int64\n",
      "---------------------------------\n",
      "0    0.789534\n",
      "1    0.210466\n",
      "Name: Churn, dtype: float64\n"
     ]
    }
   ],
   "source": [
    "# Repeat previous step with test data\n",
    "residuals = np.abs(y_test - y_hat_test)\n",
    "print(pd.Series(residuals).value_counts())\n",
    "print('---------------------------------')\n",
    "print(pd.Series(residuals).value_counts(normalize = True))"
   ]
  },
  {
   "cell_type": "markdown",
   "id": "3a32bb7d-0760-4763-8d99-82b16cf647b7",
   "metadata": {},
   "source": [
    "## confusion matrix"
   ]
  },
  {
   "cell_type": "code",
   "execution_count": 76,
   "id": "b6f081d7",
   "metadata": {},
   "outputs": [
    {
     "name": "stdout",
     "output_type": "stream",
     "text": [
      "Confusion Matrix: \n",
      " [[1137  144]\n",
      " [ 226  251]]\n"
     ]
    }
   ],
   "source": [
    "from sklearn.metrics import precision_score, recall_score, accuracy_score, f1_score, roc_curve, auc, confusion_matrix\n",
    "import sklearn.metrics as metrics\n",
    "\n",
    "# Call confusion_matrix function from sklearn.metrics using actual y_test and predicted y_test data sets \n",
    "cnf_matrix = confusion_matrix(y_test, y_hat_test)\n",
    "print('Confusion Matrix: \\n', cnf_matrix)"
   ]
  },
  {
   "cell_type": "markdown",
   "id": "319f76c6-936b-4137-9216-4762b7ab599e",
   "metadata": {},
   "source": [
    "### Results and metrics"
   ]
  },
  {
   "cell_type": "code",
   "execution_count": 77,
   "id": "868e4441",
   "metadata": {},
   "outputs": [],
   "source": [
    "precision_train = precision_score(y_train, y_hat_train)\n",
    "precision_test = precision_score(y_test, y_hat_test)\n",
    "recall_train = recall_score(y_train, y_hat_train)\n",
    "recall_test = recall_score(y_test, y_hat_test)\n",
    "accuracy_train = accuracy_score(y_train, y_hat_train)\n",
    "accuracy_test = accuracy_score(y_test, y_hat_test)\n",
    "f1_train = f1_score(y_train, y_hat_train)\n",
    "f1_test = f1_score(y_test, y_hat_test)"
   ]
  },
  {
   "cell_type": "code",
   "execution_count": 78,
   "id": "5facffd1",
   "metadata": {},
   "outputs": [
    {
     "name": "stdout",
     "output_type": "stream",
     "text": [
      "Training Precision is:  0.6675415573053368\n",
      "Testing Precision is:  0.6354430379746835\n",
      "\n",
      "Training Recall is:  0.548132183908046\n",
      "Testing Recall is:  0.5262054507337526\n",
      "\n",
      "Training Accuracy is:  0.8086841107318923\n",
      "Testing Accuracy is:  0.7895335608646189\n",
      "\n",
      "Training F1-Score is:  0.6019723865877711\n",
      "Testing F1-Score is:  0.5756880733944955\n"
     ]
    }
   ],
   "source": [
    "print(\"Training Precision is: \", precision_train)\n",
    "print(\"Testing Precision is: \", precision_test)\n",
    "print(\"\")\n",
    "print(\"Training Recall is: \", recall_train)\n",
    "print(\"Testing Recall is: \", recall_test)\n",
    "print(\"\")\n",
    "print(\"Training Accuracy is: \", accuracy_train)\n",
    "print(\"Testing Accuracy is: \", accuracy_test)\n",
    "print(\"\")\n",
    "print(\"Training F1-Score is: \", f1_train)\n",
    "print(\"Testing F1-Score is: \", f1_test)"
   ]
  },
  {
   "cell_type": "markdown",
   "id": "71af5b0b-ad0d-4943-95cc-0be67f0ddd0c",
   "metadata": {},
   "source": [
    "## Classification report"
   ]
  },
  {
   "cell_type": "code",
   "execution_count": 79,
   "id": "abda78d9",
   "metadata": {},
   "outputs": [
    {
     "name": "stdout",
     "output_type": "stream",
     "text": [
      "              precision    recall  f1-score   support\n",
      "\n",
      "           0       0.83      0.89      0.86      1281\n",
      "           1       0.64      0.53      0.58       477\n",
      "\n",
      "    accuracy                           0.79      1758\n",
      "   macro avg       0.73      0.71      0.72      1758\n",
      "weighted avg       0.78      0.79      0.78      1758\n",
      "\n"
     ]
    }
   ],
   "source": [
    "print(classification_report(y_test, y_hat_test))"
   ]
  },
  {
   "cell_type": "markdown",
   "id": "d81ab61f-2106-4d5f-a417-ac8bfc666586",
   "metadata": {},
   "source": [
    "### Feature importance"
   ]
  },
  {
   "cell_type": "code",
   "execution_count": 80,
   "id": "1db3ced9",
   "metadata": {},
   "outputs": [],
   "source": [
    "importance = logreg.coef_[0]"
   ]
  },
  {
   "cell_type": "code",
   "execution_count": 81,
   "id": "9fef80a2-3731-4dd1-899d-f577ed158c0f",
   "metadata": {},
   "outputs": [
    {
     "data": {
      "text/plain": [
       "35"
      ]
     },
     "execution_count": 81,
     "metadata": {},
     "output_type": "execute_result"
    }
   ],
   "source": [
    "log_imp=list(importance)\n",
    "len(log_imp)"
   ]
  },
  {
   "cell_type": "code",
   "execution_count": 82,
   "id": "0cd68f39-ac4e-40cc-af36-ea32ed4a7f50",
   "metadata": {},
   "outputs": [
    {
     "data": {
      "text/plain": [
       "35"
      ]
     },
     "execution_count": 82,
     "metadata": {},
     "output_type": "execute_result"
    }
   ],
   "source": [
    "log_colname=list(X.columns)\n",
    "len(log_colname)"
   ]
  },
  {
   "cell_type": "code",
   "execution_count": 83,
   "id": "b0b78bf0",
   "metadata": {},
   "outputs": [
    {
     "data": {
      "text/html": [
       "<div>\n",
       "<style scoped>\n",
       "    .dataframe tbody tr th:only-of-type {\n",
       "        vertical-align: middle;\n",
       "    }\n",
       "\n",
       "    .dataframe tbody tr th {\n",
       "        vertical-align: top;\n",
       "    }\n",
       "\n",
       "    .dataframe thead th {\n",
       "        text-align: right;\n",
       "    }\n",
       "</style>\n",
       "<table border=\"1\" class=\"dataframe\">\n",
       "  <thead>\n",
       "    <tr style=\"text-align: right;\">\n",
       "      <th></th>\n",
       "      <th>Column_Names_rfc</th>\n",
       "      <th>coaf</th>\n",
       "    </tr>\n",
       "  </thead>\n",
       "  <tbody>\n",
       "    <tr>\n",
       "      <th>26</th>\n",
       "      <td>Contract_Month-to-month</td>\n",
       "      <td>0.524566</td>\n",
       "    </tr>\n",
       "    <tr>\n",
       "      <th>12</th>\n",
       "      <td>InternetService_Fiber optic</td>\n",
       "      <td>0.332000</td>\n",
       "    </tr>\n",
       "    <tr>\n",
       "      <th>33</th>\n",
       "      <td>PaymentMethod_Electronic check</td>\n",
       "      <td>0.227054</td>\n",
       "    </tr>\n",
       "    <tr>\n",
       "      <th>14</th>\n",
       "      <td>OnlineSecurity_No</td>\n",
       "      <td>0.124716</td>\n",
       "    </tr>\n",
       "    <tr>\n",
       "      <th>11</th>\n",
       "      <td>InternetService_DSL</td>\n",
       "      <td>0.069067</td>\n",
       "    </tr>\n",
       "    <tr>\n",
       "      <th>20</th>\n",
       "      <td>TechSupport_No</td>\n",
       "      <td>0.066903</td>\n",
       "    </tr>\n",
       "    <tr>\n",
       "      <th>30</th>\n",
       "      <td>PaperlessBilling_Yes</td>\n",
       "      <td>0.029251</td>\n",
       "    </tr>\n",
       "    <tr>\n",
       "      <th>4</th>\n",
       "      <td>SeniorCitizen_Yes</td>\n",
       "      <td>0.012617</td>\n",
       "    </tr>\n",
       "    <tr>\n",
       "      <th>25</th>\n",
       "      <td>StreamingMovies_Yes</td>\n",
       "      <td>0.011809</td>\n",
       "    </tr>\n",
       "    <tr>\n",
       "      <th>1</th>\n",
       "      <td>MonthlyCharges</td>\n",
       "      <td>0.007165</td>\n",
       "    </tr>\n",
       "  </tbody>\n",
       "</table>\n",
       "</div>"
      ],
      "text/plain": [
       "                  Column_Names_rfc      coaf\n",
       "26         Contract_Month-to-month  0.524566\n",
       "12     InternetService_Fiber optic  0.332000\n",
       "33  PaymentMethod_Electronic check  0.227054\n",
       "14               OnlineSecurity_No  0.124716\n",
       "11             InternetService_DSL  0.069067\n",
       "20                  TechSupport_No  0.066903\n",
       "30            PaperlessBilling_Yes  0.029251\n",
       "4                SeniorCitizen_Yes  0.012617\n",
       "25             StreamingMovies_Yes  0.011809\n",
       "1                   MonthlyCharges  0.007165"
      ]
     },
     "execution_count": 83,
     "metadata": {},
     "output_type": "execute_result"
    }
   ],
   "source": [
    "#Create dict for datafram\n",
    "log_dict={'Column_Names_rfc':log_colname,'coaf':log_imp}\n",
    "\n",
    "#Create dataframe\n",
    "log_feature_imp=pd.DataFrame(log_dict)\n",
    "\n",
    "log_feature_rank=log_feature_imp.sort_values(by='coaf',ascending = False)\n",
    "\n",
    "log_feature_rank.head(10)"
   ]
  },
  {
   "cell_type": "markdown",
   "id": "eefa6d06-a30f-4d10-bf60-ed767ad1cd9e",
   "metadata": {},
   "source": [
    "## with cross validation\n"
   ]
  },
  {
   "cell_type": "code",
   "execution_count": 122,
   "id": "3348d2eb",
   "metadata": {},
   "outputs": [],
   "source": [
    "logreg_model= LogisticRegression()"
   ]
  },
  {
   "cell_type": "code",
   "execution_count": 123,
   "id": "1eae2b63",
   "metadata": {},
   "outputs": [
    {
     "data": {
      "text/plain": [
       "RFECV(cv=StratifiedKFold(n_splits=10, random_state=50, shuffle=True),\n",
       "      estimator=LogisticRegression(), scoring='accuracy')"
      ]
     },
     "execution_count": 123,
     "metadata": {},
     "output_type": "execute_result"
    }
   ],
   "source": [
    "rfecv_LR = RFECV(estimator=logreg_model, cv=StratifiedKFold(10, random_state=50, shuffle=True), scoring=\"accuracy\")\n",
    "# Fit the model to our X and y training sets\n",
    "rfecv_LR.fit(X_train, y_train)"
   ]
  },
  {
   "cell_type": "code",
   "execution_count": 124,
   "id": "42f744aa",
   "metadata": {},
   "outputs": [],
   "source": [
    "# Generate model prediction data for train and test sets\n",
    "y_hat_trainCV = rfecv_LR.predict(X_train)\n",
    "y_hat_testCV = rfecv_LR.predict(X_test)"
   ]
  },
  {
   "cell_type": "markdown",
   "id": "cae1c298-06ae-4736-a639-a4b7c71cbe5b",
   "metadata": {},
   "source": [
    "## Difference between data and predicted data\n"
   ]
  },
  {
   "cell_type": "code",
   "execution_count": 125,
   "id": "e560752e",
   "metadata": {},
   "outputs": [
    {
     "name": "stdout",
     "output_type": "stream",
     "text": [
      "0    4262\n",
      "1    1012\n",
      "Name: Churn, dtype: int64\n",
      "----------------------------------\n",
      "0    0.808115\n",
      "1    0.191885\n",
      "Name: Churn, dtype: float64\n"
     ]
    }
   ],
   "source": [
    "# Find residual differences between train data and predicted train data\n",
    "residualsCV = np.abs(y_train - y_hat_trainCV)\n",
    "# Print value counts of our predicted values \n",
    "print(pd.Series(residualsCV).value_counts())\n",
    "print('----------------------------------')\n",
    "# Print normalized value counts of our predicted values\n",
    "print(pd.Series(residualsCV).value_counts(normalize = True))"
   ]
  },
  {
   "cell_type": "code",
   "execution_count": 126,
   "id": "ff748dd6",
   "metadata": {},
   "outputs": [
    {
     "name": "stdout",
     "output_type": "stream",
     "text": [
      "0    1382\n",
      "1     376\n",
      "Name: Churn, dtype: int64\n",
      "---------------------------------\n",
      "0    0.786121\n",
      "1    0.213879\n",
      "Name: Churn, dtype: float64\n"
     ]
    }
   ],
   "source": [
    "# Repeat previous step with test data\n",
    "residualsCV = np.abs(y_test - y_hat_testCV)\n",
    "print(pd.Series(residualsCV).value_counts())\n",
    "print('---------------------------------')\n",
    "print(pd.Series(residualsCV).value_counts(normalize = True))"
   ]
  },
  {
   "cell_type": "markdown",
   "id": "439b7b9f-4032-4e7d-81b4-49a6c29ae1be",
   "metadata": {},
   "source": [
    "## Confusion matrix"
   ]
  },
  {
   "cell_type": "code",
   "execution_count": 127,
   "id": "7288e5b5-2fce-4b10-8889-ee07c47ff1b8",
   "metadata": {},
   "outputs": [
    {
     "name": "stdout",
     "output_type": "stream",
     "text": [
      "Confusion Matrix: \n",
      " [[1135  146]\n",
      " [ 230  247]]\n"
     ]
    }
   ],
   "source": [
    "# Call confusion_matrix function from sklearn.metrics using actual y_test and predicted y_test data sets \n",
    "cnf_matrixCV = confusion_matrix(y_test, y_hat_testCV)\n",
    "print('Confusion Matrix: \\n', cnf_matrixCV)"
   ]
  },
  {
   "cell_type": "markdown",
   "id": "1b1924c4-e8fc-4435-8976-8c0586a70d75",
   "metadata": {},
   "source": [
    "## results and metrics"
   ]
  },
  {
   "cell_type": "code",
   "execution_count": 128,
   "id": "50de9f07-695d-4f20-8a01-f3c3e6f66263",
   "metadata": {},
   "outputs": [],
   "source": [
    "precision_trainCV = precision_score(y_train, y_hat_trainCV)\n",
    "precision_testCV = precision_score(y_test, y_hat_testCV)\n",
    "recall_trainCV = recall_score(y_train, y_hat_trainCV)\n",
    "recall_testCV = recall_score(y_test, y_hat_testCV)\n",
    "accuracy_trainCV = accuracy_score(y_train, y_hat_trainCV)\n",
    "accuracy_testCV = accuracy_score(y_test, y_hat_testCV)\n",
    "f1_trainCV = f1_score(y_train, y_hat_trainCV)\n",
    "f1_testCV = f1_score(y_test, y_hat_testCV)"
   ]
  },
  {
   "cell_type": "code",
   "execution_count": 129,
   "id": "e23b2235-f4b6-4594-a66d-91b9efced5dc",
   "metadata": {},
   "outputs": [
    {
     "name": "stdout",
     "output_type": "stream",
     "text": [
      "Training Precision is:  0.6678445229681979\n",
      "Testing Precision is:  0.628498727735369\n",
      "\n",
      "Training Recall is:  0.5431034482758621\n",
      "Testing Recall is:  0.5178197064989518\n",
      "\n",
      "Training Accuracy is:  0.8081152825180129\n",
      "Testing Accuracy is:  0.7861205915813424\n",
      "\n",
      "Training F1-Score is:  0.5990491283676704\n",
      "Testing F1-Score is:  0.5678160919540229\n"
     ]
    }
   ],
   "source": [
    "print(\"Training Precision is: \", precision_trainCV)\n",
    "print(\"Testing Precision is: \", precision_testCV)\n",
    "print(\"\")\n",
    "print(\"Training Recall is: \", recall_trainCV)\n",
    "print(\"Testing Recall is: \", recall_testCV)\n",
    "print(\"\")\n",
    "print(\"Training Accuracy is: \", accuracy_trainCV)\n",
    "print(\"Testing Accuracy is: \", accuracy_testCV)\n",
    "print(\"\")\n",
    "print(\"Training F1-Score is: \", f1_trainCV)\n",
    "print(\"Testing F1-Score is: \", f1_testCV)"
   ]
  },
  {
   "cell_type": "markdown",
   "id": "edf54dad-f887-4331-ac52-18fd789f487d",
   "metadata": {},
   "source": [
    "## classification report"
   ]
  },
  {
   "cell_type": "code",
   "execution_count": 130,
   "id": "aa23413f-1d9a-4dc2-a28b-ad6eb02e2619",
   "metadata": {},
   "outputs": [
    {
     "name": "stdout",
     "output_type": "stream",
     "text": [
      "              precision    recall  f1-score   support\n",
      "\n",
      "           0       0.83      0.89      0.86      1281\n",
      "           1       0.63      0.52      0.57       477\n",
      "\n",
      "    accuracy                           0.79      1758\n",
      "   macro avg       0.73      0.70      0.71      1758\n",
      "weighted avg       0.78      0.79      0.78      1758\n",
      "\n"
     ]
    }
   ],
   "source": [
    "print(classification_report(y_test, y_hat_testCV))"
   ]
  },
  {
   "cell_type": "markdown",
   "id": "53a623d8-6cf4-48f2-a493-f56e38053d65",
   "metadata": {},
   "source": [
    "## feature importance"
   ]
  },
  {
   "cell_type": "code",
   "execution_count": null,
   "id": "008c2fb5-63ad-47af-a91d-624e96cda664",
   "metadata": {},
   "outputs": [],
   "source": [
    "rfecv_LR.ranking_\n",
    "##rfecv_LR.estimator_.feature_importances_ "
   ]
  },
  {
   "cell_type": "code",
   "execution_count": null,
   "id": "0eb5a193-ae9d-42e7-b6a2-8d2a09cc4985",
   "metadata": {},
   "outputs": [],
   "source": []
  },
  {
   "cell_type": "code",
   "execution_count": null,
   "id": "2c010d92-9573-4a90-acfe-d841fb9fd924",
   "metadata": {},
   "outputs": [],
   "source": []
  },
  {
   "cell_type": "code",
   "execution_count": null,
   "id": "05cece3c-d650-4a53-8803-54f4959c9b04",
   "metadata": {},
   "outputs": [],
   "source": []
  },
  {
   "cell_type": "code",
   "execution_count": null,
   "id": "8a2d614e-bac6-4ce7-925a-3300480107cd",
   "metadata": {},
   "outputs": [],
   "source": []
  },
  {
   "cell_type": "code",
   "execution_count": null,
   "id": "15697afb-1d7a-4087-a9c0-d7a6a266c435",
   "metadata": {},
   "outputs": [],
   "source": []
  },
  {
   "cell_type": "code",
   "execution_count": null,
   "id": "14899ea1-5206-4f9a-8ed3-069ed03b5884",
   "metadata": {},
   "outputs": [],
   "source": []
  },
  {
   "cell_type": "code",
   "execution_count": null,
   "id": "5ef15e72-6e2e-4955-a457-a2b9cb99bbd2",
   "metadata": {},
   "outputs": [],
   "source": []
  },
  {
   "cell_type": "code",
   "execution_count": null,
   "id": "5262af4d-a026-40b5-95c7-69c1bb6ddf75",
   "metadata": {},
   "outputs": [],
   "source": []
  },
  {
   "cell_type": "code",
   "execution_count": null,
   "id": "df190804-af77-45ac-95e1-c6ae67d8da53",
   "metadata": {},
   "outputs": [],
   "source": []
  },
  {
   "cell_type": "code",
   "execution_count": null,
   "id": "6d59ef80-48b2-4d6f-bdde-eac18131bb62",
   "metadata": {},
   "outputs": [],
   "source": []
  },
  {
   "cell_type": "code",
   "execution_count": null,
   "id": "c9b094c1-a1c5-45f2-b781-c1aa73362ea4",
   "metadata": {},
   "outputs": [],
   "source": []
  },
  {
   "cell_type": "code",
   "execution_count": null,
   "id": "ad90b989-db28-464b-95fe-e67ec0a09021",
   "metadata": {},
   "outputs": [],
   "source": []
  },
  {
   "cell_type": "code",
   "execution_count": null,
   "id": "d8917a3e-4bb1-4695-84ec-28bfa8cd9190",
   "metadata": {},
   "outputs": [],
   "source": []
  },
  {
   "cell_type": "code",
   "execution_count": null,
   "id": "9541bfee-8f45-4b58-9a00-b7fc9aa05ff6",
   "metadata": {},
   "outputs": [],
   "source": []
  },
  {
   "cell_type": "code",
   "execution_count": null,
   "id": "3b8e8a2d",
   "metadata": {},
   "outputs": [],
   "source": []
  }
 ],
 "metadata": {
  "kernelspec": {
   "display_name": "Python 3",
   "language": "python",
   "name": "python3"
  },
  "language_info": {
   "codemirror_mode": {
    "name": "ipython",
    "version": 3
   },
   "file_extension": ".py",
   "mimetype": "text/x-python",
   "name": "python",
   "nbconvert_exporter": "python",
   "pygments_lexer": "ipython3",
   "version": "3.8.8"
  },
  "toc-showcode": false
 },
 "nbformat": 4,
 "nbformat_minor": 5
}
