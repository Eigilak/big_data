{
  "cells": [
    {
      "cell_type": "code",
      "execution_count": 4,
      "id": "950c6eca-2430-4fd5-ba23-abb2cad07144",
      "metadata": {
        "tags": [],
        "id": "950c6eca-2430-4fd5-ba23-abb2cad07144",
        "outputId": "89c5f8be-1d99-434d-8fe8-131b5e57a49a",
        "colab": {
          "base_uri": "https://localhost:8080/",
          "height": 17
        }
      },
      "outputs": [
        {
          "output_type": "display_data",
          "data": {
            "text/html": [
              "        <script type=\"text/javascript\">\n",
              "        window.PlotlyConfig = {MathJaxConfig: 'local'};\n",
              "        if (window.MathJax) {MathJax.Hub.Config({SVG: {font: \"STIX-Web\"}});}\n",
              "        if (typeof require !== 'undefined') {\n",
              "        require.undef(\"plotly\");\n",
              "        requirejs.config({\n",
              "            paths: {\n",
              "                'plotly': ['https://cdn.plot.ly/plotly-latest.min']\n",
              "            }\n",
              "        });\n",
              "        require(['plotly'], function(Plotly) {\n",
              "            window._Plotly = Plotly;\n",
              "        });\n",
              "        }\n",
              "        </script>\n",
              "        "
            ]
          },
          "metadata": {}
        }
      ],
      "source": [
        "#import all libraries\n",
        "import pandas as pd\n",
        "import numpy as np\n",
        "\n",
        "from sklearn.tree import DecisionTreeClassifier\n",
        "from sklearn.model_selection import train_test_split\n",
        "import plotly.express as px\n",
        "import plotly.graph_objects as go\n",
        "from plotly.subplots import make_subplots\n",
        "from plotly.offline import plot, iplot, init_notebook_mode\n",
        "import plotly.graph_objs as go\n",
        "init_notebook_mode(connected=True)\n",
        "import graphviz\n",
        "from sklearn.tree import export_graphviz\n",
        "import matplotlib.ticker as mtick # For specifying the axes tick format \n",
        "import matplotlib.pyplot as plt\n",
        "from sklearn import svm, datasets\n",
        "from sklearn.metrics import confusion_matrix\n",
        "from sklearn.metrics import classification_report\n",
        "from sklearn.preprocessing import MinMaxScaler\n",
        "import warnings\n",
        "warnings.filterwarnings('ignore')\n",
        "pd.options.display.max_columns = None\n",
        "\n",
        "from sklearn.ensemble import RandomForestClassifier\n",
        "from sklearn.model_selection import StratifiedKFold\n",
        "from sklearn.feature_selection import RFECV\n",
        "from sklearn.linear_model import LogisticRegression\n",
        "import seaborn as sns"
      ]
    },
    {
      "cell_type": "markdown",
      "id": "a01e561a-977a-465f-a520-090efa663139",
      "metadata": {
        "id": "a01e561a-977a-465f-a520-090efa663139"
      },
      "source": [
        "# Telco Churn predicition and find important features with Recursive feature elimination with cross-validation (RFECV)"
      ]
    },
    {
      "cell_type": "markdown",
      "id": "a0316fbe-6e03-487d-9583-d9fee66c7ae7",
      "metadata": {
        "id": "a0316fbe-6e03-487d-9583-d9fee66c7ae7"
      },
      "source": [
        "### Table of contents - virker ikke på github :("
      ]
    },
    {
      "cell_type": "markdown",
      "id": "3c4372f6-927c-410c-9f7e-cc4767fac613",
      "metadata": {
        "id": "3c4372f6-927c-410c-9f7e-cc4767fac613"
      },
      "source": [
        "[Data preperation](#Data-preperation)\n",
        "- [Make table mutable](#Make-features-mutable---from-different-val-to-yes-and-no)\n",
        "- [Pie Chart - churn ratio](#Pie-Chart---Churn-Ratio)\n",
        "- [Bar chart](#Bar-Chart---Churn-ratio)\n",
        "- [Heat map - correlation with feature and churn](#Heatmap---correlation-with-feature-and-churne)\n",
        "\n",
        "[Data modeling](#Modeling)\n",
        "- [Decision tree - Without Cross validation](#Decision-tree---without-Cross-validation)\n",
        "    - [Decision tree-accuracy - result](#Decision-tree-accuracy---result)\n",
        "    - [Feature importance - result](#decision-tree-feature-importance)\n",
        "    - [Confusion matrix - result](#decision-tree-confusion-matrix---result)\n",
        "    \n",
        "    \n",
        "- [Decision tree - With Cross-Validationn](#Decision-tree---Cross-Validation)\n",
        "    - [Accuracy-result](#Decision-three-with-cross-validation---Accuracy-result)\n",
        "    - [Feature importance - result](#Decision-three-with-cross-validation---Accuracy-result)\n",
        "    - [Confusion matrix - result](#decision-tree-cross---confusion-matrix)\n",
        "    \n",
        "    \n",
        "- [Random forrest - Without Cross-Validationn](#Random-forrest---without-cross-validation)\n",
        "    - [Accuracy-result](#rf-accuracy-result)\n",
        "    - [Feature importance - result](#rf---feature-importance---result)\n",
        "    - [Confusion matrix - result](#rf---confusion-matrix---result)\n",
        "    \n",
        "\n",
        "- [Random forrest - With Cross-Validationn](#Random-forest-with-cross-validation)\n",
        "    - [Accuracy-result](#rf-accuracy-cross-result )\n",
        "    - [Feature importance - result](#rf-feature-importance-cross---result)\n",
        "    - [Confusion matrix - result](#rf-cross---confusion-matrix---result)\n",
        "  "
      ]
    },
    {
      "cell_type": "markdown",
      "id": "d621dfad-e415-48e1-8078-2c7a07c47fb2",
      "metadata": {
        "tags": [],
        "id": "d621dfad-e415-48e1-8078-2c7a07c47fb2"
      },
      "source": [
        "## Data preperation"
      ]
    },
    {
      "cell_type": "code",
      "execution_count": 5,
      "id": "9444e910-d8bd-4d2e-8735-293a3cb8da01",
      "metadata": {
        "tags": [],
        "id": "9444e910-d8bd-4d2e-8735-293a3cb8da01"
      },
      "outputs": [],
      "source": [
        "#Retrieve the Dataset from the CSV file\n",
        "pre_df = pd.read_csv('Telco_Customer_Churn.csv')"
      ]
    },
    {
      "cell_type": "code",
      "execution_count": 6,
      "id": "a6d5b4ba-a93e-440f-abc0-53b4606d189c",
      "metadata": {
        "tags": [],
        "id": "a6d5b4ba-a93e-440f-abc0-53b4606d189c",
        "outputId": "9c701dbf-5763-4b78-f99e-6feb25838c85",
        "colab": {
          "base_uri": "https://localhost:8080/",
          "height": 357
        }
      },
      "outputs": [
        {
          "output_type": "execute_result",
          "data": {
            "text/html": [
              "\n",
              "  <div id=\"df-d7421605-e409-47b7-a1f1-9083210b12c0\">\n",
              "    <div class=\"colab-df-container\">\n",
              "      <div>\n",
              "<style scoped>\n",
              "    .dataframe tbody tr th:only-of-type {\n",
              "        vertical-align: middle;\n",
              "    }\n",
              "\n",
              "    .dataframe tbody tr th {\n",
              "        vertical-align: top;\n",
              "    }\n",
              "\n",
              "    .dataframe thead th {\n",
              "        text-align: right;\n",
              "    }\n",
              "</style>\n",
              "<table border=\"1\" class=\"dataframe\">\n",
              "  <thead>\n",
              "    <tr style=\"text-align: right;\">\n",
              "      <th></th>\n",
              "      <th>customerID</th>\n",
              "      <th>gender</th>\n",
              "      <th>SeniorCitizen</th>\n",
              "      <th>Partner</th>\n",
              "      <th>Dependents</th>\n",
              "      <th>tenure</th>\n",
              "      <th>PhoneService</th>\n",
              "      <th>MultipleLines</th>\n",
              "      <th>InternetService</th>\n",
              "      <th>OnlineSecurity</th>\n",
              "      <th>OnlineBackup</th>\n",
              "      <th>DeviceProtection</th>\n",
              "      <th>TechSupport</th>\n",
              "      <th>StreamingTV</th>\n",
              "      <th>StreamingMovies</th>\n",
              "      <th>Contract</th>\n",
              "      <th>PaperlessBilling</th>\n",
              "      <th>PaymentMethod</th>\n",
              "      <th>MonthlyCharges</th>\n",
              "      <th>TotalCharges</th>\n",
              "      <th>Churn</th>\n",
              "    </tr>\n",
              "  </thead>\n",
              "  <tbody>\n",
              "    <tr>\n",
              "      <th>0</th>\n",
              "      <td>7590-VHVEG</td>\n",
              "      <td>Female</td>\n",
              "      <td>0</td>\n",
              "      <td>Yes</td>\n",
              "      <td>No</td>\n",
              "      <td>1</td>\n",
              "      <td>No</td>\n",
              "      <td>No phone service</td>\n",
              "      <td>DSL</td>\n",
              "      <td>No</td>\n",
              "      <td>Yes</td>\n",
              "      <td>No</td>\n",
              "      <td>No</td>\n",
              "      <td>No</td>\n",
              "      <td>No</td>\n",
              "      <td>Month-to-month</td>\n",
              "      <td>Yes</td>\n",
              "      <td>Electronic check</td>\n",
              "      <td>29.85</td>\n",
              "      <td>29.85</td>\n",
              "      <td>No</td>\n",
              "    </tr>\n",
              "    <tr>\n",
              "      <th>1</th>\n",
              "      <td>5575-GNVDE</td>\n",
              "      <td>Male</td>\n",
              "      <td>0</td>\n",
              "      <td>No</td>\n",
              "      <td>No</td>\n",
              "      <td>34</td>\n",
              "      <td>Yes</td>\n",
              "      <td>No</td>\n",
              "      <td>DSL</td>\n",
              "      <td>Yes</td>\n",
              "      <td>No</td>\n",
              "      <td>Yes</td>\n",
              "      <td>No</td>\n",
              "      <td>No</td>\n",
              "      <td>No</td>\n",
              "      <td>One year</td>\n",
              "      <td>No</td>\n",
              "      <td>Mailed check</td>\n",
              "      <td>56.95</td>\n",
              "      <td>1889.5</td>\n",
              "      <td>No</td>\n",
              "    </tr>\n",
              "    <tr>\n",
              "      <th>2</th>\n",
              "      <td>3668-QPYBK</td>\n",
              "      <td>Male</td>\n",
              "      <td>0</td>\n",
              "      <td>No</td>\n",
              "      <td>No</td>\n",
              "      <td>2</td>\n",
              "      <td>Yes</td>\n",
              "      <td>No</td>\n",
              "      <td>DSL</td>\n",
              "      <td>Yes</td>\n",
              "      <td>Yes</td>\n",
              "      <td>No</td>\n",
              "      <td>No</td>\n",
              "      <td>No</td>\n",
              "      <td>No</td>\n",
              "      <td>Month-to-month</td>\n",
              "      <td>Yes</td>\n",
              "      <td>Mailed check</td>\n",
              "      <td>53.85</td>\n",
              "      <td>108.15</td>\n",
              "      <td>Yes</td>\n",
              "    </tr>\n",
              "    <tr>\n",
              "      <th>3</th>\n",
              "      <td>7795-CFOCW</td>\n",
              "      <td>Male</td>\n",
              "      <td>0</td>\n",
              "      <td>No</td>\n",
              "      <td>No</td>\n",
              "      <td>45</td>\n",
              "      <td>No</td>\n",
              "      <td>No phone service</td>\n",
              "      <td>DSL</td>\n",
              "      <td>Yes</td>\n",
              "      <td>No</td>\n",
              "      <td>Yes</td>\n",
              "      <td>Yes</td>\n",
              "      <td>No</td>\n",
              "      <td>No</td>\n",
              "      <td>One year</td>\n",
              "      <td>No</td>\n",
              "      <td>Bank transfer (automatic)</td>\n",
              "      <td>42.30</td>\n",
              "      <td>1840.75</td>\n",
              "      <td>No</td>\n",
              "    </tr>\n",
              "    <tr>\n",
              "      <th>4</th>\n",
              "      <td>9237-HQITU</td>\n",
              "      <td>Female</td>\n",
              "      <td>0</td>\n",
              "      <td>No</td>\n",
              "      <td>No</td>\n",
              "      <td>2</td>\n",
              "      <td>Yes</td>\n",
              "      <td>No</td>\n",
              "      <td>Fiber optic</td>\n",
              "      <td>No</td>\n",
              "      <td>No</td>\n",
              "      <td>No</td>\n",
              "      <td>No</td>\n",
              "      <td>No</td>\n",
              "      <td>No</td>\n",
              "      <td>Month-to-month</td>\n",
              "      <td>Yes</td>\n",
              "      <td>Electronic check</td>\n",
              "      <td>70.70</td>\n",
              "      <td>151.65</td>\n",
              "      <td>Yes</td>\n",
              "    </tr>\n",
              "  </tbody>\n",
              "</table>\n",
              "</div>\n",
              "      <button class=\"colab-df-convert\" onclick=\"convertToInteractive('df-d7421605-e409-47b7-a1f1-9083210b12c0')\"\n",
              "              title=\"Convert this dataframe to an interactive table.\"\n",
              "              style=\"display:none;\">\n",
              "        \n",
              "  <svg xmlns=\"http://www.w3.org/2000/svg\" height=\"24px\"viewBox=\"0 0 24 24\"\n",
              "       width=\"24px\">\n",
              "    <path d=\"M0 0h24v24H0V0z\" fill=\"none\"/>\n",
              "    <path d=\"M18.56 5.44l.94 2.06.94-2.06 2.06-.94-2.06-.94-.94-2.06-.94 2.06-2.06.94zm-11 1L8.5 8.5l.94-2.06 2.06-.94-2.06-.94L8.5 2.5l-.94 2.06-2.06.94zm10 10l.94 2.06.94-2.06 2.06-.94-2.06-.94-.94-2.06-.94 2.06-2.06.94z\"/><path d=\"M17.41 7.96l-1.37-1.37c-.4-.4-.92-.59-1.43-.59-.52 0-1.04.2-1.43.59L10.3 9.45l-7.72 7.72c-.78.78-.78 2.05 0 2.83L4 21.41c.39.39.9.59 1.41.59.51 0 1.02-.2 1.41-.59l7.78-7.78 2.81-2.81c.8-.78.8-2.07 0-2.86zM5.41 20L4 18.59l7.72-7.72 1.47 1.35L5.41 20z\"/>\n",
              "  </svg>\n",
              "      </button>\n",
              "      \n",
              "  <style>\n",
              "    .colab-df-container {\n",
              "      display:flex;\n",
              "      flex-wrap:wrap;\n",
              "      gap: 12px;\n",
              "    }\n",
              "\n",
              "    .colab-df-convert {\n",
              "      background-color: #E8F0FE;\n",
              "      border: none;\n",
              "      border-radius: 50%;\n",
              "      cursor: pointer;\n",
              "      display: none;\n",
              "      fill: #1967D2;\n",
              "      height: 32px;\n",
              "      padding: 0 0 0 0;\n",
              "      width: 32px;\n",
              "    }\n",
              "\n",
              "    .colab-df-convert:hover {\n",
              "      background-color: #E2EBFA;\n",
              "      box-shadow: 0px 1px 2px rgba(60, 64, 67, 0.3), 0px 1px 3px 1px rgba(60, 64, 67, 0.15);\n",
              "      fill: #174EA6;\n",
              "    }\n",
              "\n",
              "    [theme=dark] .colab-df-convert {\n",
              "      background-color: #3B4455;\n",
              "      fill: #D2E3FC;\n",
              "    }\n",
              "\n",
              "    [theme=dark] .colab-df-convert:hover {\n",
              "      background-color: #434B5C;\n",
              "      box-shadow: 0px 1px 3px 1px rgba(0, 0, 0, 0.15);\n",
              "      filter: drop-shadow(0px 1px 2px rgba(0, 0, 0, 0.3));\n",
              "      fill: #FFFFFF;\n",
              "    }\n",
              "  </style>\n",
              "\n",
              "      <script>\n",
              "        const buttonEl =\n",
              "          document.querySelector('#df-d7421605-e409-47b7-a1f1-9083210b12c0 button.colab-df-convert');\n",
              "        buttonEl.style.display =\n",
              "          google.colab.kernel.accessAllowed ? 'block' : 'none';\n",
              "\n",
              "        async function convertToInteractive(key) {\n",
              "          const element = document.querySelector('#df-d7421605-e409-47b7-a1f1-9083210b12c0');\n",
              "          const dataTable =\n",
              "            await google.colab.kernel.invokeFunction('convertToInteractive',\n",
              "                                                     [key], {});\n",
              "          if (!dataTable) return;\n",
              "\n",
              "          const docLinkHtml = 'Like what you see? Visit the ' +\n",
              "            '<a target=\"_blank\" href=https://colab.research.google.com/notebooks/data_table.ipynb>data table notebook</a>'\n",
              "            + ' to learn more about interactive tables.';\n",
              "          element.innerHTML = '';\n",
              "          dataTable['output_type'] = 'display_data';\n",
              "          await google.colab.output.renderOutput(dataTable, element);\n",
              "          const docLink = document.createElement('div');\n",
              "          docLink.innerHTML = docLinkHtml;\n",
              "          element.appendChild(docLink);\n",
              "        }\n",
              "      </script>\n",
              "    </div>\n",
              "  </div>\n",
              "  "
            ],
            "text/plain": [
              "   customerID  gender  SeniorCitizen Partner Dependents  tenure PhoneService  \\\n",
              "0  7590-VHVEG  Female              0     Yes         No       1           No   \n",
              "1  5575-GNVDE    Male              0      No         No      34          Yes   \n",
              "2  3668-QPYBK    Male              0      No         No       2          Yes   \n",
              "3  7795-CFOCW    Male              0      No         No      45           No   \n",
              "4  9237-HQITU  Female              0      No         No       2          Yes   \n",
              "\n",
              "      MultipleLines InternetService OnlineSecurity OnlineBackup  \\\n",
              "0  No phone service             DSL             No          Yes   \n",
              "1                No             DSL            Yes           No   \n",
              "2                No             DSL            Yes          Yes   \n",
              "3  No phone service             DSL            Yes           No   \n",
              "4                No     Fiber optic             No           No   \n",
              "\n",
              "  DeviceProtection TechSupport StreamingTV StreamingMovies        Contract  \\\n",
              "0               No          No          No              No  Month-to-month   \n",
              "1              Yes          No          No              No        One year   \n",
              "2               No          No          No              No  Month-to-month   \n",
              "3              Yes         Yes          No              No        One year   \n",
              "4               No          No          No              No  Month-to-month   \n",
              "\n",
              "  PaperlessBilling              PaymentMethod  MonthlyCharges TotalCharges  \\\n",
              "0              Yes           Electronic check           29.85        29.85   \n",
              "1               No               Mailed check           56.95       1889.5   \n",
              "2              Yes               Mailed check           53.85       108.15   \n",
              "3               No  Bank transfer (automatic)           42.30      1840.75   \n",
              "4              Yes           Electronic check           70.70       151.65   \n",
              "\n",
              "  Churn  \n",
              "0    No  \n",
              "1    No  \n",
              "2   Yes  \n",
              "3    No  \n",
              "4   Yes  "
            ]
          },
          "metadata": {},
          "execution_count": 6
        }
      ],
      "source": [
        "#Show the first ten rows of the dataset\n",
        "pre_df.head()"
      ]
    },
    {
      "cell_type": "code",
      "execution_count": 7,
      "id": "792ea73e-f810-41c3-b5c8-591e1c404039",
      "metadata": {
        "tags": [],
        "id": "792ea73e-f810-41c3-b5c8-591e1c404039",
        "outputId": "eeac0c40-e54d-4ff9-fcef-ab9db0c8b158",
        "colab": {
          "base_uri": "https://localhost:8080/"
        }
      },
      "outputs": [
        {
          "output_type": "execute_result",
          "data": {
            "text/plain": [
              "(7043, 21)"
            ]
          },
          "metadata": {},
          "execution_count": 7
        }
      ],
      "source": [
        "#Size of whole dataset\n",
        "pre_df.shape"
      ]
    },
    {
      "cell_type": "code",
      "execution_count": 8,
      "id": "d9f381ea-2959-4061-8524-672a4e30e5ce",
      "metadata": {
        "tags": [],
        "id": "d9f381ea-2959-4061-8524-672a4e30e5ce"
      },
      "outputs": [],
      "source": [
        "#Clean table in case of duplicates\n",
        "pre_df.drop_duplicates(inplace = True)"
      ]
    },
    {
      "cell_type": "code",
      "execution_count": 9,
      "id": "445931cf-ca6a-40bb-b86c-deac0a2d79bc",
      "metadata": {
        "tags": [],
        "id": "445931cf-ca6a-40bb-b86c-deac0a2d79bc",
        "outputId": "a5949bc7-83e3-4ec9-f8fe-31bbf7af02af",
        "colab": {
          "base_uri": "https://localhost:8080/"
        }
      },
      "outputs": [
        {
          "output_type": "execute_result",
          "data": {
            "text/plain": [
              "(7043, 21)"
            ]
          },
          "metadata": {},
          "execution_count": 9
        }
      ],
      "source": [
        "#Show none rows has been dropped\n",
        "pre_df.shape"
      ]
    },
    {
      "cell_type": "code",
      "execution_count": 10,
      "id": "4bd710c0-94bf-4189-adab-242b5495b950",
      "metadata": {
        "tags": [],
        "id": "4bd710c0-94bf-4189-adab-242b5495b950"
      },
      "outputs": [],
      "source": [
        "# Remove missing values\n",
        "pre_df.dropna(inplace = True)"
      ]
    },
    {
      "cell_type": "code",
      "execution_count": 11,
      "id": "11becc42-decf-4e62-b39c-1a5de636672c",
      "metadata": {
        "tags": [],
        "id": "11becc42-decf-4e62-b39c-1a5de636672c",
        "outputId": "382edcf7-2b13-4a20-f884-579b40ac4768",
        "colab": {
          "base_uri": "https://localhost:8080/"
        }
      },
      "outputs": [
        {
          "output_type": "execute_result",
          "data": {
            "text/plain": [
              "(7043, 21)"
            ]
          },
          "metadata": {},
          "execution_count": 11
        }
      ],
      "source": [
        "#Show none rows has been dropped\n",
        "pre_df.shape"
      ]
    },
    {
      "cell_type": "code",
      "execution_count": 12,
      "id": "65b6dd3c-665a-477f-b141-34c7fafabe18",
      "metadata": {
        "tags": [],
        "id": "65b6dd3c-665a-477f-b141-34c7fafabe18"
      },
      "outputs": [],
      "source": [
        "# remove customer ID, because it doesn't affect the reason question\n",
        "df = pre_df.iloc[:,1:]"
      ]
    },
    {
      "cell_type": "code",
      "execution_count": 13,
      "id": "de1b4846-0b85-41d9-9e42-52fa05d00b62",
      "metadata": {
        "tags": [],
        "id": "de1b4846-0b85-41d9-9e42-52fa05d00b62"
      },
      "outputs": [],
      "source": [
        "# Converting Total Charges to a numerical data type, so it is mutable \n",
        "df.TotalCharges = pd.to_numeric(df.TotalCharges, errors= 'coerce')"
      ]
    },
    {
      "cell_type": "code",
      "execution_count": 14,
      "id": "7f710a03-91aa-4b42-86ef-4a823155beed",
      "metadata": {
        "tags": [],
        "id": "7f710a03-91aa-4b42-86ef-4a823155beed",
        "outputId": "f092726a-74e0-40ef-983a-53c75a900bc9",
        "colab": {
          "base_uri": "https://localhost:8080/"
        }
      },
      "outputs": [
        {
          "output_type": "execute_result",
          "data": {
            "text/plain": [
              "gender               0\n",
              "SeniorCitizen        0\n",
              "Partner              0\n",
              "Dependents           0\n",
              "tenure               0\n",
              "PhoneService         0\n",
              "MultipleLines        0\n",
              "InternetService      0\n",
              "OnlineSecurity       0\n",
              "OnlineBackup         0\n",
              "DeviceProtection     0\n",
              "TechSupport          0\n",
              "StreamingTV          0\n",
              "StreamingMovies      0\n",
              "Contract             0\n",
              "PaperlessBilling     0\n",
              "PaymentMethod        0\n",
              "MonthlyCharges       0\n",
              "TotalCharges        11\n",
              "Churn                0\n",
              "dtype: int64"
            ]
          },
          "metadata": {},
          "execution_count": 14
        }
      ],
      "source": [
        "#How many of the cols have a null value\n",
        "df.isnull().sum()"
      ]
    },
    {
      "cell_type": "code",
      "execution_count": 15,
      "id": "7051593a-f58c-42e5-8d27-fa490388a0ab",
      "metadata": {
        "tags": [],
        "id": "7051593a-f58c-42e5-8d27-fa490388a0ab",
        "outputId": "fbca342e-b761-49c3-faa7-cc3fe1740c5a",
        "colab": {
          "base_uri": "https://localhost:8080/"
        }
      },
      "outputs": [
        {
          "output_type": "execute_result",
          "data": {
            "text/plain": [
              "(7043, 20)"
            ]
          },
          "metadata": {},
          "execution_count": 15
        }
      ],
      "source": [
        "# Show total amount of rows and cols\n",
        "df.shape"
      ]
    },
    {
      "cell_type": "code",
      "execution_count": 16,
      "id": "85400b2e-b7fd-4922-b358-790d107e545a",
      "metadata": {
        "tags": [],
        "id": "85400b2e-b7fd-4922-b358-790d107e545a",
        "outputId": "a7d78947-9fd0-467a-9d65-2fdac52312a5",
        "colab": {
          "base_uri": "https://localhost:8080/"
        }
      },
      "outputs": [
        {
          "output_type": "execute_result",
          "data": {
            "text/plain": [
              "(7032, 20)"
            ]
          },
          "metadata": {},
          "execution_count": 16
        }
      ],
      "source": [
        "#Drop rows where they haven't stayed for more than one month because of total charge is null\n",
        "df.drop(labels=df[df['tenure'] == 0].index, axis=0, inplace=True)\n",
        "df.shape"
      ]
    },
    {
      "cell_type": "code",
      "execution_count": 17,
      "id": "e7cf5cff-0708-40f0-8690-33dbe14e0734",
      "metadata": {
        "tags": [],
        "id": "e7cf5cff-0708-40f0-8690-33dbe14e0734",
        "outputId": "0be9592e-58f4-407f-9d6e-edacdcb04ceb",
        "colab": {
          "base_uri": "https://localhost:8080/"
        }
      },
      "outputs": [
        {
          "output_type": "execute_result",
          "data": {
            "text/plain": [
              "gender              0\n",
              "SeniorCitizen       0\n",
              "Partner             0\n",
              "Dependents          0\n",
              "tenure              0\n",
              "PhoneService        0\n",
              "MultipleLines       0\n",
              "InternetService     0\n",
              "OnlineSecurity      0\n",
              "OnlineBackup        0\n",
              "DeviceProtection    0\n",
              "TechSupport         0\n",
              "StreamingTV         0\n",
              "StreamingMovies     0\n",
              "Contract            0\n",
              "PaperlessBilling    0\n",
              "PaymentMethod       0\n",
              "MonthlyCharges      0\n",
              "TotalCharges        0\n",
              "Churn               0\n",
              "dtype: int64"
            ]
          },
          "metadata": {},
          "execution_count": 17
        }
      ],
      "source": [
        "# check if we have any nulls left\n",
        "df.isnull().sum()"
      ]
    },
    {
      "cell_type": "markdown",
      "id": "13c2453a-45ff-4096-8184-8a4ab68d4bfe",
      "metadata": {
        "tags": [],
        "id": "13c2453a-45ff-4096-8184-8a4ab68d4bfe"
      },
      "source": [
        "## Make features mutable - from different val to yes and no"
      ]
    },
    {
      "cell_type": "code",
      "execution_count": 18,
      "id": "ed0be8d7-8b94-45c9-a127-ff6eff44667f",
      "metadata": {
        "tags": [],
        "id": "ed0be8d7-8b94-45c9-a127-ff6eff44667f"
      },
      "outputs": [],
      "source": [
        "# Convert Multiple lines, Online Security, Online Backup, Device Protection, Tech support, Streaming Service, Streaming Movies, so it is mutable\n",
        "df['MultipleLines'] = df['MultipleLines'].replace(\"No phone service\", \"No\")\n",
        "df['OnlineSecurity'] = df['OnlineSecurity'].replace(\"No internet service\", \"No\")\n",
        "df['OnlineBackup'] = df['OnlineBackup'].replace(\"No internet service\", \"No\")\n",
        "df['DeviceProtection'] = df['DeviceProtection'].replace(\"No internet service\", \"No\")\n",
        "df['TechSupport'] = df['TechSupport'].replace(\"No internet service\", \"No\")\n",
        "df['StreamingTV'] = df['StreamingTV'].replace(\"No internet service\", \"No\")\n",
        "df['StreamingMovies'] = df['StreamingMovies'].replace(\"No internet service\", \"No\")\n",
        "\n",
        "#converting senior citizen into category\n",
        "df['SeniorCitizen'] = df['SeniorCitizen'].replace(1,\"Yes\")\n",
        "df['SeniorCitizen'] = df['SeniorCitizen'].replace(0,\"No\")\n",
        "df['TotalCharges'] = df['TotalCharges'].astype(float)"
      ]
    },
    {
      "cell_type": "code",
      "execution_count": 19,
      "id": "55971479-e73e-4b60-b2d7-a6bc46811a5a",
      "metadata": {
        "tags": [],
        "id": "55971479-e73e-4b60-b2d7-a6bc46811a5a",
        "outputId": "e6b1ba4e-a5cf-4e18-b17e-84a66c544aa5",
        "colab": {
          "base_uri": "https://localhost:8080/",
          "height": 0
        }
      },
      "outputs": [
        {
          "output_type": "execute_result",
          "data": {
            "text/html": [
              "\n",
              "  <div id=\"df-82d0a3aa-a7a6-474f-87c1-eebf4925a33a\">\n",
              "    <div class=\"colab-df-container\">\n",
              "      <div>\n",
              "<style scoped>\n",
              "    .dataframe tbody tr th:only-of-type {\n",
              "        vertical-align: middle;\n",
              "    }\n",
              "\n",
              "    .dataframe tbody tr th {\n",
              "        vertical-align: top;\n",
              "    }\n",
              "\n",
              "    .dataframe thead th {\n",
              "        text-align: right;\n",
              "    }\n",
              "</style>\n",
              "<table border=\"1\" class=\"dataframe\">\n",
              "  <thead>\n",
              "    <tr style=\"text-align: right;\">\n",
              "      <th></th>\n",
              "      <th>gender</th>\n",
              "      <th>SeniorCitizen</th>\n",
              "      <th>Partner</th>\n",
              "      <th>Dependents</th>\n",
              "      <th>tenure</th>\n",
              "      <th>PhoneService</th>\n",
              "      <th>MultipleLines</th>\n",
              "      <th>InternetService</th>\n",
              "      <th>OnlineSecurity</th>\n",
              "      <th>OnlineBackup</th>\n",
              "      <th>DeviceProtection</th>\n",
              "      <th>TechSupport</th>\n",
              "      <th>StreamingTV</th>\n",
              "      <th>StreamingMovies</th>\n",
              "      <th>Contract</th>\n",
              "      <th>PaperlessBilling</th>\n",
              "      <th>PaymentMethod</th>\n",
              "      <th>MonthlyCharges</th>\n",
              "      <th>TotalCharges</th>\n",
              "      <th>Churn</th>\n",
              "    </tr>\n",
              "  </thead>\n",
              "  <tbody>\n",
              "    <tr>\n",
              "      <th>0</th>\n",
              "      <td>Female</td>\n",
              "      <td>No</td>\n",
              "      <td>Yes</td>\n",
              "      <td>No</td>\n",
              "      <td>1</td>\n",
              "      <td>No</td>\n",
              "      <td>No</td>\n",
              "      <td>DSL</td>\n",
              "      <td>No</td>\n",
              "      <td>Yes</td>\n",
              "      <td>No</td>\n",
              "      <td>No</td>\n",
              "      <td>No</td>\n",
              "      <td>No</td>\n",
              "      <td>Month-to-month</td>\n",
              "      <td>Yes</td>\n",
              "      <td>Electronic check</td>\n",
              "      <td>29.85</td>\n",
              "      <td>29.85</td>\n",
              "      <td>No</td>\n",
              "    </tr>\n",
              "    <tr>\n",
              "      <th>1</th>\n",
              "      <td>Male</td>\n",
              "      <td>No</td>\n",
              "      <td>No</td>\n",
              "      <td>No</td>\n",
              "      <td>34</td>\n",
              "      <td>Yes</td>\n",
              "      <td>No</td>\n",
              "      <td>DSL</td>\n",
              "      <td>Yes</td>\n",
              "      <td>No</td>\n",
              "      <td>Yes</td>\n",
              "      <td>No</td>\n",
              "      <td>No</td>\n",
              "      <td>No</td>\n",
              "      <td>One year</td>\n",
              "      <td>No</td>\n",
              "      <td>Mailed check</td>\n",
              "      <td>56.95</td>\n",
              "      <td>1889.50</td>\n",
              "      <td>No</td>\n",
              "    </tr>\n",
              "    <tr>\n",
              "      <th>2</th>\n",
              "      <td>Male</td>\n",
              "      <td>No</td>\n",
              "      <td>No</td>\n",
              "      <td>No</td>\n",
              "      <td>2</td>\n",
              "      <td>Yes</td>\n",
              "      <td>No</td>\n",
              "      <td>DSL</td>\n",
              "      <td>Yes</td>\n",
              "      <td>Yes</td>\n",
              "      <td>No</td>\n",
              "      <td>No</td>\n",
              "      <td>No</td>\n",
              "      <td>No</td>\n",
              "      <td>Month-to-month</td>\n",
              "      <td>Yes</td>\n",
              "      <td>Mailed check</td>\n",
              "      <td>53.85</td>\n",
              "      <td>108.15</td>\n",
              "      <td>Yes</td>\n",
              "    </tr>\n",
              "    <tr>\n",
              "      <th>3</th>\n",
              "      <td>Male</td>\n",
              "      <td>No</td>\n",
              "      <td>No</td>\n",
              "      <td>No</td>\n",
              "      <td>45</td>\n",
              "      <td>No</td>\n",
              "      <td>No</td>\n",
              "      <td>DSL</td>\n",
              "      <td>Yes</td>\n",
              "      <td>No</td>\n",
              "      <td>Yes</td>\n",
              "      <td>Yes</td>\n",
              "      <td>No</td>\n",
              "      <td>No</td>\n",
              "      <td>One year</td>\n",
              "      <td>No</td>\n",
              "      <td>Bank transfer (automatic)</td>\n",
              "      <td>42.30</td>\n",
              "      <td>1840.75</td>\n",
              "      <td>No</td>\n",
              "    </tr>\n",
              "    <tr>\n",
              "      <th>4</th>\n",
              "      <td>Female</td>\n",
              "      <td>No</td>\n",
              "      <td>No</td>\n",
              "      <td>No</td>\n",
              "      <td>2</td>\n",
              "      <td>Yes</td>\n",
              "      <td>No</td>\n",
              "      <td>Fiber optic</td>\n",
              "      <td>No</td>\n",
              "      <td>No</td>\n",
              "      <td>No</td>\n",
              "      <td>No</td>\n",
              "      <td>No</td>\n",
              "      <td>No</td>\n",
              "      <td>Month-to-month</td>\n",
              "      <td>Yes</td>\n",
              "      <td>Electronic check</td>\n",
              "      <td>70.70</td>\n",
              "      <td>151.65</td>\n",
              "      <td>Yes</td>\n",
              "    </tr>\n",
              "  </tbody>\n",
              "</table>\n",
              "</div>\n",
              "      <button class=\"colab-df-convert\" onclick=\"convertToInteractive('df-82d0a3aa-a7a6-474f-87c1-eebf4925a33a')\"\n",
              "              title=\"Convert this dataframe to an interactive table.\"\n",
              "              style=\"display:none;\">\n",
              "        \n",
              "  <svg xmlns=\"http://www.w3.org/2000/svg\" height=\"24px\"viewBox=\"0 0 24 24\"\n",
              "       width=\"24px\">\n",
              "    <path d=\"M0 0h24v24H0V0z\" fill=\"none\"/>\n",
              "    <path d=\"M18.56 5.44l.94 2.06.94-2.06 2.06-.94-2.06-.94-.94-2.06-.94 2.06-2.06.94zm-11 1L8.5 8.5l.94-2.06 2.06-.94-2.06-.94L8.5 2.5l-.94 2.06-2.06.94zm10 10l.94 2.06.94-2.06 2.06-.94-2.06-.94-.94-2.06-.94 2.06-2.06.94z\"/><path d=\"M17.41 7.96l-1.37-1.37c-.4-.4-.92-.59-1.43-.59-.52 0-1.04.2-1.43.59L10.3 9.45l-7.72 7.72c-.78.78-.78 2.05 0 2.83L4 21.41c.39.39.9.59 1.41.59.51 0 1.02-.2 1.41-.59l7.78-7.78 2.81-2.81c.8-.78.8-2.07 0-2.86zM5.41 20L4 18.59l7.72-7.72 1.47 1.35L5.41 20z\"/>\n",
              "  </svg>\n",
              "      </button>\n",
              "      \n",
              "  <style>\n",
              "    .colab-df-container {\n",
              "      display:flex;\n",
              "      flex-wrap:wrap;\n",
              "      gap: 12px;\n",
              "    }\n",
              "\n",
              "    .colab-df-convert {\n",
              "      background-color: #E8F0FE;\n",
              "      border: none;\n",
              "      border-radius: 50%;\n",
              "      cursor: pointer;\n",
              "      display: none;\n",
              "      fill: #1967D2;\n",
              "      height: 32px;\n",
              "      padding: 0 0 0 0;\n",
              "      width: 32px;\n",
              "    }\n",
              "\n",
              "    .colab-df-convert:hover {\n",
              "      background-color: #E2EBFA;\n",
              "      box-shadow: 0px 1px 2px rgba(60, 64, 67, 0.3), 0px 1px 3px 1px rgba(60, 64, 67, 0.15);\n",
              "      fill: #174EA6;\n",
              "    }\n",
              "\n",
              "    [theme=dark] .colab-df-convert {\n",
              "      background-color: #3B4455;\n",
              "      fill: #D2E3FC;\n",
              "    }\n",
              "\n",
              "    [theme=dark] .colab-df-convert:hover {\n",
              "      background-color: #434B5C;\n",
              "      box-shadow: 0px 1px 3px 1px rgba(0, 0, 0, 0.15);\n",
              "      filter: drop-shadow(0px 1px 2px rgba(0, 0, 0, 0.3));\n",
              "      fill: #FFFFFF;\n",
              "    }\n",
              "  </style>\n",
              "\n",
              "      <script>\n",
              "        const buttonEl =\n",
              "          document.querySelector('#df-82d0a3aa-a7a6-474f-87c1-eebf4925a33a button.colab-df-convert');\n",
              "        buttonEl.style.display =\n",
              "          google.colab.kernel.accessAllowed ? 'block' : 'none';\n",
              "\n",
              "        async function convertToInteractive(key) {\n",
              "          const element = document.querySelector('#df-82d0a3aa-a7a6-474f-87c1-eebf4925a33a');\n",
              "          const dataTable =\n",
              "            await google.colab.kernel.invokeFunction('convertToInteractive',\n",
              "                                                     [key], {});\n",
              "          if (!dataTable) return;\n",
              "\n",
              "          const docLinkHtml = 'Like what you see? Visit the ' +\n",
              "            '<a target=\"_blank\" href=https://colab.research.google.com/notebooks/data_table.ipynb>data table notebook</a>'\n",
              "            + ' to learn more about interactive tables.';\n",
              "          element.innerHTML = '';\n",
              "          dataTable['output_type'] = 'display_data';\n",
              "          await google.colab.output.renderOutput(dataTable, element);\n",
              "          const docLink = document.createElement('div');\n",
              "          docLink.innerHTML = docLinkHtml;\n",
              "          element.appendChild(docLink);\n",
              "        }\n",
              "      </script>\n",
              "    </div>\n",
              "  </div>\n",
              "  "
            ],
            "text/plain": [
              "   gender SeniorCitizen Partner Dependents  tenure PhoneService MultipleLines  \\\n",
              "0  Female            No     Yes         No       1           No            No   \n",
              "1    Male            No      No         No      34          Yes            No   \n",
              "2    Male            No      No         No       2          Yes            No   \n",
              "3    Male            No      No         No      45           No            No   \n",
              "4  Female            No      No         No       2          Yes            No   \n",
              "\n",
              "  InternetService OnlineSecurity OnlineBackup DeviceProtection TechSupport  \\\n",
              "0             DSL             No          Yes               No          No   \n",
              "1             DSL            Yes           No              Yes          No   \n",
              "2             DSL            Yes          Yes               No          No   \n",
              "3             DSL            Yes           No              Yes         Yes   \n",
              "4     Fiber optic             No           No               No          No   \n",
              "\n",
              "  StreamingTV StreamingMovies        Contract PaperlessBilling  \\\n",
              "0          No              No  Month-to-month              Yes   \n",
              "1          No              No        One year               No   \n",
              "2          No              No  Month-to-month              Yes   \n",
              "3          No              No        One year               No   \n",
              "4          No              No  Month-to-month              Yes   \n",
              "\n",
              "               PaymentMethod  MonthlyCharges  TotalCharges Churn  \n",
              "0           Electronic check           29.85         29.85    No  \n",
              "1               Mailed check           56.95       1889.50    No  \n",
              "2               Mailed check           53.85        108.15   Yes  \n",
              "3  Bank transfer (automatic)           42.30       1840.75    No  \n",
              "4           Electronic check           70.70        151.65   Yes  "
            ]
          },
          "metadata": {},
          "execution_count": 19
        }
      ],
      "source": [
        "#Show the conversion\n",
        "df.head()"
      ]
    },
    {
      "cell_type": "markdown",
      "id": "676983e4-29fd-4d03-9b4d-9c94b6ede7bf",
      "metadata": {
        "tags": [],
        "id": "676983e4-29fd-4d03-9b4d-9c94b6ede7bf"
      },
      "source": [
        "### Pie Chart - Churn Ratio"
      ]
    },
    {
      "cell_type": "code",
      "execution_count": 20,
      "id": "36282680-543e-474a-9ba0-1ff021a1ba68",
      "metadata": {
        "tags": [],
        "id": "36282680-543e-474a-9ba0-1ff021a1ba68",
        "outputId": "cc030f08-ff19-46b9-a813-0d9490591304",
        "colab": {
          "base_uri": "https://localhost:8080/",
          "height": 0
        }
      },
      "outputs": [
        {
          "output_type": "display_data",
          "data": {
            "text/html": [
              "<div>\n",
              "        \n",
              "        \n",
              "            <div id=\"53cb7057-9506-4d99-b87e-fca21928d166\" class=\"plotly-graph-div\" style=\"height:525px; width:100%;\"></div>\n",
              "            <script type=\"text/javascript\">\n",
              "                require([\"plotly\"], function(Plotly) {\n",
              "                    window.PLOTLYENV=window.PLOTLYENV || {};\n",
              "                    \n",
              "                if (document.getElementById(\"53cb7057-9506-4d99-b87e-fca21928d166\")) {\n",
              "                    Plotly.newPlot(\n",
              "                        '53cb7057-9506-4d99-b87e-fca21928d166',\n",
              "                        [{\"hole\": 0.4, \"hoverinfo\": \"label+percent+name\", \"labels\": [\"No\", \"Yes\"], \"name\": \"Churn\", \"textfont\": {\"size\": 16}, \"type\": \"pie\", \"values\": [5163, 1869]}],\n",
              "                        {\"template\": {\"data\": {\"bar\": [{\"error_x\": {\"color\": \"#2a3f5f\"}, \"error_y\": {\"color\": \"#2a3f5f\"}, \"marker\": {\"line\": {\"color\": \"#E5ECF6\", \"width\": 0.5}}, \"type\": \"bar\"}], \"barpolar\": [{\"marker\": {\"line\": {\"color\": \"#E5ECF6\", \"width\": 0.5}}, \"type\": \"barpolar\"}], \"carpet\": [{\"aaxis\": {\"endlinecolor\": \"#2a3f5f\", \"gridcolor\": \"white\", \"linecolor\": \"white\", \"minorgridcolor\": \"white\", \"startlinecolor\": \"#2a3f5f\"}, \"baxis\": {\"endlinecolor\": \"#2a3f5f\", \"gridcolor\": \"white\", \"linecolor\": \"white\", \"minorgridcolor\": \"white\", \"startlinecolor\": \"#2a3f5f\"}, \"type\": \"carpet\"}], \"choropleth\": [{\"colorbar\": {\"outlinewidth\": 0, \"ticks\": \"\"}, \"type\": \"choropleth\"}], \"contour\": [{\"colorbar\": {\"outlinewidth\": 0, \"ticks\": \"\"}, \"colorscale\": [[0.0, \"#0d0887\"], [0.1111111111111111, \"#46039f\"], [0.2222222222222222, \"#7201a8\"], [0.3333333333333333, \"#9c179e\"], [0.4444444444444444, \"#bd3786\"], [0.5555555555555556, \"#d8576b\"], [0.6666666666666666, \"#ed7953\"], [0.7777777777777778, \"#fb9f3a\"], [0.8888888888888888, \"#fdca26\"], [1.0, \"#f0f921\"]], \"type\": \"contour\"}], \"contourcarpet\": [{\"colorbar\": {\"outlinewidth\": 0, \"ticks\": \"\"}, \"type\": \"contourcarpet\"}], \"heatmap\": [{\"colorbar\": {\"outlinewidth\": 0, \"ticks\": \"\"}, \"colorscale\": [[0.0, \"#0d0887\"], [0.1111111111111111, \"#46039f\"], [0.2222222222222222, \"#7201a8\"], [0.3333333333333333, \"#9c179e\"], [0.4444444444444444, \"#bd3786\"], [0.5555555555555556, \"#d8576b\"], [0.6666666666666666, \"#ed7953\"], [0.7777777777777778, \"#fb9f3a\"], [0.8888888888888888, \"#fdca26\"], [1.0, \"#f0f921\"]], \"type\": \"heatmap\"}], \"heatmapgl\": [{\"colorbar\": {\"outlinewidth\": 0, \"ticks\": \"\"}, \"colorscale\": [[0.0, \"#0d0887\"], [0.1111111111111111, \"#46039f\"], [0.2222222222222222, \"#7201a8\"], [0.3333333333333333, \"#9c179e\"], [0.4444444444444444, \"#bd3786\"], [0.5555555555555556, \"#d8576b\"], [0.6666666666666666, \"#ed7953\"], [0.7777777777777778, \"#fb9f3a\"], [0.8888888888888888, \"#fdca26\"], [1.0, \"#f0f921\"]], \"type\": \"heatmapgl\"}], \"histogram\": [{\"marker\": {\"colorbar\": {\"outlinewidth\": 0, \"ticks\": \"\"}}, \"type\": \"histogram\"}], \"histogram2d\": [{\"colorbar\": {\"outlinewidth\": 0, \"ticks\": \"\"}, \"colorscale\": [[0.0, \"#0d0887\"], [0.1111111111111111, \"#46039f\"], [0.2222222222222222, \"#7201a8\"], [0.3333333333333333, \"#9c179e\"], [0.4444444444444444, \"#bd3786\"], [0.5555555555555556, \"#d8576b\"], [0.6666666666666666, \"#ed7953\"], [0.7777777777777778, \"#fb9f3a\"], [0.8888888888888888, \"#fdca26\"], [1.0, \"#f0f921\"]], \"type\": \"histogram2d\"}], \"histogram2dcontour\": [{\"colorbar\": {\"outlinewidth\": 0, \"ticks\": \"\"}, \"colorscale\": [[0.0, \"#0d0887\"], [0.1111111111111111, \"#46039f\"], [0.2222222222222222, \"#7201a8\"], [0.3333333333333333, \"#9c179e\"], [0.4444444444444444, \"#bd3786\"], [0.5555555555555556, \"#d8576b\"], [0.6666666666666666, \"#ed7953\"], [0.7777777777777778, \"#fb9f3a\"], [0.8888888888888888, \"#fdca26\"], [1.0, \"#f0f921\"]], \"type\": \"histogram2dcontour\"}], \"mesh3d\": [{\"colorbar\": {\"outlinewidth\": 0, \"ticks\": \"\"}, \"type\": \"mesh3d\"}], \"parcoords\": [{\"line\": {\"colorbar\": {\"outlinewidth\": 0, \"ticks\": \"\"}}, \"type\": \"parcoords\"}], \"pie\": [{\"automargin\": true, \"type\": \"pie\"}], \"scatter\": [{\"marker\": {\"colorbar\": {\"outlinewidth\": 0, \"ticks\": \"\"}}, \"type\": \"scatter\"}], \"scatter3d\": [{\"line\": {\"colorbar\": {\"outlinewidth\": 0, \"ticks\": \"\"}}, \"marker\": {\"colorbar\": {\"outlinewidth\": 0, \"ticks\": \"\"}}, \"type\": \"scatter3d\"}], \"scattercarpet\": [{\"marker\": {\"colorbar\": {\"outlinewidth\": 0, \"ticks\": \"\"}}, \"type\": \"scattercarpet\"}], \"scattergeo\": [{\"marker\": {\"colorbar\": {\"outlinewidth\": 0, \"ticks\": \"\"}}, \"type\": \"scattergeo\"}], \"scattergl\": [{\"marker\": {\"colorbar\": {\"outlinewidth\": 0, \"ticks\": \"\"}}, \"type\": \"scattergl\"}], \"scattermapbox\": [{\"marker\": {\"colorbar\": {\"outlinewidth\": 0, \"ticks\": \"\"}}, \"type\": \"scattermapbox\"}], \"scatterpolar\": [{\"marker\": {\"colorbar\": {\"outlinewidth\": 0, \"ticks\": \"\"}}, \"type\": \"scatterpolar\"}], \"scatterpolargl\": [{\"marker\": {\"colorbar\": {\"outlinewidth\": 0, \"ticks\": \"\"}}, \"type\": \"scatterpolargl\"}], \"scatterternary\": [{\"marker\": {\"colorbar\": {\"outlinewidth\": 0, \"ticks\": \"\"}}, \"type\": \"scatterternary\"}], \"surface\": [{\"colorbar\": {\"outlinewidth\": 0, \"ticks\": \"\"}, \"colorscale\": [[0.0, \"#0d0887\"], [0.1111111111111111, \"#46039f\"], [0.2222222222222222, \"#7201a8\"], [0.3333333333333333, \"#9c179e\"], [0.4444444444444444, \"#bd3786\"], [0.5555555555555556, \"#d8576b\"], [0.6666666666666666, \"#ed7953\"], [0.7777777777777778, \"#fb9f3a\"], [0.8888888888888888, \"#fdca26\"], [1.0, \"#f0f921\"]], \"type\": \"surface\"}], \"table\": [{\"cells\": {\"fill\": {\"color\": \"#EBF0F8\"}, \"line\": {\"color\": \"white\"}}, \"header\": {\"fill\": {\"color\": \"#C8D4E3\"}, \"line\": {\"color\": \"white\"}}, \"type\": \"table\"}]}, \"layout\": {\"annotationdefaults\": {\"arrowcolor\": \"#2a3f5f\", \"arrowhead\": 0, \"arrowwidth\": 1}, \"coloraxis\": {\"colorbar\": {\"outlinewidth\": 0, \"ticks\": \"\"}}, \"colorscale\": {\"diverging\": [[0, \"#8e0152\"], [0.1, \"#c51b7d\"], [0.2, \"#de77ae\"], [0.3, \"#f1b6da\"], [0.4, \"#fde0ef\"], [0.5, \"#f7f7f7\"], [0.6, \"#e6f5d0\"], [0.7, \"#b8e186\"], [0.8, \"#7fbc41\"], [0.9, \"#4d9221\"], [1, \"#276419\"]], \"sequential\": [[0.0, \"#0d0887\"], [0.1111111111111111, \"#46039f\"], [0.2222222222222222, \"#7201a8\"], [0.3333333333333333, \"#9c179e\"], [0.4444444444444444, \"#bd3786\"], [0.5555555555555556, \"#d8576b\"], [0.6666666666666666, \"#ed7953\"], [0.7777777777777778, \"#fb9f3a\"], [0.8888888888888888, \"#fdca26\"], [1.0, \"#f0f921\"]], \"sequentialminus\": [[0.0, \"#0d0887\"], [0.1111111111111111, \"#46039f\"], [0.2222222222222222, \"#7201a8\"], [0.3333333333333333, \"#9c179e\"], [0.4444444444444444, \"#bd3786\"], [0.5555555555555556, \"#d8576b\"], [0.6666666666666666, \"#ed7953\"], [0.7777777777777778, \"#fb9f3a\"], [0.8888888888888888, \"#fdca26\"], [1.0, \"#f0f921\"]]}, \"colorway\": [\"#636efa\", \"#EF553B\", \"#00cc96\", \"#ab63fa\", \"#FFA15A\", \"#19d3f3\", \"#FF6692\", \"#B6E880\", \"#FF97FF\", \"#FECB52\"], \"font\": {\"color\": \"#2a3f5f\"}, \"geo\": {\"bgcolor\": \"white\", \"lakecolor\": \"white\", \"landcolor\": \"#E5ECF6\", \"showlakes\": true, \"showland\": true, \"subunitcolor\": \"white\"}, \"hoverlabel\": {\"align\": \"left\"}, \"hovermode\": \"closest\", \"mapbox\": {\"style\": \"light\"}, \"paper_bgcolor\": \"white\", \"plot_bgcolor\": \"#E5ECF6\", \"polar\": {\"angularaxis\": {\"gridcolor\": \"white\", \"linecolor\": \"white\", \"ticks\": \"\"}, \"bgcolor\": \"#E5ECF6\", \"radialaxis\": {\"gridcolor\": \"white\", \"linecolor\": \"white\", \"ticks\": \"\"}}, \"scene\": {\"xaxis\": {\"backgroundcolor\": \"#E5ECF6\", \"gridcolor\": \"white\", \"gridwidth\": 2, \"linecolor\": \"white\", \"showbackground\": true, \"ticks\": \"\", \"zerolinecolor\": \"white\"}, \"yaxis\": {\"backgroundcolor\": \"#E5ECF6\", \"gridcolor\": \"white\", \"gridwidth\": 2, \"linecolor\": \"white\", \"showbackground\": true, \"ticks\": \"\", \"zerolinecolor\": \"white\"}, \"zaxis\": {\"backgroundcolor\": \"#E5ECF6\", \"gridcolor\": \"white\", \"gridwidth\": 2, \"linecolor\": \"white\", \"showbackground\": true, \"ticks\": \"\", \"zerolinecolor\": \"white\"}}, \"shapedefaults\": {\"line\": {\"color\": \"#2a3f5f\"}}, \"ternary\": {\"aaxis\": {\"gridcolor\": \"white\", \"linecolor\": \"white\", \"ticks\": \"\"}, \"baxis\": {\"gridcolor\": \"white\", \"linecolor\": \"white\", \"ticks\": \"\"}, \"bgcolor\": \"#E5ECF6\", \"caxis\": {\"gridcolor\": \"white\", \"linecolor\": \"white\", \"ticks\": \"\"}}, \"title\": {\"x\": 0.05}, \"xaxis\": {\"automargin\": true, \"gridcolor\": \"white\", \"linecolor\": \"white\", \"ticks\": \"\", \"title\": {\"standoff\": 15}, \"zerolinecolor\": \"white\", \"zerolinewidth\": 2}, \"yaxis\": {\"automargin\": true, \"gridcolor\": \"white\", \"linecolor\": \"white\", \"ticks\": \"\", \"title\": {\"standoff\": 15}, \"zerolinecolor\": \"white\", \"zerolinewidth\": 2}}}, \"title\": {\"text\": \"Churn Distributions\"}},\n",
              "                        {\"responsive\": true}\n",
              "                    ).then(function(){\n",
              "                            \n",
              "var gd = document.getElementById('53cb7057-9506-4d99-b87e-fca21928d166');\n",
              "var x = new MutationObserver(function (mutations, observer) {{\n",
              "        var display = window.getComputedStyle(gd).display;\n",
              "        if (!display || display === 'none') {{\n",
              "            console.log([gd, 'removed!']);\n",
              "            Plotly.purge(gd);\n",
              "            observer.disconnect();\n",
              "        }}\n",
              "}});\n",
              "\n",
              "// Listen for the removal of the full notebook cells\n",
              "var notebookContainer = gd.closest('#notebook-container');\n",
              "if (notebookContainer) {{\n",
              "    x.observe(notebookContainer, {childList: true});\n",
              "}}\n",
              "\n",
              "// Listen for the clearing of the current output cell\n",
              "var outputEl = gd.closest('.output');\n",
              "if (outputEl) {{\n",
              "    x.observe(outputEl, {childList: true});\n",
              "}}\n",
              "\n",
              "                        })\n",
              "                };\n",
              "                });\n",
              "            </script>\n",
              "        </div>"
            ],
            "application/vnd.plotly.v1+json": {
              "data": [
                {
                  "textfont": {
                    "size": 16
                  },
                  "name": "Churn",
                  "labels": [
                    "No",
                    "Yes"
                  ],
                  "values": [
                    5163,
                    1869
                  ],
                  "hoverinfo": "label+percent+name",
                  "hole": 0.4,
                  "type": "pie"
                }
              ],
              "config": {
                "plotlyServerURL": "https://plot.ly"
              },
              "layout": {
                "template": {
                  "layout": {
                    "shapedefaults": {
                      "line": {
                        "color": "#2a3f5f"
                      }
                    },
                    "polar": {
                      "radialaxis": {
                        "ticks": "",
                        "gridcolor": "white",
                        "linecolor": "white"
                      },
                      "bgcolor": "#E5ECF6",
                      "angularaxis": {
                        "ticks": "",
                        "gridcolor": "white",
                        "linecolor": "white"
                      }
                    },
                    "colorway": [
                      "#636efa",
                      "#EF553B",
                      "#00cc96",
                      "#ab63fa",
                      "#FFA15A",
                      "#19d3f3",
                      "#FF6692",
                      "#B6E880",
                      "#FF97FF",
                      "#FECB52"
                    ],
                    "xaxis": {
                      "automargin": true,
                      "title": {
                        "standoff": 15
                      },
                      "zerolinewidth": 2,
                      "ticks": "",
                      "zerolinecolor": "white",
                      "gridcolor": "white",
                      "linecolor": "white"
                    },
                    "colorscale": {
                      "diverging": [
                        [
                          0,
                          "#8e0152"
                        ],
                        [
                          0.1,
                          "#c51b7d"
                        ],
                        [
                          0.2,
                          "#de77ae"
                        ],
                        [
                          0.3,
                          "#f1b6da"
                        ],
                        [
                          0.4,
                          "#fde0ef"
                        ],
                        [
                          0.5,
                          "#f7f7f7"
                        ],
                        [
                          0.6,
                          "#e6f5d0"
                        ],
                        [
                          0.7,
                          "#b8e186"
                        ],
                        [
                          0.8,
                          "#7fbc41"
                        ],
                        [
                          0.9,
                          "#4d9221"
                        ],
                        [
                          1,
                          "#276419"
                        ]
                      ],
                      "sequential": [
                        [
                          0,
                          "#0d0887"
                        ],
                        [
                          0.1111111111111111,
                          "#46039f"
                        ],
                        [
                          0.2222222222222222,
                          "#7201a8"
                        ],
                        [
                          0.3333333333333333,
                          "#9c179e"
                        ],
                        [
                          0.4444444444444444,
                          "#bd3786"
                        ],
                        [
                          0.5555555555555556,
                          "#d8576b"
                        ],
                        [
                          0.6666666666666666,
                          "#ed7953"
                        ],
                        [
                          0.7777777777777778,
                          "#fb9f3a"
                        ],
                        [
                          0.8888888888888888,
                          "#fdca26"
                        ],
                        [
                          1,
                          "#f0f921"
                        ]
                      ],
                      "sequentialminus": [
                        [
                          0,
                          "#0d0887"
                        ],
                        [
                          0.1111111111111111,
                          "#46039f"
                        ],
                        [
                          0.2222222222222222,
                          "#7201a8"
                        ],
                        [
                          0.3333333333333333,
                          "#9c179e"
                        ],
                        [
                          0.4444444444444444,
                          "#bd3786"
                        ],
                        [
                          0.5555555555555556,
                          "#d8576b"
                        ],
                        [
                          0.6666666666666666,
                          "#ed7953"
                        ],
                        [
                          0.7777777777777778,
                          "#fb9f3a"
                        ],
                        [
                          0.8888888888888888,
                          "#fdca26"
                        ],
                        [
                          1,
                          "#f0f921"
                        ]
                      ]
                    },
                    "paper_bgcolor": "white",
                    "plot_bgcolor": "#E5ECF6",
                    "title": {
                      "x": 0.05
                    },
                    "scene": {
                      "zaxis": {
                        "backgroundcolor": "#E5ECF6",
                        "ticks": "",
                        "gridwidth": 2,
                        "showbackground": true,
                        "zerolinecolor": "white",
                        "gridcolor": "white",
                        "linecolor": "white"
                      },
                      "xaxis": {
                        "backgroundcolor": "#E5ECF6",
                        "ticks": "",
                        "gridwidth": 2,
                        "showbackground": true,
                        "zerolinecolor": "white",
                        "gridcolor": "white",
                        "linecolor": "white"
                      },
                      "yaxis": {
                        "backgroundcolor": "#E5ECF6",
                        "ticks": "",
                        "gridwidth": 2,
                        "showbackground": true,
                        "zerolinecolor": "white",
                        "gridcolor": "white",
                        "linecolor": "white"
                      }
                    },
                    "yaxis": {
                      "automargin": true,
                      "title": {
                        "standoff": 15
                      },
                      "zerolinewidth": 2,
                      "ticks": "",
                      "zerolinecolor": "white",
                      "gridcolor": "white",
                      "linecolor": "white"
                    },
                    "annotationdefaults": {
                      "arrowwidth": 1,
                      "arrowhead": 0,
                      "arrowcolor": "#2a3f5f"
                    },
                    "hoverlabel": {
                      "align": "left"
                    },
                    "ternary": {
                      "bgcolor": "#E5ECF6",
                      "baxis": {
                        "ticks": "",
                        "gridcolor": "white",
                        "linecolor": "white"
                      },
                      "caxis": {
                        "ticks": "",
                        "gridcolor": "white",
                        "linecolor": "white"
                      },
                      "aaxis": {
                        "ticks": "",
                        "gridcolor": "white",
                        "linecolor": "white"
                      }
                    },
                    "mapbox": {
                      "style": "light"
                    },
                    "hovermode": "closest",
                    "font": {
                      "color": "#2a3f5f"
                    },
                    "geo": {
                      "showland": true,
                      "landcolor": "#E5ECF6",
                      "showlakes": true,
                      "bgcolor": "white",
                      "subunitcolor": "white",
                      "lakecolor": "white"
                    },
                    "coloraxis": {
                      "colorbar": {
                        "outlinewidth": 0,
                        "ticks": ""
                      }
                    }
                  },
                  "data": {
                    "mesh3d": [
                      {
                        "colorbar": {
                          "outlinewidth": 0,
                          "ticks": ""
                        },
                        "type": "mesh3d"
                      }
                    ],
                    "scattercarpet": [
                      {
                        "marker": {
                          "colorbar": {
                            "outlinewidth": 0,
                            "ticks": ""
                          }
                        },
                        "type": "scattercarpet"
                      }
                    ],
                    "pie": [
                      {
                        "automargin": true,
                        "type": "pie"
                      }
                    ],
                    "surface": [
                      {
                        "colorbar": {
                          "outlinewidth": 0,
                          "ticks": ""
                        },
                        "type": "surface",
                        "colorscale": [
                          [
                            0,
                            "#0d0887"
                          ],
                          [
                            0.1111111111111111,
                            "#46039f"
                          ],
                          [
                            0.2222222222222222,
                            "#7201a8"
                          ],
                          [
                            0.3333333333333333,
                            "#9c179e"
                          ],
                          [
                            0.4444444444444444,
                            "#bd3786"
                          ],
                          [
                            0.5555555555555556,
                            "#d8576b"
                          ],
                          [
                            0.6666666666666666,
                            "#ed7953"
                          ],
                          [
                            0.7777777777777778,
                            "#fb9f3a"
                          ],
                          [
                            0.8888888888888888,
                            "#fdca26"
                          ],
                          [
                            1,
                            "#f0f921"
                          ]
                        ]
                      }
                    ],
                    "table": [
                      {
                        "header": {
                          "line": {
                            "color": "white"
                          },
                          "fill": {
                            "color": "#C8D4E3"
                          }
                        },
                        "cells": {
                          "line": {
                            "color": "white"
                          },
                          "fill": {
                            "color": "#EBF0F8"
                          }
                        },
                        "type": "table"
                      }
                    ],
                    "scatterpolargl": [
                      {
                        "marker": {
                          "colorbar": {
                            "outlinewidth": 0,
                            "ticks": ""
                          }
                        },
                        "type": "scatterpolargl"
                      }
                    ],
                    "contour": [
                      {
                        "colorbar": {
                          "outlinewidth": 0,
                          "ticks": ""
                        },
                        "type": "contour",
                        "colorscale": [
                          [
                            0,
                            "#0d0887"
                          ],
                          [
                            0.1111111111111111,
                            "#46039f"
                          ],
                          [
                            0.2222222222222222,
                            "#7201a8"
                          ],
                          [
                            0.3333333333333333,
                            "#9c179e"
                          ],
                          [
                            0.4444444444444444,
                            "#bd3786"
                          ],
                          [
                            0.5555555555555556,
                            "#d8576b"
                          ],
                          [
                            0.6666666666666666,
                            "#ed7953"
                          ],
                          [
                            0.7777777777777778,
                            "#fb9f3a"
                          ],
                          [
                            0.8888888888888888,
                            "#fdca26"
                          ],
                          [
                            1,
                            "#f0f921"
                          ]
                        ]
                      }
                    ],
                    "carpet": [
                      {
                        "type": "carpet",
                        "baxis": {
                          "minorgridcolor": "white",
                          "gridcolor": "white",
                          "linecolor": "white",
                          "endlinecolor": "#2a3f5f",
                          "startlinecolor": "#2a3f5f"
                        },
                        "aaxis": {
                          "minorgridcolor": "white",
                          "gridcolor": "white",
                          "linecolor": "white",
                          "endlinecolor": "#2a3f5f",
                          "startlinecolor": "#2a3f5f"
                        }
                      }
                    ],
                    "contourcarpet": [
                      {
                        "colorbar": {
                          "outlinewidth": 0,
                          "ticks": ""
                        },
                        "type": "contourcarpet"
                      }
                    ],
                    "heatmap": [
                      {
                        "colorbar": {
                          "outlinewidth": 0,
                          "ticks": ""
                        },
                        "type": "heatmap",
                        "colorscale": [
                          [
                            0,
                            "#0d0887"
                          ],
                          [
                            0.1111111111111111,
                            "#46039f"
                          ],
                          [
                            0.2222222222222222,
                            "#7201a8"
                          ],
                          [
                            0.3333333333333333,
                            "#9c179e"
                          ],
                          [
                            0.4444444444444444,
                            "#bd3786"
                          ],
                          [
                            0.5555555555555556,
                            "#d8576b"
                          ],
                          [
                            0.6666666666666666,
                            "#ed7953"
                          ],
                          [
                            0.7777777777777778,
                            "#fb9f3a"
                          ],
                          [
                            0.8888888888888888,
                            "#fdca26"
                          ],
                          [
                            1,
                            "#f0f921"
                          ]
                        ]
                      }
                    ],
                    "scattermapbox": [
                      {
                        "marker": {
                          "colorbar": {
                            "outlinewidth": 0,
                            "ticks": ""
                          }
                        },
                        "type": "scattermapbox"
                      }
                    ],
                    "scatter3d": [
                      {
                        "marker": {
                          "colorbar": {
                            "outlinewidth": 0,
                            "ticks": ""
                          }
                        },
                        "line": {
                          "colorbar": {
                            "outlinewidth": 0,
                            "ticks": ""
                          }
                        },
                        "type": "scatter3d"
                      }
                    ],
                    "scattergl": [
                      {
                        "marker": {
                          "colorbar": {
                            "outlinewidth": 0,
                            "ticks": ""
                          }
                        },
                        "type": "scattergl"
                      }
                    ],
                    "scatterternary": [
                      {
                        "marker": {
                          "colorbar": {
                            "outlinewidth": 0,
                            "ticks": ""
                          }
                        },
                        "type": "scatterternary"
                      }
                    ],
                    "histogram": [
                      {
                        "marker": {
                          "colorbar": {
                            "outlinewidth": 0,
                            "ticks": ""
                          }
                        },
                        "type": "histogram"
                      }
                    ],
                    "heatmapgl": [
                      {
                        "colorbar": {
                          "outlinewidth": 0,
                          "ticks": ""
                        },
                        "type": "heatmapgl",
                        "colorscale": [
                          [
                            0,
                            "#0d0887"
                          ],
                          [
                            0.1111111111111111,
                            "#46039f"
                          ],
                          [
                            0.2222222222222222,
                            "#7201a8"
                          ],
                          [
                            0.3333333333333333,
                            "#9c179e"
                          ],
                          [
                            0.4444444444444444,
                            "#bd3786"
                          ],
                          [
                            0.5555555555555556,
                            "#d8576b"
                          ],
                          [
                            0.6666666666666666,
                            "#ed7953"
                          ],
                          [
                            0.7777777777777778,
                            "#fb9f3a"
                          ],
                          [
                            0.8888888888888888,
                            "#fdca26"
                          ],
                          [
                            1,
                            "#f0f921"
                          ]
                        ]
                      }
                    ],
                    "scatterpolar": [
                      {
                        "marker": {
                          "colorbar": {
                            "outlinewidth": 0,
                            "ticks": ""
                          }
                        },
                        "type": "scatterpolar"
                      }
                    ],
                    "histogram2d": [
                      {
                        "colorbar": {
                          "outlinewidth": 0,
                          "ticks": ""
                        },
                        "type": "histogram2d",
                        "colorscale": [
                          [
                            0,
                            "#0d0887"
                          ],
                          [
                            0.1111111111111111,
                            "#46039f"
                          ],
                          [
                            0.2222222222222222,
                            "#7201a8"
                          ],
                          [
                            0.3333333333333333,
                            "#9c179e"
                          ],
                          [
                            0.4444444444444444,
                            "#bd3786"
                          ],
                          [
                            0.5555555555555556,
                            "#d8576b"
                          ],
                          [
                            0.6666666666666666,
                            "#ed7953"
                          ],
                          [
                            0.7777777777777778,
                            "#fb9f3a"
                          ],
                          [
                            0.8888888888888888,
                            "#fdca26"
                          ],
                          [
                            1,
                            "#f0f921"
                          ]
                        ]
                      }
                    ],
                    "scattergeo": [
                      {
                        "marker": {
                          "colorbar": {
                            "outlinewidth": 0,
                            "ticks": ""
                          }
                        },
                        "type": "scattergeo"
                      }
                    ],
                    "bar": [
                      {
                        "marker": {
                          "line": {
                            "color": "#E5ECF6",
                            "width": 0.5
                          }
                        },
                        "type": "bar",
                        "error_x": {
                          "color": "#2a3f5f"
                        },
                        "error_y": {
                          "color": "#2a3f5f"
                        }
                      }
                    ],
                    "choropleth": [
                      {
                        "colorbar": {
                          "outlinewidth": 0,
                          "ticks": ""
                        },
                        "type": "choropleth"
                      }
                    ],
                    "parcoords": [
                      {
                        "line": {
                          "colorbar": {
                            "outlinewidth": 0,
                            "ticks": ""
                          }
                        },
                        "type": "parcoords"
                      }
                    ],
                    "barpolar": [
                      {
                        "marker": {
                          "line": {
                            "color": "#E5ECF6",
                            "width": 0.5
                          }
                        },
                        "type": "barpolar"
                      }
                    ],
                    "histogram2dcontour": [
                      {
                        "colorbar": {
                          "outlinewidth": 0,
                          "ticks": ""
                        },
                        "type": "histogram2dcontour",
                        "colorscale": [
                          [
                            0,
                            "#0d0887"
                          ],
                          [
                            0.1111111111111111,
                            "#46039f"
                          ],
                          [
                            0.2222222222222222,
                            "#7201a8"
                          ],
                          [
                            0.3333333333333333,
                            "#9c179e"
                          ],
                          [
                            0.4444444444444444,
                            "#bd3786"
                          ],
                          [
                            0.5555555555555556,
                            "#d8576b"
                          ],
                          [
                            0.6666666666666666,
                            "#ed7953"
                          ],
                          [
                            0.7777777777777778,
                            "#fb9f3a"
                          ],
                          [
                            0.8888888888888888,
                            "#fdca26"
                          ],
                          [
                            1,
                            "#f0f921"
                          ]
                        ]
                      }
                    ],
                    "scatter": [
                      {
                        "marker": {
                          "colorbar": {
                            "outlinewidth": 0,
                            "ticks": ""
                          }
                        },
                        "type": "scatter"
                      }
                    ]
                  }
                },
                "title": {
                  "text": "Churn Distributions"
                }
              }
            }
          },
          "metadata": {}
        }
      ],
      "source": [
        "#Which labels should be shown\n",
        "c_labels = ['No', 'Yes']\n",
        "\n",
        "# Create subplots: use 'domain' type for Pie subplot\n",
        "fig = make_subplots(rows=1, cols=2, specs=[[{'type':'domain'}, {'type':'domain'}]])\n",
        "fig.add_trace(\n",
        "    go.Pie(\n",
        "        labels=c_labels,\n",
        "        values=df['Churn'].value_counts(),\n",
        "        name=\"Churn\"\n",
        "    )\n",
        ")\n",
        "\n",
        "# Use `hole` to create a donut-like pie chart\n",
        "fig.update_traces(\n",
        "    hole=.4,\n",
        "    hoverinfo=\"label+percent+name\",\n",
        "    textfont_size=16\n",
        ")\n",
        "\n",
        "fig.update_layout(\n",
        "    title_text=\"Churn Distributions\"\n",
        "    # Add annotations in the center of the donut pies.\n",
        ")\n",
        "fig.show()"
      ]
    },
    {
      "cell_type": "markdown",
      "id": "b95ff955-bc16-4e2e-a774-2e27b834bf48",
      "metadata": {
        "tags": [],
        "id": "b95ff955-bc16-4e2e-a774-2e27b834bf48"
      },
      "source": [
        "### Bar Chart - Churn ratio"
      ]
    },
    {
      "cell_type": "code",
      "execution_count": 21,
      "id": "f5b67c8b-ba95-412e-9f9c-c6e3685ddb5b",
      "metadata": {
        "tags": [],
        "id": "f5b67c8b-ba95-412e-9f9c-c6e3685ddb5b",
        "outputId": "2c4e8d0f-d35b-47e2-9ed2-d34967fb9aee",
        "colab": {
          "base_uri": "https://localhost:8080/",
          "height": 0
        }
      },
      "outputs": [
        {
          "output_type": "stream",
          "name": "stdout",
          "text": [
            "Churn\n",
            "No     5163\n",
            "Yes    1869\n",
            "dtype: int64\n"
          ]
        },
        {
          "output_type": "display_data",
          "data": {
            "image/png": "[encoded data removed]",
            "text/plain": [
              "<Figure size 432x288 with 1 Axes>"
            ]
          },
          "metadata": {
            "needs_background": "light"
          }
        }
      ],
      "source": [
        "## make barchart\n",
        "print(df.groupby(['Churn']).size())\n",
        "churn_plot = sns.countplot(data=df, x='Churn', order=df.Churn.value_counts().index)\n",
        "plt.ylabel('Count')\n",
        "for p in churn_plot.patches:\n",
        "    height = p.get_height()\n",
        "    churn_plot.text(p.get_x()+p.get_width()/2., height + 1,'{0:.0%}'.format(height/float(len(df))),ha=\"center\") \n",
        "plt.show()"
      ]
    },
    {
      "cell_type": "code",
      "execution_count": 22,
      "id": "7745066f-cb7d-41c0-955d-304e683137ad",
      "metadata": {
        "tags": [],
        "id": "7745066f-cb7d-41c0-955d-304e683137ad"
      },
      "outputs": [],
      "source": [
        "#Convertin the predictor variable ( yes and no ) in a binary numeric variable \n",
        "df['Churn'].replace(to_replace='Yes', value=1, inplace=True)\n",
        "df['Churn'].replace(to_replace='No',  value=0, inplace=True)"
      ]
    },
    {
      "cell_type": "markdown",
      "id": "05a328f4-6240-4adf-8f8d-3226693647ba",
      "metadata": {
        "tags": [],
        "id": "05a328f4-6240-4adf-8f8d-3226693647ba"
      },
      "source": [
        "## Heatmap - correlation with feature and churn"
      ]
    },
    {
      "cell_type": "code",
      "execution_count": 23,
      "id": "44d125b2-f2c1-4382-b042-3652e4c66d77",
      "metadata": {
        "tags": [],
        "id": "44d125b2-f2c1-4382-b042-3652e4c66d77",
        "outputId": "be9210eb-f825-4234-8c30-9c13b5d66c68",
        "colab": {
          "base_uri": "https://localhost:8080/",
          "height": 0
        }
      },
      "outputs": [
        {
          "output_type": "display_data",
          "data": {
            "image/png": "[encoded data removed]",
            "text/plain": [
              "<Figure size 2160x864 with 2 Axes>"
            ]
          },
          "metadata": {
            "needs_background": "light"
          }
        }
      ],
      "source": [
        "# Create a heat map to illustrate the correlation between feature and Churn\n",
        "\n",
        "#make figure\n",
        "plt.figure(\n",
        "    figsize=(30, 12)\n",
        ")\n",
        "\n",
        "# Make the corelation \n",
        "corr = df.apply(lambda x: pd.factorize(x)[0]).corr()\n",
        "\n",
        "# Create heatmap\n",
        "ax = sns.heatmap(corr, xticklabels=corr.columns, yticklabels=corr.columns, \n",
        "                 linewidths=.2, cmap=\"YlGnBu\", annot = True)"
      ]
    },
    {
      "cell_type": "code",
      "execution_count": 24,
      "id": "db900573-c0c4-4efe-b164-6ddacafad1c8",
      "metadata": {
        "tags": [],
        "id": "db900573-c0c4-4efe-b164-6ddacafad1c8"
      },
      "outputs": [],
      "source": [
        "# Remove the two features which doesnt have a correlation to churn\n",
        "df_new = df.drop(columns=['gender','PhoneService'])"
      ]
    },
    {
      "cell_type": "code",
      "execution_count": 25,
      "id": "adf1ab3a-94ba-484b-98ae-f0b2cdce9707",
      "metadata": {
        "tags": [],
        "id": "adf1ab3a-94ba-484b-98ae-f0b2cdce9707",
        "outputId": "08a81bba-b2e8-40da-b23a-4ddd4361326f",
        "colab": {
          "base_uri": "https://localhost:8080/"
        }
      },
      "outputs": [
        {
          "output_type": "execute_result",
          "data": {
            "text/plain": [
              "(7032, 18)"
            ]
          },
          "metadata": {},
          "execution_count": 25
        }
      ],
      "source": [
        "#Get rows and columns count\n",
        "df_new.shape"
      ]
    },
    {
      "cell_type": "markdown",
      "id": "84bb39cf-fd62-4b85-99aa-52a4381129ba",
      "metadata": {
        "tags": [],
        "id": "84bb39cf-fd62-4b85-99aa-52a4381129ba"
      },
      "source": [
        "# Modeling"
      ]
    },
    {
      "cell_type": "markdown",
      "id": "6a2eff1f-11dc-475c-aaf1-cd09c99796dd",
      "metadata": {
        "tags": [],
        "id": "6a2eff1f-11dc-475c-aaf1-cd09c99796dd"
      },
      "source": [
        "### Premodeling"
      ]
    },
    {
      "cell_type": "code",
      "execution_count": 26,
      "id": "c6cc2831-8d93-4372-a50d-ae286d60f970",
      "metadata": {
        "tags": [],
        "id": "c6cc2831-8d93-4372-a50d-ae286d60f970"
      },
      "outputs": [],
      "source": [
        "# Remove churn for training\n",
        "Features = df_new.columns.drop('Churn')"
      ]
    },
    {
      "cell_type": "code",
      "execution_count": 27,
      "id": "6f39875a-332c-4377-a0e6-a281e8eea453",
      "metadata": {
        "tags": [],
        "id": "6f39875a-332c-4377-a0e6-a281e8eea453"
      },
      "outputs": [],
      "source": [
        "# Prepare split for the training data and the test data\n",
        "X = df_new[Features]\n",
        "y = df_new['Churn']"
      ]
    },
    {
      "cell_type": "markdown",
      "id": "807088e2-cce2-46b8-9007-969941ca7c5d",
      "metadata": {
        "tags": [],
        "id": "807088e2-cce2-46b8-9007-969941ca7c5d"
      },
      "source": [
        "Use get_dummies to add the additional features, 'Type of Sale', and 'Type'. You still want to include m2 and 'Build Year'. Note that get_dummies will only create dummy features for nominal values -- it will ignore numerical features like m2 and 'Build Year'. List the dummy features that were created for the feature 'Type'."
      ]
    },
    {
      "cell_type": "code",
      "execution_count": 28,
      "id": "6da7731e-90f9-4c30-a0e2-177c503afbad",
      "metadata": {
        "tags": [],
        "id": "6da7731e-90f9-4c30-a0e2-177c503afbad",
        "outputId": "7d9d8698-1d4a-4098-caa1-24fc26238eee",
        "colab": {
          "base_uri": "https://localhost:8080/",
          "height": 0
        }
      },
      "outputs": [
        {
          "output_type": "execute_result",
          "data": {
            "text/html": [
              "\n",
              "  <div id=\"df-05e2fb50-9a9c-4756-986f-30c7e2945732\">\n",
              "    <div class=\"colab-df-container\">\n",
              "      <div>\n",
              "<style scoped>\n",
              "    .dataframe tbody tr th:only-of-type {\n",
              "        vertical-align: middle;\n",
              "    }\n",
              "\n",
              "    .dataframe tbody tr th {\n",
              "        vertical-align: top;\n",
              "    }\n",
              "\n",
              "    .dataframe thead th {\n",
              "        text-align: right;\n",
              "    }\n",
              "</style>\n",
              "<table border=\"1\" class=\"dataframe\">\n",
              "  <thead>\n",
              "    <tr style=\"text-align: right;\">\n",
              "      <th></th>\n",
              "      <th>tenure</th>\n",
              "      <th>MonthlyCharges</th>\n",
              "      <th>TotalCharges</th>\n",
              "      <th>SeniorCitizen_No</th>\n",
              "      <th>SeniorCitizen_Yes</th>\n",
              "      <th>Partner_No</th>\n",
              "      <th>Partner_Yes</th>\n",
              "      <th>Dependents_No</th>\n",
              "      <th>Dependents_Yes</th>\n",
              "      <th>MultipleLines_No</th>\n",
              "      <th>MultipleLines_Yes</th>\n",
              "      <th>InternetService_DSL</th>\n",
              "      <th>InternetService_Fiber optic</th>\n",
              "      <th>InternetService_No</th>\n",
              "      <th>OnlineSecurity_No</th>\n",
              "      <th>OnlineSecurity_Yes</th>\n",
              "      <th>OnlineBackup_No</th>\n",
              "      <th>OnlineBackup_Yes</th>\n",
              "      <th>DeviceProtection_No</th>\n",
              "      <th>DeviceProtection_Yes</th>\n",
              "      <th>TechSupport_No</th>\n",
              "      <th>TechSupport_Yes</th>\n",
              "      <th>StreamingTV_No</th>\n",
              "      <th>StreamingTV_Yes</th>\n",
              "      <th>StreamingMovies_No</th>\n",
              "      <th>StreamingMovies_Yes</th>\n",
              "      <th>Contract_Month-to-month</th>\n",
              "      <th>Contract_One year</th>\n",
              "      <th>Contract_Two year</th>\n",
              "      <th>PaperlessBilling_No</th>\n",
              "      <th>PaperlessBilling_Yes</th>\n",
              "      <th>PaymentMethod_Bank transfer (automatic)</th>\n",
              "      <th>PaymentMethod_Credit card (automatic)</th>\n",
              "      <th>PaymentMethod_Electronic check</th>\n",
              "      <th>PaymentMethod_Mailed check</th>\n",
              "    </tr>\n",
              "  </thead>\n",
              "  <tbody>\n",
              "    <tr>\n",
              "      <th>0</th>\n",
              "      <td>1</td>\n",
              "      <td>29.85</td>\n",
              "      <td>29.85</td>\n",
              "      <td>1</td>\n",
              "      <td>0</td>\n",
              "      <td>0</td>\n",
              "      <td>1</td>\n",
              "      <td>1</td>\n",
              "      <td>0</td>\n",
              "      <td>1</td>\n",
              "      <td>0</td>\n",
              "      <td>1</td>\n",
              "      <td>0</td>\n",
              "      <td>0</td>\n",
              "      <td>1</td>\n",
              "      <td>0</td>\n",
              "      <td>0</td>\n",
              "      <td>1</td>\n",
              "      <td>1</td>\n",
              "      <td>0</td>\n",
              "      <td>1</td>\n",
              "      <td>0</td>\n",
              "      <td>1</td>\n",
              "      <td>0</td>\n",
              "      <td>1</td>\n",
              "      <td>0</td>\n",
              "      <td>1</td>\n",
              "      <td>0</td>\n",
              "      <td>0</td>\n",
              "      <td>0</td>\n",
              "      <td>1</td>\n",
              "      <td>0</td>\n",
              "      <td>0</td>\n",
              "      <td>1</td>\n",
              "      <td>0</td>\n",
              "    </tr>\n",
              "    <tr>\n",
              "      <th>1</th>\n",
              "      <td>34</td>\n",
              "      <td>56.95</td>\n",
              "      <td>1889.50</td>\n",
              "      <td>1</td>\n",
              "      <td>0</td>\n",
              "      <td>1</td>\n",
              "      <td>0</td>\n",
              "      <td>1</td>\n",
              "      <td>0</td>\n",
              "      <td>1</td>\n",
              "      <td>0</td>\n",
              "      <td>1</td>\n",
              "      <td>0</td>\n",
              "      <td>0</td>\n",
              "      <td>0</td>\n",
              "      <td>1</td>\n",
              "      <td>1</td>\n",
              "      <td>0</td>\n",
              "      <td>0</td>\n",
              "      <td>1</td>\n",
              "      <td>1</td>\n",
              "      <td>0</td>\n",
              "      <td>1</td>\n",
              "      <td>0</td>\n",
              "      <td>1</td>\n",
              "      <td>0</td>\n",
              "      <td>0</td>\n",
              "      <td>1</td>\n",
              "      <td>0</td>\n",
              "      <td>1</td>\n",
              "      <td>0</td>\n",
              "      <td>0</td>\n",
              "      <td>0</td>\n",
              "      <td>0</td>\n",
              "      <td>1</td>\n",
              "    </tr>\n",
              "    <tr>\n",
              "      <th>2</th>\n",
              "      <td>2</td>\n",
              "      <td>53.85</td>\n",
              "      <td>108.15</td>\n",
              "      <td>1</td>\n",
              "      <td>0</td>\n",
              "      <td>1</td>\n",
              "      <td>0</td>\n",
              "      <td>1</td>\n",
              "      <td>0</td>\n",
              "      <td>1</td>\n",
              "      <td>0</td>\n",
              "      <td>1</td>\n",
              "      <td>0</td>\n",
              "      <td>0</td>\n",
              "      <td>0</td>\n",
              "      <td>1</td>\n",
              "      <td>0</td>\n",
              "      <td>1</td>\n",
              "      <td>1</td>\n",
              "      <td>0</td>\n",
              "      <td>1</td>\n",
              "      <td>0</td>\n",
              "      <td>1</td>\n",
              "      <td>0</td>\n",
              "      <td>1</td>\n",
              "      <td>0</td>\n",
              "      <td>1</td>\n",
              "      <td>0</td>\n",
              "      <td>0</td>\n",
              "      <td>0</td>\n",
              "      <td>1</td>\n",
              "      <td>0</td>\n",
              "      <td>0</td>\n",
              "      <td>0</td>\n",
              "      <td>1</td>\n",
              "    </tr>\n",
              "    <tr>\n",
              "      <th>3</th>\n",
              "      <td>45</td>\n",
              "      <td>42.30</td>\n",
              "      <td>1840.75</td>\n",
              "      <td>1</td>\n",
              "      <td>0</td>\n",
              "      <td>1</td>\n",
              "      <td>0</td>\n",
              "      <td>1</td>\n",
              "      <td>0</td>\n",
              "      <td>1</td>\n",
              "      <td>0</td>\n",
              "      <td>1</td>\n",
              "      <td>0</td>\n",
              "      <td>0</td>\n",
              "      <td>0</td>\n",
              "      <td>1</td>\n",
              "      <td>1</td>\n",
              "      <td>0</td>\n",
              "      <td>0</td>\n",
              "      <td>1</td>\n",
              "      <td>0</td>\n",
              "      <td>1</td>\n",
              "      <td>1</td>\n",
              "      <td>0</td>\n",
              "      <td>1</td>\n",
              "      <td>0</td>\n",
              "      <td>0</td>\n",
              "      <td>1</td>\n",
              "      <td>0</td>\n",
              "      <td>1</td>\n",
              "      <td>0</td>\n",
              "      <td>1</td>\n",
              "      <td>0</td>\n",
              "      <td>0</td>\n",
              "      <td>0</td>\n",
              "    </tr>\n",
              "    <tr>\n",
              "      <th>4</th>\n",
              "      <td>2</td>\n",
              "      <td>70.70</td>\n",
              "      <td>151.65</td>\n",
              "      <td>1</td>\n",
              "      <td>0</td>\n",
              "      <td>1</td>\n",
              "      <td>0</td>\n",
              "      <td>1</td>\n",
              "      <td>0</td>\n",
              "      <td>1</td>\n",
              "      <td>0</td>\n",
              "      <td>0</td>\n",
              "      <td>1</td>\n",
              "      <td>0</td>\n",
              "      <td>1</td>\n",
              "      <td>0</td>\n",
              "      <td>1</td>\n",
              "      <td>0</td>\n",
              "      <td>1</td>\n",
              "      <td>0</td>\n",
              "      <td>1</td>\n",
              "      <td>0</td>\n",
              "      <td>1</td>\n",
              "      <td>0</td>\n",
              "      <td>1</td>\n",
              "      <td>0</td>\n",
              "      <td>1</td>\n",
              "      <td>0</td>\n",
              "      <td>0</td>\n",
              "      <td>0</td>\n",
              "      <td>1</td>\n",
              "      <td>0</td>\n",
              "      <td>0</td>\n",
              "      <td>1</td>\n",
              "      <td>0</td>\n",
              "    </tr>\n",
              "  </tbody>\n",
              "</table>\n",
              "</div>\n",
              "      <button class=\"colab-df-convert\" onclick=\"convertToInteractive('df-05e2fb50-9a9c-4756-986f-30c7e2945732')\"\n",
              "              title=\"Convert this dataframe to an interactive table.\"\n",
              "              style=\"display:none;\">\n",
              "        \n",
              "  <svg xmlns=\"http://www.w3.org/2000/svg\" height=\"24px\"viewBox=\"0 0 24 24\"\n",
              "       width=\"24px\">\n",
              "    <path d=\"M0 0h24v24H0V0z\" fill=\"none\"/>\n",
              "    <path d=\"M18.56 5.44l.94 2.06.94-2.06 2.06-.94-2.06-.94-.94-2.06-.94 2.06-2.06.94zm-11 1L8.5 8.5l.94-2.06 2.06-.94-2.06-.94L8.5 2.5l-.94 2.06-2.06.94zm10 10l.94 2.06.94-2.06 2.06-.94-2.06-.94-.94-2.06-.94 2.06-2.06.94z\"/><path d=\"M17.41 7.96l-1.37-1.37c-.4-.4-.92-.59-1.43-.59-.52 0-1.04.2-1.43.59L10.3 9.45l-7.72 7.72c-.78.78-.78 2.05 0 2.83L4 21.41c.39.39.9.59 1.41.59.51 0 1.02-.2 1.41-.59l7.78-7.78 2.81-2.81c.8-.78.8-2.07 0-2.86zM5.41 20L4 18.59l7.72-7.72 1.47 1.35L5.41 20z\"/>\n",
              "  </svg>\n",
              "      </button>\n",
              "      \n",
              "  <style>\n",
              "    .colab-df-container {\n",
              "      display:flex;\n",
              "      flex-wrap:wrap;\n",
              "      gap: 12px;\n",
              "    }\n",
              "\n",
              "    .colab-df-convert {\n",
              "      background-color: #E8F0FE;\n",
              "      border: none;\n",
              "      border-radius: 50%;\n",
              "      cursor: pointer;\n",
              "      display: none;\n",
              "      fill: #1967D2;\n",
              "      height: 32px;\n",
              "      padding: 0 0 0 0;\n",
              "      width: 32px;\n",
              "    }\n",
              "\n",
              "    .colab-df-convert:hover {\n",
              "      background-color: #E2EBFA;\n",
              "      box-shadow: 0px 1px 2px rgba(60, 64, 67, 0.3), 0px 1px 3px 1px rgba(60, 64, 67, 0.15);\n",
              "      fill: #174EA6;\n",
              "    }\n",
              "\n",
              "    [theme=dark] .colab-df-convert {\n",
              "      background-color: #3B4455;\n",
              "      fill: #D2E3FC;\n",
              "    }\n",
              "\n",
              "    [theme=dark] .colab-df-convert:hover {\n",
              "      background-color: #434B5C;\n",
              "      box-shadow: 0px 1px 3px 1px rgba(0, 0, 0, 0.15);\n",
              "      filter: drop-shadow(0px 1px 2px rgba(0, 0, 0, 0.3));\n",
              "      fill: #FFFFFF;\n",
              "    }\n",
              "  </style>\n",
              "\n",
              "      <script>\n",
              "        const buttonEl =\n",
              "          document.querySelector('#df-05e2fb50-9a9c-4756-986f-30c7e2945732 button.colab-df-convert');\n",
              "        buttonEl.style.display =\n",
              "          google.colab.kernel.accessAllowed ? 'block' : 'none';\n",
              "\n",
              "        async function convertToInteractive(key) {\n",
              "          const element = document.querySelector('#df-05e2fb50-9a9c-4756-986f-30c7e2945732');\n",
              "          const dataTable =\n",
              "            await google.colab.kernel.invokeFunction('convertToInteractive',\n",
              "                                                     [key], {});\n",
              "          if (!dataTable) return;\n",
              "\n",
              "          const docLinkHtml = 'Like what you see? Visit the ' +\n",
              "            '<a target=\"_blank\" href=https://colab.research.google.com/notebooks/data_table.ipynb>data table notebook</a>'\n",
              "            + ' to learn more about interactive tables.';\n",
              "          element.innerHTML = '';\n",
              "          dataTable['output_type'] = 'display_data';\n",
              "          await google.colab.output.renderOutput(dataTable, element);\n",
              "          const docLink = document.createElement('div');\n",
              "          docLink.innerHTML = docLinkHtml;\n",
              "          element.appendChild(docLink);\n",
              "        }\n",
              "      </script>\n",
              "    </div>\n",
              "  </div>\n",
              "  "
            ],
            "text/plain": [
              "   tenure  MonthlyCharges  TotalCharges  SeniorCitizen_No  SeniorCitizen_Yes  \\\n",
              "0       1           29.85         29.85                 1                  0   \n",
              "1      34           56.95       1889.50                 1                  0   \n",
              "2       2           53.85        108.15                 1                  0   \n",
              "3      45           42.30       1840.75                 1                  0   \n",
              "4       2           70.70        151.65                 1                  0   \n",
              "\n",
              "   Partner_No  Partner_Yes  Dependents_No  Dependents_Yes  MultipleLines_No  \\\n",
              "0           0            1              1               0                 1   \n",
              "1           1            0              1               0                 1   \n",
              "2           1            0              1               0                 1   \n",
              "3           1            0              1               0                 1   \n",
              "4           1            0              1               0                 1   \n",
              "\n",
              "   MultipleLines_Yes  InternetService_DSL  InternetService_Fiber optic  \\\n",
              "0                  0                    1                            0   \n",
              "1                  0                    1                            0   \n",
              "2                  0                    1                            0   \n",
              "3                  0                    1                            0   \n",
              "4                  0                    0                            1   \n",
              "\n",
              "   InternetService_No  OnlineSecurity_No  OnlineSecurity_Yes  OnlineBackup_No  \\\n",
              "0                   0                  1                   0                0   \n",
              "1                   0                  0                   1                1   \n",
              "2                   0                  0                   1                0   \n",
              "3                   0                  0                   1                1   \n",
              "4                   0                  1                   0                1   \n",
              "\n",
              "   OnlineBackup_Yes  DeviceProtection_No  DeviceProtection_Yes  \\\n",
              "0                 1                    1                     0   \n",
              "1                 0                    0                     1   \n",
              "2                 1                    1                     0   \n",
              "3                 0                    0                     1   \n",
              "4                 0                    1                     0   \n",
              "\n",
              "   TechSupport_No  TechSupport_Yes  StreamingTV_No  StreamingTV_Yes  \\\n",
              "0               1                0               1                0   \n",
              "1               1                0               1                0   \n",
              "2               1                0               1                0   \n",
              "3               0                1               1                0   \n",
              "4               1                0               1                0   \n",
              "\n",
              "   StreamingMovies_No  StreamingMovies_Yes  Contract_Month-to-month  \\\n",
              "0                   1                    0                        1   \n",
              "1                   1                    0                        0   \n",
              "2                   1                    0                        1   \n",
              "3                   1                    0                        0   \n",
              "4                   1                    0                        1   \n",
              "\n",
              "   Contract_One year  Contract_Two year  PaperlessBilling_No  \\\n",
              "0                  0                  0                    0   \n",
              "1                  1                  0                    1   \n",
              "2                  0                  0                    0   \n",
              "3                  1                  0                    1   \n",
              "4                  0                  0                    0   \n",
              "\n",
              "   PaperlessBilling_Yes  PaymentMethod_Bank transfer (automatic)  \\\n",
              "0                     1                                        0   \n",
              "1                     0                                        0   \n",
              "2                     1                                        0   \n",
              "3                     0                                        1   \n",
              "4                     1                                        0   \n",
              "\n",
              "   PaymentMethod_Credit card (automatic)  PaymentMethod_Electronic check  \\\n",
              "0                                      0                               1   \n",
              "1                                      0                               0   \n",
              "2                                      0                               0   \n",
              "3                                      0                               0   \n",
              "4                                      0                               1   \n",
              "\n",
              "   PaymentMethod_Mailed check  \n",
              "0                           0  \n",
              "1                           1  \n",
              "2                           1  \n",
              "3                           0  \n",
              "4                           0  "
            ]
          },
          "metadata": {},
          "execution_count": 28
        }
      ],
      "source": [
        "X = pd.get_dummies(X)\n",
        "\n",
        "# show the first 5 rows\n",
        "X.head()"
      ]
    },
    {
      "cell_type": "code",
      "execution_count": 29,
      "id": "2e82a192-ef2d-4b80-bc64-c211c9673449",
      "metadata": {
        "tags": [],
        "id": "2e82a192-ef2d-4b80-bc64-c211c9673449"
      },
      "outputs": [],
      "source": [
        "#Split the  Splits at 25% default\n",
        "X_train, X_test, y_train, y_test = train_test_split(\n",
        "    X,\n",
        "    y,\n",
        "    random_state=69\n",
        ")"
      ]
    },
    {
      "cell_type": "markdown",
      "id": "34db59a9-f84a-4144-bbfc-959d429d5433",
      "metadata": {
        "id": "34db59a9-f84a-4144-bbfc-959d429d5433"
      },
      "source": [
        "# Decision trees"
      ]
    },
    {
      "cell_type": "markdown",
      "id": "02c4bbde-023e-42dd-b88a-dfc57b4afd51",
      "metadata": {
        "id": "02c4bbde-023e-42dd-b88a-dfc57b4afd51"
      },
      "source": [
        "#### https://www.kaggle.com/bhartiprasad17/customer-churn-prediction "
      ]
    },
    {
      "cell_type": "markdown",
      "id": "cd0b0058-e2d6-4252-bcf6-47571c7c9f80",
      "metadata": {
        "id": "cd0b0058-e2d6-4252-bcf6-47571c7c9f80"
      },
      "source": [
        "### Decision tree - without Cross validation"
      ]
    },
    {
      "cell_type": "code",
      "execution_count": 30,
      "id": "4cb66542-3210-460e-877d-7d0106baa574",
      "metadata": {
        "tags": [],
        "id": "4cb66542-3210-460e-877d-7d0106baa574"
      },
      "outputs": [],
      "source": [
        "# Set the max depth use throughout the decision tree\n",
        "maxDepth = 5"
      ]
    },
    {
      "cell_type": "code",
      "execution_count": 31,
      "id": "4b145882-8492-42b3-bfab-990af7edc45d",
      "metadata": {
        "tags": [],
        "id": "4b145882-8492-42b3-bfab-990af7edc45d",
        "outputId": "5b4f2b1e-a1a3-461f-93d0-24633cf9bebd",
        "colab": {
          "base_uri": "https://localhost:8080/"
        }
      },
      "outputs": [
        {
          "output_type": "stream",
          "name": "stdout",
          "text": [
            "Depth: 3\n",
            "Accuracy of Decision tree classifier on test set: 0.78\n",
            "______\n",
            "\n",
            "Depth: 5\n",
            "Accuracy of Decision tree classifier on test set: 0.78\n",
            "______\n",
            "\n",
            "Depth: 10\n",
            "Accuracy of Decision tree classifier on test set: 0.76\n",
            "______\n",
            "\n",
            "Depth: 15\n",
            "Accuracy of Decision tree classifier on test set: 0.73\n",
            "______\n",
            "\n",
            "Depth: 20\n",
            "Accuracy of Decision tree classifier on test set: 0.73\n",
            "______\n",
            "\n",
            "Depth: 25\n",
            "Accuracy of Decision tree classifier on test set: 0.73\n",
            "______\n",
            "\n",
            "Depth: 200\n",
            "Accuracy of Decision tree classifier on test set: 0.73\n",
            "______\n",
            "\n"
          ]
        }
      ],
      "source": [
        "# different types of accuracy to test which type of hyper parameter should be used\n",
        "test_depth = [3,5,10,15,20,25,200]\n",
        "\n",
        "# loop through to show which depth gives which accuracy\n",
        "for d in test_depth:\n",
        "    dc = DecisionTreeClassifier(max_depth = d)\n",
        "    #Train model\n",
        "    dc_model = dc.fit(X_train,y_train)\n",
        "    #predict\n",
        "    y_pred_dc = dc_model.predict(X_test)\n",
        "    print('Depth:',d)\n",
        "    print('Accuracy of Decision tree classifier on test set: {:.2f}'.format(dc_model.score(X_test, y_test)))\n",
        "    print('______\\n')"
      ]
    },
    {
      "cell_type": "code",
      "execution_count": 32,
      "id": "e7051f2d-93f5-4127-8ee4-4b82a8e65582",
      "metadata": {
        "tags": [],
        "id": "e7051f2d-93f5-4127-8ee4-4b82a8e65582"
      },
      "outputs": [],
      "source": [
        "#create the decision tree classifier\n",
        "dc = DecisionTreeClassifier(max_depth = maxDepth)\n",
        "\n",
        "#Train model\n",
        "dc_model = dc.fit(X_train,y_train)\n",
        "\n",
        "#predict\n",
        "Decision_y_pred_rfc = dc_model.predict(X_test)\n"
      ]
    },
    {
      "cell_type": "markdown",
      "id": "9f73ab62-250f-4ad8-9e11-08bc6a8c1d68",
      "metadata": {
        "tags": [],
        "id": "9f73ab62-250f-4ad8-9e11-08bc6a8c1d68"
      },
      "source": [
        "### Decision tree accuracy - result"
      ]
    },
    {
      "cell_type": "code",
      "execution_count": 33,
      "id": "89c92ab6-e7ec-4a38-997b-0cff05736574",
      "metadata": {
        "tags": [],
        "id": "89c92ab6-e7ec-4a38-997b-0cff05736574",
        "outputId": "fe091cba-eee7-4f87-a44f-e3d09a0e4292",
        "colab": {
          "base_uri": "https://localhost:8080/"
        }
      },
      "outputs": [
        {
          "output_type": "stream",
          "name": "stdout",
          "text": [
            "Depth:  5\n",
            "Accuracy of Decision tree classifier on test set: 0.77702\n"
          ]
        }
      ],
      "source": [
        "print('Depth: ',maxDepth)\n",
        "print('Accuracy of Decision tree classifier on test set: {:.5f}'.format(dc_model.score(X_test, y_test)))"
      ]
    },
    {
      "cell_type": "code",
      "execution_count": 34,
      "id": "eb50efec-1613-4459-856e-d637c71c7634",
      "metadata": {
        "id": "eb50efec-1613-4459-856e-d637c71c7634"
      },
      "outputs": [],
      "source": [
        "### Decision tree - "
      ]
    },
    {
      "cell_type": "code",
      "execution_count": 35,
      "id": "5abbae9e-5282-4dc8-b72c-3af0b2d1fd81",
      "metadata": {
        "id": "5abbae9e-5282-4dc8-b72c-3af0b2d1fd81",
        "outputId": "2bb8000a-351e-4c29-ed87-ca79165ef224",
        "colab": {
          "base_uri": "https://localhost:8080/"
        }
      },
      "outputs": [
        {
          "output_type": "stream",
          "name": "stdout",
          "text": [
            "              precision    recall  f1-score   support\n",
            "\n",
            "           0       0.83      0.88      0.85      1281\n",
            "           1       0.61      0.51      0.55       477\n",
            "\n",
            "    accuracy                           0.78      1758\n",
            "   macro avg       0.72      0.69      0.70      1758\n",
            "weighted avg       0.77      0.78      0.77      1758\n",
            "\n"
          ]
        }
      ],
      "source": [
        "print(classification_report(y_test,Decision_y_pred_rfc))"
      ]
    },
    {
      "cell_type": "code",
      "execution_count": 36,
      "id": "590f0cfa-d9cb-4609-b0ec-01cd46164a21",
      "metadata": {
        "id": "590f0cfa-d9cb-4609-b0ec-01cd46164a21",
        "outputId": "14eb3de3-3e01-48c4-df9d-b8b097045f66",
        "colab": {
          "base_uri": "https://localhost:8080/",
          "height": 0
        }
      },
      "outputs": [
        {
          "output_type": "execute_result",
          "data": {
            "text/html": [
              "\n",
              "  <div id=\"df-afd90024-9bad-4e33-aa54-5314944c83d3\">\n",
              "    <div class=\"colab-df-container\">\n",
              "      <div>\n",
              "<style scoped>\n",
              "    .dataframe tbody tr th:only-of-type {\n",
              "        vertical-align: middle;\n",
              "    }\n",
              "\n",
              "    .dataframe tbody tr th {\n",
              "        vertical-align: top;\n",
              "    }\n",
              "\n",
              "    .dataframe thead th {\n",
              "        text-align: right;\n",
              "    }\n",
              "</style>\n",
              "<table border=\"1\" class=\"dataframe\">\n",
              "  <thead>\n",
              "    <tr style=\"text-align: right;\">\n",
              "      <th></th>\n",
              "      <th>tenure</th>\n",
              "      <th>MonthlyCharges</th>\n",
              "      <th>TotalCharges</th>\n",
              "      <th>SeniorCitizen_No</th>\n",
              "      <th>SeniorCitizen_Yes</th>\n",
              "      <th>Partner_No</th>\n",
              "      <th>Partner_Yes</th>\n",
              "      <th>Dependents_No</th>\n",
              "      <th>Dependents_Yes</th>\n",
              "      <th>MultipleLines_No</th>\n",
              "      <th>MultipleLines_Yes</th>\n",
              "      <th>InternetService_DSL</th>\n",
              "      <th>InternetService_Fiber optic</th>\n",
              "      <th>InternetService_No</th>\n",
              "      <th>OnlineSecurity_No</th>\n",
              "      <th>OnlineSecurity_Yes</th>\n",
              "      <th>OnlineBackup_No</th>\n",
              "      <th>OnlineBackup_Yes</th>\n",
              "      <th>DeviceProtection_No</th>\n",
              "      <th>DeviceProtection_Yes</th>\n",
              "      <th>TechSupport_No</th>\n",
              "      <th>TechSupport_Yes</th>\n",
              "      <th>StreamingTV_No</th>\n",
              "      <th>StreamingTV_Yes</th>\n",
              "      <th>StreamingMovies_No</th>\n",
              "      <th>StreamingMovies_Yes</th>\n",
              "      <th>Contract_Month-to-month</th>\n",
              "      <th>Contract_One year</th>\n",
              "      <th>Contract_Two year</th>\n",
              "      <th>PaperlessBilling_No</th>\n",
              "      <th>PaperlessBilling_Yes</th>\n",
              "      <th>PaymentMethod_Bank transfer (automatic)</th>\n",
              "      <th>PaymentMethod_Credit card (automatic)</th>\n",
              "      <th>PaymentMethod_Electronic check</th>\n",
              "      <th>PaymentMethod_Mailed check</th>\n",
              "    </tr>\n",
              "  </thead>\n",
              "  <tbody>\n",
              "    <tr>\n",
              "      <th>0</th>\n",
              "      <td>1</td>\n",
              "      <td>29.85</td>\n",
              "      <td>29.85</td>\n",
              "      <td>1</td>\n",
              "      <td>0</td>\n",
              "      <td>0</td>\n",
              "      <td>1</td>\n",
              "      <td>1</td>\n",
              "      <td>0</td>\n",
              "      <td>1</td>\n",
              "      <td>0</td>\n",
              "      <td>1</td>\n",
              "      <td>0</td>\n",
              "      <td>0</td>\n",
              "      <td>1</td>\n",
              "      <td>0</td>\n",
              "      <td>0</td>\n",
              "      <td>1</td>\n",
              "      <td>1</td>\n",
              "      <td>0</td>\n",
              "      <td>1</td>\n",
              "      <td>0</td>\n",
              "      <td>1</td>\n",
              "      <td>0</td>\n",
              "      <td>1</td>\n",
              "      <td>0</td>\n",
              "      <td>1</td>\n",
              "      <td>0</td>\n",
              "      <td>0</td>\n",
              "      <td>0</td>\n",
              "      <td>1</td>\n",
              "      <td>0</td>\n",
              "      <td>0</td>\n",
              "      <td>1</td>\n",
              "      <td>0</td>\n",
              "    </tr>\n",
              "    <tr>\n",
              "      <th>1</th>\n",
              "      <td>34</td>\n",
              "      <td>56.95</td>\n",
              "      <td>1889.50</td>\n",
              "      <td>1</td>\n",
              "      <td>0</td>\n",
              "      <td>1</td>\n",
              "      <td>0</td>\n",
              "      <td>1</td>\n",
              "      <td>0</td>\n",
              "      <td>1</td>\n",
              "      <td>0</td>\n",
              "      <td>1</td>\n",
              "      <td>0</td>\n",
              "      <td>0</td>\n",
              "      <td>0</td>\n",
              "      <td>1</td>\n",
              "      <td>1</td>\n",
              "      <td>0</td>\n",
              "      <td>0</td>\n",
              "      <td>1</td>\n",
              "      <td>1</td>\n",
              "      <td>0</td>\n",
              "      <td>1</td>\n",
              "      <td>0</td>\n",
              "      <td>1</td>\n",
              "      <td>0</td>\n",
              "      <td>0</td>\n",
              "      <td>1</td>\n",
              "      <td>0</td>\n",
              "      <td>1</td>\n",
              "      <td>0</td>\n",
              "      <td>0</td>\n",
              "      <td>0</td>\n",
              "      <td>0</td>\n",
              "      <td>1</td>\n",
              "    </tr>\n",
              "    <tr>\n",
              "      <th>2</th>\n",
              "      <td>2</td>\n",
              "      <td>53.85</td>\n",
              "      <td>108.15</td>\n",
              "      <td>1</td>\n",
              "      <td>0</td>\n",
              "      <td>1</td>\n",
              "      <td>0</td>\n",
              "      <td>1</td>\n",
              "      <td>0</td>\n",
              "      <td>1</td>\n",
              "      <td>0</td>\n",
              "      <td>1</td>\n",
              "      <td>0</td>\n",
              "      <td>0</td>\n",
              "      <td>0</td>\n",
              "      <td>1</td>\n",
              "      <td>0</td>\n",
              "      <td>1</td>\n",
              "      <td>1</td>\n",
              "      <td>0</td>\n",
              "      <td>1</td>\n",
              "      <td>0</td>\n",
              "      <td>1</td>\n",
              "      <td>0</td>\n",
              "      <td>1</td>\n",
              "      <td>0</td>\n",
              "      <td>1</td>\n",
              "      <td>0</td>\n",
              "      <td>0</td>\n",
              "      <td>0</td>\n",
              "      <td>1</td>\n",
              "      <td>0</td>\n",
              "      <td>0</td>\n",
              "      <td>0</td>\n",
              "      <td>1</td>\n",
              "    </tr>\n",
              "    <tr>\n",
              "      <th>3</th>\n",
              "      <td>45</td>\n",
              "      <td>42.30</td>\n",
              "      <td>1840.75</td>\n",
              "      <td>1</td>\n",
              "      <td>0</td>\n",
              "      <td>1</td>\n",
              "      <td>0</td>\n",
              "      <td>1</td>\n",
              "      <td>0</td>\n",
              "      <td>1</td>\n",
              "      <td>0</td>\n",
              "      <td>1</td>\n",
              "      <td>0</td>\n",
              "      <td>0</td>\n",
              "      <td>0</td>\n",
              "      <td>1</td>\n",
              "      <td>1</td>\n",
              "      <td>0</td>\n",
              "      <td>0</td>\n",
              "      <td>1</td>\n",
              "      <td>0</td>\n",
              "      <td>1</td>\n",
              "      <td>1</td>\n",
              "      <td>0</td>\n",
              "      <td>1</td>\n",
              "      <td>0</td>\n",
              "      <td>0</td>\n",
              "      <td>1</td>\n",
              "      <td>0</td>\n",
              "      <td>1</td>\n",
              "      <td>0</td>\n",
              "      <td>1</td>\n",
              "      <td>0</td>\n",
              "      <td>0</td>\n",
              "      <td>0</td>\n",
              "    </tr>\n",
              "    <tr>\n",
              "      <th>4</th>\n",
              "      <td>2</td>\n",
              "      <td>70.70</td>\n",
              "      <td>151.65</td>\n",
              "      <td>1</td>\n",
              "      <td>0</td>\n",
              "      <td>1</td>\n",
              "      <td>0</td>\n",
              "      <td>1</td>\n",
              "      <td>0</td>\n",
              "      <td>1</td>\n",
              "      <td>0</td>\n",
              "      <td>0</td>\n",
              "      <td>1</td>\n",
              "      <td>0</td>\n",
              "      <td>1</td>\n",
              "      <td>0</td>\n",
              "      <td>1</td>\n",
              "      <td>0</td>\n",
              "      <td>1</td>\n",
              "      <td>0</td>\n",
              "      <td>1</td>\n",
              "      <td>0</td>\n",
              "      <td>1</td>\n",
              "      <td>0</td>\n",
              "      <td>1</td>\n",
              "      <td>0</td>\n",
              "      <td>1</td>\n",
              "      <td>0</td>\n",
              "      <td>0</td>\n",
              "      <td>0</td>\n",
              "      <td>1</td>\n",
              "      <td>0</td>\n",
              "      <td>0</td>\n",
              "      <td>1</td>\n",
              "      <td>0</td>\n",
              "    </tr>\n",
              "    <tr>\n",
              "      <th>...</th>\n",
              "      <td>...</td>\n",
              "      <td>...</td>\n",
              "      <td>...</td>\n",
              "      <td>...</td>\n",
              "      <td>...</td>\n",
              "      <td>...</td>\n",
              "      <td>...</td>\n",
              "      <td>...</td>\n",
              "      <td>...</td>\n",
              "      <td>...</td>\n",
              "      <td>...</td>\n",
              "      <td>...</td>\n",
              "      <td>...</td>\n",
              "      <td>...</td>\n",
              "      <td>...</td>\n",
              "      <td>...</td>\n",
              "      <td>...</td>\n",
              "      <td>...</td>\n",
              "      <td>...</td>\n",
              "      <td>...</td>\n",
              "      <td>...</td>\n",
              "      <td>...</td>\n",
              "      <td>...</td>\n",
              "      <td>...</td>\n",
              "      <td>...</td>\n",
              "      <td>...</td>\n",
              "      <td>...</td>\n",
              "      <td>...</td>\n",
              "      <td>...</td>\n",
              "      <td>...</td>\n",
              "      <td>...</td>\n",
              "      <td>...</td>\n",
              "      <td>...</td>\n",
              "      <td>...</td>\n",
              "      <td>...</td>\n",
              "    </tr>\n",
              "    <tr>\n",
              "      <th>7038</th>\n",
              "      <td>24</td>\n",
              "      <td>84.80</td>\n",
              "      <td>1990.50</td>\n",
              "      <td>1</td>\n",
              "      <td>0</td>\n",
              "      <td>0</td>\n",
              "      <td>1</td>\n",
              "      <td>0</td>\n",
              "      <td>1</td>\n",
              "      <td>0</td>\n",
              "      <td>1</td>\n",
              "      <td>1</td>\n",
              "      <td>0</td>\n",
              "      <td>0</td>\n",
              "      <td>0</td>\n",
              "      <td>1</td>\n",
              "      <td>1</td>\n",
              "      <td>0</td>\n",
              "      <td>0</td>\n",
              "      <td>1</td>\n",
              "      <td>0</td>\n",
              "      <td>1</td>\n",
              "      <td>0</td>\n",
              "      <td>1</td>\n",
              "      <td>0</td>\n",
              "      <td>1</td>\n",
              "      <td>0</td>\n",
              "      <td>1</td>\n",
              "      <td>0</td>\n",
              "      <td>0</td>\n",
              "      <td>1</td>\n",
              "      <td>0</td>\n",
              "      <td>0</td>\n",
              "      <td>0</td>\n",
              "      <td>1</td>\n",
              "    </tr>\n",
              "    <tr>\n",
              "      <th>7039</th>\n",
              "      <td>72</td>\n",
              "      <td>103.20</td>\n",
              "      <td>7362.90</td>\n",
              "      <td>1</td>\n",
              "      <td>0</td>\n",
              "      <td>0</td>\n",
              "      <td>1</td>\n",
              "      <td>0</td>\n",
              "      <td>1</td>\n",
              "      <td>0</td>\n",
              "      <td>1</td>\n",
              "      <td>0</td>\n",
              "      <td>1</td>\n",
              "      <td>0</td>\n",
              "      <td>1</td>\n",
              "      <td>0</td>\n",
              "      <td>0</td>\n",
              "      <td>1</td>\n",
              "      <td>0</td>\n",
              "      <td>1</td>\n",
              "      <td>1</td>\n",
              "      <td>0</td>\n",
              "      <td>0</td>\n",
              "      <td>1</td>\n",
              "      <td>0</td>\n",
              "      <td>1</td>\n",
              "      <td>0</td>\n",
              "      <td>1</td>\n",
              "      <td>0</td>\n",
              "      <td>0</td>\n",
              "      <td>1</td>\n",
              "      <td>0</td>\n",
              "      <td>1</td>\n",
              "      <td>0</td>\n",
              "      <td>0</td>\n",
              "    </tr>\n",
              "    <tr>\n",
              "      <th>7040</th>\n",
              "      <td>11</td>\n",
              "      <td>29.60</td>\n",
              "      <td>346.45</td>\n",
              "      <td>1</td>\n",
              "      <td>0</td>\n",
              "      <td>0</td>\n",
              "      <td>1</td>\n",
              "      <td>0</td>\n",
              "      <td>1</td>\n",
              "      <td>1</td>\n",
              "      <td>0</td>\n",
              "      <td>1</td>\n",
              "      <td>0</td>\n",
              "      <td>0</td>\n",
              "      <td>0</td>\n",
              "      <td>1</td>\n",
              "      <td>1</td>\n",
              "      <td>0</td>\n",
              "      <td>1</td>\n",
              "      <td>0</td>\n",
              "      <td>1</td>\n",
              "      <td>0</td>\n",
              "      <td>1</td>\n",
              "      <td>0</td>\n",
              "      <td>1</td>\n",
              "      <td>0</td>\n",
              "      <td>1</td>\n",
              "      <td>0</td>\n",
              "      <td>0</td>\n",
              "      <td>0</td>\n",
              "      <td>1</td>\n",
              "      <td>0</td>\n",
              "      <td>0</td>\n",
              "      <td>1</td>\n",
              "      <td>0</td>\n",
              "    </tr>\n",
              "    <tr>\n",
              "      <th>7041</th>\n",
              "      <td>4</td>\n",
              "      <td>74.40</td>\n",
              "      <td>306.60</td>\n",
              "      <td>0</td>\n",
              "      <td>1</td>\n",
              "      <td>0</td>\n",
              "      <td>1</td>\n",
              "      <td>1</td>\n",
              "      <td>0</td>\n",
              "      <td>0</td>\n",
              "      <td>1</td>\n",
              "      <td>0</td>\n",
              "      <td>1</td>\n",
              "      <td>0</td>\n",
              "      <td>1</td>\n",
              "      <td>0</td>\n",
              "      <td>1</td>\n",
              "      <td>0</td>\n",
              "      <td>1</td>\n",
              "      <td>0</td>\n",
              "      <td>1</td>\n",
              "      <td>0</td>\n",
              "      <td>1</td>\n",
              "      <td>0</td>\n",
              "      <td>1</td>\n",
              "      <td>0</td>\n",
              "      <td>1</td>\n",
              "      <td>0</td>\n",
              "      <td>0</td>\n",
              "      <td>0</td>\n",
              "      <td>1</td>\n",
              "      <td>0</td>\n",
              "      <td>0</td>\n",
              "      <td>0</td>\n",
              "      <td>1</td>\n",
              "    </tr>\n",
              "    <tr>\n",
              "      <th>7042</th>\n",
              "      <td>66</td>\n",
              "      <td>105.65</td>\n",
              "      <td>6844.50</td>\n",
              "      <td>1</td>\n",
              "      <td>0</td>\n",
              "      <td>1</td>\n",
              "      <td>0</td>\n",
              "      <td>1</td>\n",
              "      <td>0</td>\n",
              "      <td>1</td>\n",
              "      <td>0</td>\n",
              "      <td>0</td>\n",
              "      <td>1</td>\n",
              "      <td>0</td>\n",
              "      <td>0</td>\n",
              "      <td>1</td>\n",
              "      <td>1</td>\n",
              "      <td>0</td>\n",
              "      <td>0</td>\n",
              "      <td>1</td>\n",
              "      <td>0</td>\n",
              "      <td>1</td>\n",
              "      <td>0</td>\n",
              "      <td>1</td>\n",
              "      <td>0</td>\n",
              "      <td>1</td>\n",
              "      <td>0</td>\n",
              "      <td>0</td>\n",
              "      <td>1</td>\n",
              "      <td>0</td>\n",
              "      <td>1</td>\n",
              "      <td>1</td>\n",
              "      <td>0</td>\n",
              "      <td>0</td>\n",
              "      <td>0</td>\n",
              "    </tr>\n",
              "  </tbody>\n",
              "</table>\n",
              "<p>7032 rows × 35 columns</p>\n",
              "</div>\n",
              "      <button class=\"colab-df-convert\" onclick=\"convertToInteractive('df-afd90024-9bad-4e33-aa54-5314944c83d3')\"\n",
              "              title=\"Convert this dataframe to an interactive table.\"\n",
              "              style=\"display:none;\">\n",
              "        \n",
              "  <svg xmlns=\"http://www.w3.org/2000/svg\" height=\"24px\"viewBox=\"0 0 24 24\"\n",
              "       width=\"24px\">\n",
              "    <path d=\"M0 0h24v24H0V0z\" fill=\"none\"/>\n",
              "    <path d=\"M18.56 5.44l.94 2.06.94-2.06 2.06-.94-2.06-.94-.94-2.06-.94 2.06-2.06.94zm-11 1L8.5 8.5l.94-2.06 2.06-.94-2.06-.94L8.5 2.5l-.94 2.06-2.06.94zm10 10l.94 2.06.94-2.06 2.06-.94-2.06-.94-.94-2.06-.94 2.06-2.06.94z\"/><path d=\"M17.41 7.96l-1.37-1.37c-.4-.4-.92-.59-1.43-.59-.52 0-1.04.2-1.43.59L10.3 9.45l-7.72 7.72c-.78.78-.78 2.05 0 2.83L4 21.41c.39.39.9.59 1.41.59.51 0 1.02-.2 1.41-.59l7.78-7.78 2.81-2.81c.8-.78.8-2.07 0-2.86zM5.41 20L4 18.59l7.72-7.72 1.47 1.35L5.41 20z\"/>\n",
              "  </svg>\n",
              "      </button>\n",
              "      \n",
              "  <style>\n",
              "    .colab-df-container {\n",
              "      display:flex;\n",
              "      flex-wrap:wrap;\n",
              "      gap: 12px;\n",
              "    }\n",
              "\n",
              "    .colab-df-convert {\n",
              "      background-color: #E8F0FE;\n",
              "      border: none;\n",
              "      border-radius: 50%;\n",
              "      cursor: pointer;\n",
              "      display: none;\n",
              "      fill: #1967D2;\n",
              "      height: 32px;\n",
              "      padding: 0 0 0 0;\n",
              "      width: 32px;\n",
              "    }\n",
              "\n",
              "    .colab-df-convert:hover {\n",
              "      background-color: #E2EBFA;\n",
              "      box-shadow: 0px 1px 2px rgba(60, 64, 67, 0.3), 0px 1px 3px 1px rgba(60, 64, 67, 0.15);\n",
              "      fill: #174EA6;\n",
              "    }\n",
              "\n",
              "    [theme=dark] .colab-df-convert {\n",
              "      background-color: #3B4455;\n",
              "      fill: #D2E3FC;\n",
              "    }\n",
              "\n",
              "    [theme=dark] .colab-df-convert:hover {\n",
              "      background-color: #434B5C;\n",
              "      box-shadow: 0px 1px 3px 1px rgba(0, 0, 0, 0.15);\n",
              "      filter: drop-shadow(0px 1px 2px rgba(0, 0, 0, 0.3));\n",
              "      fill: #FFFFFF;\n",
              "    }\n",
              "  </style>\n",
              "\n",
              "      <script>\n",
              "        const buttonEl =\n",
              "          document.querySelector('#df-afd90024-9bad-4e33-aa54-5314944c83d3 button.colab-df-convert');\n",
              "        buttonEl.style.display =\n",
              "          google.colab.kernel.accessAllowed ? 'block' : 'none';\n",
              "\n",
              "        async function convertToInteractive(key) {\n",
              "          const element = document.querySelector('#df-afd90024-9bad-4e33-aa54-5314944c83d3');\n",
              "          const dataTable =\n",
              "            await google.colab.kernel.invokeFunction('convertToInteractive',\n",
              "                                                     [key], {});\n",
              "          if (!dataTable) return;\n",
              "\n",
              "          const docLinkHtml = 'Like what you see? Visit the ' +\n",
              "            '<a target=\"_blank\" href=https://colab.research.google.com/notebooks/data_table.ipynb>data table notebook</a>'\n",
              "            + ' to learn more about interactive tables.';\n",
              "          element.innerHTML = '';\n",
              "          dataTable['output_type'] = 'display_data';\n",
              "          await google.colab.output.renderOutput(dataTable, element);\n",
              "          const docLink = document.createElement('div');\n",
              "          docLink.innerHTML = docLinkHtml;\n",
              "          element.appendChild(docLink);\n",
              "        }\n",
              "      </script>\n",
              "    </div>\n",
              "  </div>\n",
              "  "
            ],
            "text/plain": [
              "      tenure  MonthlyCharges  TotalCharges  SeniorCitizen_No  \\\n",
              "0          1           29.85         29.85                 1   \n",
              "1         34           56.95       1889.50                 1   \n",
              "2          2           53.85        108.15                 1   \n",
              "3         45           42.30       1840.75                 1   \n",
              "4          2           70.70        151.65                 1   \n",
              "...      ...             ...           ...               ...   \n",
              "7038      24           84.80       1990.50                 1   \n",
              "7039      72          103.20       7362.90                 1   \n",
              "7040      11           29.60        346.45                 1   \n",
              "7041       4           74.40        306.60                 0   \n",
              "7042      66          105.65       6844.50                 1   \n",
              "\n",
              "      SeniorCitizen_Yes  Partner_No  Partner_Yes  Dependents_No  \\\n",
              "0                     0           0            1              1   \n",
              "1                     0           1            0              1   \n",
              "2                     0           1            0              1   \n",
              "3                     0           1            0              1   \n",
              "4                     0           1            0              1   \n",
              "...                 ...         ...          ...            ...   \n",
              "7038                  0           0            1              0   \n",
              "7039                  0           0            1              0   \n",
              "7040                  0           0            1              0   \n",
              "7041                  1           0            1              1   \n",
              "7042                  0           1            0              1   \n",
              "\n",
              "      Dependents_Yes  MultipleLines_No  MultipleLines_Yes  \\\n",
              "0                  0                 1                  0   \n",
              "1                  0                 1                  0   \n",
              "2                  0                 1                  0   \n",
              "3                  0                 1                  0   \n",
              "4                  0                 1                  0   \n",
              "...              ...               ...                ...   \n",
              "7038               1                 0                  1   \n",
              "7039               1                 0                  1   \n",
              "7040               1                 1                  0   \n",
              "7041               0                 0                  1   \n",
              "7042               0                 1                  0   \n",
              "\n",
              "      InternetService_DSL  InternetService_Fiber optic  InternetService_No  \\\n",
              "0                       1                            0                   0   \n",
              "1                       1                            0                   0   \n",
              "2                       1                            0                   0   \n",
              "3                       1                            0                   0   \n",
              "4                       0                            1                   0   \n",
              "...                   ...                          ...                 ...   \n",
              "7038                    1                            0                   0   \n",
              "7039                    0                            1                   0   \n",
              "7040                    1                            0                   0   \n",
              "7041                    0                            1                   0   \n",
              "7042                    0                            1                   0   \n",
              "\n",
              "      OnlineSecurity_No  OnlineSecurity_Yes  OnlineBackup_No  \\\n",
              "0                     1                   0                0   \n",
              "1                     0                   1                1   \n",
              "2                     0                   1                0   \n",
              "3                     0                   1                1   \n",
              "4                     1                   0                1   \n",
              "...                 ...                 ...              ...   \n",
              "7038                  0                   1                1   \n",
              "7039                  1                   0                0   \n",
              "7040                  0                   1                1   \n",
              "7041                  1                   0                1   \n",
              "7042                  0                   1                1   \n",
              "\n",
              "      OnlineBackup_Yes  DeviceProtection_No  DeviceProtection_Yes  \\\n",
              "0                    1                    1                     0   \n",
              "1                    0                    0                     1   \n",
              "2                    1                    1                     0   \n",
              "3                    0                    0                     1   \n",
              "4                    0                    1                     0   \n",
              "...                ...                  ...                   ...   \n",
              "7038                 0                    0                     1   \n",
              "7039                 1                    0                     1   \n",
              "7040                 0                    1                     0   \n",
              "7041                 0                    1                     0   \n",
              "7042                 0                    0                     1   \n",
              "\n",
              "      TechSupport_No  TechSupport_Yes  StreamingTV_No  StreamingTV_Yes  \\\n",
              "0                  1                0               1                0   \n",
              "1                  1                0               1                0   \n",
              "2                  1                0               1                0   \n",
              "3                  0                1               1                0   \n",
              "4                  1                0               1                0   \n",
              "...              ...              ...             ...              ...   \n",
              "7038               0                1               0                1   \n",
              "7039               1                0               0                1   \n",
              "7040               1                0               1                0   \n",
              "7041               1                0               1                0   \n",
              "7042               0                1               0                1   \n",
              "\n",
              "      StreamingMovies_No  StreamingMovies_Yes  Contract_Month-to-month  \\\n",
              "0                      1                    0                        1   \n",
              "1                      1                    0                        0   \n",
              "2                      1                    0                        1   \n",
              "3                      1                    0                        0   \n",
              "4                      1                    0                        1   \n",
              "...                  ...                  ...                      ...   \n",
              "7038                   0                    1                        0   \n",
              "7039                   0                    1                        0   \n",
              "7040                   1                    0                        1   \n",
              "7041                   1                    0                        1   \n",
              "7042                   0                    1                        0   \n",
              "\n",
              "      Contract_One year  Contract_Two year  PaperlessBilling_No  \\\n",
              "0                     0                  0                    0   \n",
              "1                     1                  0                    1   \n",
              "2                     0                  0                    0   \n",
              "3                     1                  0                    1   \n",
              "4                     0                  0                    0   \n",
              "...                 ...                ...                  ...   \n",
              "7038                  1                  0                    0   \n",
              "7039                  1                  0                    0   \n",
              "7040                  0                  0                    0   \n",
              "7041                  0                  0                    0   \n",
              "7042                  0                  1                    0   \n",
              "\n",
              "      PaperlessBilling_Yes  PaymentMethod_Bank transfer (automatic)  \\\n",
              "0                        1                                        0   \n",
              "1                        0                                        0   \n",
              "2                        1                                        0   \n",
              "3                        0                                        1   \n",
              "4                        1                                        0   \n",
              "...                    ...                                      ...   \n",
              "7038                     1                                        0   \n",
              "7039                     1                                        0   \n",
              "7040                     1                                        0   \n",
              "7041                     1                                        0   \n",
              "7042                     1                                        1   \n",
              "\n",
              "      PaymentMethod_Credit card (automatic)  PaymentMethod_Electronic check  \\\n",
              "0                                         0                               1   \n",
              "1                                         0                               0   \n",
              "2                                         0                               0   \n",
              "3                                         0                               0   \n",
              "4                                         0                               1   \n",
              "...                                     ...                             ...   \n",
              "7038                                      0                               0   \n",
              "7039                                      1                               0   \n",
              "7040                                      0                               1   \n",
              "7041                                      0                               0   \n",
              "7042                                      0                               0   \n",
              "\n",
              "      PaymentMethod_Mailed check  \n",
              "0                              0  \n",
              "1                              1  \n",
              "2                              1  \n",
              "3                              0  \n",
              "4                              0  \n",
              "...                          ...  \n",
              "7038                           1  \n",
              "7039                           0  \n",
              "7040                           0  \n",
              "7041                           1  \n",
              "7042                           0  \n",
              "\n",
              "[7032 rows x 35 columns]"
            ]
          },
          "metadata": {},
          "execution_count": 36
        }
      ],
      "source": [
        "dc_imp=list(dc_model.feature_importances_)\n",
        "\n",
        "dc_colname=list(X_train.columns)\n",
        "\n",
        "#Create dict for datafram\n",
        "dc_dict={'Feature':dc_colname,'Importance':dc_imp}\n",
        "\n",
        "#Create dataframe\n",
        "dc_feature_imp=pd.DataFrame(dc_dict)\n",
        "X"
      ]
    },
    {
      "cell_type": "code",
      "execution_count": 37,
      "id": "a38738d6-2f7c-44ec-8c24-bdf1903e2aeb",
      "metadata": {
        "id": "a38738d6-2f7c-44ec-8c24-bdf1903e2aeb"
      },
      "outputs": [],
      "source": [
        "dc_feature_rank=dc_feature_imp.sort_values(by='Importance',ascending = False)"
      ]
    },
    {
      "cell_type": "markdown",
      "id": "4018da82-861f-4cad-8d57-fd937c73caf5",
      "metadata": {
        "id": "4018da82-861f-4cad-8d57-fd937c73caf5"
      },
      "source": [
        "### decision tree feature importance"
      ]
    },
    {
      "cell_type": "code",
      "execution_count": 38,
      "id": "b8d5f99c-bf3a-4ea3-85d0-5f33a7e33abd",
      "metadata": {
        "id": "b8d5f99c-bf3a-4ea3-85d0-5f33a7e33abd",
        "outputId": "72acb352-372e-4a19-cca0-1d4f68b0b165",
        "colab": {
          "base_uri": "https://localhost:8080/",
          "height": 0
        }
      },
      "outputs": [
        {
          "output_type": "execute_result",
          "data": {
            "text/html": [
              "\n",
              "  <div id=\"df-818236f0-8bca-4334-b992-ef35b13207cd\">\n",
              "    <div class=\"colab-df-container\">\n",
              "      <div>\n",
              "<style scoped>\n",
              "    .dataframe tbody tr th:only-of-type {\n",
              "        vertical-align: middle;\n",
              "    }\n",
              "\n",
              "    .dataframe tbody tr th {\n",
              "        vertical-align: top;\n",
              "    }\n",
              "\n",
              "    .dataframe thead th {\n",
              "        text-align: right;\n",
              "    }\n",
              "</style>\n",
              "<table border=\"1\" class=\"dataframe\">\n",
              "  <thead>\n",
              "    <tr style=\"text-align: right;\">\n",
              "      <th></th>\n",
              "      <th>Feature</th>\n",
              "      <th>Importance</th>\n",
              "    </tr>\n",
              "  </thead>\n",
              "  <tbody>\n",
              "    <tr>\n",
              "      <th>26</th>\n",
              "      <td>Contract_Month-to-month</td>\n",
              "      <td>0.505002</td>\n",
              "    </tr>\n",
              "    <tr>\n",
              "      <th>0</th>\n",
              "      <td>tenure</td>\n",
              "      <td>0.180921</td>\n",
              "    </tr>\n",
              "    <tr>\n",
              "      <th>12</th>\n",
              "      <td>InternetService_Fiber optic</td>\n",
              "      <td>0.155176</td>\n",
              "    </tr>\n",
              "    <tr>\n",
              "      <th>2</th>\n",
              "      <td>TotalCharges</td>\n",
              "      <td>0.053858</td>\n",
              "    </tr>\n",
              "    <tr>\n",
              "      <th>1</th>\n",
              "      <td>MonthlyCharges</td>\n",
              "      <td>0.025204</td>\n",
              "    </tr>\n",
              "    <tr>\n",
              "      <th>11</th>\n",
              "      <td>InternetService_DSL</td>\n",
              "      <td>0.024703</td>\n",
              "    </tr>\n",
              "    <tr>\n",
              "      <th>27</th>\n",
              "      <td>Contract_One year</td>\n",
              "      <td>0.013703</td>\n",
              "    </tr>\n",
              "    <tr>\n",
              "      <th>9</th>\n",
              "      <td>MultipleLines_No</td>\n",
              "      <td>0.010428</td>\n",
              "    </tr>\n",
              "    <tr>\n",
              "      <th>10</th>\n",
              "      <td>MultipleLines_Yes</td>\n",
              "      <td>0.009769</td>\n",
              "    </tr>\n",
              "    <tr>\n",
              "      <th>20</th>\n",
              "      <td>TechSupport_No</td>\n",
              "      <td>0.007339</td>\n",
              "    </tr>\n",
              "  </tbody>\n",
              "</table>\n",
              "</div>\n",
              "      <button class=\"colab-df-convert\" onclick=\"convertToInteractive('df-818236f0-8bca-4334-b992-ef35b13207cd')\"\n",
              "              title=\"Convert this dataframe to an interactive table.\"\n",
              "              style=\"display:none;\">\n",
              "        \n",
              "  <svg xmlns=\"http://www.w3.org/2000/svg\" height=\"24px\"viewBox=\"0 0 24 24\"\n",
              "       width=\"24px\">\n",
              "    <path d=\"M0 0h24v24H0V0z\" fill=\"none\"/>\n",
              "    <path d=\"M18.56 5.44l.94 2.06.94-2.06 2.06-.94-2.06-.94-.94-2.06-.94 2.06-2.06.94zm-11 1L8.5 8.5l.94-2.06 2.06-.94-2.06-.94L8.5 2.5l-.94 2.06-2.06.94zm10 10l.94 2.06.94-2.06 2.06-.94-2.06-.94-.94-2.06-.94 2.06-2.06.94z\"/><path d=\"M17.41 7.96l-1.37-1.37c-.4-.4-.92-.59-1.43-.59-.52 0-1.04.2-1.43.59L10.3 9.45l-7.72 7.72c-.78.78-.78 2.05 0 2.83L4 21.41c.39.39.9.59 1.41.59.51 0 1.02-.2 1.41-.59l7.78-7.78 2.81-2.81c.8-.78.8-2.07 0-2.86zM5.41 20L4 18.59l7.72-7.72 1.47 1.35L5.41 20z\"/>\n",
              "  </svg>\n",
              "      </button>\n",
              "      \n",
              "  <style>\n",
              "    .colab-df-container {\n",
              "      display:flex;\n",
              "      flex-wrap:wrap;\n",
              "      gap: 12px;\n",
              "    }\n",
              "\n",
              "    .colab-df-convert {\n",
              "      background-color: #E8F0FE;\n",
              "      border: none;\n",
              "      border-radius: 50%;\n",
              "      cursor: pointer;\n",
              "      display: none;\n",
              "      fill: #1967D2;\n",
              "      height: 32px;\n",
              "      padding: 0 0 0 0;\n",
              "      width: 32px;\n",
              "    }\n",
              "\n",
              "    .colab-df-convert:hover {\n",
              "      background-color: #E2EBFA;\n",
              "      box-shadow: 0px 1px 2px rgba(60, 64, 67, 0.3), 0px 1px 3px 1px rgba(60, 64, 67, 0.15);\n",
              "      fill: #174EA6;\n",
              "    }\n",
              "\n",
              "    [theme=dark] .colab-df-convert {\n",
              "      background-color: #3B4455;\n",
              "      fill: #D2E3FC;\n",
              "    }\n",
              "\n",
              "    [theme=dark] .colab-df-convert:hover {\n",
              "      background-color: #434B5C;\n",
              "      box-shadow: 0px 1px 3px 1px rgba(0, 0, 0, 0.15);\n",
              "      filter: drop-shadow(0px 1px 2px rgba(0, 0, 0, 0.3));\n",
              "      fill: #FFFFFF;\n",
              "    }\n",
              "  </style>\n",
              "\n",
              "      <script>\n",
              "        const buttonEl =\n",
              "          document.querySelector('#df-818236f0-8bca-4334-b992-ef35b13207cd button.colab-df-convert');\n",
              "        buttonEl.style.display =\n",
              "          google.colab.kernel.accessAllowed ? 'block' : 'none';\n",
              "\n",
              "        async function convertToInteractive(key) {\n",
              "          const element = document.querySelector('#df-818236f0-8bca-4334-b992-ef35b13207cd');\n",
              "          const dataTable =\n",
              "            await google.colab.kernel.invokeFunction('convertToInteractive',\n",
              "                                                     [key], {});\n",
              "          if (!dataTable) return;\n",
              "\n",
              "          const docLinkHtml = 'Like what you see? Visit the ' +\n",
              "            '<a target=\"_blank\" href=https://colab.research.google.com/notebooks/data_table.ipynb>data table notebook</a>'\n",
              "            + ' to learn more about interactive tables.';\n",
              "          element.innerHTML = '';\n",
              "          dataTable['output_type'] = 'display_data';\n",
              "          await google.colab.output.renderOutput(dataTable, element);\n",
              "          const docLink = document.createElement('div');\n",
              "          docLink.innerHTML = docLinkHtml;\n",
              "          element.appendChild(docLink);\n",
              "        }\n",
              "      </script>\n",
              "    </div>\n",
              "  </div>\n",
              "  "
            ],
            "text/plain": [
              "                        Feature  Importance\n",
              "26      Contract_Month-to-month    0.505002\n",
              "0                        tenure    0.180921\n",
              "12  InternetService_Fiber optic    0.155176\n",
              "2                  TotalCharges    0.053858\n",
              "1                MonthlyCharges    0.025204\n",
              "11          InternetService_DSL    0.024703\n",
              "27            Contract_One year    0.013703\n",
              "9              MultipleLines_No    0.010428\n",
              "10            MultipleLines_Yes    0.009769\n",
              "20               TechSupport_No    0.007339"
            ]
          },
          "metadata": {},
          "execution_count": 38
        }
      ],
      "source": [
        "dc_feature_rank.head(10)"
      ]
    },
    {
      "cell_type": "markdown",
      "id": "011a765b-eb22-42c2-945c-dd1ffb67304b",
      "metadata": {
        "id": "011a765b-eb22-42c2-945c-dd1ffb67304b"
      },
      "source": [
        "### decision tree confusion matrix - result"
      ]
    },
    {
      "cell_type": "code",
      "execution_count": 39,
      "id": "7cbcf03d-1530-4d55-95f9-f4b1306b3fdd",
      "metadata": {
        "id": "7cbcf03d-1530-4d55-95f9-f4b1306b3fdd",
        "outputId": "598c6bd6-993c-44bf-bb5c-19886889ef7c",
        "colab": {
          "base_uri": "https://localhost:8080/",
          "height": 0
        }
      },
      "outputs": [
        {
          "output_type": "display_data",
          "data": {
            "image/png": "[encoded data removed]",
            "text/plain": [
              "<Figure size 288x216 with 2 Axes>"
            ]
          },
          "metadata": {
            "needs_background": "light"
          }
        }
      ],
      "source": [
        "plt.figure(figsize=(4,3))\n",
        "sns.heatmap(confusion_matrix(y_test, Decision_y_pred_rfc),\n",
        "                annot=True,fmt = \"d\",linecolor=\"k\",linewidths=3)\n",
        "    \n",
        "plt.title(\" Decision tree without cross - CONFUSION MATRIX\",fontsize=14)\n",
        "plt.xlabel(\"predicted\")\n",
        "plt.ylabel(\"true\")\n",
        "plt.show()"
      ]
    },
    {
      "cell_type": "markdown",
      "id": "15258fc7-ceb8-41d8-bce1-c8a2cbf0dee2",
      "metadata": {
        "id": "15258fc7-ceb8-41d8-bce1-c8a2cbf0dee2"
      },
      "source": [
        "### Decision tree - Cross Validation"
      ]
    },
    {
      "cell_type": "code",
      "execution_count": 40,
      "id": "6644a3a9-3ead-4132-a043-044646d43ae6",
      "metadata": {
        "tags": [],
        "id": "6644a3a9-3ead-4132-a043-044646d43ae6"
      },
      "outputs": [],
      "source": [
        "# Evaluation with the RFECV to find the most important the features in regard to accurassy \n",
        "# Decision tree Classifier for X \n",
        "\n",
        "Decision_rfc = DecisionTreeClassifier(max_depth = maxDepth)\n",
        "\n",
        "Decision_rfecv = RFECV(estimator = Decision_rfc, step=1, cv=StratifiedKFold(5, random_state=100, shuffle=True), scoring='accuracy')\n",
        "Decision_rfecv_model = Decision_rfecv.fit(X_train,y_train)"
      ]
    },
    {
      "cell_type": "code",
      "execution_count": 41,
      "id": "55aed121-f5dc-4a23-9c12-83c79f104fab",
      "metadata": {
        "id": "55aed121-f5dc-4a23-9c12-83c79f104fab",
        "outputId": "5a03165d-f825-4a31-a988-1e7b88ae2db5",
        "colab": {
          "base_uri": "https://localhost:8080/",
          "height": 0
        }
      },
      "outputs": [
        {
          "output_type": "display_data",
          "data": {
            "image/png": "[encoded data removed]",
            "text/plain": [
              "<Figure size 1152x648 with 1 Axes>"
            ]
          },
          "metadata": {
            "needs_background": "light"
          }
        }
      ],
      "source": [
        "plt.figure(figsize=(16, 9))\n",
        "plt.title('Recursive Feature Elimination with Cross-Validation', fontsize=18, fontweight='bold', pad=20)\n",
        "plt.xlabel('Number of features selected', fontsize=14, labelpad=20)\n",
        "plt.ylabel('% Correct Classification', fontsize=14, labelpad=20)\n",
        "plt.plot(range(1, len(Decision_rfecv.cv_results_['mean_test_score']) + 1), Decision_rfecv.cv_results_['mean_test_score'], color='#303F9F', linewidth=3)\n",
        "plt.show()"
      ]
    },
    {
      "cell_type": "markdown",
      "id": "d0c182fc-741b-4bc5-90cf-d91db89ecd12",
      "metadata": {
        "id": "d0c182fc-741b-4bc5-90cf-d91db89ecd12"
      },
      "source": [
        "## Decision tree - feature importance"
      ]
    },
    {
      "cell_type": "code",
      "execution_count": 42,
      "id": "439ece83-c9ce-4f77-940a-f00b144abec2",
      "metadata": {
        "id": "439ece83-c9ce-4f77-940a-f00b144abec2"
      },
      "outputs": [],
      "source": [
        "Decision_rfecv_imp = Decision_rfecv_model.estimator_.feature_importances_"
      ]
    },
    {
      "cell_type": "code",
      "execution_count": 43,
      "id": "005c0c85-16a7-47c1-b868-e333184b1bcc",
      "metadata": {
        "id": "005c0c85-16a7-47c1-b868-e333184b1bcc"
      },
      "outputs": [],
      "source": [
        "X_D = X_train.copy()\n",
        "X_D_Dropped = X_D.drop(X_D.columns[np.where(Decision_rfecv.support_ == False)[0]], axis=1, inplace=True)\n"
      ]
    },
    {
      "cell_type": "code",
      "execution_count": 44,
      "id": "272f6b65-2476-4536-85d8-da81ddb7c75c",
      "metadata": {
        "id": "272f6b65-2476-4536-85d8-da81ddb7c75c"
      },
      "outputs": [],
      "source": [
        "#Get the col names of Decision tree\n",
        "d_colname=list(X_D.columns)\n",
        "#d_colname"
      ]
    },
    {
      "cell_type": "code",
      "execution_count": 45,
      "id": "adad34c2-b514-4cd4-ac11-7d0ca5c23095",
      "metadata": {
        "id": "adad34c2-b514-4cd4-ac11-7d0ca5c23095"
      },
      "outputs": [],
      "source": [
        "#Create dict for datafram\n",
        "rfecv_dict={'Feature':d_colname,'Importance':Decision_rfecv_imp}\n",
        "\n",
        "#Create dataframe\n",
        "rfecv_feature_imp=pd.DataFrame(rfecv_dict).sort_values(by='Importance',ascending = False)"
      ]
    },
    {
      "cell_type": "code",
      "execution_count": 46,
      "id": "2dadca32-3bdd-4d34-9c73-71febee6dc86",
      "metadata": {
        "id": "2dadca32-3bdd-4d34-9c73-71febee6dc86",
        "outputId": "7539f310-429c-4144-e191-04ecb69e1ffb",
        "colab": {
          "base_uri": "https://localhost:8080/",
          "height": 0
        }
      },
      "outputs": [
        {
          "output_type": "execute_result",
          "data": {
            "text/html": [
              "\n",
              "  <div id=\"df-582b0b42-4a39-4a1c-8f12-d02e06d0e62f\">\n",
              "    <div class=\"colab-df-container\">\n",
              "      <div>\n",
              "<style scoped>\n",
              "    .dataframe tbody tr th:only-of-type {\n",
              "        vertical-align: middle;\n",
              "    }\n",
              "\n",
              "    .dataframe tbody tr th {\n",
              "        vertical-align: top;\n",
              "    }\n",
              "\n",
              "    .dataframe thead th {\n",
              "        text-align: right;\n",
              "    }\n",
              "</style>\n",
              "<table border=\"1\" class=\"dataframe\">\n",
              "  <thead>\n",
              "    <tr style=\"text-align: right;\">\n",
              "      <th></th>\n",
              "      <th>Feature</th>\n",
              "      <th>Importance</th>\n",
              "    </tr>\n",
              "  </thead>\n",
              "  <tbody>\n",
              "    <tr>\n",
              "      <th>4</th>\n",
              "      <td>Contract_Month-to-month</td>\n",
              "      <td>0.513778</td>\n",
              "    </tr>\n",
              "    <tr>\n",
              "      <th>0</th>\n",
              "      <td>tenure</td>\n",
              "      <td>0.184178</td>\n",
              "    </tr>\n",
              "    <tr>\n",
              "      <th>3</th>\n",
              "      <td>InternetService_Fiber optic</td>\n",
              "      <td>0.157873</td>\n",
              "    </tr>\n",
              "    <tr>\n",
              "      <th>2</th>\n",
              "      <td>TotalCharges</td>\n",
              "      <td>0.075332</td>\n",
              "    </tr>\n",
              "    <tr>\n",
              "      <th>1</th>\n",
              "      <td>MonthlyCharges</td>\n",
              "      <td>0.068839</td>\n",
              "    </tr>\n",
              "  </tbody>\n",
              "</table>\n",
              "</div>\n",
              "      <button class=\"colab-df-convert\" onclick=\"convertToInteractive('df-582b0b42-4a39-4a1c-8f12-d02e06d0e62f')\"\n",
              "              title=\"Convert this dataframe to an interactive table.\"\n",
              "              style=\"display:none;\">\n",
              "        \n",
              "  <svg xmlns=\"http://www.w3.org/2000/svg\" height=\"24px\"viewBox=\"0 0 24 24\"\n",
              "       width=\"24px\">\n",
              "    <path d=\"M0 0h24v24H0V0z\" fill=\"none\"/>\n",
              "    <path d=\"M18.56 5.44l.94 2.06.94-2.06 2.06-.94-2.06-.94-.94-2.06-.94 2.06-2.06.94zm-11 1L8.5 8.5l.94-2.06 2.06-.94-2.06-.94L8.5 2.5l-.94 2.06-2.06.94zm10 10l.94 2.06.94-2.06 2.06-.94-2.06-.94-.94-2.06-.94 2.06-2.06.94z\"/><path d=\"M17.41 7.96l-1.37-1.37c-.4-.4-.92-.59-1.43-.59-.52 0-1.04.2-1.43.59L10.3 9.45l-7.72 7.72c-.78.78-.78 2.05 0 2.83L4 21.41c.39.39.9.59 1.41.59.51 0 1.02-.2 1.41-.59l7.78-7.78 2.81-2.81c.8-.78.8-2.07 0-2.86zM5.41 20L4 18.59l7.72-7.72 1.47 1.35L5.41 20z\"/>\n",
              "  </svg>\n",
              "      </button>\n",
              "      \n",
              "  <style>\n",
              "    .colab-df-container {\n",
              "      display:flex;\n",
              "      flex-wrap:wrap;\n",
              "      gap: 12px;\n",
              "    }\n",
              "\n",
              "    .colab-df-convert {\n",
              "      background-color: #E8F0FE;\n",
              "      border: none;\n",
              "      border-radius: 50%;\n",
              "      cursor: pointer;\n",
              "      display: none;\n",
              "      fill: #1967D2;\n",
              "      height: 32px;\n",
              "      padding: 0 0 0 0;\n",
              "      width: 32px;\n",
              "    }\n",
              "\n",
              "    .colab-df-convert:hover {\n",
              "      background-color: #E2EBFA;\n",
              "      box-shadow: 0px 1px 2px rgba(60, 64, 67, 0.3), 0px 1px 3px 1px rgba(60, 64, 67, 0.15);\n",
              "      fill: #174EA6;\n",
              "    }\n",
              "\n",
              "    [theme=dark] .colab-df-convert {\n",
              "      background-color: #3B4455;\n",
              "      fill: #D2E3FC;\n",
              "    }\n",
              "\n",
              "    [theme=dark] .colab-df-convert:hover {\n",
              "      background-color: #434B5C;\n",
              "      box-shadow: 0px 1px 3px 1px rgba(0, 0, 0, 0.15);\n",
              "      filter: drop-shadow(0px 1px 2px rgba(0, 0, 0, 0.3));\n",
              "      fill: #FFFFFF;\n",
              "    }\n",
              "  </style>\n",
              "\n",
              "      <script>\n",
              "        const buttonEl =\n",
              "          document.querySelector('#df-582b0b42-4a39-4a1c-8f12-d02e06d0e62f button.colab-df-convert');\n",
              "        buttonEl.style.display =\n",
              "          google.colab.kernel.accessAllowed ? 'block' : 'none';\n",
              "\n",
              "        async function convertToInteractive(key) {\n",
              "          const element = document.querySelector('#df-582b0b42-4a39-4a1c-8f12-d02e06d0e62f');\n",
              "          const dataTable =\n",
              "            await google.colab.kernel.invokeFunction('convertToInteractive',\n",
              "                                                     [key], {});\n",
              "          if (!dataTable) return;\n",
              "\n",
              "          const docLinkHtml = 'Like what you see? Visit the ' +\n",
              "            '<a target=\"_blank\" href=https://colab.research.google.com/notebooks/data_table.ipynb>data table notebook</a>'\n",
              "            + ' to learn more about interactive tables.';\n",
              "          element.innerHTML = '';\n",
              "          dataTable['output_type'] = 'display_data';\n",
              "          await google.colab.output.renderOutput(dataTable, element);\n",
              "          const docLink = document.createElement('div');\n",
              "          docLink.innerHTML = docLinkHtml;\n",
              "          element.appendChild(docLink);\n",
              "        }\n",
              "      </script>\n",
              "    </div>\n",
              "  </div>\n",
              "  "
            ],
            "text/plain": [
              "                       Feature  Importance\n",
              "4      Contract_Month-to-month    0.513778\n",
              "0                       tenure    0.184178\n",
              "3  InternetService_Fiber optic    0.157873\n",
              "2                 TotalCharges    0.075332\n",
              "1               MonthlyCharges    0.068839"
            ]
          },
          "metadata": {},
          "execution_count": 46
        }
      ],
      "source": [
        "rfecv_feature_imp"
      ]
    },
    {
      "cell_type": "code",
      "execution_count": 47,
      "id": "0a0c1dd0-edb8-4c7a-91cf-4a8e09a2100f",
      "metadata": {
        "id": "0a0c1dd0-edb8-4c7a-91cf-4a8e09a2100f",
        "outputId": "4bc67349-3107-45ca-90cd-d2cf419dd5cf",
        "colab": {
          "base_uri": "https://localhost:8080/"
        }
      },
      "outputs": [
        {
          "output_type": "execute_result",
          "data": {
            "text/plain": [
              "35"
            ]
          },
          "metadata": {},
          "execution_count": 47
        }
      ],
      "source": [
        "len(Decision_rfecv_model.support_)"
      ]
    },
    {
      "cell_type": "code",
      "execution_count": 48,
      "id": "930bd1df-e5eb-4726-94fb-2fd1bb62e603",
      "metadata": {
        "id": "930bd1df-e5eb-4726-94fb-2fd1bb62e603",
        "outputId": "19d7a829-bfbf-4c31-9f82-03424b26ac09",
        "colab": {
          "base_uri": "https://localhost:8080/"
        }
      },
      "outputs": [
        {
          "output_type": "stream",
          "name": "stdout",
          "text": [
            "Optimal feature amount: 5\n",
            "Chosen features: ['tenure', 'MonthlyCharges', 'TotalCharges', 'InternetService_Fiber optic', 'Contract_Month-to-month']\n"
          ]
        }
      ],
      "source": [
        "#Print results\n",
        "print('Optimal feature amount:',Decision_rfecv_model.n_features_)\n",
        "# Here we look into our orignal columns to see which are listen in our Recursive model of features\n",
        "print('Chosen features:', list(X.columns[Decision_rfecv_model.support_]))"
      ]
    },
    {
      "cell_type": "markdown",
      "id": "c8cc924e-635f-4cc4-ac79-c3d34b0a4706",
      "metadata": {
        "id": "c8cc924e-635f-4cc4-ac79-c3d34b0a4706"
      },
      "source": [
        "## Decision three with cross validation - Accuracy result"
      ]
    },
    {
      "cell_type": "code",
      "execution_count": 49,
      "id": "8de1542b-ae9f-4947-a27f-4d05dcabc442",
      "metadata": {
        "scrolled": true,
        "tags": [],
        "id": "8de1542b-ae9f-4947-a27f-4d05dcabc442",
        "outputId": "0b8064f5-4b09-4d96-bc84-31de3df07c16",
        "colab": {
          "base_uri": "https://localhost:8080/"
        }
      },
      "outputs": [
        {
          "output_type": "stream",
          "name": "stdout",
          "text": [
            "              precision    recall  f1-score   support\n",
            "\n",
            "           0       0.85      0.84      0.84      1281\n",
            "           1       0.58      0.58      0.58       477\n",
            "\n",
            "    accuracy                           0.77      1758\n",
            "   macro avg       0.71      0.71      0.71      1758\n",
            "weighted avg       0.77      0.77      0.77      1758\n",
            "\n"
          ]
        }
      ],
      "source": [
        "# WE find the acuracy of our model\n",
        "dc_prediction = Decision_rfecv.predict(X_test)\n",
        "print(classification_report(y_test, dc_prediction))"
      ]
    },
    {
      "cell_type": "code",
      "execution_count": 50,
      "id": "0fb1b4d4-5b3e-46ad-a58b-af7ca797344b",
      "metadata": {
        "id": "0fb1b4d4-5b3e-46ad-a58b-af7ca797344b",
        "outputId": "16ab193c-dd46-44eb-95ba-9b482486643a",
        "colab": {
          "base_uri": "https://localhost:8080/"
        }
      },
      "outputs": [
        {
          "output_type": "stream",
          "name": "stdout",
          "text": [
            "Accuracy of Decision tree classifier on test set: 0.77361\n"
          ]
        }
      ],
      "source": [
        "print('Accuracy of Decision tree classifier on test set: {:.5f}'.format(Decision_rfecv.score(X_test, y_test)))"
      ]
    },
    {
      "cell_type": "markdown",
      "id": "502cb43b-7922-4411-b61f-15926570b363",
      "metadata": {
        "id": "502cb43b-7922-4411-b61f-15926570b363"
      },
      "source": [
        "## decision tree cross - confusion matrix "
      ]
    },
    {
      "cell_type": "code",
      "execution_count": 51,
      "id": "f2607263-bcf1-4fec-9961-6b9b556086c2",
      "metadata": {
        "id": "f2607263-bcf1-4fec-9961-6b9b556086c2",
        "outputId": "a5bd2d15-ed88-462d-90dc-ec9b9eddfb09",
        "colab": {
          "base_uri": "https://localhost:8080/",
          "height": 0
        }
      },
      "outputs": [
        {
          "output_type": "display_data",
          "data": {
            "image/png": "[encoded data removed]",
            "text/plain": [
              "<Figure size 288x216 with 2 Axes>"
            ]
          },
          "metadata": {
            "needs_background": "light"
          }
        }
      ],
      "source": [
        "plt.figure(figsize=(4,3))\n",
        "sns.heatmap(confusion_matrix(y_test, dc_prediction),\n",
        "                annot=True,fmt = \"d\",linecolor=\"k\",linewidths=3)\n",
        "\n",
        "plt.xlabel(\"predicted\")\n",
        "plt.ylabel(\"true\")\n",
        "plt.title(\"Decision tree with cross - CONFUSION MATRIX\",fontsize=14)\n",
        "plt.show()"
      ]
    },
    {
      "cell_type": "markdown",
      "id": "1c926b57-3e54-4cfa-8f1b-281cb737362c",
      "metadata": {
        "id": "1c926b57-3e54-4cfa-8f1b-281cb737362c"
      },
      "source": [
        "## Random forrest - without cross validation"
      ]
    },
    {
      "cell_type": "code",
      "execution_count": 52,
      "id": "050a0a18-376f-46a8-a753-0c3ca841004d",
      "metadata": {
        "id": "050a0a18-376f-46a8-a753-0c3ca841004d",
        "outputId": "aba055fb-3d5d-495a-cd64-a54d59a108b9",
        "colab": {
          "base_uri": "https://localhost:8080/"
        }
      },
      "outputs": [
        {
          "output_type": "execute_result",
          "data": {
            "text/plain": [
              "(5274, 35)"
            ]
          },
          "metadata": {},
          "execution_count": 52
        }
      ],
      "source": [
        "X_train.shape"
      ]
    },
    {
      "cell_type": "code",
      "execution_count": 53,
      "id": "bfae155d-7b11-47c4-9648-0884cb3441ce",
      "metadata": {
        "id": "bfae155d-7b11-47c4-9648-0884cb3441ce"
      },
      "outputs": [],
      "source": [
        "# Create random forest classifer object that uses entropy - very slow\n",
        "rfc = RandomForestClassifier(criterion='entropy', random_state=0, n_jobs=-1 , n_estimators=200 , max_depth=10)\n",
        "# Train model\n",
        "rfc_model = rfc.fit(X_train, y_train)\n",
        "# Predict    \n",
        "y_pred_rfc = rfc_model.predict(X_test)"
      ]
    },
    {
      "cell_type": "code",
      "execution_count": 54,
      "id": "0a607971-a18c-444b-a5d0-fc8d7a50cb84",
      "metadata": {
        "id": "0a607971-a18c-444b-a5d0-fc8d7a50cb84",
        "outputId": "72367dd3-6a2c-4a00-9d25-ada8b0494ad1",
        "colab": {
          "base_uri": "https://localhost:8080/"
        }
      },
      "outputs": [
        {
          "output_type": "stream",
          "name": "stdout",
          "text": [
            "Accuracy of random forest classifier on test set: 0.79295\n"
          ]
        }
      ],
      "source": [
        "print('Accuracy of random forest classifier on test set: {:.5f}'.format(rfc_model.score(X_test, y_test)))"
      ]
    },
    {
      "cell_type": "markdown",
      "id": "02f8008f-0ead-4779-bb99-8bfba1da744e",
      "metadata": {
        "id": "02f8008f-0ead-4779-bb99-8bfba1da744e"
      },
      "source": [
        "### rf accuracy result"
      ]
    },
    {
      "cell_type": "code",
      "execution_count": 55,
      "id": "d82cc897-c401-4671-a41b-269ebe38e80c",
      "metadata": {
        "id": "d82cc897-c401-4671-a41b-269ebe38e80c",
        "outputId": "1b31ae2b-d22f-4bfc-ff92-a16e3afcbd17",
        "colab": {
          "base_uri": "https://localhost:8080/"
        }
      },
      "outputs": [
        {
          "output_type": "stream",
          "name": "stdout",
          "text": [
            "              precision    recall  f1-score   support\n",
            "\n",
            "           0     0.8330    0.8954    0.8631      1281\n",
            "           1     0.6483    0.5178    0.5758       477\n",
            "\n",
            "    accuracy                         0.7929      1758\n",
            "   macro avg     0.7406    0.7066    0.7194      1758\n",
            "weighted avg     0.7829    0.7929    0.7851      1758\n",
            "\n"
          ]
        }
      ],
      "source": [
        "print(classification_report(y_test,y_pred_rfc,digits=4))"
      ]
    },
    {
      "cell_type": "code",
      "execution_count": 56,
      "id": "d2f40981-1d86-431f-b39a-220e0d92a274",
      "metadata": {
        "id": "d2f40981-1d86-431f-b39a-220e0d92a274"
      },
      "outputs": [],
      "source": [
        "rfc_imp=list(rfc_model.feature_importances_)"
      ]
    },
    {
      "cell_type": "code",
      "execution_count": 57,
      "id": "982864af-d056-486a-8606-3f10c947a762",
      "metadata": {
        "id": "982864af-d056-486a-8606-3f10c947a762"
      },
      "outputs": [],
      "source": [
        "\n",
        "rfc_colname=list(X_train.columns)\n",
        "\n",
        "#Create dict for datafram\n",
        "rfc_dict={'Feature':rfc_colname,'Importance':rfc_imp}\n",
        "\n",
        "#Create dataframe\n",
        "rfc_feature_imp=pd.DataFrame(rfc_dict)"
      ]
    },
    {
      "cell_type": "code",
      "execution_count": 58,
      "id": "f5f76409-e031-4ee7-b8d7-81598cc64a09",
      "metadata": {
        "id": "f5f76409-e031-4ee7-b8d7-81598cc64a09"
      },
      "outputs": [],
      "source": [
        "rfc_feature_rank=rfc_feature_imp.sort_values(by='Importance',ascending = False)"
      ]
    },
    {
      "cell_type": "markdown",
      "id": "b7694a50-3443-4f01-ad98-3d018d377be2",
      "metadata": {
        "id": "b7694a50-3443-4f01-ad98-3d018d377be2"
      },
      "source": [
        "## rf - feature importance - result"
      ]
    },
    {
      "cell_type": "code",
      "execution_count": 59,
      "id": "2ff264c1-ee2e-49c5-8246-d93488383b7e",
      "metadata": {
        "id": "2ff264c1-ee2e-49c5-8246-d93488383b7e",
        "outputId": "b29986d8-0417-4ba1-c3a1-586d84097f1a",
        "colab": {
          "base_uri": "https://localhost:8080/",
          "height": 0
        }
      },
      "outputs": [
        {
          "output_type": "execute_result",
          "data": {
            "text/html": [
              "\n",
              "  <div id=\"df-4c0eb0f3-4859-48fa-994d-b95c9ad6edcc\">\n",
              "    <div class=\"colab-df-container\">\n",
              "      <div>\n",
              "<style scoped>\n",
              "    .dataframe tbody tr th:only-of-type {\n",
              "        vertical-align: middle;\n",
              "    }\n",
              "\n",
              "    .dataframe tbody tr th {\n",
              "        vertical-align: top;\n",
              "    }\n",
              "\n",
              "    .dataframe thead th {\n",
              "        text-align: right;\n",
              "    }\n",
              "</style>\n",
              "<table border=\"1\" class=\"dataframe\">\n",
              "  <thead>\n",
              "    <tr style=\"text-align: right;\">\n",
              "      <th></th>\n",
              "      <th>Feature</th>\n",
              "      <th>Importance</th>\n",
              "    </tr>\n",
              "  </thead>\n",
              "  <tbody>\n",
              "    <tr>\n",
              "      <th>0</th>\n",
              "      <td>tenure</td>\n",
              "      <td>0.142877</td>\n",
              "    </tr>\n",
              "    <tr>\n",
              "      <th>2</th>\n",
              "      <td>TotalCharges</td>\n",
              "      <td>0.128465</td>\n",
              "    </tr>\n",
              "    <tr>\n",
              "      <th>1</th>\n",
              "      <td>MonthlyCharges</td>\n",
              "      <td>0.112428</td>\n",
              "    </tr>\n",
              "    <tr>\n",
              "      <th>26</th>\n",
              "      <td>Contract_Month-to-month</td>\n",
              "      <td>0.106986</td>\n",
              "    </tr>\n",
              "    <tr>\n",
              "      <th>28</th>\n",
              "      <td>Contract_Two year</td>\n",
              "      <td>0.057029</td>\n",
              "    </tr>\n",
              "    <tr>\n",
              "      <th>12</th>\n",
              "      <td>InternetService_Fiber optic</td>\n",
              "      <td>0.051353</td>\n",
              "    </tr>\n",
              "    <tr>\n",
              "      <th>33</th>\n",
              "      <td>PaymentMethod_Electronic check</td>\n",
              "      <td>0.038923</td>\n",
              "    </tr>\n",
              "    <tr>\n",
              "      <th>13</th>\n",
              "      <td>InternetService_No</td>\n",
              "      <td>0.026627</td>\n",
              "    </tr>\n",
              "    <tr>\n",
              "      <th>27</th>\n",
              "      <td>Contract_One year</td>\n",
              "      <td>0.022125</td>\n",
              "    </tr>\n",
              "    <tr>\n",
              "      <th>11</th>\n",
              "      <td>InternetService_DSL</td>\n",
              "      <td>0.017090</td>\n",
              "    </tr>\n",
              "  </tbody>\n",
              "</table>\n",
              "</div>\n",
              "      <button class=\"colab-df-convert\" onclick=\"convertToInteractive('df-4c0eb0f3-4859-48fa-994d-b95c9ad6edcc')\"\n",
              "              title=\"Convert this dataframe to an interactive table.\"\n",
              "              style=\"display:none;\">\n",
              "        \n",
              "  <svg xmlns=\"http://www.w3.org/2000/svg\" height=\"24px\"viewBox=\"0 0 24 24\"\n",
              "       width=\"24px\">\n",
              "    <path d=\"M0 0h24v24H0V0z\" fill=\"none\"/>\n",
              "    <path d=\"M18.56 5.44l.94 2.06.94-2.06 2.06-.94-2.06-.94-.94-2.06-.94 2.06-2.06.94zm-11 1L8.5 8.5l.94-2.06 2.06-.94-2.06-.94L8.5 2.5l-.94 2.06-2.06.94zm10 10l.94 2.06.94-2.06 2.06-.94-2.06-.94-.94-2.06-.94 2.06-2.06.94z\"/><path d=\"M17.41 7.96l-1.37-1.37c-.4-.4-.92-.59-1.43-.59-.52 0-1.04.2-1.43.59L10.3 9.45l-7.72 7.72c-.78.78-.78 2.05 0 2.83L4 21.41c.39.39.9.59 1.41.59.51 0 1.02-.2 1.41-.59l7.78-7.78 2.81-2.81c.8-.78.8-2.07 0-2.86zM5.41 20L4 18.59l7.72-7.72 1.47 1.35L5.41 20z\"/>\n",
              "  </svg>\n",
              "      </button>\n",
              "      \n",
              "  <style>\n",
              "    .colab-df-container {\n",
              "      display:flex;\n",
              "      flex-wrap:wrap;\n",
              "      gap: 12px;\n",
              "    }\n",
              "\n",
              "    .colab-df-convert {\n",
              "      background-color: #E8F0FE;\n",
              "      border: none;\n",
              "      border-radius: 50%;\n",
              "      cursor: pointer;\n",
              "      display: none;\n",
              "      fill: #1967D2;\n",
              "      height: 32px;\n",
              "      padding: 0 0 0 0;\n",
              "      width: 32px;\n",
              "    }\n",
              "\n",
              "    .colab-df-convert:hover {\n",
              "      background-color: #E2EBFA;\n",
              "      box-shadow: 0px 1px 2px rgba(60, 64, 67, 0.3), 0px 1px 3px 1px rgba(60, 64, 67, 0.15);\n",
              "      fill: #174EA6;\n",
              "    }\n",
              "\n",
              "    [theme=dark] .colab-df-convert {\n",
              "      background-color: #3B4455;\n",
              "      fill: #D2E3FC;\n",
              "    }\n",
              "\n",
              "    [theme=dark] .colab-df-convert:hover {\n",
              "      background-color: #434B5C;\n",
              "      box-shadow: 0px 1px 3px 1px rgba(0, 0, 0, 0.15);\n",
              "      filter: drop-shadow(0px 1px 2px rgba(0, 0, 0, 0.3));\n",
              "      fill: #FFFFFF;\n",
              "    }\n",
              "  </style>\n",
              "\n",
              "      <script>\n",
              "        const buttonEl =\n",
              "          document.querySelector('#df-4c0eb0f3-4859-48fa-994d-b95c9ad6edcc button.colab-df-convert');\n",
              "        buttonEl.style.display =\n",
              "          google.colab.kernel.accessAllowed ? 'block' : 'none';\n",
              "\n",
              "        async function convertToInteractive(key) {\n",
              "          const element = document.querySelector('#df-4c0eb0f3-4859-48fa-994d-b95c9ad6edcc');\n",
              "          const dataTable =\n",
              "            await google.colab.kernel.invokeFunction('convertToInteractive',\n",
              "                                                     [key], {});\n",
              "          if (!dataTable) return;\n",
              "\n",
              "          const docLinkHtml = 'Like what you see? Visit the ' +\n",
              "            '<a target=\"_blank\" href=https://colab.research.google.com/notebooks/data_table.ipynb>data table notebook</a>'\n",
              "            + ' to learn more about interactive tables.';\n",
              "          element.innerHTML = '';\n",
              "          dataTable['output_type'] = 'display_data';\n",
              "          await google.colab.output.renderOutput(dataTable, element);\n",
              "          const docLink = document.createElement('div');\n",
              "          docLink.innerHTML = docLinkHtml;\n",
              "          element.appendChild(docLink);\n",
              "        }\n",
              "      </script>\n",
              "    </div>\n",
              "  </div>\n",
              "  "
            ],
            "text/plain": [
              "                           Feature  Importance\n",
              "0                           tenure    0.142877\n",
              "2                     TotalCharges    0.128465\n",
              "1                   MonthlyCharges    0.112428\n",
              "26         Contract_Month-to-month    0.106986\n",
              "28               Contract_Two year    0.057029\n",
              "12     InternetService_Fiber optic    0.051353\n",
              "33  PaymentMethod_Electronic check    0.038923\n",
              "13              InternetService_No    0.026627\n",
              "27               Contract_One year    0.022125\n",
              "11             InternetService_DSL    0.017090"
            ]
          },
          "metadata": {},
          "execution_count": 59
        }
      ],
      "source": [
        "rfc_feature_rank.head(10)"
      ]
    },
    {
      "cell_type": "markdown",
      "id": "9fad7ec5-2082-4003-a2b1-5fcb419e7347",
      "metadata": {
        "id": "9fad7ec5-2082-4003-a2b1-5fcb419e7347"
      },
      "source": [
        "# rf - confusion matrix - result"
      ]
    },
    {
      "cell_type": "code",
      "execution_count": 60,
      "id": "5909d8df-1953-4d48-b6a1-288d4199fdbf",
      "metadata": {
        "id": "5909d8df-1953-4d48-b6a1-288d4199fdbf",
        "outputId": "56f6b67f-7de0-4403-9323-9553270ccc96",
        "colab": {
          "base_uri": "https://localhost:8080/",
          "height": 242
        }
      },
      "outputs": [
        {
          "output_type": "display_data",
          "data": {
            "image/png": "[encoded data removed]",
            "text/plain": [
              "<Figure size 288x216 with 2 Axes>"
            ]
          },
          "metadata": {
            "needs_background": "light"
          }
        }
      ],
      "source": [
        "plt.figure(figsize=(4,3))\n",
        "sns.heatmap(confusion_matrix(y_test, y_pred_rfc),\n",
        "                annot=True,fmt = \"d\",linecolor=\"k\",linewidths=3)\n",
        "plt.xlabel(\"predicted\")\n",
        "plt.ylabel(\"true\")\n",
        "plt.title(\"RANDOM FOREST without cross - CONFUSION MATRIX\",fontsize=14)\n",
        "plt.show()"
      ]
    },
    {
      "cell_type": "markdown",
      "id": "68a59f5c-4dd3-4741-9445-80f1f110b352",
      "metadata": {
        "id": "68a59f5c-4dd3-4741-9445-80f1f110b352"
      },
      "source": [
        "# Random forest with cross validation"
      ]
    },
    {
      "cell_type": "code",
      "execution_count": 61,
      "id": "c026b64f-a471-4b3f-b656-e6884b8de317",
      "metadata": {
        "id": "c026b64f-a471-4b3f-b656-e6884b8de317",
        "outputId": "d9095a2c-7ab0-4bf3-ec19-18ab939c67bd",
        "colab": {
          "base_uri": "https://localhost:8080/"
        }
      },
      "outputs": [
        {
          "output_type": "execute_result",
          "data": {
            "text/plain": [
              "(7032, 35)"
            ]
          },
          "metadata": {},
          "execution_count": 61
        }
      ],
      "source": [
        "X.shape"
      ]
    },
    {
      "cell_type": "code",
      "execution_count": null,
      "id": "fa49eb03-ed82-4c99-b021-d434c5995a30",
      "metadata": {
        "id": "fa49eb03-ed82-4c99-b021-d434c5995a30"
      },
      "outputs": [],
      "source": [
        "rfc = RandomForestClassifier(criterion='entropy', random_state=0, n_jobs=-1,n_estimators=200,max_depth=10)\n",
        "# Train model with Cross validation\n",
        "rfecv = RFECV(estimator=rfc, step=1, cv=StratifiedKFold(5, random_state=100, shuffle=True), scoring='accuracy')\n",
        "\n",
        "rfecv_model = rfecv.fit(X_train, y_train)\n",
        "# Predict    \n",
        "y_pred_rfcv = rfecv_model.predict(X_test)"
      ]
    },
    {
      "cell_type": "code",
      "execution_count": null,
      "id": "5393508c-c0d4-49fd-93de-3dbf9f452e90",
      "metadata": {
        "id": "5393508c-c0d4-49fd-93de-3dbf9f452e90"
      },
      "outputs": [],
      "source": [
        "#Print results\n",
        "print('Optimal feature amount:',rfecv_model.n_features_)\n",
        "# Here we look into our orignal columns to see which are listen in our Recursive model of features\n",
        "print('Chosen features:', list(X.columns[rfecv_model.support_]))"
      ]
    },
    {
      "cell_type": "code",
      "execution_count": null,
      "id": "38345dc9-c0ac-4d94-9d38-630c983a9de7",
      "metadata": {
        "id": "38345dc9-c0ac-4d94-9d38-630c983a9de7"
      },
      "outputs": [],
      "source": [
        "plt.figure(figsize=(16, 9))\n",
        "plt.title('Recursive Feature Elimination with Cross-Validation', fontsize=18, fontweight='bold', pad=20)\n",
        "plt.xlabel('Number of features selected', fontsize=14, labelpad=20)\n",
        "plt.ylabel('% Correct Classification', fontsize=14, labelpad=20)\n",
        "plt.plot(range(1, len(rfecv_model.cv_results_['mean_test_score']) + 1), rfecv_model.cv_results_['mean_test_score'], color='#303F9F', linewidth=3)\n",
        "plt.show()"
      ]
    },
    {
      "cell_type": "markdown",
      "id": "fa975c9f-2cd8-40c6-a567-5bc65f0b1bdd",
      "metadata": {
        "id": "fa975c9f-2cd8-40c6-a567-5bc65f0b1bdd"
      },
      "source": [
        "### rf feature importance cross - result"
      ]
    },
    {
      "cell_type": "code",
      "execution_count": null,
      "id": "3ba26661-7280-4f42-89ac-1c62daaa9734",
      "metadata": {
        "id": "3ba26661-7280-4f42-89ac-1c62daaa9734"
      },
      "outputs": [],
      "source": [
        "rfecv_imp = rfecv_model.estimator_.feature_importances_"
      ]
    },
    {
      "cell_type": "code",
      "execution_count": null,
      "id": "f8a0f0f4-c423-4f1f-8bbe-201c4f793713",
      "metadata": {
        "id": "f8a0f0f4-c423-4f1f-8bbe-201c4f793713"
      },
      "outputs": [],
      "source": [
        "#Show which index should be deleted\n",
        "#print(np.where(rfecv.support_ == False)[0])"
      ]
    },
    {
      "cell_type": "code",
      "execution_count": null,
      "id": "07abd422-29d3-44ad-bed0-e4a845ed8158",
      "metadata": {
        "id": "07abd422-29d3-44ad-bed0-e4a845ed8158"
      },
      "outputs": [],
      "source": [
        "len(X.columns)"
      ]
    },
    {
      "cell_type": "code",
      "execution_count": null,
      "id": "c51c4898-2813-4727-8e3f-882d3ce9b763",
      "metadata": {
        "id": "c51c4898-2813-4727-8e3f-882d3ce9b763"
      },
      "outputs": [],
      "source": [
        "#Remove the none important features\n",
        "X_rf = X_train.copy()\n",
        "X_Dropped =  (len(X_rf.columns) != 32) and X_rf.drop(X_rf.columns[np.where(rfecv.support_ == False)[0]], axis=1, inplace=True)"
      ]
    },
    {
      "cell_type": "code",
      "execution_count": null,
      "id": "a3a33141-da4a-49ab-8aca-f3a193fa75d0",
      "metadata": {
        "id": "a3a33141-da4a-49ab-8aca-f3a193fa75d0"
      },
      "outputs": [],
      "source": [
        "len(X_rf.columns)"
      ]
    },
    {
      "cell_type": "code",
      "execution_count": null,
      "id": "06de6319-2d6c-471d-8308-a59ad975edf1",
      "metadata": {
        "id": "06de6319-2d6c-471d-8308-a59ad975edf1"
      },
      "outputs": [],
      "source": [
        "rfecv_colname=list(X_rf.columns)"
      ]
    },
    {
      "cell_type": "code",
      "execution_count": null,
      "id": "b2f0b346-fe9c-40d4-90c0-8014bfed2f2c",
      "metadata": {
        "id": "b2f0b346-fe9c-40d4-90c0-8014bfed2f2c"
      },
      "outputs": [],
      "source": [
        "#Create dict for datafram\n",
        "rfecv_dict={'Feature':rfecv_colname,'Importance':rfecv_imp}\n",
        "\n",
        "#Create dataframe\n",
        "rfecv_feature_imp=pd.DataFrame(rfecv_dict)"
      ]
    },
    {
      "cell_type": "code",
      "execution_count": null,
      "id": "6c8ef655-9d5f-4539-9d99-a99ebf7c087b",
      "metadata": {
        "id": "6c8ef655-9d5f-4539-9d99-a99ebf7c087b"
      },
      "outputs": [],
      "source": [
        "rfecv_feature_rank = rfecv_feature_imp.sort_values(by='Importance',ascending = False)"
      ]
    },
    {
      "cell_type": "code",
      "execution_count": null,
      "id": "c957cc6a-f78b-4533-b6b4-ec463b88de98",
      "metadata": {
        "id": "c957cc6a-f78b-4533-b6b4-ec463b88de98"
      },
      "outputs": [],
      "source": [
        "rfecv_feature_rank.head(10)"
      ]
    },
    {
      "cell_type": "markdown",
      "id": "846a7c6b-e976-46c0-b007-af4fc5614ff6",
      "metadata": {
        "id": "846a7c6b-e976-46c0-b007-af4fc5614ff6"
      },
      "source": [
        "## rf accuracy cross result"
      ]
    },
    {
      "cell_type": "code",
      "execution_count": null,
      "id": "ab142186-7674-4856-939e-022df0e41f8c",
      "metadata": {
        "id": "ab142186-7674-4856-939e-022df0e41f8c"
      },
      "outputs": [],
      "source": [
        "print('Accuracy of random forest classifier on test set: {:.5f}'.format(rfecv_model.score(X_test, y_test)))"
      ]
    },
    {
      "cell_type": "code",
      "execution_count": null,
      "id": "d4ee901d-ef3d-4156-abe1-b335344fbcb7",
      "metadata": {
        "tags": [],
        "id": "d4ee901d-ef3d-4156-abe1-b335344fbcb7"
      },
      "outputs": [],
      "source": [
        "print(classification_report(y_test,y_pred_rfcv, digits=4))"
      ]
    },
    {
      "cell_type": "markdown",
      "id": "59b4d7cc-0e1f-4015-ba68-9ea41efcb30f",
      "metadata": {
        "id": "59b4d7cc-0e1f-4015-ba68-9ea41efcb30f"
      },
      "source": [
        "## rf cross - confusion matrix - result"
      ]
    },
    {
      "cell_type": "code",
      "execution_count": null,
      "id": "a0449c6c-4d05-463c-a889-b7cbcee685ca",
      "metadata": {
        "id": "a0449c6c-4d05-463c-a889-b7cbcee685ca"
      },
      "outputs": [],
      "source": [
        "confusion_matrix(\n",
        "        y_test,\n",
        "        y_pred_rfcv,\n",
        "    )"
      ]
    },
    {
      "cell_type": "code",
      "execution_count": null,
      "id": "5e5d97b9-0cc0-4ddd-bd3c-519fa4354d13",
      "metadata": {
        "id": "5e5d97b9-0cc0-4ddd-bd3c-519fa4354d13"
      },
      "outputs": [],
      "source": [
        "confusion_matrix(y_test,y_pred_rfcv)"
      ]
    },
    {
      "cell_type": "code",
      "execution_count": null,
      "id": "69ce8158-a981-48ed-93cb-f5aa6dae50e0",
      "metadata": {
        "tags": [],
        "id": "69ce8158-a981-48ed-93cb-f5aa6dae50e0"
      },
      "outputs": [],
      "source": [
        "# Call confusion_matrix function from sklearn.metrics using actual y_test and predicted y_test data sets \n",
        "plt.figure(figsize=(4,3))\n",
        "sns.heatmap(\n",
        "    confusion_matrix(\n",
        "        y_pred_rfcv,\n",
        "        y_test\n",
        "    ),\n",
        "    annot=True,\n",
        "    fmt = \"d\",\n",
        "    linewidths=3\n",
        ")\n",
        "plt.xlabel(\"predicted\")\n",
        "plt.ylabel(\"true\")\n",
        "plt.title(\"RANDOM FOREST with cross - CONFUSION MATRIX\",fontsize=14)\n",
        "plt.show()"
      ]
    },
    {
      "cell_type": "markdown",
      "id": "5a8a5e3c-39bd-4041-b144-c4a32c696041",
      "metadata": {
        "id": "5a8a5e3c-39bd-4041-b144-c4a32c696041"
      },
      "source": [
        "# Logistic regression"
      ]
    },
    {
      "cell_type": "markdown",
      "id": "681311a3-fd17-4c0f-b3cd-f06c71a7ecb2",
      "metadata": {
        "id": "681311a3-fd17-4c0f-b3cd-f06c71a7ecb2"
      },
      "source": [
        "## Logistic regression - without RFECV"
      ]
    },
    {
      "cell_type": "code",
      "execution_count": null,
      "id": "583fecc2-e8be-4dee-9067-44690ce456c4",
      "metadata": {
        "id": "583fecc2-e8be-4dee-9067-44690ce456c4"
      },
      "outputs": [],
      "source": [
        "# Create classifier with logistic regression\n",
        "logreg = LogisticRegression(random_state=50)\n"
      ]
    },
    {
      "cell_type": "code",
      "execution_count": null,
      "id": "27dec0f1-b9e4-4c84-b739-4c8c5a3248f6",
      "metadata": {
        "id": "27dec0f1-b9e4-4c84-b739-4c8c5a3248f6"
      },
      "outputs": [],
      "source": [
        "#Fit model\n",
        "logreg_model = logreg.fit(X_train,y_train)\n",
        "\n",
        "#Predict\n",
        "Log_y_pred_logreg = logreg_model.predict(X_test)"
      ]
    },
    {
      "cell_type": "markdown",
      "id": "3f8e344f-afbc-4a66-9e5f-6f7075258824",
      "metadata": {
        "id": "3f8e344f-afbc-4a66-9e5f-6f7075258824"
      },
      "source": [
        "## LR Accuracy without RFECV - Result"
      ]
    },
    {
      "cell_type": "code",
      "execution_count": null,
      "id": "b6bc4af3-5f23-448c-a857-f1c8744882b0",
      "metadata": {
        "id": "b6bc4af3-5f23-448c-a857-f1c8744882b0"
      },
      "outputs": [],
      "source": [
        "print('Accuracy of LR classifier on test without RFECV: {:.10f}'.format(logreg_model.score(X_test, y_test)))"
      ]
    },
    {
      "cell_type": "code",
      "execution_count": null,
      "id": "e5a36ed0-ddd8-4f3f-ae6c-f71c124033d2",
      "metadata": {
        "id": "e5a36ed0-ddd8-4f3f-ae6c-f71c124033d2"
      },
      "outputs": [],
      "source": [
        "print(classification_report(y_test,Log_y_pred_logreg, digits=4))"
      ]
    },
    {
      "cell_type": "markdown",
      "id": "3a32bb7d-0760-4763-8d99-82b16cf647b7",
      "metadata": {
        "id": "3a32bb7d-0760-4763-8d99-82b16cf647b7"
      },
      "source": [
        "## LR - without RFECV - confusion matrix - result"
      ]
    },
    {
      "cell_type": "code",
      "execution_count": null,
      "id": "b6f081d7",
      "metadata": {
        "id": "b6f081d7"
      },
      "outputs": [],
      "source": [
        "# Call confusion_matrix function from sklearn.metrics using actual y_test and predicted y_test data sets \n",
        "plt.figure(figsize=(4,3))\n",
        "sns.heatmap(\n",
        "    confusion_matrix(\n",
        "        Log_y_pred_logreg,\n",
        "        y_test\n",
        "    ),\n",
        "    annot=True,\n",
        "    fmt = \"d\",\n",
        "    linewidths=3\n",
        ")\n",
        "plt.xlabel(\"predicted\")\n",
        "plt.ylabel(\"true\")\n",
        "plt.title(\"Linear Regression without cross - CONFUSION MATRIX\",fontsize=14)\n",
        "plt.show()\n"
      ]
    },
    {
      "cell_type": "markdown",
      "id": "d81ab61f-2106-4d5f-a417-ac8bfc666586",
      "metadata": {
        "id": "d81ab61f-2106-4d5f-a417-ac8bfc666586"
      },
      "source": [
        "### Feature importance"
      ]
    },
    {
      "cell_type": "code",
      "execution_count": null,
      "id": "1db3ced9",
      "metadata": {
        "id": "1db3ced9"
      },
      "outputs": [],
      "source": [
        "importance = logreg.coef_[0]"
      ]
    },
    {
      "cell_type": "code",
      "execution_count": null,
      "id": "9fef80a2-3731-4dd1-899d-f577ed158c0f",
      "metadata": {
        "id": "9fef80a2-3731-4dd1-899d-f577ed158c0f"
      },
      "outputs": [],
      "source": [
        "log_imp=list(importance)"
      ]
    },
    {
      "cell_type": "code",
      "execution_count": null,
      "id": "0cd68f39-ac4e-40cc-af36-ea32ed4a7f50",
      "metadata": {
        "id": "0cd68f39-ac4e-40cc-af36-ea32ed4a7f50"
      },
      "outputs": [],
      "source": [
        "log_colname=list(X.columns)"
      ]
    },
    {
      "cell_type": "code",
      "execution_count": null,
      "id": "b0b78bf0",
      "metadata": {
        "id": "b0b78bf0"
      },
      "outputs": [],
      "source": [
        "#Create dict for datafram\n",
        "log_dict={'Column_Names_rfc':log_colname,'coaf':log_imp}\n",
        "\n",
        "#Create dataframe\n",
        "log_feature_imp = pd.DataFrame(log_dict)\n",
        "\n",
        "log_feature_rank = log_feature_imp.sort_values(by='coaf',ascending = False)\n",
        "\n",
        "log_feature_rank.head(10)"
      ]
    },
    {
      "cell_type": "markdown",
      "id": "eefa6d06-a30f-4d10-bf60-ed767ad1cd9e",
      "metadata": {
        "id": "eefa6d06-a30f-4d10-bf60-ed767ad1cd9e"
      },
      "source": [
        "# LR with RFECV\n"
      ]
    },
    {
      "cell_type": "code",
      "execution_count": null,
      "id": "84af7047-87ef-4e35-9321-901d6a289f14",
      "metadata": {
        "id": "84af7047-87ef-4e35-9321-901d6a289f14"
      },
      "outputs": [],
      "source": [
        "# create our LR_model\n",
        "rfecv_LR = RFECV(estimator=logreg_model, cv=StratifiedKFold(5), scoring=\"accuracy\")\n",
        "\n",
        "# Fit the model to our X and y training sets\n",
        "rfecv_model_LR = rfecv_LR.fit(X_train, y_train)\n",
        "\n",
        "#predict\n",
        "y_pred_rfcv_LR = rfecv_model_LR.predict(X_test)"
      ]
    },
    {
      "cell_type": "code",
      "execution_count": null,
      "id": "048c64d1-e9d7-4ccd-a1ed-69afb51bab3f",
      "metadata": {
        "id": "048c64d1-e9d7-4ccd-a1ed-69afb51bab3f"
      },
      "outputs": [],
      "source": [
        "#Print results\n",
        "print('Optimal feature amount:',rfecv_model_LR.n_features_)\n",
        "# Here we look into our orignal columns to see which are listen in our Recursive model of features\n",
        "print('Chosen features that have been removed:', list(X.columns[rfecv_model_LR.support_] ^ X.columns))"
      ]
    },
    {
      "cell_type": "code",
      "execution_count": null,
      "id": "bad5a3b4-136f-4462-a317-4840171cd627",
      "metadata": {
        "id": "bad5a3b4-136f-4462-a317-4840171cd627"
      },
      "outputs": [],
      "source": [
        "print('Accuracy of LR classifier on test with RFECV:: {:.10}'.format(rfecv_model_LR.score(X_test, y_test)))"
      ]
    },
    {
      "cell_type": "code",
      "execution_count": null,
      "id": "49ee5e17-dc30-4175-b38b-090b61aa746e",
      "metadata": {
        "id": "49ee5e17-dc30-4175-b38b-090b61aa746e"
      },
      "outputs": [],
      "source": [
        "print(classification_report(y_test,y_pred_rfcv_LR, digits=4))"
      ]
    },
    {
      "cell_type": "code",
      "execution_count": null,
      "id": "5badf67c-d844-45ed-9cd3-3779c52703a3",
      "metadata": {
        "id": "5badf67c-d844-45ed-9cd3-3779c52703a3"
      },
      "outputs": [],
      "source": [
        "#Get the coef\n",
        "rfecv_imp_LR = list(rfecv_model_LR.estimator_.coef_[0])"
      ]
    },
    {
      "cell_type": "code",
      "execution_count": null,
      "id": "e4b1599b-40be-4564-9dd2-690cec565701",
      "metadata": {
        "id": "e4b1599b-40be-4564-9dd2-690cec565701"
      },
      "outputs": [],
      "source": [
        "#Get Cols\n",
        "X_LR = X.copy()\n",
        "len(X_LR.columns)"
      ]
    },
    {
      "cell_type": "code",
      "execution_count": null,
      "id": "85b9ae30-7471-4e3f-a60a-89c84fc06753",
      "metadata": {
        "id": "85b9ae30-7471-4e3f-a60a-89c84fc06753"
      },
      "outputs": [],
      "source": [
        "rfecv_model_LR.support_"
      ]
    },
    {
      "cell_type": "code",
      "execution_count": null,
      "id": "6e3fdc55-5d89-4fa6-bc1f-e6e153b11fdc",
      "metadata": {
        "id": "6e3fdc55-5d89-4fa6-bc1f-e6e153b11fdc"
      },
      "outputs": [],
      "source": [
        "rfecv_colName_LR = X_LR.drop(X_LR.columns[np.where(rfecv_model_LR.support_ == False)[0]], axis=1, inplace=True)\n",
        "LR_Colnames = list(X_LR.columns)\n",
        "len(LR_Colnames)\n"
      ]
    },
    {
      "cell_type": "code",
      "execution_count": null,
      "id": "310f31bd-217a-40e8-8fcb-554e6c3c21cc",
      "metadata": {
        "id": "310f31bd-217a-40e8-8fcb-554e6c3c21cc"
      },
      "outputs": [],
      "source": [
        "#Create dict for datafram\n",
        "rfecv_dict_LR = {'Feature':LR_Colnames,'Coaf':rfecv_imp_LR}"
      ]
    },
    {
      "cell_type": "code",
      "execution_count": null,
      "id": "7b78e09a-903c-48b8-b70d-ba091ac35887",
      "metadata": {
        "id": "7b78e09a-903c-48b8-b70d-ba091ac35887"
      },
      "outputs": [],
      "source": [
        "#Create dataframe\n",
        "rfecv_feature_imp_LR = pd.DataFrame(rfecv_dict_LR)"
      ]
    },
    {
      "cell_type": "code",
      "execution_count": null,
      "id": "46c3c06a-d627-4fb8-af8a-df3eff71c801",
      "metadata": {
        "id": "46c3c06a-d627-4fb8-af8a-df3eff71c801"
      },
      "outputs": [],
      "source": [
        "# SOrt the table for coef\n",
        "rfecv_feature_coef = rfecv_feature_imp_LR.sort_values(by='Coaf',ascending = False)\n"
      ]
    },
    {
      "cell_type": "code",
      "execution_count": null,
      "id": "b6f16384-e6f5-450c-853d-6fb253465f0e",
      "metadata": {
        "id": "b6f16384-e6f5-450c-853d-6fb253465f0e"
      },
      "outputs": [],
      "source": [
        "rfecv_feature_coef"
      ]
    },
    {
      "cell_type": "code",
      "execution_count": null,
      "id": "5b1d3443-bde6-4f4c-b52e-65a6a7c03845",
      "metadata": {
        "id": "5b1d3443-bde6-4f4c-b52e-65a6a7c03845"
      },
      "outputs": [],
      "source": [
        "plt.figure(figsize=(4,3))\n",
        "sns.heatmap(confusion_matrix(y_test, y_pred_rfcv_LR),\n",
        "                annot=True,fmt = \"d\",linecolor=\"k\",linewidths=3)\n",
        "    \n",
        "plt.title(\" Decision tree with cross - CONFUSION MATRIX\",fontsize=14)\n",
        "plt.xlabel(\"predicted\")\n",
        "plt.ylabel(\"true\")\n",
        "plt.show()"
      ]
    },
    {
      "cell_type": "code",
      "execution_count": null,
      "id": "a27b6772-8ac8-407b-8c5b-6b55cf80dae1",
      "metadata": {
        "id": "a27b6772-8ac8-407b-8c5b-6b55cf80dae1"
      },
      "outputs": [],
      "source": [
        ""
      ]
    }
  ],
  "metadata": {
    "kernelspec": {
      "display_name": "Python 3 (ipykernel)",
      "language": "python",
      "name": "python3"
    },
    "language_info": {
      "codemirror_mode": {
        "name": "ipython",
        "version": 3
      },
      "file_extension": ".py",
      "mimetype": "text/x-python",
      "name": "python",
      "nbconvert_exporter": "python",
      "pygments_lexer": "ipython3",
      "version": "3.9.7"
    },
    "toc-showcode": false,
    "colab": {
      "name": "Projekt.ipynb",
      "provenance": []
    }
  },
  "nbformat": 4,
  "nbformat_minor": 5
}