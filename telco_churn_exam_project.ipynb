{
 "cells": [
  {
   "cell_type": "markdown",
   "id": "a01e561a-977a-465f-a520-090efa663139",
   "metadata": {
    "id": "a01e561a-977a-465f-a520-090efa663139"
   },
   "source": [
    "# Telco Churn predicition"
   ]
  },
  {
   "cell_type": "markdown",
   "id": "V6TG0398QVwp",
   "metadata": {
    "id": "V6TG0398QVwp"
   },
   "source": [
    "## Libraries imported"
   ]
  },
  {
   "cell_type": "code",
   "execution_count": 1,
   "id": "950c6eca-2430-4fd5-ba23-abb2cad07144",
   "metadata": {
    "colab": {
     "base_uri": "https://localhost:8080/",
     "height": 17
    },
    "id": "950c6eca-2430-4fd5-ba23-abb2cad07144",
    "outputId": "45da2df3-d053-45f0-9810-8ec564d9b8ea"
   },
   "outputs": [
    {
     "data": {
      "text/html": [
       "        <script type=\"text/javascript\">\n",
       "        window.PlotlyConfig = {MathJaxConfig: 'local'};\n",
       "        if (window.MathJax) {MathJax.Hub.Config({SVG: {font: \"STIX-Web\"}});}\n",
       "        if (typeof require !== 'undefined') {\n",
       "        require.undef(\"plotly\");\n",
       "        requirejs.config({\n",
       "            paths: {\n",
       "                'plotly': ['https://cdn.plot.ly/plotly-2.8.3.min']\n",
       "            }\n",
       "        });\n",
       "        require(['plotly'], function(Plotly) {\n",
       "            window._Plotly = Plotly;\n",
       "        });\n",
       "        }\n",
       "        </script>\n",
       "        "
      ]
     },
     "metadata": {},
     "output_type": "display_data"
    }
   ],
   "source": [
    "#import all libraries\n",
    "\n",
    "import pandas as pd\n",
    "import numpy as np\n",
    "\n",
    "from sklearn.tree import DecisionTreeClassifier\n",
    "from sklearn.model_selection import train_test_split\n",
    "import plotly.express as px\n",
    "import plotly.graph_objects as go\n",
    "from plotly.subplots import make_subplots\n",
    "from plotly.offline import plot, iplot, init_notebook_mode\n",
    "import plotly.graph_objs as go\n",
    "init_notebook_mode(connected=True)\n",
    "import graphviz\n",
    "from sklearn.tree import export_graphviz\n",
    "import matplotlib.ticker as mtick # For specifying the axes tick format \n",
    "import matplotlib.pyplot as plt\n",
    "from sklearn import svm, datasets\n",
    "from sklearn.metrics import confusion_matrix\n",
    "from sklearn.metrics import classification_report\n",
    "from sklearn.preprocessing import MinMaxScaler\n",
    "import warnings\n",
    "warnings.filterwarnings('ignore')\n",
    "pd.options.display.max_columns = None\n",
    "from sklearn.ensemble import RandomForestClassifier\n",
    "from sklearn.model_selection import StratifiedKFold\n",
    "from sklearn.feature_selection import RFECV\n",
    "from sklearn.linear_model import LogisticRegression\n",
    "import seaborn as sns\n",
    "from sklearn.model_selection import RepeatedStratifiedKFold\n",
    "from sklearn.model_selection import GridSearchCV\n",
    "from sklearn.ensemble import RandomForestClassifier\n",
    "from sklearn.datasets import make_blobs\n",
    "from sklearn.linear_model import LogisticRegression"
   ]
  },
  {
   "cell_type": "markdown",
   "id": "d621dfad-e415-48e1-8078-2c7a07c47fb2",
   "metadata": {
    "id": "d621dfad-e415-48e1-8078-2c7a07c47fb2"
   },
   "source": [
    "# Data preperation"
   ]
  },
  {
   "cell_type": "code",
   "execution_count": 2,
   "id": "9444e910-d8bd-4d2e-8735-293a3cb8da01",
   "metadata": {
    "id": "9444e910-d8bd-4d2e-8735-293a3cb8da01"
   },
   "outputs": [],
   "source": [
    "#Retrieve the Dataset from the CSV file\n",
    "pre_df = pd.read_csv('Telco_Customer_Churn.csv')"
   ]
  },
  {
   "cell_type": "code",
   "execution_count": 3,
   "id": "a6d5b4ba-a93e-440f-abc0-53b4606d189c",
   "metadata": {
    "colab": {
     "base_uri": "https://localhost:8080/",
     "height": 357
    },
    "id": "a6d5b4ba-a93e-440f-abc0-53b4606d189c",
    "outputId": "19e4f57a-718a-4ae3-ca4f-e2c844e37242"
   },
   "outputs": [
    {
     "data": {
      "text/html": [
       "<div>\n",
       "<style scoped>\n",
       "    .dataframe tbody tr th:only-of-type {\n",
       "        vertical-align: middle;\n",
       "    }\n",
       "\n",
       "    .dataframe tbody tr th {\n",
       "        vertical-align: top;\n",
       "    }\n",
       "\n",
       "    .dataframe thead th {\n",
       "        text-align: right;\n",
       "    }\n",
       "</style>\n",
       "<table border=\"1\" class=\"dataframe\">\n",
       "  <thead>\n",
       "    <tr style=\"text-align: right;\">\n",
       "      <th></th>\n",
       "      <th>customerID</th>\n",
       "      <th>gender</th>\n",
       "      <th>SeniorCitizen</th>\n",
       "      <th>Partner</th>\n",
       "      <th>Dependents</th>\n",
       "      <th>tenure</th>\n",
       "      <th>PhoneService</th>\n",
       "      <th>MultipleLines</th>\n",
       "      <th>InternetService</th>\n",
       "      <th>OnlineSecurity</th>\n",
       "      <th>OnlineBackup</th>\n",
       "      <th>DeviceProtection</th>\n",
       "      <th>TechSupport</th>\n",
       "      <th>StreamingTV</th>\n",
       "      <th>StreamingMovies</th>\n",
       "      <th>Contract</th>\n",
       "      <th>PaperlessBilling</th>\n",
       "      <th>PaymentMethod</th>\n",
       "      <th>MonthlyCharges</th>\n",
       "      <th>TotalCharges</th>\n",
       "      <th>Churn</th>\n",
       "    </tr>\n",
       "  </thead>\n",
       "  <tbody>\n",
       "    <tr>\n",
       "      <th>0</th>\n",
       "      <td>7590-VHVEG</td>\n",
       "      <td>Female</td>\n",
       "      <td>0</td>\n",
       "      <td>Yes</td>\n",
       "      <td>No</td>\n",
       "      <td>1</td>\n",
       "      <td>No</td>\n",
       "      <td>No phone service</td>\n",
       "      <td>DSL</td>\n",
       "      <td>No</td>\n",
       "      <td>Yes</td>\n",
       "      <td>No</td>\n",
       "      <td>No</td>\n",
       "      <td>No</td>\n",
       "      <td>No</td>\n",
       "      <td>Month-to-month</td>\n",
       "      <td>Yes</td>\n",
       "      <td>Electronic check</td>\n",
       "      <td>29.85</td>\n",
       "      <td>29.85</td>\n",
       "      <td>No</td>\n",
       "    </tr>\n",
       "    <tr>\n",
       "      <th>1</th>\n",
       "      <td>5575-GNVDE</td>\n",
       "      <td>Male</td>\n",
       "      <td>0</td>\n",
       "      <td>No</td>\n",
       "      <td>No</td>\n",
       "      <td>34</td>\n",
       "      <td>Yes</td>\n",
       "      <td>No</td>\n",
       "      <td>DSL</td>\n",
       "      <td>Yes</td>\n",
       "      <td>No</td>\n",
       "      <td>Yes</td>\n",
       "      <td>No</td>\n",
       "      <td>No</td>\n",
       "      <td>No</td>\n",
       "      <td>One year</td>\n",
       "      <td>No</td>\n",
       "      <td>Mailed check</td>\n",
       "      <td>56.95</td>\n",
       "      <td>1889.5</td>\n",
       "      <td>No</td>\n",
       "    </tr>\n",
       "    <tr>\n",
       "      <th>2</th>\n",
       "      <td>3668-QPYBK</td>\n",
       "      <td>Male</td>\n",
       "      <td>0</td>\n",
       "      <td>No</td>\n",
       "      <td>No</td>\n",
       "      <td>2</td>\n",
       "      <td>Yes</td>\n",
       "      <td>No</td>\n",
       "      <td>DSL</td>\n",
       "      <td>Yes</td>\n",
       "      <td>Yes</td>\n",
       "      <td>No</td>\n",
       "      <td>No</td>\n",
       "      <td>No</td>\n",
       "      <td>No</td>\n",
       "      <td>Month-to-month</td>\n",
       "      <td>Yes</td>\n",
       "      <td>Mailed check</td>\n",
       "      <td>53.85</td>\n",
       "      <td>108.15</td>\n",
       "      <td>Yes</td>\n",
       "    </tr>\n",
       "    <tr>\n",
       "      <th>3</th>\n",
       "      <td>7795-CFOCW</td>\n",
       "      <td>Male</td>\n",
       "      <td>0</td>\n",
       "      <td>No</td>\n",
       "      <td>No</td>\n",
       "      <td>45</td>\n",
       "      <td>No</td>\n",
       "      <td>No phone service</td>\n",
       "      <td>DSL</td>\n",
       "      <td>Yes</td>\n",
       "      <td>No</td>\n",
       "      <td>Yes</td>\n",
       "      <td>Yes</td>\n",
       "      <td>No</td>\n",
       "      <td>No</td>\n",
       "      <td>One year</td>\n",
       "      <td>No</td>\n",
       "      <td>Bank transfer (automatic)</td>\n",
       "      <td>42.30</td>\n",
       "      <td>1840.75</td>\n",
       "      <td>No</td>\n",
       "    </tr>\n",
       "    <tr>\n",
       "      <th>4</th>\n",
       "      <td>9237-HQITU</td>\n",
       "      <td>Female</td>\n",
       "      <td>0</td>\n",
       "      <td>No</td>\n",
       "      <td>No</td>\n",
       "      <td>2</td>\n",
       "      <td>Yes</td>\n",
       "      <td>No</td>\n",
       "      <td>Fiber optic</td>\n",
       "      <td>No</td>\n",
       "      <td>No</td>\n",
       "      <td>No</td>\n",
       "      <td>No</td>\n",
       "      <td>No</td>\n",
       "      <td>No</td>\n",
       "      <td>Month-to-month</td>\n",
       "      <td>Yes</td>\n",
       "      <td>Electronic check</td>\n",
       "      <td>70.70</td>\n",
       "      <td>151.65</td>\n",
       "      <td>Yes</td>\n",
       "    </tr>\n",
       "  </tbody>\n",
       "</table>\n",
       "</div>"
      ],
      "text/plain": [
       "   customerID  gender  SeniorCitizen Partner Dependents  tenure PhoneService  \\\n",
       "0  7590-VHVEG  Female              0     Yes         No       1           No   \n",
       "1  5575-GNVDE    Male              0      No         No      34          Yes   \n",
       "2  3668-QPYBK    Male              0      No         No       2          Yes   \n",
       "3  7795-CFOCW    Male              0      No         No      45           No   \n",
       "4  9237-HQITU  Female              0      No         No       2          Yes   \n",
       "\n",
       "      MultipleLines InternetService OnlineSecurity OnlineBackup  \\\n",
       "0  No phone service             DSL             No          Yes   \n",
       "1                No             DSL            Yes           No   \n",
       "2                No             DSL            Yes          Yes   \n",
       "3  No phone service             DSL            Yes           No   \n",
       "4                No     Fiber optic             No           No   \n",
       "\n",
       "  DeviceProtection TechSupport StreamingTV StreamingMovies        Contract  \\\n",
       "0               No          No          No              No  Month-to-month   \n",
       "1              Yes          No          No              No        One year   \n",
       "2               No          No          No              No  Month-to-month   \n",
       "3              Yes         Yes          No              No        One year   \n",
       "4               No          No          No              No  Month-to-month   \n",
       "\n",
       "  PaperlessBilling              PaymentMethod  MonthlyCharges TotalCharges  \\\n",
       "0              Yes           Electronic check           29.85        29.85   \n",
       "1               No               Mailed check           56.95       1889.5   \n",
       "2              Yes               Mailed check           53.85       108.15   \n",
       "3               No  Bank transfer (automatic)           42.30      1840.75   \n",
       "4              Yes           Electronic check           70.70       151.65   \n",
       "\n",
       "  Churn  \n",
       "0    No  \n",
       "1    No  \n",
       "2   Yes  \n",
       "3    No  \n",
       "4   Yes  "
      ]
     },
     "execution_count": 3,
     "metadata": {},
     "output_type": "execute_result"
    }
   ],
   "source": [
    "#Show the first ten rows of the dataset\n",
    "pre_df.head()"
   ]
  },
  {
   "cell_type": "code",
   "execution_count": 4,
   "id": "792ea73e-f810-41c3-b5c8-591e1c404039",
   "metadata": {
    "colab": {
     "base_uri": "https://localhost:8080/"
    },
    "id": "792ea73e-f810-41c3-b5c8-591e1c404039",
    "outputId": "9af833ef-68a1-4d6a-b9d9-e465d65e42bc"
   },
   "outputs": [
    {
     "data": {
      "text/plain": [
       "(7043, 21)"
      ]
     },
     "execution_count": 4,
     "metadata": {},
     "output_type": "execute_result"
    }
   ],
   "source": [
    "#Size of whole dataset\n",
    "pre_df.shape"
   ]
  },
  {
   "cell_type": "code",
   "execution_count": 5,
   "id": "d9f381ea-2959-4061-8524-672a4e30e5ce",
   "metadata": {
    "id": "d9f381ea-2959-4061-8524-672a4e30e5ce"
   },
   "outputs": [],
   "source": [
    "#Clean table in case of duplicates\n",
    "pre_df.drop_duplicates(inplace = True)"
   ]
  },
  {
   "cell_type": "code",
   "execution_count": 6,
   "id": "445931cf-ca6a-40bb-b86c-deac0a2d79bc",
   "metadata": {
    "colab": {
     "base_uri": "https://localhost:8080/"
    },
    "id": "445931cf-ca6a-40bb-b86c-deac0a2d79bc",
    "outputId": "4be4e710-c02d-42ea-d7c9-e6961e1e5d63"
   },
   "outputs": [
    {
     "data": {
      "text/plain": [
       "(7043, 21)"
      ]
     },
     "execution_count": 6,
     "metadata": {},
     "output_type": "execute_result"
    }
   ],
   "source": [
    "#Show none rows has been dropped\n",
    "pre_df.shape"
   ]
  },
  {
   "cell_type": "code",
   "execution_count": 7,
   "id": "4bd710c0-94bf-4189-adab-242b5495b950",
   "metadata": {
    "id": "4bd710c0-94bf-4189-adab-242b5495b950"
   },
   "outputs": [],
   "source": [
    "# Remove missing values\n",
    "pre_df.dropna(inplace = True)"
   ]
  },
  {
   "cell_type": "code",
   "execution_count": 8,
   "id": "11becc42-decf-4e62-b39c-1a5de636672c",
   "metadata": {
    "colab": {
     "base_uri": "https://localhost:8080/"
    },
    "id": "11becc42-decf-4e62-b39c-1a5de636672c",
    "outputId": "88be5315-17a9-4079-c39b-615ec65f8e77"
   },
   "outputs": [
    {
     "data": {
      "text/plain": [
       "(7043, 21)"
      ]
     },
     "execution_count": 8,
     "metadata": {},
     "output_type": "execute_result"
    }
   ],
   "source": [
    "#Show none rows has been dropped\n",
    "pre_df.shape"
   ]
  },
  {
   "cell_type": "code",
   "execution_count": 9,
   "id": "65b6dd3c-665a-477f-b141-34c7fafabe18",
   "metadata": {
    "id": "65b6dd3c-665a-477f-b141-34c7fafabe18"
   },
   "outputs": [],
   "source": [
    "# remove customer ID, because it doesn't affect the reason question\n",
    "df = pre_df.iloc[:,1:]"
   ]
  },
  {
   "cell_type": "code",
   "execution_count": 10,
   "id": "ZRTmiLbRgfmm",
   "metadata": {
    "colab": {
     "base_uri": "https://localhost:8080/",
     "height": 348
    },
    "id": "ZRTmiLbRgfmm",
    "outputId": "f74b613b-d063-4484-d417-2ce5bfdc68c3"
   },
   "outputs": [
    {
     "name": "stdout",
     "output_type": "stream",
     "text": [
      "Churn\n",
      "No     5174\n",
      "Yes    1869\n",
      "dtype: int64\n"
     ]
    },
    {
     "data": {
      "image/png": "[encoded data removed]",
      "text/plain": [
       "<Figure size 432x288 with 1 Axes>"
      ]
     },
     "metadata": {
      "needs_background": "light"
     },
     "output_type": "display_data"
    }
   ],
   "source": [
    "## make barchart BEFORE CLEANING DATA\n",
    "print(df.groupby(['Churn']).size())\n",
    "churn_plot = sns.countplot(data=df, x='Churn', order=df.Churn.value_counts().index)\n",
    "plt.ylabel('Count')\n",
    "for p in churn_plot.patches:\n",
    "    height = p.get_height()\n",
    "    churn_plot.text(p.get_x()+p.get_width()/2., height + 1,'{0:.0%}'.format(height/float(len(df))),ha=\"center\") \n",
    "plt.show()"
   ]
  },
  {
   "cell_type": "code",
   "execution_count": 11,
   "id": "de1b4846-0b85-41d9-9e42-52fa05d00b62",
   "metadata": {
    "id": "de1b4846-0b85-41d9-9e42-52fa05d00b62"
   },
   "outputs": [],
   "source": [
    "# Converting Total Charges to a numerical data type, so it is mutable \n",
    "df.TotalCharges = pd.to_numeric(df.TotalCharges, errors= 'coerce')"
   ]
  },
  {
   "cell_type": "code",
   "execution_count": 12,
   "id": "7f710a03-91aa-4b42-86ef-4a823155beed",
   "metadata": {
    "colab": {
     "base_uri": "https://localhost:8080/"
    },
    "id": "7f710a03-91aa-4b42-86ef-4a823155beed",
    "outputId": "0148ad32-3b19-4bfd-cbf1-6cc77e698e20"
   },
   "outputs": [
    {
     "data": {
      "text/plain": [
       "gender               0\n",
       "SeniorCitizen        0\n",
       "Partner              0\n",
       "Dependents           0\n",
       "tenure               0\n",
       "PhoneService         0\n",
       "MultipleLines        0\n",
       "InternetService      0\n",
       "OnlineSecurity       0\n",
       "OnlineBackup         0\n",
       "DeviceProtection     0\n",
       "TechSupport          0\n",
       "StreamingTV          0\n",
       "StreamingMovies      0\n",
       "Contract             0\n",
       "PaperlessBilling     0\n",
       "PaymentMethod        0\n",
       "MonthlyCharges       0\n",
       "TotalCharges        11\n",
       "Churn                0\n",
       "dtype: int64"
      ]
     },
     "execution_count": 12,
     "metadata": {},
     "output_type": "execute_result"
    }
   ],
   "source": [
    "#How many of the cols have a null value\n",
    "df.isnull().sum()"
   ]
  },
  {
   "cell_type": "code",
   "execution_count": 13,
   "id": "7051593a-f58c-42e5-8d27-fa490388a0ab",
   "metadata": {
    "colab": {
     "base_uri": "https://localhost:8080/"
    },
    "id": "7051593a-f58c-42e5-8d27-fa490388a0ab",
    "outputId": "1d7ec60b-f2d0-4d5a-9280-3fc77efe1fdb"
   },
   "outputs": [
    {
     "data": {
      "text/plain": [
       "(7043, 20)"
      ]
     },
     "execution_count": 13,
     "metadata": {},
     "output_type": "execute_result"
    }
   ],
   "source": [
    "# Show total amount of rows and cols\n",
    "df.shape"
   ]
  },
  {
   "cell_type": "code",
   "execution_count": 14,
   "id": "85400b2e-b7fd-4922-b358-790d107e545a",
   "metadata": {
    "colab": {
     "base_uri": "https://localhost:8080/"
    },
    "id": "85400b2e-b7fd-4922-b358-790d107e545a",
    "outputId": "976a7588-eb92-48bd-8d18-e175a2def91f"
   },
   "outputs": [
    {
     "data": {
      "text/plain": [
       "(7032, 20)"
      ]
     },
     "execution_count": 14,
     "metadata": {},
     "output_type": "execute_result"
    }
   ],
   "source": [
    "#Drop rows where they haven't stayed for more than one month because of total charge is null\n",
    "df.drop(labels=df[df['tenure'] == 0].index, axis=0, inplace=True)\n",
    "df.shape"
   ]
  },
  {
   "cell_type": "code",
   "execution_count": 15,
   "id": "e7cf5cff-0708-40f0-8690-33dbe14e0734",
   "metadata": {
    "colab": {
     "base_uri": "https://localhost:8080/"
    },
    "id": "e7cf5cff-0708-40f0-8690-33dbe14e0734",
    "outputId": "43faad08-4316-4b99-f79b-efc0e9eb35a9"
   },
   "outputs": [
    {
     "data": {
      "text/plain": [
       "gender              0\n",
       "SeniorCitizen       0\n",
       "Partner             0\n",
       "Dependents          0\n",
       "tenure              0\n",
       "PhoneService        0\n",
       "MultipleLines       0\n",
       "InternetService     0\n",
       "OnlineSecurity      0\n",
       "OnlineBackup        0\n",
       "DeviceProtection    0\n",
       "TechSupport         0\n",
       "StreamingTV         0\n",
       "StreamingMovies     0\n",
       "Contract            0\n",
       "PaperlessBilling    0\n",
       "PaymentMethod       0\n",
       "MonthlyCharges      0\n",
       "TotalCharges        0\n",
       "Churn               0\n",
       "dtype: int64"
      ]
     },
     "execution_count": 15,
     "metadata": {},
     "output_type": "execute_result"
    }
   ],
   "source": [
    "# check if we have any nulls left\n",
    "df.isnull().sum()"
   ]
  },
  {
   "cell_type": "markdown",
   "id": "13c2453a-45ff-4096-8184-8a4ab68d4bfe",
   "metadata": {
    "id": "13c2453a-45ff-4096-8184-8a4ab68d4bfe"
   },
   "source": [
    "## Features mutable"
   ]
  },
  {
   "cell_type": "code",
   "execution_count": 16,
   "id": "ed0be8d7-8b94-45c9-a127-ff6eff44667f",
   "metadata": {
    "id": "ed0be8d7-8b94-45c9-a127-ff6eff44667f"
   },
   "outputs": [],
   "source": [
    "# Make features mutable from different val to yes and no\n",
    "\n",
    "# Convert Multiple lines, Online Security, Online Backup, Device Protection, Tech support, Streaming Service, Streaming Movies, so it is mutable\n",
    "df['MultipleLines'] = df['MultipleLines'].replace(\"No phone service\", \"No\")\n",
    "df['OnlineSecurity'] = df['OnlineSecurity'].replace(\"No internet service\", \"No\")\n",
    "df['OnlineBackup'] = df['OnlineBackup'].replace(\"No internet service\", \"No\")\n",
    "df['DeviceProtection'] = df['DeviceProtection'].replace(\"No internet service\", \"No\")\n",
    "df['TechSupport'] = df['TechSupport'].replace(\"No internet service\", \"No\")\n",
    "df['StreamingTV'] = df['StreamingTV'].replace(\"No internet service\", \"No\")\n",
    "df['StreamingMovies'] = df['StreamingMovies'].replace(\"No internet service\", \"No\")\n",
    "\n",
    "#converting senior citizen into category\n",
    "df['SeniorCitizen'] = df['SeniorCitizen'].replace(1,\"Yes\")\n",
    "df['SeniorCitizen'] = df['SeniorCitizen'].replace(0,\"No\")\n",
    "df['TotalCharges'] = df['TotalCharges'].astype(float)"
   ]
  },
  {
   "cell_type": "code",
   "execution_count": 17,
   "id": "55971479-e73e-4b60-b2d7-a6bc46811a5a",
   "metadata": {
    "colab": {
     "base_uri": "https://localhost:8080/",
     "height": 340
    },
    "id": "55971479-e73e-4b60-b2d7-a6bc46811a5a",
    "outputId": "a69abe8c-34c9-4ba4-b24f-1711145948b2"
   },
   "outputs": [
    {
     "data": {
      "text/html": [
       "<div>\n",
       "<style scoped>\n",
       "    .dataframe tbody tr th:only-of-type {\n",
       "        vertical-align: middle;\n",
       "    }\n",
       "\n",
       "    .dataframe tbody tr th {\n",
       "        vertical-align: top;\n",
       "    }\n",
       "\n",
       "    .dataframe thead th {\n",
       "        text-align: right;\n",
       "    }\n",
       "</style>\n",
       "<table border=\"1\" class=\"dataframe\">\n",
       "  <thead>\n",
       "    <tr style=\"text-align: right;\">\n",
       "      <th></th>\n",
       "      <th>gender</th>\n",
       "      <th>SeniorCitizen</th>\n",
       "      <th>Partner</th>\n",
       "      <th>Dependents</th>\n",
       "      <th>tenure</th>\n",
       "      <th>PhoneService</th>\n",
       "      <th>MultipleLines</th>\n",
       "      <th>InternetService</th>\n",
       "      <th>OnlineSecurity</th>\n",
       "      <th>OnlineBackup</th>\n",
       "      <th>DeviceProtection</th>\n",
       "      <th>TechSupport</th>\n",
       "      <th>StreamingTV</th>\n",
       "      <th>StreamingMovies</th>\n",
       "      <th>Contract</th>\n",
       "      <th>PaperlessBilling</th>\n",
       "      <th>PaymentMethod</th>\n",
       "      <th>MonthlyCharges</th>\n",
       "      <th>TotalCharges</th>\n",
       "      <th>Churn</th>\n",
       "    </tr>\n",
       "  </thead>\n",
       "  <tbody>\n",
       "    <tr>\n",
       "      <th>0</th>\n",
       "      <td>Female</td>\n",
       "      <td>No</td>\n",
       "      <td>Yes</td>\n",
       "      <td>No</td>\n",
       "      <td>1</td>\n",
       "      <td>No</td>\n",
       "      <td>No</td>\n",
       "      <td>DSL</td>\n",
       "      <td>No</td>\n",
       "      <td>Yes</td>\n",
       "      <td>No</td>\n",
       "      <td>No</td>\n",
       "      <td>No</td>\n",
       "      <td>No</td>\n",
       "      <td>Month-to-month</td>\n",
       "      <td>Yes</td>\n",
       "      <td>Electronic check</td>\n",
       "      <td>29.85</td>\n",
       "      <td>29.85</td>\n",
       "      <td>No</td>\n",
       "    </tr>\n",
       "    <tr>\n",
       "      <th>1</th>\n",
       "      <td>Male</td>\n",
       "      <td>No</td>\n",
       "      <td>No</td>\n",
       "      <td>No</td>\n",
       "      <td>34</td>\n",
       "      <td>Yes</td>\n",
       "      <td>No</td>\n",
       "      <td>DSL</td>\n",
       "      <td>Yes</td>\n",
       "      <td>No</td>\n",
       "      <td>Yes</td>\n",
       "      <td>No</td>\n",
       "      <td>No</td>\n",
       "      <td>No</td>\n",
       "      <td>One year</td>\n",
       "      <td>No</td>\n",
       "      <td>Mailed check</td>\n",
       "      <td>56.95</td>\n",
       "      <td>1889.50</td>\n",
       "      <td>No</td>\n",
       "    </tr>\n",
       "    <tr>\n",
       "      <th>2</th>\n",
       "      <td>Male</td>\n",
       "      <td>No</td>\n",
       "      <td>No</td>\n",
       "      <td>No</td>\n",
       "      <td>2</td>\n",
       "      <td>Yes</td>\n",
       "      <td>No</td>\n",
       "      <td>DSL</td>\n",
       "      <td>Yes</td>\n",
       "      <td>Yes</td>\n",
       "      <td>No</td>\n",
       "      <td>No</td>\n",
       "      <td>No</td>\n",
       "      <td>No</td>\n",
       "      <td>Month-to-month</td>\n",
       "      <td>Yes</td>\n",
       "      <td>Mailed check</td>\n",
       "      <td>53.85</td>\n",
       "      <td>108.15</td>\n",
       "      <td>Yes</td>\n",
       "    </tr>\n",
       "    <tr>\n",
       "      <th>3</th>\n",
       "      <td>Male</td>\n",
       "      <td>No</td>\n",
       "      <td>No</td>\n",
       "      <td>No</td>\n",
       "      <td>45</td>\n",
       "      <td>No</td>\n",
       "      <td>No</td>\n",
       "      <td>DSL</td>\n",
       "      <td>Yes</td>\n",
       "      <td>No</td>\n",
       "      <td>Yes</td>\n",
       "      <td>Yes</td>\n",
       "      <td>No</td>\n",
       "      <td>No</td>\n",
       "      <td>One year</td>\n",
       "      <td>No</td>\n",
       "      <td>Bank transfer (automatic)</td>\n",
       "      <td>42.30</td>\n",
       "      <td>1840.75</td>\n",
       "      <td>No</td>\n",
       "    </tr>\n",
       "    <tr>\n",
       "      <th>4</th>\n",
       "      <td>Female</td>\n",
       "      <td>No</td>\n",
       "      <td>No</td>\n",
       "      <td>No</td>\n",
       "      <td>2</td>\n",
       "      <td>Yes</td>\n",
       "      <td>No</td>\n",
       "      <td>Fiber optic</td>\n",
       "      <td>No</td>\n",
       "      <td>No</td>\n",
       "      <td>No</td>\n",
       "      <td>No</td>\n",
       "      <td>No</td>\n",
       "      <td>No</td>\n",
       "      <td>Month-to-month</td>\n",
       "      <td>Yes</td>\n",
       "      <td>Electronic check</td>\n",
       "      <td>70.70</td>\n",
       "      <td>151.65</td>\n",
       "      <td>Yes</td>\n",
       "    </tr>\n",
       "  </tbody>\n",
       "</table>\n",
       "</div>"
      ],
      "text/plain": [
       "   gender SeniorCitizen Partner Dependents  tenure PhoneService MultipleLines  \\\n",
       "0  Female            No     Yes         No       1           No            No   \n",
       "1    Male            No      No         No      34          Yes            No   \n",
       "2    Male            No      No         No       2          Yes            No   \n",
       "3    Male            No      No         No      45           No            No   \n",
       "4  Female            No      No         No       2          Yes            No   \n",
       "\n",
       "  InternetService OnlineSecurity OnlineBackup DeviceProtection TechSupport  \\\n",
       "0             DSL             No          Yes               No          No   \n",
       "1             DSL            Yes           No              Yes          No   \n",
       "2             DSL            Yes          Yes               No          No   \n",
       "3             DSL            Yes           No              Yes         Yes   \n",
       "4     Fiber optic             No           No               No          No   \n",
       "\n",
       "  StreamingTV StreamingMovies        Contract PaperlessBilling  \\\n",
       "0          No              No  Month-to-month              Yes   \n",
       "1          No              No        One year               No   \n",
       "2          No              No  Month-to-month              Yes   \n",
       "3          No              No        One year               No   \n",
       "4          No              No  Month-to-month              Yes   \n",
       "\n",
       "               PaymentMethod  MonthlyCharges  TotalCharges Churn  \n",
       "0           Electronic check           29.85         29.85    No  \n",
       "1               Mailed check           56.95       1889.50    No  \n",
       "2               Mailed check           53.85        108.15   Yes  \n",
       "3  Bank transfer (automatic)           42.30       1840.75    No  \n",
       "4           Electronic check           70.70        151.65   Yes  "
      ]
     },
     "execution_count": 17,
     "metadata": {},
     "output_type": "execute_result"
    }
   ],
   "source": [
    "#Show the conversion\n",
    "df.head()"
   ]
  },
  {
   "cell_type": "markdown",
   "id": "676983e4-29fd-4d03-9b4d-9c94b6ede7bf",
   "metadata": {
    "id": "676983e4-29fd-4d03-9b4d-9c94b6ede7bf"
   },
   "source": [
    "### Pie Chart - Churn Ratio"
   ]
  },
  {
   "cell_type": "markdown",
   "id": "b95ff955-bc16-4e2e-a774-2e27b834bf48",
   "metadata": {
    "id": "b95ff955-bc16-4e2e-a774-2e27b834bf48"
   },
   "source": [
    "### Bar Chart - Churn ratio"
   ]
  },
  {
   "cell_type": "code",
   "execution_count": 18,
   "id": "f5b67c8b-ba95-412e-9f9c-c6e3685ddb5b",
   "metadata": {
    "colab": {
     "base_uri": "https://localhost:8080/",
     "height": 348
    },
    "id": "f5b67c8b-ba95-412e-9f9c-c6e3685ddb5b",
    "outputId": "ec64e5c2-6ce4-47ca-ba08-46cf20c375d3"
   },
   "outputs": [
    {
     "name": "stdout",
     "output_type": "stream",
     "text": [
      "Churn\n",
      "No     5163\n",
      "Yes    1869\n",
      "dtype: int64\n"
     ]
    },
    {
     "data": {
      "image/png": "[encoded data removed]",
      "text/plain": [
       "<Figure size 432x288 with 1 Axes>"
      ]
     },
     "metadata": {
      "needs_background": "light"
     },
     "output_type": "display_data"
    }
   ],
   "source": [
    "## make barchart / our ZeroR / Baselien\n",
    "print(df.groupby(['Churn']).size())\n",
    "churn_plot = sns.countplot(data=df, x='Churn', order=df.Churn.value_counts().index)\n",
    "plt.ylabel('Count')\n",
    "for p in churn_plot.patches:\n",
    "    height = p.get_height()\n",
    "    churn_plot.text(p.get_x()+p.get_width()/2., height + 1,'{0:.0%}'.format(height/float(len(df))),ha=\"center\") \n",
    "plt.show()"
   ]
  },
  {
   "cell_type": "code",
   "execution_count": 19,
   "id": "7745066f-cb7d-41c0-955d-304e683137ad",
   "metadata": {
    "id": "7745066f-cb7d-41c0-955d-304e683137ad"
   },
   "outputs": [],
   "source": [
    "#Convertin the predictor variable ( yes and no ) in a binary numeric variable \n",
    "df['Churn'].replace(to_replace='Yes', value=1, inplace=True)\n",
    "df['Churn'].replace(to_replace='No',  value=0, inplace=True)"
   ]
  },
  {
   "cell_type": "markdown",
   "id": "05a328f4-6240-4adf-8f8d-3226693647ba",
   "metadata": {
    "id": "05a328f4-6240-4adf-8f8d-3226693647ba"
   },
   "source": [
    "## Heatmap"
   ]
  },
  {
   "cell_type": "code",
   "execution_count": 20,
   "id": "44d125b2-f2c1-4382-b042-3652e4c66d77",
   "metadata": {
    "colab": {
     "base_uri": "https://localhost:8080/",
     "height": 495
    },
    "id": "44d125b2-f2c1-4382-b042-3652e4c66d77",
    "outputId": "6c13dbee-77e9-46a9-fe20-3de12a7e44e3"
   },
   "outputs": [
    {
     "data": {
      "image/png": "[encoded data removed]",
      "text/plain": [
       "<Figure size 2160x864 with 2 Axes>"
      ]
     },
     "metadata": {
      "needs_background": "light"
     },
     "output_type": "display_data"
    }
   ],
   "source": [
    "# Create a heat map to illustrate the correlation between feature and Churn\n",
    "\n",
    "#make figure\n",
    "plt.figure(\n",
    "    figsize=(30, 12)\n",
    ")\n",
    "\n",
    "# Make the corelation \n",
    "corr = df.apply(lambda x: pd.factorize(x)[0]).corr()\n",
    "\n",
    "# Create heatmap\n",
    "ax = sns.heatmap(corr, xticklabels=corr.columns, yticklabels=corr.columns, \n",
    "                 linewidths=.2, cmap=\"YlGnBu\", annot = True)"
   ]
  },
  {
   "cell_type": "code",
   "execution_count": 21,
   "id": "db900573-c0c4-4efe-b164-6ddacafad1c8",
   "metadata": {
    "id": "db900573-c0c4-4efe-b164-6ddacafad1c8"
   },
   "outputs": [],
   "source": [
    "# Remove the two features which doesnt have a correlation to churn\n",
    "df_new = df.drop(columns=['gender','PhoneService'])"
   ]
  },
  {
   "cell_type": "code",
   "execution_count": 22,
   "id": "adf1ab3a-94ba-484b-98ae-f0b2cdce9707",
   "metadata": {
    "colab": {
     "base_uri": "https://localhost:8080/"
    },
    "id": "adf1ab3a-94ba-484b-98ae-f0b2cdce9707",
    "outputId": "ca3a048e-97e1-4431-abd5-ac7fef504c22"
   },
   "outputs": [
    {
     "data": {
      "text/plain": [
       "(7032, 18)"
      ]
     },
     "execution_count": 22,
     "metadata": {},
     "output_type": "execute_result"
    }
   ],
   "source": [
    "#Get rows and columns count\n",
    "df_new.shape"
   ]
  },
  {
   "cell_type": "markdown",
   "id": "84bb39cf-fd62-4b85-99aa-52a4381129ba",
   "metadata": {
    "id": "84bb39cf-fd62-4b85-99aa-52a4381129ba"
   },
   "source": [
    "# Modeling"
   ]
  },
  {
   "cell_type": "markdown",
   "id": "6a2eff1f-11dc-475c-aaf1-cd09c99796dd",
   "metadata": {
    "id": "6a2eff1f-11dc-475c-aaf1-cd09c99796dd"
   },
   "source": [
    "### Premodeling"
   ]
  },
  {
   "cell_type": "code",
   "execution_count": 23,
   "id": "c6cc2831-8d93-4372-a50d-ae286d60f970",
   "metadata": {
    "id": "c6cc2831-8d93-4372-a50d-ae286d60f970"
   },
   "outputs": [],
   "source": [
    "# Remove churn for training\n",
    "Features = df_new.columns.drop('Churn')"
   ]
  },
  {
   "cell_type": "code",
   "execution_count": 24,
   "id": "6f39875a-332c-4377-a0e6-a281e8eea453",
   "metadata": {
    "id": "6f39875a-332c-4377-a0e6-a281e8eea453"
   },
   "outputs": [],
   "source": [
    "# Prepare split for the training data and the test data\n",
    "X = df_new[Features]\n",
    "y = df_new['Churn']"
   ]
  },
  {
   "cell_type": "markdown",
   "id": "807088e2-cce2-46b8-9007-969941ca7c5d",
   "metadata": {
    "id": "807088e2-cce2-46b8-9007-969941ca7c5d"
   },
   "source": [
    "Use get_dummies to add the additional features, 'Type of Sale', and 'Type'. You still want to include m2 and 'Build Year'. Note that get_dummies will only create dummy features for nominal values -- it will ignore numerical features like m2 and 'Build Year'. List the dummy features that were created for the feature 'Type'."
   ]
  },
  {
   "cell_type": "code",
   "execution_count": 25,
   "id": "6da7731e-90f9-4c30-a0e2-177c503afbad",
   "metadata": {
    "colab": {
     "base_uri": "https://localhost:8080/",
     "height": 305
    },
    "id": "6da7731e-90f9-4c30-a0e2-177c503afbad",
    "outputId": "da0b990d-dcb7-46df-9646-6bf04c855606"
   },
   "outputs": [
    {
     "data": {
      "text/html": [
       "<div>\n",
       "<style scoped>\n",
       "    .dataframe tbody tr th:only-of-type {\n",
       "        vertical-align: middle;\n",
       "    }\n",
       "\n",
       "    .dataframe tbody tr th {\n",
       "        vertical-align: top;\n",
       "    }\n",
       "\n",
       "    .dataframe thead th {\n",
       "        text-align: right;\n",
       "    }\n",
       "</style>\n",
       "<table border=\"1\" class=\"dataframe\">\n",
       "  <thead>\n",
       "    <tr style=\"text-align: right;\">\n",
       "      <th></th>\n",
       "      <th>tenure</th>\n",
       "      <th>MonthlyCharges</th>\n",
       "      <th>TotalCharges</th>\n",
       "      <th>SeniorCitizen_No</th>\n",
       "      <th>SeniorCitizen_Yes</th>\n",
       "      <th>Partner_No</th>\n",
       "      <th>Partner_Yes</th>\n",
       "      <th>Dependents_No</th>\n",
       "      <th>Dependents_Yes</th>\n",
       "      <th>MultipleLines_No</th>\n",
       "      <th>MultipleLines_Yes</th>\n",
       "      <th>InternetService_DSL</th>\n",
       "      <th>InternetService_Fiber optic</th>\n",
       "      <th>InternetService_No</th>\n",
       "      <th>OnlineSecurity_No</th>\n",
       "      <th>OnlineSecurity_Yes</th>\n",
       "      <th>OnlineBackup_No</th>\n",
       "      <th>OnlineBackup_Yes</th>\n",
       "      <th>DeviceProtection_No</th>\n",
       "      <th>DeviceProtection_Yes</th>\n",
       "      <th>TechSupport_No</th>\n",
       "      <th>TechSupport_Yes</th>\n",
       "      <th>StreamingTV_No</th>\n",
       "      <th>StreamingTV_Yes</th>\n",
       "      <th>StreamingMovies_No</th>\n",
       "      <th>StreamingMovies_Yes</th>\n",
       "      <th>Contract_Month-to-month</th>\n",
       "      <th>Contract_One year</th>\n",
       "      <th>Contract_Two year</th>\n",
       "      <th>PaperlessBilling_No</th>\n",
       "      <th>PaperlessBilling_Yes</th>\n",
       "      <th>PaymentMethod_Bank transfer (automatic)</th>\n",
       "      <th>PaymentMethod_Credit card (automatic)</th>\n",
       "      <th>PaymentMethod_Electronic check</th>\n",
       "      <th>PaymentMethod_Mailed check</th>\n",
       "    </tr>\n",
       "  </thead>\n",
       "  <tbody>\n",
       "    <tr>\n",
       "      <th>0</th>\n",
       "      <td>1</td>\n",
       "      <td>29.85</td>\n",
       "      <td>29.85</td>\n",
       "      <td>1</td>\n",
       "      <td>0</td>\n",
       "      <td>0</td>\n",
       "      <td>1</td>\n",
       "      <td>1</td>\n",
       "      <td>0</td>\n",
       "      <td>1</td>\n",
       "      <td>0</td>\n",
       "      <td>1</td>\n",
       "      <td>0</td>\n",
       "      <td>0</td>\n",
       "      <td>1</td>\n",
       "      <td>0</td>\n",
       "      <td>0</td>\n",
       "      <td>1</td>\n",
       "      <td>1</td>\n",
       "      <td>0</td>\n",
       "      <td>1</td>\n",
       "      <td>0</td>\n",
       "      <td>1</td>\n",
       "      <td>0</td>\n",
       "      <td>1</td>\n",
       "      <td>0</td>\n",
       "      <td>1</td>\n",
       "      <td>0</td>\n",
       "      <td>0</td>\n",
       "      <td>0</td>\n",
       "      <td>1</td>\n",
       "      <td>0</td>\n",
       "      <td>0</td>\n",
       "      <td>1</td>\n",
       "      <td>0</td>\n",
       "    </tr>\n",
       "    <tr>\n",
       "      <th>1</th>\n",
       "      <td>34</td>\n",
       "      <td>56.95</td>\n",
       "      <td>1889.50</td>\n",
       "      <td>1</td>\n",
       "      <td>0</td>\n",
       "      <td>1</td>\n",
       "      <td>0</td>\n",
       "      <td>1</td>\n",
       "      <td>0</td>\n",
       "      <td>1</td>\n",
       "      <td>0</td>\n",
       "      <td>1</td>\n",
       "      <td>0</td>\n",
       "      <td>0</td>\n",
       "      <td>0</td>\n",
       "      <td>1</td>\n",
       "      <td>1</td>\n",
       "      <td>0</td>\n",
       "      <td>0</td>\n",
       "      <td>1</td>\n",
       "      <td>1</td>\n",
       "      <td>0</td>\n",
       "      <td>1</td>\n",
       "      <td>0</td>\n",
       "      <td>1</td>\n",
       "      <td>0</td>\n",
       "      <td>0</td>\n",
       "      <td>1</td>\n",
       "      <td>0</td>\n",
       "      <td>1</td>\n",
       "      <td>0</td>\n",
       "      <td>0</td>\n",
       "      <td>0</td>\n",
       "      <td>0</td>\n",
       "      <td>1</td>\n",
       "    </tr>\n",
       "    <tr>\n",
       "      <th>2</th>\n",
       "      <td>2</td>\n",
       "      <td>53.85</td>\n",
       "      <td>108.15</td>\n",
       "      <td>1</td>\n",
       "      <td>0</td>\n",
       "      <td>1</td>\n",
       "      <td>0</td>\n",
       "      <td>1</td>\n",
       "      <td>0</td>\n",
       "      <td>1</td>\n",
       "      <td>0</td>\n",
       "      <td>1</td>\n",
       "      <td>0</td>\n",
       "      <td>0</td>\n",
       "      <td>0</td>\n",
       "      <td>1</td>\n",
       "      <td>0</td>\n",
       "      <td>1</td>\n",
       "      <td>1</td>\n",
       "      <td>0</td>\n",
       "      <td>1</td>\n",
       "      <td>0</td>\n",
       "      <td>1</td>\n",
       "      <td>0</td>\n",
       "      <td>1</td>\n",
       "      <td>0</td>\n",
       "      <td>1</td>\n",
       "      <td>0</td>\n",
       "      <td>0</td>\n",
       "      <td>0</td>\n",
       "      <td>1</td>\n",
       "      <td>0</td>\n",
       "      <td>0</td>\n",
       "      <td>0</td>\n",
       "      <td>1</td>\n",
       "    </tr>\n",
       "    <tr>\n",
       "      <th>3</th>\n",
       "      <td>45</td>\n",
       "      <td>42.30</td>\n",
       "      <td>1840.75</td>\n",
       "      <td>1</td>\n",
       "      <td>0</td>\n",
       "      <td>1</td>\n",
       "      <td>0</td>\n",
       "      <td>1</td>\n",
       "      <td>0</td>\n",
       "      <td>1</td>\n",
       "      <td>0</td>\n",
       "      <td>1</td>\n",
       "      <td>0</td>\n",
       "      <td>0</td>\n",
       "      <td>0</td>\n",
       "      <td>1</td>\n",
       "      <td>1</td>\n",
       "      <td>0</td>\n",
       "      <td>0</td>\n",
       "      <td>1</td>\n",
       "      <td>0</td>\n",
       "      <td>1</td>\n",
       "      <td>1</td>\n",
       "      <td>0</td>\n",
       "      <td>1</td>\n",
       "      <td>0</td>\n",
       "      <td>0</td>\n",
       "      <td>1</td>\n",
       "      <td>0</td>\n",
       "      <td>1</td>\n",
       "      <td>0</td>\n",
       "      <td>1</td>\n",
       "      <td>0</td>\n",
       "      <td>0</td>\n",
       "      <td>0</td>\n",
       "    </tr>\n",
       "    <tr>\n",
       "      <th>4</th>\n",
       "      <td>2</td>\n",
       "      <td>70.70</td>\n",
       "      <td>151.65</td>\n",
       "      <td>1</td>\n",
       "      <td>0</td>\n",
       "      <td>1</td>\n",
       "      <td>0</td>\n",
       "      <td>1</td>\n",
       "      <td>0</td>\n",
       "      <td>1</td>\n",
       "      <td>0</td>\n",
       "      <td>0</td>\n",
       "      <td>1</td>\n",
       "      <td>0</td>\n",
       "      <td>1</td>\n",
       "      <td>0</td>\n",
       "      <td>1</td>\n",
       "      <td>0</td>\n",
       "      <td>1</td>\n",
       "      <td>0</td>\n",
       "      <td>1</td>\n",
       "      <td>0</td>\n",
       "      <td>1</td>\n",
       "      <td>0</td>\n",
       "      <td>1</td>\n",
       "      <td>0</td>\n",
       "      <td>1</td>\n",
       "      <td>0</td>\n",
       "      <td>0</td>\n",
       "      <td>0</td>\n",
       "      <td>1</td>\n",
       "      <td>0</td>\n",
       "      <td>0</td>\n",
       "      <td>1</td>\n",
       "      <td>0</td>\n",
       "    </tr>\n",
       "  </tbody>\n",
       "</table>\n",
       "</div>"
      ],
      "text/plain": [
       "   tenure  MonthlyCharges  TotalCharges  SeniorCitizen_No  SeniorCitizen_Yes  \\\n",
       "0       1           29.85         29.85                 1                  0   \n",
       "1      34           56.95       1889.50                 1                  0   \n",
       "2       2           53.85        108.15                 1                  0   \n",
       "3      45           42.30       1840.75                 1                  0   \n",
       "4       2           70.70        151.65                 1                  0   \n",
       "\n",
       "   Partner_No  Partner_Yes  Dependents_No  Dependents_Yes  MultipleLines_No  \\\n",
       "0           0            1              1               0                 1   \n",
       "1           1            0              1               0                 1   \n",
       "2           1            0              1               0                 1   \n",
       "3           1            0              1               0                 1   \n",
       "4           1            0              1               0                 1   \n",
       "\n",
       "   MultipleLines_Yes  InternetService_DSL  InternetService_Fiber optic  \\\n",
       "0                  0                    1                            0   \n",
       "1                  0                    1                            0   \n",
       "2                  0                    1                            0   \n",
       "3                  0                    1                            0   \n",
       "4                  0                    0                            1   \n",
       "\n",
       "   InternetService_No  OnlineSecurity_No  OnlineSecurity_Yes  OnlineBackup_No  \\\n",
       "0                   0                  1                   0                0   \n",
       "1                   0                  0                   1                1   \n",
       "2                   0                  0                   1                0   \n",
       "3                   0                  0                   1                1   \n",
       "4                   0                  1                   0                1   \n",
       "\n",
       "   OnlineBackup_Yes  DeviceProtection_No  DeviceProtection_Yes  \\\n",
       "0                 1                    1                     0   \n",
       "1                 0                    0                     1   \n",
       "2                 1                    1                     0   \n",
       "3                 0                    0                     1   \n",
       "4                 0                    1                     0   \n",
       "\n",
       "   TechSupport_No  TechSupport_Yes  StreamingTV_No  StreamingTV_Yes  \\\n",
       "0               1                0               1                0   \n",
       "1               1                0               1                0   \n",
       "2               1                0               1                0   \n",
       "3               0                1               1                0   \n",
       "4               1                0               1                0   \n",
       "\n",
       "   StreamingMovies_No  StreamingMovies_Yes  Contract_Month-to-month  \\\n",
       "0                   1                    0                        1   \n",
       "1                   1                    0                        0   \n",
       "2                   1                    0                        1   \n",
       "3                   1                    0                        0   \n",
       "4                   1                    0                        1   \n",
       "\n",
       "   Contract_One year  Contract_Two year  PaperlessBilling_No  \\\n",
       "0                  0                  0                    0   \n",
       "1                  1                  0                    1   \n",
       "2                  0                  0                    0   \n",
       "3                  1                  0                    1   \n",
       "4                  0                  0                    0   \n",
       "\n",
       "   PaperlessBilling_Yes  PaymentMethod_Bank transfer (automatic)  \\\n",
       "0                     1                                        0   \n",
       "1                     0                                        0   \n",
       "2                     1                                        0   \n",
       "3                     0                                        1   \n",
       "4                     1                                        0   \n",
       "\n",
       "   PaymentMethod_Credit card (automatic)  PaymentMethod_Electronic check  \\\n",
       "0                                      0                               1   \n",
       "1                                      0                               0   \n",
       "2                                      0                               0   \n",
       "3                                      0                               0   \n",
       "4                                      0                               1   \n",
       "\n",
       "   PaymentMethod_Mailed check  \n",
       "0                           0  \n",
       "1                           1  \n",
       "2                           1  \n",
       "3                           0  \n",
       "4                           0  "
      ]
     },
     "execution_count": 25,
     "metadata": {},
     "output_type": "execute_result"
    }
   ],
   "source": [
    "X = pd.get_dummies(X)\n",
    "\n",
    "# show the first 5 rows\n",
    "X.head()"
   ]
  },
  {
   "cell_type": "markdown",
   "id": "34db59a9-f84a-4144-bbfc-959d429d5433",
   "metadata": {
    "id": "34db59a9-f84a-4144-bbfc-959d429d5433"
   },
   "source": [
    "## Decision tree\n"
   ]
  },
  {
   "cell_type": "code",
   "execution_count": 26,
   "id": "22sMoNTZR3hw",
   "metadata": {
    "id": "22sMoNTZR3hw"
   },
   "outputs": [],
   "source": [
    "# Initialize the training set and test set\n",
    "X_train, X_test, y_train, y_test = train_test_split(\n",
    "    X,\n",
    "    y,\n",
    "    random_state=69\n",
    ")"
   ]
  },
  {
   "cell_type": "markdown",
   "id": "1zRmpC3HNi14",
   "metadata": {
    "id": "1zRmpC3HNi14"
   },
   "source": [
    "### Optimal use of hyper parameters"
   ]
  },
  {
   "cell_type": "code",
   "execution_count": 27,
   "id": "ZuJ8Tm8kNwe9",
   "metadata": {
    "colab": {
     "base_uri": "https://localhost:8080/"
    },
    "id": "ZuJ8Tm8kNwe9",
    "outputId": "f62e7ddd-45a6-4fbb-9f65-00c87d296894"
   },
   "outputs": [
    {
     "name": "stdout",
     "output_type": "stream",
     "text": [
      "Best: 0.793137 using {'max_depth': 5}\n",
      "0.736064 (0.000433) with: {'max_depth': 1}\n",
      "0.765645 (0.009034) with: {'max_depth': 2}\n",
      "0.789913 (0.010217) with: {'max_depth': 4}\n",
      "0.793137 (0.009111) with: {'max_depth': 5}\n",
      "0.790861 (0.012228) with: {'max_depth': 6}\n",
      "0.785743 (0.009508) with: {'max_depth': 7}\n",
      "0.780053 (0.010203) with: {'max_depth': 8}\n",
      "0.763747 (0.012155) with: {'max_depth': 10}\n",
      "0.737390 (0.003264) with: {'max_depth': 20}\n"
     ]
    }
   ],
   "source": [
    "# define models and parameters\n",
    "dc_model = DecisionTreeClassifier()\n",
    "\n",
    "max_depth_arr = [1,2,4,5,6,7,8,10,20]\n",
    "\n",
    "# define grid search\n",
    "grid = dict()\n",
    "grid['max_depth'] = max_depth_arr;\n",
    "\n",
    "grid_search = GridSearchCV(\n",
    "    estimator=dc_model, \n",
    "    param_grid=grid, n_jobs=-1, \n",
    "    scoring='accuracy',error_score=0\n",
    ")\n",
    "\n",
    "grid_result = grid_search.fit(X_train,y_train)\n",
    "\n",
    "# summarize results\n",
    "print(\"Best: %f using %s\" % (grid_result.best_score_, grid_result.best_params_))\n",
    "means = grid_result.cv_results_['mean_test_score']\n",
    "stds = grid_result.cv_results_['std_test_score']\n",
    "params = grid_result.cv_results_['params']\n",
    "\n",
    "for mean, stdev, param in zip(means, stds, params):\n",
    "    print(\"%f (%f) with: %r\" % (mean, stdev, param))"
   ]
  },
  {
   "cell_type": "code",
   "execution_count": 28,
   "id": "e7051f2d-93f5-4127-8ee4-4b82a8e65582",
   "metadata": {
    "id": "e7051f2d-93f5-4127-8ee4-4b82a8e65582"
   },
   "outputs": [],
   "source": [
    "#create the decision tree classifier\n",
    "dc = DecisionTreeClassifier(max_depth = 5)\n",
    "\n",
    "#Train model\n",
    "dc_model = dc.fit(X_train,y_train)\n",
    "\n",
    "#predict\n",
    "Decision_y_pred_rfc = dc_model.predict(X_test)"
   ]
  },
  {
   "cell_type": "markdown",
   "id": "9f73ab62-250f-4ad8-9e11-08bc6a8c1d68",
   "metadata": {
    "id": "9f73ab62-250f-4ad8-9e11-08bc6a8c1d68"
   },
   "source": [
    "### DT - Classification report"
   ]
  },
  {
   "cell_type": "code",
   "execution_count": 29,
   "id": "89c92ab6-e7ec-4a38-997b-0cff05736574",
   "metadata": {
    "colab": {
     "base_uri": "https://localhost:8080/"
    },
    "id": "89c92ab6-e7ec-4a38-997b-0cff05736574",
    "outputId": "910a45b4-0403-43a3-9db9-1d2b9afe431d"
   },
   "outputs": [
    {
     "name": "stdout",
     "output_type": "stream",
     "text": [
      "Accuracy of Decision tree classifier on test set: 0.77702\n"
     ]
    }
   ],
   "source": [
    "print('Accuracy of Decision tree classifier on test set: {:.5f}'.format(dc_model.score(X_test, y_test)))"
   ]
  },
  {
   "cell_type": "code",
   "execution_count": 30,
   "id": "eb50efec-1613-4459-856e-d637c71c7634",
   "metadata": {
    "id": "eb50efec-1613-4459-856e-d637c71c7634"
   },
   "outputs": [],
   "source": [
    "### Decision tree - "
   ]
  },
  {
   "cell_type": "code",
   "execution_count": 31,
   "id": "5abbae9e-5282-4dc8-b72c-3af0b2d1fd81",
   "metadata": {
    "colab": {
     "base_uri": "https://localhost:8080/"
    },
    "id": "5abbae9e-5282-4dc8-b72c-3af0b2d1fd81",
    "outputId": "d4243521-7119-4961-ce2d-c906c3e3227a"
   },
   "outputs": [
    {
     "name": "stdout",
     "output_type": "stream",
     "text": [
      "              precision    recall  f1-score   support\n",
      "\n",
      "           0     0.8276    0.8767    0.8514      1281\n",
      "           1     0.6060    0.5094    0.5535       477\n",
      "\n",
      "    accuracy                         0.7770      1758\n",
      "   macro avg     0.7168    0.6930    0.7025      1758\n",
      "weighted avg     0.7674    0.7770    0.7706      1758\n",
      "\n"
     ]
    }
   ],
   "source": [
    "print(classification_report(y_test,Decision_y_pred_rfc, digits=4))"
   ]
  },
  {
   "cell_type": "code",
   "execution_count": 32,
   "id": "590f0cfa-d9cb-4609-b0ec-01cd46164a21",
   "metadata": {
    "colab": {
     "base_uri": "https://localhost:8080/",
     "height": 522
    },
    "id": "590f0cfa-d9cb-4609-b0ec-01cd46164a21",
    "outputId": "0d4c4845-e0e1-4288-c63a-418afb67db9e"
   },
   "outputs": [
    {
     "data": {
      "text/html": [
       "<div>\n",
       "<style scoped>\n",
       "    .dataframe tbody tr th:only-of-type {\n",
       "        vertical-align: middle;\n",
       "    }\n",
       "\n",
       "    .dataframe tbody tr th {\n",
       "        vertical-align: top;\n",
       "    }\n",
       "\n",
       "    .dataframe thead th {\n",
       "        text-align: right;\n",
       "    }\n",
       "</style>\n",
       "<table border=\"1\" class=\"dataframe\">\n",
       "  <thead>\n",
       "    <tr style=\"text-align: right;\">\n",
       "      <th></th>\n",
       "      <th>tenure</th>\n",
       "      <th>MonthlyCharges</th>\n",
       "      <th>TotalCharges</th>\n",
       "      <th>SeniorCitizen_No</th>\n",
       "      <th>SeniorCitizen_Yes</th>\n",
       "      <th>Partner_No</th>\n",
       "      <th>Partner_Yes</th>\n",
       "      <th>Dependents_No</th>\n",
       "      <th>Dependents_Yes</th>\n",
       "      <th>MultipleLines_No</th>\n",
       "      <th>MultipleLines_Yes</th>\n",
       "      <th>InternetService_DSL</th>\n",
       "      <th>InternetService_Fiber optic</th>\n",
       "      <th>InternetService_No</th>\n",
       "      <th>OnlineSecurity_No</th>\n",
       "      <th>OnlineSecurity_Yes</th>\n",
       "      <th>OnlineBackup_No</th>\n",
       "      <th>OnlineBackup_Yes</th>\n",
       "      <th>DeviceProtection_No</th>\n",
       "      <th>DeviceProtection_Yes</th>\n",
       "      <th>TechSupport_No</th>\n",
       "      <th>TechSupport_Yes</th>\n",
       "      <th>StreamingTV_No</th>\n",
       "      <th>StreamingTV_Yes</th>\n",
       "      <th>StreamingMovies_No</th>\n",
       "      <th>StreamingMovies_Yes</th>\n",
       "      <th>Contract_Month-to-month</th>\n",
       "      <th>Contract_One year</th>\n",
       "      <th>Contract_Two year</th>\n",
       "      <th>PaperlessBilling_No</th>\n",
       "      <th>PaperlessBilling_Yes</th>\n",
       "      <th>PaymentMethod_Bank transfer (automatic)</th>\n",
       "      <th>PaymentMethod_Credit card (automatic)</th>\n",
       "      <th>PaymentMethod_Electronic check</th>\n",
       "      <th>PaymentMethod_Mailed check</th>\n",
       "    </tr>\n",
       "  </thead>\n",
       "  <tbody>\n",
       "    <tr>\n",
       "      <th>0</th>\n",
       "      <td>1</td>\n",
       "      <td>29.85</td>\n",
       "      <td>29.85</td>\n",
       "      <td>1</td>\n",
       "      <td>0</td>\n",
       "      <td>0</td>\n",
       "      <td>1</td>\n",
       "      <td>1</td>\n",
       "      <td>0</td>\n",
       "      <td>1</td>\n",
       "      <td>0</td>\n",
       "      <td>1</td>\n",
       "      <td>0</td>\n",
       "      <td>0</td>\n",
       "      <td>1</td>\n",
       "      <td>0</td>\n",
       "      <td>0</td>\n",
       "      <td>1</td>\n",
       "      <td>1</td>\n",
       "      <td>0</td>\n",
       "      <td>1</td>\n",
       "      <td>0</td>\n",
       "      <td>1</td>\n",
       "      <td>0</td>\n",
       "      <td>1</td>\n",
       "      <td>0</td>\n",
       "      <td>1</td>\n",
       "      <td>0</td>\n",
       "      <td>0</td>\n",
       "      <td>0</td>\n",
       "      <td>1</td>\n",
       "      <td>0</td>\n",
       "      <td>0</td>\n",
       "      <td>1</td>\n",
       "      <td>0</td>\n",
       "    </tr>\n",
       "    <tr>\n",
       "      <th>1</th>\n",
       "      <td>34</td>\n",
       "      <td>56.95</td>\n",
       "      <td>1889.50</td>\n",
       "      <td>1</td>\n",
       "      <td>0</td>\n",
       "      <td>1</td>\n",
       "      <td>0</td>\n",
       "      <td>1</td>\n",
       "      <td>0</td>\n",
       "      <td>1</td>\n",
       "      <td>0</td>\n",
       "      <td>1</td>\n",
       "      <td>0</td>\n",
       "      <td>0</td>\n",
       "      <td>0</td>\n",
       "      <td>1</td>\n",
       "      <td>1</td>\n",
       "      <td>0</td>\n",
       "      <td>0</td>\n",
       "      <td>1</td>\n",
       "      <td>1</td>\n",
       "      <td>0</td>\n",
       "      <td>1</td>\n",
       "      <td>0</td>\n",
       "      <td>1</td>\n",
       "      <td>0</td>\n",
       "      <td>0</td>\n",
       "      <td>1</td>\n",
       "      <td>0</td>\n",
       "      <td>1</td>\n",
       "      <td>0</td>\n",
       "      <td>0</td>\n",
       "      <td>0</td>\n",
       "      <td>0</td>\n",
       "      <td>1</td>\n",
       "    </tr>\n",
       "    <tr>\n",
       "      <th>2</th>\n",
       "      <td>2</td>\n",
       "      <td>53.85</td>\n",
       "      <td>108.15</td>\n",
       "      <td>1</td>\n",
       "      <td>0</td>\n",
       "      <td>1</td>\n",
       "      <td>0</td>\n",
       "      <td>1</td>\n",
       "      <td>0</td>\n",
       "      <td>1</td>\n",
       "      <td>0</td>\n",
       "      <td>1</td>\n",
       "      <td>0</td>\n",
       "      <td>0</td>\n",
       "      <td>0</td>\n",
       "      <td>1</td>\n",
       "      <td>0</td>\n",
       "      <td>1</td>\n",
       "      <td>1</td>\n",
       "      <td>0</td>\n",
       "      <td>1</td>\n",
       "      <td>0</td>\n",
       "      <td>1</td>\n",
       "      <td>0</td>\n",
       "      <td>1</td>\n",
       "      <td>0</td>\n",
       "      <td>1</td>\n",
       "      <td>0</td>\n",
       "      <td>0</td>\n",
       "      <td>0</td>\n",
       "      <td>1</td>\n",
       "      <td>0</td>\n",
       "      <td>0</td>\n",
       "      <td>0</td>\n",
       "      <td>1</td>\n",
       "    </tr>\n",
       "    <tr>\n",
       "      <th>3</th>\n",
       "      <td>45</td>\n",
       "      <td>42.30</td>\n",
       "      <td>1840.75</td>\n",
       "      <td>1</td>\n",
       "      <td>0</td>\n",
       "      <td>1</td>\n",
       "      <td>0</td>\n",
       "      <td>1</td>\n",
       "      <td>0</td>\n",
       "      <td>1</td>\n",
       "      <td>0</td>\n",
       "      <td>1</td>\n",
       "      <td>0</td>\n",
       "      <td>0</td>\n",
       "      <td>0</td>\n",
       "      <td>1</td>\n",
       "      <td>1</td>\n",
       "      <td>0</td>\n",
       "      <td>0</td>\n",
       "      <td>1</td>\n",
       "      <td>0</td>\n",
       "      <td>1</td>\n",
       "      <td>1</td>\n",
       "      <td>0</td>\n",
       "      <td>1</td>\n",
       "      <td>0</td>\n",
       "      <td>0</td>\n",
       "      <td>1</td>\n",
       "      <td>0</td>\n",
       "      <td>1</td>\n",
       "      <td>0</td>\n",
       "      <td>1</td>\n",
       "      <td>0</td>\n",
       "      <td>0</td>\n",
       "      <td>0</td>\n",
       "    </tr>\n",
       "    <tr>\n",
       "      <th>4</th>\n",
       "      <td>2</td>\n",
       "      <td>70.70</td>\n",
       "      <td>151.65</td>\n",
       "      <td>1</td>\n",
       "      <td>0</td>\n",
       "      <td>1</td>\n",
       "      <td>0</td>\n",
       "      <td>1</td>\n",
       "      <td>0</td>\n",
       "      <td>1</td>\n",
       "      <td>0</td>\n",
       "      <td>0</td>\n",
       "      <td>1</td>\n",
       "      <td>0</td>\n",
       "      <td>1</td>\n",
       "      <td>0</td>\n",
       "      <td>1</td>\n",
       "      <td>0</td>\n",
       "      <td>1</td>\n",
       "      <td>0</td>\n",
       "      <td>1</td>\n",
       "      <td>0</td>\n",
       "      <td>1</td>\n",
       "      <td>0</td>\n",
       "      <td>1</td>\n",
       "      <td>0</td>\n",
       "      <td>1</td>\n",
       "      <td>0</td>\n",
       "      <td>0</td>\n",
       "      <td>0</td>\n",
       "      <td>1</td>\n",
       "      <td>0</td>\n",
       "      <td>0</td>\n",
       "      <td>1</td>\n",
       "      <td>0</td>\n",
       "    </tr>\n",
       "    <tr>\n",
       "      <th>...</th>\n",
       "      <td>...</td>\n",
       "      <td>...</td>\n",
       "      <td>...</td>\n",
       "      <td>...</td>\n",
       "      <td>...</td>\n",
       "      <td>...</td>\n",
       "      <td>...</td>\n",
       "      <td>...</td>\n",
       "      <td>...</td>\n",
       "      <td>...</td>\n",
       "      <td>...</td>\n",
       "      <td>...</td>\n",
       "      <td>...</td>\n",
       "      <td>...</td>\n",
       "      <td>...</td>\n",
       "      <td>...</td>\n",
       "      <td>...</td>\n",
       "      <td>...</td>\n",
       "      <td>...</td>\n",
       "      <td>...</td>\n",
       "      <td>...</td>\n",
       "      <td>...</td>\n",
       "      <td>...</td>\n",
       "      <td>...</td>\n",
       "      <td>...</td>\n",
       "      <td>...</td>\n",
       "      <td>...</td>\n",
       "      <td>...</td>\n",
       "      <td>...</td>\n",
       "      <td>...</td>\n",
       "      <td>...</td>\n",
       "      <td>...</td>\n",
       "      <td>...</td>\n",
       "      <td>...</td>\n",
       "      <td>...</td>\n",
       "    </tr>\n",
       "    <tr>\n",
       "      <th>7038</th>\n",
       "      <td>24</td>\n",
       "      <td>84.80</td>\n",
       "      <td>1990.50</td>\n",
       "      <td>1</td>\n",
       "      <td>0</td>\n",
       "      <td>0</td>\n",
       "      <td>1</td>\n",
       "      <td>0</td>\n",
       "      <td>1</td>\n",
       "      <td>0</td>\n",
       "      <td>1</td>\n",
       "      <td>1</td>\n",
       "      <td>0</td>\n",
       "      <td>0</td>\n",
       "      <td>0</td>\n",
       "      <td>1</td>\n",
       "      <td>1</td>\n",
       "      <td>0</td>\n",
       "      <td>0</td>\n",
       "      <td>1</td>\n",
       "      <td>0</td>\n",
       "      <td>1</td>\n",
       "      <td>0</td>\n",
       "      <td>1</td>\n",
       "      <td>0</td>\n",
       "      <td>1</td>\n",
       "      <td>0</td>\n",
       "      <td>1</td>\n",
       "      <td>0</td>\n",
       "      <td>0</td>\n",
       "      <td>1</td>\n",
       "      <td>0</td>\n",
       "      <td>0</td>\n",
       "      <td>0</td>\n",
       "      <td>1</td>\n",
       "    </tr>\n",
       "    <tr>\n",
       "      <th>7039</th>\n",
       "      <td>72</td>\n",
       "      <td>103.20</td>\n",
       "      <td>7362.90</td>\n",
       "      <td>1</td>\n",
       "      <td>0</td>\n",
       "      <td>0</td>\n",
       "      <td>1</td>\n",
       "      <td>0</td>\n",
       "      <td>1</td>\n",
       "      <td>0</td>\n",
       "      <td>1</td>\n",
       "      <td>0</td>\n",
       "      <td>1</td>\n",
       "      <td>0</td>\n",
       "      <td>1</td>\n",
       "      <td>0</td>\n",
       "      <td>0</td>\n",
       "      <td>1</td>\n",
       "      <td>0</td>\n",
       "      <td>1</td>\n",
       "      <td>1</td>\n",
       "      <td>0</td>\n",
       "      <td>0</td>\n",
       "      <td>1</td>\n",
       "      <td>0</td>\n",
       "      <td>1</td>\n",
       "      <td>0</td>\n",
       "      <td>1</td>\n",
       "      <td>0</td>\n",
       "      <td>0</td>\n",
       "      <td>1</td>\n",
       "      <td>0</td>\n",
       "      <td>1</td>\n",
       "      <td>0</td>\n",
       "      <td>0</td>\n",
       "    </tr>\n",
       "    <tr>\n",
       "      <th>7040</th>\n",
       "      <td>11</td>\n",
       "      <td>29.60</td>\n",
       "      <td>346.45</td>\n",
       "      <td>1</td>\n",
       "      <td>0</td>\n",
       "      <td>0</td>\n",
       "      <td>1</td>\n",
       "      <td>0</td>\n",
       "      <td>1</td>\n",
       "      <td>1</td>\n",
       "      <td>0</td>\n",
       "      <td>1</td>\n",
       "      <td>0</td>\n",
       "      <td>0</td>\n",
       "      <td>0</td>\n",
       "      <td>1</td>\n",
       "      <td>1</td>\n",
       "      <td>0</td>\n",
       "      <td>1</td>\n",
       "      <td>0</td>\n",
       "      <td>1</td>\n",
       "      <td>0</td>\n",
       "      <td>1</td>\n",
       "      <td>0</td>\n",
       "      <td>1</td>\n",
       "      <td>0</td>\n",
       "      <td>1</td>\n",
       "      <td>0</td>\n",
       "      <td>0</td>\n",
       "      <td>0</td>\n",
       "      <td>1</td>\n",
       "      <td>0</td>\n",
       "      <td>0</td>\n",
       "      <td>1</td>\n",
       "      <td>0</td>\n",
       "    </tr>\n",
       "    <tr>\n",
       "      <th>7041</th>\n",
       "      <td>4</td>\n",
       "      <td>74.40</td>\n",
       "      <td>306.60</td>\n",
       "      <td>0</td>\n",
       "      <td>1</td>\n",
       "      <td>0</td>\n",
       "      <td>1</td>\n",
       "      <td>1</td>\n",
       "      <td>0</td>\n",
       "      <td>0</td>\n",
       "      <td>1</td>\n",
       "      <td>0</td>\n",
       "      <td>1</td>\n",
       "      <td>0</td>\n",
       "      <td>1</td>\n",
       "      <td>0</td>\n",
       "      <td>1</td>\n",
       "      <td>0</td>\n",
       "      <td>1</td>\n",
       "      <td>0</td>\n",
       "      <td>1</td>\n",
       "      <td>0</td>\n",
       "      <td>1</td>\n",
       "      <td>0</td>\n",
       "      <td>1</td>\n",
       "      <td>0</td>\n",
       "      <td>1</td>\n",
       "      <td>0</td>\n",
       "      <td>0</td>\n",
       "      <td>0</td>\n",
       "      <td>1</td>\n",
       "      <td>0</td>\n",
       "      <td>0</td>\n",
       "      <td>0</td>\n",
       "      <td>1</td>\n",
       "    </tr>\n",
       "    <tr>\n",
       "      <th>7042</th>\n",
       "      <td>66</td>\n",
       "      <td>105.65</td>\n",
       "      <td>6844.50</td>\n",
       "      <td>1</td>\n",
       "      <td>0</td>\n",
       "      <td>1</td>\n",
       "      <td>0</td>\n",
       "      <td>1</td>\n",
       "      <td>0</td>\n",
       "      <td>1</td>\n",
       "      <td>0</td>\n",
       "      <td>0</td>\n",
       "      <td>1</td>\n",
       "      <td>0</td>\n",
       "      <td>0</td>\n",
       "      <td>1</td>\n",
       "      <td>1</td>\n",
       "      <td>0</td>\n",
       "      <td>0</td>\n",
       "      <td>1</td>\n",
       "      <td>0</td>\n",
       "      <td>1</td>\n",
       "      <td>0</td>\n",
       "      <td>1</td>\n",
       "      <td>0</td>\n",
       "      <td>1</td>\n",
       "      <td>0</td>\n",
       "      <td>0</td>\n",
       "      <td>1</td>\n",
       "      <td>0</td>\n",
       "      <td>1</td>\n",
       "      <td>1</td>\n",
       "      <td>0</td>\n",
       "      <td>0</td>\n",
       "      <td>0</td>\n",
       "    </tr>\n",
       "  </tbody>\n",
       "</table>\n",
       "<p>7032 rows × 35 columns</p>\n",
       "</div>"
      ],
      "text/plain": [
       "      tenure  MonthlyCharges  TotalCharges  SeniorCitizen_No  \\\n",
       "0          1           29.85         29.85                 1   \n",
       "1         34           56.95       1889.50                 1   \n",
       "2          2           53.85        108.15                 1   \n",
       "3         45           42.30       1840.75                 1   \n",
       "4          2           70.70        151.65                 1   \n",
       "...      ...             ...           ...               ...   \n",
       "7038      24           84.80       1990.50                 1   \n",
       "7039      72          103.20       7362.90                 1   \n",
       "7040      11           29.60        346.45                 1   \n",
       "7041       4           74.40        306.60                 0   \n",
       "7042      66          105.65       6844.50                 1   \n",
       "\n",
       "      SeniorCitizen_Yes  Partner_No  Partner_Yes  Dependents_No  \\\n",
       "0                     0           0            1              1   \n",
       "1                     0           1            0              1   \n",
       "2                     0           1            0              1   \n",
       "3                     0           1            0              1   \n",
       "4                     0           1            0              1   \n",
       "...                 ...         ...          ...            ...   \n",
       "7038                  0           0            1              0   \n",
       "7039                  0           0            1              0   \n",
       "7040                  0           0            1              0   \n",
       "7041                  1           0            1              1   \n",
       "7042                  0           1            0              1   \n",
       "\n",
       "      Dependents_Yes  MultipleLines_No  MultipleLines_Yes  \\\n",
       "0                  0                 1                  0   \n",
       "1                  0                 1                  0   \n",
       "2                  0                 1                  0   \n",
       "3                  0                 1                  0   \n",
       "4                  0                 1                  0   \n",
       "...              ...               ...                ...   \n",
       "7038               1                 0                  1   \n",
       "7039               1                 0                  1   \n",
       "7040               1                 1                  0   \n",
       "7041               0                 0                  1   \n",
       "7042               0                 1                  0   \n",
       "\n",
       "      InternetService_DSL  InternetService_Fiber optic  InternetService_No  \\\n",
       "0                       1                            0                   0   \n",
       "1                       1                            0                   0   \n",
       "2                       1                            0                   0   \n",
       "3                       1                            0                   0   \n",
       "4                       0                            1                   0   \n",
       "...                   ...                          ...                 ...   \n",
       "7038                    1                            0                   0   \n",
       "7039                    0                            1                   0   \n",
       "7040                    1                            0                   0   \n",
       "7041                    0                            1                   0   \n",
       "7042                    0                            1                   0   \n",
       "\n",
       "      OnlineSecurity_No  OnlineSecurity_Yes  OnlineBackup_No  \\\n",
       "0                     1                   0                0   \n",
       "1                     0                   1                1   \n",
       "2                     0                   1                0   \n",
       "3                     0                   1                1   \n",
       "4                     1                   0                1   \n",
       "...                 ...                 ...              ...   \n",
       "7038                  0                   1                1   \n",
       "7039                  1                   0                0   \n",
       "7040                  0                   1                1   \n",
       "7041                  1                   0                1   \n",
       "7042                  0                   1                1   \n",
       "\n",
       "      OnlineBackup_Yes  DeviceProtection_No  DeviceProtection_Yes  \\\n",
       "0                    1                    1                     0   \n",
       "1                    0                    0                     1   \n",
       "2                    1                    1                     0   \n",
       "3                    0                    0                     1   \n",
       "4                    0                    1                     0   \n",
       "...                ...                  ...                   ...   \n",
       "7038                 0                    0                     1   \n",
       "7039                 1                    0                     1   \n",
       "7040                 0                    1                     0   \n",
       "7041                 0                    1                     0   \n",
       "7042                 0                    0                     1   \n",
       "\n",
       "      TechSupport_No  TechSupport_Yes  StreamingTV_No  StreamingTV_Yes  \\\n",
       "0                  1                0               1                0   \n",
       "1                  1                0               1                0   \n",
       "2                  1                0               1                0   \n",
       "3                  0                1               1                0   \n",
       "4                  1                0               1                0   \n",
       "...              ...              ...             ...              ...   \n",
       "7038               0                1               0                1   \n",
       "7039               1                0               0                1   \n",
       "7040               1                0               1                0   \n",
       "7041               1                0               1                0   \n",
       "7042               0                1               0                1   \n",
       "\n",
       "      StreamingMovies_No  StreamingMovies_Yes  Contract_Month-to-month  \\\n",
       "0                      1                    0                        1   \n",
       "1                      1                    0                        0   \n",
       "2                      1                    0                        1   \n",
       "3                      1                    0                        0   \n",
       "4                      1                    0                        1   \n",
       "...                  ...                  ...                      ...   \n",
       "7038                   0                    1                        0   \n",
       "7039                   0                    1                        0   \n",
       "7040                   1                    0                        1   \n",
       "7041                   1                    0                        1   \n",
       "7042                   0                    1                        0   \n",
       "\n",
       "      Contract_One year  Contract_Two year  PaperlessBilling_No  \\\n",
       "0                     0                  0                    0   \n",
       "1                     1                  0                    1   \n",
       "2                     0                  0                    0   \n",
       "3                     1                  0                    1   \n",
       "4                     0                  0                    0   \n",
       "...                 ...                ...                  ...   \n",
       "7038                  1                  0                    0   \n",
       "7039                  1                  0                    0   \n",
       "7040                  0                  0                    0   \n",
       "7041                  0                  0                    0   \n",
       "7042                  0                  1                    0   \n",
       "\n",
       "      PaperlessBilling_Yes  PaymentMethod_Bank transfer (automatic)  \\\n",
       "0                        1                                        0   \n",
       "1                        0                                        0   \n",
       "2                        1                                        0   \n",
       "3                        0                                        1   \n",
       "4                        1                                        0   \n",
       "...                    ...                                      ...   \n",
       "7038                     1                                        0   \n",
       "7039                     1                                        0   \n",
       "7040                     1                                        0   \n",
       "7041                     1                                        0   \n",
       "7042                     1                                        1   \n",
       "\n",
       "      PaymentMethod_Credit card (automatic)  PaymentMethod_Electronic check  \\\n",
       "0                                         0                               1   \n",
       "1                                         0                               0   \n",
       "2                                         0                               0   \n",
       "3                                         0                               0   \n",
       "4                                         0                               1   \n",
       "...                                     ...                             ...   \n",
       "7038                                      0                               0   \n",
       "7039                                      1                               0   \n",
       "7040                                      0                               1   \n",
       "7041                                      0                               0   \n",
       "7042                                      0                               0   \n",
       "\n",
       "      PaymentMethod_Mailed check  \n",
       "0                              0  \n",
       "1                              1  \n",
       "2                              1  \n",
       "3                              0  \n",
       "4                              0  \n",
       "...                          ...  \n",
       "7038                           1  \n",
       "7039                           0  \n",
       "7040                           0  \n",
       "7041                           1  \n",
       "7042                           0  \n",
       "\n",
       "[7032 rows x 35 columns]"
      ]
     },
     "execution_count": 32,
     "metadata": {},
     "output_type": "execute_result"
    }
   ],
   "source": [
    "dc_imp=list(dc_model.feature_importances_)\n",
    "\n",
    "dc_colname=list(X_train.columns)\n",
    "\n",
    "#Create dict for datafram\n",
    "dc_dict={'Feature':dc_colname,'Importance':dc_imp}\n",
    "\n",
    "#Create dataframe\n",
    "dc_feature_imp=pd.DataFrame(dc_dict)\n",
    "X"
   ]
  },
  {
   "cell_type": "code",
   "execution_count": 33,
   "id": "a38738d6-2f7c-44ec-8c24-bdf1903e2aeb",
   "metadata": {
    "id": "a38738d6-2f7c-44ec-8c24-bdf1903e2aeb"
   },
   "outputs": [],
   "source": [
    "dc_feature_rank=dc_feature_imp.sort_values(by='Importance',ascending = False)"
   ]
  },
  {
   "cell_type": "markdown",
   "id": "4018da82-861f-4cad-8d57-fd937c73caf5",
   "metadata": {
    "id": "4018da82-861f-4cad-8d57-fd937c73caf5"
   },
   "source": [
    "### DT - Feature importance"
   ]
  },
  {
   "cell_type": "code",
   "execution_count": 34,
   "id": "b8d5f99c-bf3a-4ea3-85d0-5f33a7e33abd",
   "metadata": {
    "colab": {
     "base_uri": "https://localhost:8080/",
     "height": 363
    },
    "id": "b8d5f99c-bf3a-4ea3-85d0-5f33a7e33abd",
    "outputId": "6d5cbb2a-4992-4b79-cafb-f378ce3f480a"
   },
   "outputs": [
    {
     "data": {
      "text/html": [
       "<div>\n",
       "<style scoped>\n",
       "    .dataframe tbody tr th:only-of-type {\n",
       "        vertical-align: middle;\n",
       "    }\n",
       "\n",
       "    .dataframe tbody tr th {\n",
       "        vertical-align: top;\n",
       "    }\n",
       "\n",
       "    .dataframe thead th {\n",
       "        text-align: right;\n",
       "    }\n",
       "</style>\n",
       "<table border=\"1\" class=\"dataframe\">\n",
       "  <thead>\n",
       "    <tr style=\"text-align: right;\">\n",
       "      <th></th>\n",
       "      <th>Feature</th>\n",
       "      <th>Importance</th>\n",
       "    </tr>\n",
       "  </thead>\n",
       "  <tbody>\n",
       "    <tr>\n",
       "      <th>26</th>\n",
       "      <td>Contract_Month-to-month</td>\n",
       "      <td>0.505002</td>\n",
       "    </tr>\n",
       "    <tr>\n",
       "      <th>0</th>\n",
       "      <td>tenure</td>\n",
       "      <td>0.182513</td>\n",
       "    </tr>\n",
       "    <tr>\n",
       "      <th>12</th>\n",
       "      <td>InternetService_Fiber optic</td>\n",
       "      <td>0.155176</td>\n",
       "    </tr>\n",
       "    <tr>\n",
       "      <th>2</th>\n",
       "      <td>TotalCharges</td>\n",
       "      <td>0.053858</td>\n",
       "    </tr>\n",
       "    <tr>\n",
       "      <th>1</th>\n",
       "      <td>MonthlyCharges</td>\n",
       "      <td>0.025204</td>\n",
       "    </tr>\n",
       "    <tr>\n",
       "      <th>13</th>\n",
       "      <td>InternetService_No</td>\n",
       "      <td>0.024703</td>\n",
       "    </tr>\n",
       "    <tr>\n",
       "      <th>10</th>\n",
       "      <td>MultipleLines_Yes</td>\n",
       "      <td>0.020197</td>\n",
       "    </tr>\n",
       "    <tr>\n",
       "      <th>27</th>\n",
       "      <td>Contract_One year</td>\n",
       "      <td>0.013703</td>\n",
       "    </tr>\n",
       "    <tr>\n",
       "      <th>20</th>\n",
       "      <td>TechSupport_No</td>\n",
       "      <td>0.007339</td>\n",
       "    </tr>\n",
       "    <tr>\n",
       "      <th>23</th>\n",
       "      <td>StreamingTV_Yes</td>\n",
       "      <td>0.005336</td>\n",
       "    </tr>\n",
       "  </tbody>\n",
       "</table>\n",
       "</div>"
      ],
      "text/plain": [
       "                        Feature  Importance\n",
       "26      Contract_Month-to-month    0.505002\n",
       "0                        tenure    0.182513\n",
       "12  InternetService_Fiber optic    0.155176\n",
       "2                  TotalCharges    0.053858\n",
       "1                MonthlyCharges    0.025204\n",
       "13           InternetService_No    0.024703\n",
       "10            MultipleLines_Yes    0.020197\n",
       "27            Contract_One year    0.013703\n",
       "20               TechSupport_No    0.007339\n",
       "23              StreamingTV_Yes    0.005336"
      ]
     },
     "execution_count": 34,
     "metadata": {},
     "output_type": "execute_result"
    }
   ],
   "source": [
    "dc_feature_rank.head(10)"
   ]
  },
  {
   "cell_type": "markdown",
   "id": "011a765b-eb22-42c2-945c-dd1ffb67304b",
   "metadata": {
    "id": "011a765b-eb22-42c2-945c-dd1ffb67304b"
   },
   "source": [
    "### DT - Confusion matrix"
   ]
  },
  {
   "cell_type": "code",
   "execution_count": 35,
   "id": "7cbcf03d-1530-4d55-95f9-f4b1306b3fdd",
   "metadata": {
    "colab": {
     "base_uri": "https://localhost:8080/",
     "height": 242
    },
    "id": "7cbcf03d-1530-4d55-95f9-f4b1306b3fdd",
    "outputId": "a36c4205-bf82-4efd-c95d-99d14bf889da"
   },
   "outputs": [
    {
     "data": {
      "image/png": "[encoded data removed]",
      "text/plain": [
       "<Figure size 288x216 with 2 Axes>"
      ]
     },
     "metadata": {
      "needs_background": "light"
     },
     "output_type": "display_data"
    }
   ],
   "source": [
    "plt.figure(figsize=(4,3))\n",
    "sns.heatmap(\n",
    "    confusion_matrix(\n",
    "        y_test, \n",
    "        Decision_y_pred_rfc\n",
    "        ),\n",
    "        annot=True,\n",
    "        fmt = \"d\",\n",
    "        linecolor=\"k\",\n",
    "        linewidths=3\n",
    ")\n",
    "    \n",
    "plt.title(\" Decision tree - CONFUSION MATRIX\",fontsize=14)\n",
    "plt.xlabel(\"predicted\")\n",
    "plt.ylabel(\"true\")\n",
    "plt.show()"
   ]
  },
  {
   "cell_type": "markdown",
   "id": "15258fc7-ceb8-41d8-bce1-c8a2cbf0dee2",
   "metadata": {
    "id": "15258fc7-ceb8-41d8-bce1-c8a2cbf0dee2"
   },
   "source": [
    "## Decision tree w. RFECV"
   ]
  },
  {
   "cell_type": "code",
   "execution_count": 36,
   "id": "6644a3a9-3ead-4132-a043-044646d43ae6",
   "metadata": {
    "id": "6644a3a9-3ead-4132-a043-044646d43ae6"
   },
   "outputs": [],
   "source": [
    "# Evaluation with the RFECV to find the most important features in regard to accurassy \n",
    "Decision_rfc = DecisionTreeClassifier(max_depth = 5)\n",
    "\n",
    "Decision_rfecv = RFECV(estimator = Decision_rfc, step=1, cv=StratifiedKFold(6), scoring='accuracy')\n",
    "Decision_rfecv_model = Decision_rfecv.fit(X_train,y_train)"
   ]
  },
  {
   "cell_type": "code",
   "execution_count": 37,
   "id": "55aed121-f5dc-4a23-9c12-83c79f104fab",
   "metadata": {
    "colab": {
     "base_uri": "https://localhost:8080/",
     "height": 605
    },
    "id": "55aed121-f5dc-4a23-9c12-83c79f104fab",
    "outputId": "135f667e-fb0e-4a80-b61e-c044038f0d41"
   },
   "outputs": [
    {
     "data": {
      "image/png": "[encoded data removed]",
      "text/plain": [
       "<Figure size 1152x648 with 1 Axes>"
      ]
     },
     "metadata": {
      "needs_background": "light"
     },
     "output_type": "display_data"
    }
   ],
   "source": [
    "plt.figure(figsize=(16, 9))\n",
    "plt.title('Recursive Feature Elimination with Cross-Validation', fontsize=18, fontweight='bold', pad=20)\n",
    "plt.xlabel('Number of features selected', fontsize=14, labelpad=20)\n",
    "plt.ylabel('% Correct Classification', fontsize=14, labelpad=20)\n",
    "plt.plot(range(1, len(Decision_rfecv.cv_results_['mean_test_score']) + 1), Decision_rfecv.cv_results_['mean_test_score'], color='#303F9F', linewidth=3)\n",
    "plt.show()"
   ]
  },
  {
   "cell_type": "markdown",
   "id": "d0c182fc-741b-4bc5-90cf-d91db89ecd12",
   "metadata": {
    "id": "d0c182fc-741b-4bc5-90cf-d91db89ecd12"
   },
   "source": [
    "### DT - Feature importance after RFECV"
   ]
  },
  {
   "cell_type": "code",
   "execution_count": 38,
   "id": "439ece83-c9ce-4f77-940a-f00b144abec2",
   "metadata": {
    "id": "439ece83-c9ce-4f77-940a-f00b144abec2"
   },
   "outputs": [],
   "source": [
    "Decision_rfecv_imp = Decision_rfecv_model.estimator_.feature_importances_"
   ]
  },
  {
   "cell_type": "code",
   "execution_count": 39,
   "id": "005c0c85-16a7-47c1-b868-e333184b1bcc",
   "metadata": {
    "id": "005c0c85-16a7-47c1-b868-e333184b1bcc"
   },
   "outputs": [],
   "source": [
    "X_D = X_train.copy()\n",
    "X_D_Dropped = X_D.drop(X_D.columns[np.where(Decision_rfecv.support_ == False)[0]], axis=1, inplace=True)"
   ]
  },
  {
   "cell_type": "code",
   "execution_count": 40,
   "id": "272f6b65-2476-4536-85d8-da81ddb7c75c",
   "metadata": {
    "id": "272f6b65-2476-4536-85d8-da81ddb7c75c"
   },
   "outputs": [],
   "source": [
    "#Get the col names of Decision tree\n",
    "d_colname=list(X_D.columns)\n",
    "#d_colname"
   ]
  },
  {
   "cell_type": "code",
   "execution_count": 41,
   "id": "adad34c2-b514-4cd4-ac11-7d0ca5c23095",
   "metadata": {
    "id": "adad34c2-b514-4cd4-ac11-7d0ca5c23095"
   },
   "outputs": [],
   "source": [
    "#Create dict for datafram\n",
    "rfecv_dict={'Feature':d_colname,'Importance':Decision_rfecv_imp}\n",
    "\n",
    "#Create dataframe\n",
    "rfecv_feature_imp=pd.DataFrame(rfecv_dict).sort_values(by='Importance',ascending = False)"
   ]
  },
  {
   "cell_type": "code",
   "execution_count": 42,
   "id": "2dadca32-3bdd-4d34-9c73-71febee6dc86",
   "metadata": {
    "colab": {
     "base_uri": "https://localhost:8080/",
     "height": 238
    },
    "id": "2dadca32-3bdd-4d34-9c73-71febee6dc86",
    "outputId": "6e1cd32e-b55d-4adf-ed0a-d07f9593b9b7"
   },
   "outputs": [
    {
     "data": {
      "text/html": [
       "<div>\n",
       "<style scoped>\n",
       "    .dataframe tbody tr th:only-of-type {\n",
       "        vertical-align: middle;\n",
       "    }\n",
       "\n",
       "    .dataframe tbody tr th {\n",
       "        vertical-align: top;\n",
       "    }\n",
       "\n",
       "    .dataframe thead th {\n",
       "        text-align: right;\n",
       "    }\n",
       "</style>\n",
       "<table border=\"1\" class=\"dataframe\">\n",
       "  <thead>\n",
       "    <tr style=\"text-align: right;\">\n",
       "      <th></th>\n",
       "      <th>Feature</th>\n",
       "      <th>Importance</th>\n",
       "    </tr>\n",
       "  </thead>\n",
       "  <tbody>\n",
       "    <tr>\n",
       "      <th>5</th>\n",
       "      <td>Contract_Month-to-month</td>\n",
       "      <td>0.511898</td>\n",
       "    </tr>\n",
       "    <tr>\n",
       "      <th>0</th>\n",
       "      <td>tenure</td>\n",
       "      <td>0.183504</td>\n",
       "    </tr>\n",
       "    <tr>\n",
       "      <th>4</th>\n",
       "      <td>InternetService_Fiber optic</td>\n",
       "      <td>0.157295</td>\n",
       "    </tr>\n",
       "    <tr>\n",
       "      <th>2</th>\n",
       "      <td>TotalCharges</td>\n",
       "      <td>0.076570</td>\n",
       "    </tr>\n",
       "    <tr>\n",
       "      <th>1</th>\n",
       "      <td>MonthlyCharges</td>\n",
       "      <td>0.045692</td>\n",
       "    </tr>\n",
       "    <tr>\n",
       "      <th>3</th>\n",
       "      <td>InternetService_DSL</td>\n",
       "      <td>0.025040</td>\n",
       "    </tr>\n",
       "  </tbody>\n",
       "</table>\n",
       "</div>"
      ],
      "text/plain": [
       "                       Feature  Importance\n",
       "5      Contract_Month-to-month    0.511898\n",
       "0                       tenure    0.183504\n",
       "4  InternetService_Fiber optic    0.157295\n",
       "2                 TotalCharges    0.076570\n",
       "1               MonthlyCharges    0.045692\n",
       "3          InternetService_DSL    0.025040"
      ]
     },
     "execution_count": 42,
     "metadata": {},
     "output_type": "execute_result"
    }
   ],
   "source": [
    "rfecv_feature_imp"
   ]
  },
  {
   "cell_type": "code",
   "execution_count": 43,
   "id": "0a0c1dd0-edb8-4c7a-91cf-4a8e09a2100f",
   "metadata": {
    "colab": {
     "base_uri": "https://localhost:8080/"
    },
    "id": "0a0c1dd0-edb8-4c7a-91cf-4a8e09a2100f",
    "outputId": "b2d60a24-1cf9-4152-cffa-8d31555ebb12"
   },
   "outputs": [
    {
     "data": {
      "text/plain": [
       "35"
      ]
     },
     "execution_count": 43,
     "metadata": {},
     "output_type": "execute_result"
    }
   ],
   "source": [
    "len(Decision_rfecv_model.support_)"
   ]
  },
  {
   "cell_type": "code",
   "execution_count": 44,
   "id": "930bd1df-e5eb-4726-94fb-2fd1bb62e603",
   "metadata": {
    "colab": {
     "base_uri": "https://localhost:8080/"
    },
    "id": "930bd1df-e5eb-4726-94fb-2fd1bb62e603",
    "outputId": "0eb5d175-2671-4774-c14d-6cff82cec12d"
   },
   "outputs": [
    {
     "name": "stdout",
     "output_type": "stream",
     "text": [
      "Optimal feature amount: 6\n",
      "Chosen features: ['tenure', 'MonthlyCharges', 'TotalCharges', 'InternetService_DSL', 'InternetService_Fiber optic', 'Contract_Month-to-month']\n"
     ]
    }
   ],
   "source": [
    "#Print results\n",
    "print('Optimal feature amount:',Decision_rfecv_model.n_features_)\n",
    "\n",
    "# Here we look into our orignal columns to see which are listen in our Recursive model of features\n",
    "print('Chosen features:', list(X.columns[Decision_rfecv_model.support_]))"
   ]
  },
  {
   "cell_type": "markdown",
   "id": "c8cc924e-635f-4cc4-ac79-c3d34b0a4706",
   "metadata": {
    "id": "c8cc924e-635f-4cc4-ac79-c3d34b0a4706"
   },
   "source": [
    "### DT - Classification report w. RFECV"
   ]
  },
  {
   "cell_type": "code",
   "execution_count": 45,
   "id": "8de1542b-ae9f-4947-a27f-4d05dcabc442",
   "metadata": {
    "colab": {
     "base_uri": "https://localhost:8080/"
    },
    "id": "8de1542b-ae9f-4947-a27f-4d05dcabc442",
    "outputId": "88099845-e93f-4e92-9510-b4ed35f0fcdd",
    "scrolled": true
   },
   "outputs": [
    {
     "name": "stdout",
     "output_type": "stream",
     "text": [
      "              precision    recall  f1-score   support\n",
      "\n",
      "           0     0.8444    0.8470    0.8457      1281\n",
      "           1     0.5856    0.5807    0.5832       477\n",
      "\n",
      "    accuracy                         0.7747      1758\n",
      "   macro avg     0.7150    0.7139    0.7144      1758\n",
      "weighted avg     0.7742    0.7747    0.7744      1758\n",
      "\n"
     ]
    }
   ],
   "source": [
    "#We find the acuracy of our model\n",
    "dc_prediction = Decision_rfecv.predict(X_test)\n",
    "print(classification_report(y_test, dc_prediction, digits=4))"
   ]
  },
  {
   "cell_type": "code",
   "execution_count": 46,
   "id": "0fb1b4d4-5b3e-46ad-a58b-af7ca797344b",
   "metadata": {
    "colab": {
     "base_uri": "https://localhost:8080/"
    },
    "id": "0fb1b4d4-5b3e-46ad-a58b-af7ca797344b",
    "outputId": "02fefba8-f694-43ae-f6e7-7d43356c5114"
   },
   "outputs": [
    {
     "name": "stdout",
     "output_type": "stream",
     "text": [
      "Accuracy of Decision tree classifier on test set: 0.77474\n"
     ]
    }
   ],
   "source": [
    "print('Accuracy of Decision tree classifier on test set: {:.5f}'.format(Decision_rfecv.score(X_test, y_test)))"
   ]
  },
  {
   "cell_type": "markdown",
   "id": "502cb43b-7922-4411-b61f-15926570b363",
   "metadata": {
    "id": "502cb43b-7922-4411-b61f-15926570b363"
   },
   "source": [
    "### DT - Confusion matrix w. RFECV"
   ]
  },
  {
   "cell_type": "code",
   "execution_count": 47,
   "id": "f2607263-bcf1-4fec-9961-6b9b556086c2",
   "metadata": {
    "colab": {
     "base_uri": "https://localhost:8080/",
     "height": 242
    },
    "id": "f2607263-bcf1-4fec-9961-6b9b556086c2",
    "outputId": "90b4a577-0a87-4fb2-8ea1-d7820223eea7"
   },
   "outputs": [
    {
     "data": {
      "image/png": "[encoded data removed]",
      "text/plain": [
       "<Figure size 288x216 with 2 Axes>"
      ]
     },
     "metadata": {
      "needs_background": "light"
     },
     "output_type": "display_data"
    }
   ],
   "source": [
    "plt.figure(figsize=(4,3))\n",
    "sns.heatmap(\n",
    "    confusion_matrix(\n",
    "        y_test,\n",
    "        dc_prediction\n",
    "        ),\n",
    "        annot=True,\n",
    "        fmt = \"d\",\n",
    "        linecolor=\"k\",\n",
    "        linewidths=3\n",
    ")\n",
    "\n",
    "plt.xlabel(\"predicted\")\n",
    "plt.ylabel(\"true\")\n",
    "plt.title(\"Decision tree with RFECV - CONFUSION MATRIX\",fontsize=14)\n",
    "plt.show()"
   ]
  },
  {
   "cell_type": "markdown",
   "id": "1c926b57-3e54-4cfa-8f1b-281cb737362c",
   "metadata": {
    "id": "1c926b57-3e54-4cfa-8f1b-281cb737362c"
   },
   "source": [
    "## Random forrest"
   ]
  },
  {
   "cell_type": "code",
   "execution_count": 48,
   "id": "jSATaHTjSh7M",
   "metadata": {
    "id": "jSATaHTjSh7M"
   },
   "outputs": [],
   "source": [
    "# Initialize the training set and test set. Split the Splits at 25% default\n",
    "X_train, X_test, y_train, y_test = train_test_split(\n",
    "    X,\n",
    "    y,\n",
    "    random_state=69\n",
    ")"
   ]
  },
  {
   "cell_type": "code",
   "execution_count": 49,
   "id": "050a0a18-376f-46a8-a753-0c3ca841004d",
   "metadata": {
    "colab": {
     "base_uri": "https://localhost:8080/"
    },
    "id": "050a0a18-376f-46a8-a753-0c3ca841004d",
    "outputId": "e9328d3d-e633-49aa-c792-08eb06d2609d"
   },
   "outputs": [
    {
     "data": {
      "text/plain": [
       "(5274, 35)"
      ]
     },
     "execution_count": 49,
     "metadata": {},
     "output_type": "execute_result"
    }
   ],
   "source": [
    "X_train.shape"
   ]
  },
  {
   "cell_type": "markdown",
   "id": "ftc9ijj3MvEA",
   "metadata": {
    "id": "ftc9ijj3MvEA"
   },
   "source": [
    "### Optimal use of hyper parameters"
   ]
  },
  {
   "cell_type": "code",
   "execution_count": 50,
   "id": "PKUbKfEUUKNA",
   "metadata": {
    "colab": {
     "base_uri": "https://localhost:8080/"
    },
    "id": "PKUbKfEUUKNA",
    "outputId": "bc715ae1-ae9a-4897-c282-9d2630895774"
   },
   "outputs": [
    {
     "name": "stdout",
     "output_type": "stream",
     "text": [
      "Best: 0.802900 using {'max_depth': 7, 'n_estimators': 100}\n",
      "0.734215 (0.000261) with: {'max_depth': 1, 'n_estimators': 10}\n",
      "0.734215 (0.000261) with: {'max_depth': 1, 'n_estimators': 100}\n",
      "0.734215 (0.000261) with: {'max_depth': 1, 'n_estimators': 200}\n",
      "0.734215 (0.000261) with: {'max_depth': 1, 'n_estimators': 1000}\n",
      "0.752981 (0.017482) with: {'max_depth': 2, 'n_estimators': 10}\n",
      "0.742888 (0.007649) with: {'max_depth': 2, 'n_estimators': 100}\n",
      "0.748008 (0.003999) with: {'max_depth': 2, 'n_estimators': 200}\n",
      "0.740897 (0.006822) with: {'max_depth': 2, 'n_estimators': 1000}\n",
      "0.792376 (0.007956) with: {'max_depth': 4, 'n_estimators': 10}\n",
      "0.787399 (0.007514) with: {'max_depth': 4, 'n_estimators': 100}\n",
      "0.788964 (0.007003) with: {'max_depth': 4, 'n_estimators': 200}\n",
      "0.788253 (0.009312) with: {'max_depth': 4, 'n_estimators': 1000}\n",
      "0.799060 (0.009150) with: {'max_depth': 6, 'n_estimators': 10}\n",
      "0.799913 (0.008953) with: {'max_depth': 6, 'n_estimators': 100}\n",
      "0.800055 (0.009849) with: {'max_depth': 6, 'n_estimators': 200}\n",
      "0.801193 (0.009172) with: {'max_depth': 6, 'n_estimators': 1000}\n",
      "0.800340 (0.007248) with: {'max_depth': 7, 'n_estimators': 10}\n",
      "0.802900 (0.009863) with: {'max_depth': 7, 'n_estimators': 100}\n",
      "0.802473 (0.009321) with: {'max_depth': 7, 'n_estimators': 200}\n",
      "0.801762 (0.008577) with: {'max_depth': 7, 'n_estimators': 1000}\n",
      "0.795505 (0.009297) with: {'max_depth': 10, 'n_estimators': 10}\n",
      "0.798349 (0.010484) with: {'max_depth': 10, 'n_estimators': 100}\n",
      "0.800482 (0.009201) with: {'max_depth': 10, 'n_estimators': 200}\n",
      "0.801620 (0.008677) with: {'max_depth': 10, 'n_estimators': 1000}\n",
      "0.783132 (0.010907) with: {'max_depth': 20, 'n_estimators': 10}\n",
      "0.786688 (0.008667) with: {'max_depth': 20, 'n_estimators': 100}\n",
      "0.787398 (0.009135) with: {'max_depth': 20, 'n_estimators': 200}\n",
      "0.789106 (0.010267) with: {'max_depth': 20, 'n_estimators': 1000}\n"
     ]
    }
   ],
   "source": [
    "# define dataset, models and parameters\n",
    "rf_model = RandomForestClassifier()\n",
    "\n",
    "n_estimators = [10, 100, 200, 1000]\n",
    "max_depth = [1,2,4,6,7,10,20]\n",
    "\n",
    "# define grid search\n",
    "rf_grid = dict(\n",
    "    n_estimators=n_estimators,\n",
    "    max_depth = max_depth\n",
    ")\n",
    "\n",
    "# estimator = our model we want to find the best params from\n",
    "# param_grid = is our parameter we want to use\n",
    "# n_jobs = Number of jobs to run in parallel, we dont need that\n",
    "# We have used the gridSearchCV without the crossvalidation CV\n",
    "rf_grid_search = GridSearchCV(\n",
    "  estimator=rf_model, \n",
    "  param_grid=rf_grid, \n",
    "  n_jobs=-1, \n",
    "  scoring='accuracy',\n",
    "  error_score=0\n",
    ")\n",
    "\n",
    "rf_grid_result = rf_grid_search.fit(X,y)\n",
    "\n",
    "# summarize results\n",
    "print(\"Best: %f using %s\" % (rf_grid_result.best_score_, rf_grid_result.best_params_))\n",
    "means = rf_grid_result.cv_results_['mean_test_score']\n",
    "stds = rf_grid_result.cv_results_['std_test_score']\n",
    "params = rf_grid_result.cv_results_['params']\n",
    "\n",
    "for mean, stdev, param in zip(means, stds, params):\n",
    "    print(\"%f (%f) with: %r\" % (mean, stdev, param))"
   ]
  },
  {
   "cell_type": "code",
   "execution_count": 51,
   "id": "bfae155d-7b11-47c4-9648-0884cb3441ce",
   "metadata": {
    "id": "bfae155d-7b11-47c4-9648-0884cb3441ce"
   },
   "outputs": [],
   "source": [
    "# Create random forest classifer object that uses entropy - very slow\n",
    "rfc = RandomForestClassifier(random_state=50, n_jobs=-1 , n_estimators=200, max_depth=7)\n",
    "\n",
    "# Train model\n",
    "rfc_model = rfc.fit(X_train, y_train)\n",
    "\n",
    "# Predict    \n",
    "y_pred_rfc = rfc_model.predict(X_test)"
   ]
  },
  {
   "cell_type": "code",
   "execution_count": 52,
   "id": "0a607971-a18c-444b-a5d0-fc8d7a50cb84",
   "metadata": {
    "colab": {
     "base_uri": "https://localhost:8080/"
    },
    "id": "0a607971-a18c-444b-a5d0-fc8d7a50cb84",
    "outputId": "a665b59b-a145-4e3a-dbdc-fb179bd31d89"
   },
   "outputs": [
    {
     "name": "stdout",
     "output_type": "stream",
     "text": [
      "Accuracy of random forest classifier on test set: 0.79238\n"
     ]
    }
   ],
   "source": [
    "print('Accuracy of random forest classifier on test set: {:.5f}'.format(rfc_model.score(X_test, y_test)))"
   ]
  },
  {
   "cell_type": "markdown",
   "id": "02f8008f-0ead-4779-bb99-8bfba1da744e",
   "metadata": {
    "id": "02f8008f-0ead-4779-bb99-8bfba1da744e"
   },
   "source": [
    "### RF - Classification report"
   ]
  },
  {
   "cell_type": "code",
   "execution_count": 53,
   "id": "d82cc897-c401-4671-a41b-269ebe38e80c",
   "metadata": {
    "colab": {
     "base_uri": "https://localhost:8080/"
    },
    "id": "d82cc897-c401-4671-a41b-269ebe38e80c",
    "outputId": "aba6af0d-0732-47e4-ff16-9b5cc8be075f"
   },
   "outputs": [
    {
     "name": "stdout",
     "output_type": "stream",
     "text": [
      "              precision    recall  f1-score   support\n",
      "\n",
      "           0     0.8290    0.9009    0.8634      1281\n",
      "           1     0.6530    0.5010    0.5670       477\n",
      "\n",
      "    accuracy                         0.7924      1758\n",
      "   macro avg     0.7410    0.7010    0.7152      1758\n",
      "weighted avg     0.7813    0.7924    0.7830      1758\n",
      "\n"
     ]
    }
   ],
   "source": [
    "print(classification_report(y_test,y_pred_rfc,digits=4))"
   ]
  },
  {
   "cell_type": "code",
   "execution_count": 54,
   "id": "d2f40981-1d86-431f-b39a-220e0d92a274",
   "metadata": {
    "id": "d2f40981-1d86-431f-b39a-220e0d92a274"
   },
   "outputs": [],
   "source": [
    "rfc_imp=list(rfc_model.feature_importances_)"
   ]
  },
  {
   "cell_type": "code",
   "execution_count": 55,
   "id": "982864af-d056-486a-8606-3f10c947a762",
   "metadata": {
    "id": "982864af-d056-486a-8606-3f10c947a762"
   },
   "outputs": [],
   "source": [
    "rfc_colname=list(X_train.columns)\n",
    "\n",
    "#Create dict for datafram\n",
    "rfc_dict={'Feature':rfc_colname,'Importance':rfc_imp}\n",
    "\n",
    "#Create dataframe\n",
    "rfc_feature_imp=pd.DataFrame(rfc_dict)"
   ]
  },
  {
   "cell_type": "code",
   "execution_count": 56,
   "id": "f5f76409-e031-4ee7-b8d7-81598cc64a09",
   "metadata": {
    "id": "f5f76409-e031-4ee7-b8d7-81598cc64a09"
   },
   "outputs": [],
   "source": [
    "rfc_feature_rank=rfc_feature_imp.sort_values(by='Importance',ascending = False)"
   ]
  },
  {
   "cell_type": "markdown",
   "id": "b7694a50-3443-4f01-ad98-3d018d377be2",
   "metadata": {
    "id": "b7694a50-3443-4f01-ad98-3d018d377be2"
   },
   "source": [
    "### RF - Feature importance"
   ]
  },
  {
   "cell_type": "code",
   "execution_count": 57,
   "id": "2ff264c1-ee2e-49c5-8246-d93488383b7e",
   "metadata": {
    "colab": {
     "base_uri": "https://localhost:8080/",
     "height": 1000
    },
    "id": "2ff264c1-ee2e-49c5-8246-d93488383b7e",
    "outputId": "cdaf996c-3b15-4f77-b221-0aed9189c487"
   },
   "outputs": [
    {
     "data": {
      "text/html": [
       "<div>\n",
       "<style scoped>\n",
       "    .dataframe tbody tr th:only-of-type {\n",
       "        vertical-align: middle;\n",
       "    }\n",
       "\n",
       "    .dataframe tbody tr th {\n",
       "        vertical-align: top;\n",
       "    }\n",
       "\n",
       "    .dataframe thead th {\n",
       "        text-align: right;\n",
       "    }\n",
       "</style>\n",
       "<table border=\"1\" class=\"dataframe\">\n",
       "  <thead>\n",
       "    <tr style=\"text-align: right;\">\n",
       "      <th></th>\n",
       "      <th>Feature</th>\n",
       "      <th>Importance</th>\n",
       "    </tr>\n",
       "  </thead>\n",
       "  <tbody>\n",
       "    <tr>\n",
       "      <th>0</th>\n",
       "      <td>tenure</td>\n",
       "      <td>0.171213</td>\n",
       "    </tr>\n",
       "    <tr>\n",
       "      <th>26</th>\n",
       "      <td>Contract_Month-to-month</td>\n",
       "      <td>0.142748</td>\n",
       "    </tr>\n",
       "    <tr>\n",
       "      <th>2</th>\n",
       "      <td>TotalCharges</td>\n",
       "      <td>0.105233</td>\n",
       "    </tr>\n",
       "    <tr>\n",
       "      <th>1</th>\n",
       "      <td>MonthlyCharges</td>\n",
       "      <td>0.086052</td>\n",
       "    </tr>\n",
       "    <tr>\n",
       "      <th>12</th>\n",
       "      <td>InternetService_Fiber optic</td>\n",
       "      <td>0.085551</td>\n",
       "    </tr>\n",
       "    <tr>\n",
       "      <th>28</th>\n",
       "      <td>Contract_Two year</td>\n",
       "      <td>0.058818</td>\n",
       "    </tr>\n",
       "    <tr>\n",
       "      <th>33</th>\n",
       "      <td>PaymentMethod_Electronic check</td>\n",
       "      <td>0.055265</td>\n",
       "    </tr>\n",
       "    <tr>\n",
       "      <th>13</th>\n",
       "      <td>InternetService_No</td>\n",
       "      <td>0.041493</td>\n",
       "    </tr>\n",
       "    <tr>\n",
       "      <th>27</th>\n",
       "      <td>Contract_One year</td>\n",
       "      <td>0.024797</td>\n",
       "    </tr>\n",
       "    <tr>\n",
       "      <th>15</th>\n",
       "      <td>OnlineSecurity_Yes</td>\n",
       "      <td>0.022690</td>\n",
       "    </tr>\n",
       "    <tr>\n",
       "      <th>11</th>\n",
       "      <td>InternetService_DSL</td>\n",
       "      <td>0.019507</td>\n",
       "    </tr>\n",
       "    <tr>\n",
       "      <th>14</th>\n",
       "      <td>OnlineSecurity_No</td>\n",
       "      <td>0.018362</td>\n",
       "    </tr>\n",
       "    <tr>\n",
       "      <th>21</th>\n",
       "      <td>TechSupport_Yes</td>\n",
       "      <td>0.015991</td>\n",
       "    </tr>\n",
       "    <tr>\n",
       "      <th>20</th>\n",
       "      <td>TechSupport_No</td>\n",
       "      <td>0.014322</td>\n",
       "    </tr>\n",
       "    <tr>\n",
       "      <th>29</th>\n",
       "      <td>PaperlessBilling_No</td>\n",
       "      <td>0.011920</td>\n",
       "    </tr>\n",
       "    <tr>\n",
       "      <th>30</th>\n",
       "      <td>PaperlessBilling_Yes</td>\n",
       "      <td>0.010775</td>\n",
       "    </tr>\n",
       "    <tr>\n",
       "      <th>4</th>\n",
       "      <td>SeniorCitizen_Yes</td>\n",
       "      <td>0.010010</td>\n",
       "    </tr>\n",
       "    <tr>\n",
       "      <th>16</th>\n",
       "      <td>OnlineBackup_No</td>\n",
       "      <td>0.008414</td>\n",
       "    </tr>\n",
       "    <tr>\n",
       "      <th>3</th>\n",
       "      <td>SeniorCitizen_No</td>\n",
       "      <td>0.008159</td>\n",
       "    </tr>\n",
       "    <tr>\n",
       "      <th>7</th>\n",
       "      <td>Dependents_No</td>\n",
       "      <td>0.007914</td>\n",
       "    </tr>\n",
       "    <tr>\n",
       "      <th>17</th>\n",
       "      <td>OnlineBackup_Yes</td>\n",
       "      <td>0.006936</td>\n",
       "    </tr>\n",
       "    <tr>\n",
       "      <th>8</th>\n",
       "      <td>Dependents_Yes</td>\n",
       "      <td>0.006562</td>\n",
       "    </tr>\n",
       "    <tr>\n",
       "      <th>10</th>\n",
       "      <td>MultipleLines_Yes</td>\n",
       "      <td>0.006523</td>\n",
       "    </tr>\n",
       "    <tr>\n",
       "      <th>24</th>\n",
       "      <td>StreamingMovies_No</td>\n",
       "      <td>0.006348</td>\n",
       "    </tr>\n",
       "    <tr>\n",
       "      <th>9</th>\n",
       "      <td>MultipleLines_No</td>\n",
       "      <td>0.006178</td>\n",
       "    </tr>\n",
       "    <tr>\n",
       "      <th>34</th>\n",
       "      <td>PaymentMethod_Mailed check</td>\n",
       "      <td>0.006034</td>\n",
       "    </tr>\n",
       "    <tr>\n",
       "      <th>25</th>\n",
       "      <td>StreamingMovies_Yes</td>\n",
       "      <td>0.006007</td>\n",
       "    </tr>\n",
       "    <tr>\n",
       "      <th>22</th>\n",
       "      <td>StreamingTV_No</td>\n",
       "      <td>0.005497</td>\n",
       "    </tr>\n",
       "    <tr>\n",
       "      <th>6</th>\n",
       "      <td>Partner_Yes</td>\n",
       "      <td>0.005415</td>\n",
       "    </tr>\n",
       "    <tr>\n",
       "      <th>18</th>\n",
       "      <td>DeviceProtection_No</td>\n",
       "      <td>0.004661</td>\n",
       "    </tr>\n",
       "    <tr>\n",
       "      <th>23</th>\n",
       "      <td>StreamingTV_Yes</td>\n",
       "      <td>0.004539</td>\n",
       "    </tr>\n",
       "    <tr>\n",
       "      <th>5</th>\n",
       "      <td>Partner_No</td>\n",
       "      <td>0.004263</td>\n",
       "    </tr>\n",
       "    <tr>\n",
       "      <th>19</th>\n",
       "      <td>DeviceProtection_Yes</td>\n",
       "      <td>0.004227</td>\n",
       "    </tr>\n",
       "    <tr>\n",
       "      <th>31</th>\n",
       "      <td>PaymentMethod_Bank transfer (automatic)</td>\n",
       "      <td>0.004108</td>\n",
       "    </tr>\n",
       "    <tr>\n",
       "      <th>32</th>\n",
       "      <td>PaymentMethod_Credit card (automatic)</td>\n",
       "      <td>0.003468</td>\n",
       "    </tr>\n",
       "  </tbody>\n",
       "</table>\n",
       "</div>"
      ],
      "text/plain": [
       "                                    Feature  Importance\n",
       "0                                    tenure    0.171213\n",
       "26                  Contract_Month-to-month    0.142748\n",
       "2                              TotalCharges    0.105233\n",
       "1                            MonthlyCharges    0.086052\n",
       "12              InternetService_Fiber optic    0.085551\n",
       "28                        Contract_Two year    0.058818\n",
       "33           PaymentMethod_Electronic check    0.055265\n",
       "13                       InternetService_No    0.041493\n",
       "27                        Contract_One year    0.024797\n",
       "15                       OnlineSecurity_Yes    0.022690\n",
       "11                      InternetService_DSL    0.019507\n",
       "14                        OnlineSecurity_No    0.018362\n",
       "21                          TechSupport_Yes    0.015991\n",
       "20                           TechSupport_No    0.014322\n",
       "29                      PaperlessBilling_No    0.011920\n",
       "30                     PaperlessBilling_Yes    0.010775\n",
       "4                         SeniorCitizen_Yes    0.010010\n",
       "16                          OnlineBackup_No    0.008414\n",
       "3                          SeniorCitizen_No    0.008159\n",
       "7                             Dependents_No    0.007914\n",
       "17                         OnlineBackup_Yes    0.006936\n",
       "8                            Dependents_Yes    0.006562\n",
       "10                        MultipleLines_Yes    0.006523\n",
       "24                       StreamingMovies_No    0.006348\n",
       "9                          MultipleLines_No    0.006178\n",
       "34               PaymentMethod_Mailed check    0.006034\n",
       "25                      StreamingMovies_Yes    0.006007\n",
       "22                           StreamingTV_No    0.005497\n",
       "6                               Partner_Yes    0.005415\n",
       "18                      DeviceProtection_No    0.004661\n",
       "23                          StreamingTV_Yes    0.004539\n",
       "5                                Partner_No    0.004263\n",
       "19                     DeviceProtection_Yes    0.004227\n",
       "31  PaymentMethod_Bank transfer (automatic)    0.004108\n",
       "32    PaymentMethod_Credit card (automatic)    0.003468"
      ]
     },
     "execution_count": 57,
     "metadata": {},
     "output_type": "execute_result"
    }
   ],
   "source": [
    "rfc_feature_rank"
   ]
  },
  {
   "cell_type": "markdown",
   "id": "9fad7ec5-2082-4003-a2b1-5fcb419e7347",
   "metadata": {
    "id": "9fad7ec5-2082-4003-a2b1-5fcb419e7347"
   },
   "source": [
    "### RF - Confusion matrix"
   ]
  },
  {
   "cell_type": "code",
   "execution_count": 58,
   "id": "5909d8df-1953-4d48-b6a1-288d4199fdbf",
   "metadata": {
    "colab": {
     "base_uri": "https://localhost:8080/",
     "height": 242
    },
    "id": "5909d8df-1953-4d48-b6a1-288d4199fdbf",
    "outputId": "02e757a1-4fe0-4ca9-9d15-3f98b58e928c"
   },
   "outputs": [
    {
     "data": {
      "image/png": "[encoded data removed]",
      "text/plain": [
       "<Figure size 288x216 with 2 Axes>"
      ]
     },
     "metadata": {
      "needs_background": "light"
     },
     "output_type": "display_data"
    }
   ],
   "source": [
    "plt.figure(figsize=(4,3))\n",
    "sns.heatmap(\n",
    "    confusion_matrix(\n",
    "        y_test, \n",
    "        y_pred_rfc\n",
    "      ),\n",
    "      annot=True,fmt = \"d\",linecolor=\"k\",linewidths=3\n",
    ")\n",
    "\n",
    "plt.xlabel(\"predicted\")\n",
    "plt.ylabel(\"true\")\n",
    "plt.title(\"RANDOM FOREST - CONFUSION MATRIX\",fontsize=14)\n",
    "plt.show()"
   ]
  },
  {
   "cell_type": "markdown",
   "id": "68a59f5c-4dd3-4741-9445-80f1f110b352",
   "metadata": {
    "id": "68a59f5c-4dd3-4741-9445-80f1f110b352"
   },
   "source": [
    "## Random forrest w. RFECV"
   ]
  },
  {
   "cell_type": "code",
   "execution_count": 59,
   "id": "c026b64f-a471-4b3f-b656-e6884b8de317",
   "metadata": {
    "colab": {
     "base_uri": "https://localhost:8080/"
    },
    "id": "c026b64f-a471-4b3f-b656-e6884b8de317",
    "outputId": "4b174b4a-10fb-479f-9c0c-636af6b11054"
   },
   "outputs": [
    {
     "data": {
      "text/plain": [
       "(7032, 35)"
      ]
     },
     "execution_count": 59,
     "metadata": {},
     "output_type": "execute_result"
    }
   ],
   "source": [
    "X.shape"
   ]
  },
  {
   "cell_type": "code",
   "execution_count": 60,
   "id": "fa49eb03-ed82-4c99-b021-d434c5995a30",
   "metadata": {
    "id": "fa49eb03-ed82-4c99-b021-d434c5995a30"
   },
   "outputs": [],
   "source": [
    "# Train model with Cross validation\n",
    "rfecv = RFECV(estimator=rfc, step=1, cv=StratifiedKFold(6), scoring='accuracy')\n",
    "\n",
    "# Fit the model\n",
    "rfecv_model = rfecv.fit(X_train, y_train)\n",
    "\n",
    "# Predict    \n",
    "y_pred_rfcv = rfecv_model.predict(X_test)"
   ]
  },
  {
   "cell_type": "code",
   "execution_count": 61,
   "id": "5393508c-c0d4-49fd-93de-3dbf9f452e90",
   "metadata": {
    "colab": {
     "base_uri": "https://localhost:8080/"
    },
    "id": "5393508c-c0d4-49fd-93de-3dbf9f452e90",
    "outputId": "097efad6-c036-42fa-d3d6-e2c3247a5d8a"
   },
   "outputs": [
    {
     "name": "stdout",
     "output_type": "stream",
     "text": [
      "Optimal feature amount: 21\n",
      "Chosen features: ['tenure', 'MonthlyCharges', 'TotalCharges', 'SeniorCitizen_No', 'SeniorCitizen_Yes', 'MultipleLines_Yes', 'InternetService_DSL', 'InternetService_Fiber optic', 'InternetService_No', 'OnlineSecurity_No', 'OnlineSecurity_Yes', 'OnlineBackup_No', 'TechSupport_No', 'TechSupport_Yes', 'StreamingMovies_No', 'Contract_Month-to-month', 'Contract_One year', 'Contract_Two year', 'PaperlessBilling_No', 'PaperlessBilling_Yes', 'PaymentMethod_Electronic check']\n"
     ]
    }
   ],
   "source": [
    "#Print results\n",
    "print('Optimal feature amount:',rfecv_model.n_features_)\n",
    "\n",
    "# Here we look into our orignal columns to see which are listen in our Recursive model of features\n",
    "print('Chosen features:', list(X.columns[rfecv_model.support_]))"
   ]
  },
  {
   "cell_type": "code",
   "execution_count": 62,
   "id": "38345dc9-c0ac-4d94-9d38-630c983a9de7",
   "metadata": {
    "colab": {
     "base_uri": "https://localhost:8080/",
     "height": 605
    },
    "id": "38345dc9-c0ac-4d94-9d38-630c983a9de7",
    "outputId": "afa19b68-45e3-4810-f3ce-6eaf0fe106aa"
   },
   "outputs": [
    {
     "data": {
      "image/png": "[encoded data removed]",
      "text/plain": [
       "<Figure size 1152x648 with 1 Axes>"
      ]
     },
     "metadata": {
      "needs_background": "light"
     },
     "output_type": "display_data"
    }
   ],
   "source": [
    "plt.figure(figsize=(16, 9))\n",
    "plt.title('Recursive Feature Elimination with Cross-Validation', fontsize=18, fontweight='bold', pad=20)\n",
    "plt.xlabel('Number of features selected', fontsize=14, labelpad=20)\n",
    "plt.ylabel('% Correct Classification', fontsize=14, labelpad=20)\n",
    "plt.plot(range(1, len(rfecv_model.cv_results_['mean_test_score']) + 1), rfecv_model.cv_results_['mean_test_score'], color='#303F9F', linewidth=3)\n",
    "plt.show()"
   ]
  },
  {
   "cell_type": "markdown",
   "id": "fa975c9f-2cd8-40c6-a567-5bc65f0b1bdd",
   "metadata": {
    "id": "fa975c9f-2cd8-40c6-a567-5bc65f0b1bdd"
   },
   "source": [
    "### RF - feature importance"
   ]
  },
  {
   "cell_type": "code",
   "execution_count": 63,
   "id": "pUE3UnMySl88",
   "metadata": {
    "id": "pUE3UnMySl88"
   },
   "outputs": [],
   "source": [
    "# Initialize the training set and test set\n",
    "X_train, X_test, y_train, y_test = train_test_split(\n",
    "    X,\n",
    "    y,\n",
    "    random_state=69\n",
    ")"
   ]
  },
  {
   "cell_type": "code",
   "execution_count": 64,
   "id": "3ba26661-7280-4f42-89ac-1c62daaa9734",
   "metadata": {
    "id": "3ba26661-7280-4f42-89ac-1c62daaa9734"
   },
   "outputs": [],
   "source": [
    "rfecv_imp = rfecv_model.estimator_.feature_importances_"
   ]
  },
  {
   "cell_type": "code",
   "execution_count": 65,
   "id": "DI2asszaSTsc",
   "metadata": {
    "colab": {
     "base_uri": "https://localhost:8080/"
    },
    "id": "DI2asszaSTsc",
    "outputId": "f28bb2c2-85c3-4466-acb8-c4d016df187e"
   },
   "outputs": [
    {
     "data": {
      "text/plain": [
       "array([0.17245374, 0.0965291 , 0.12090243, 0.00944045, 0.01062279,\n",
       "       0.00885446, 0.02268559, 0.08597309, 0.03853836, 0.01894354,\n",
       "       0.0199968 , 0.00852524, 0.00991134, 0.0122266 , 0.01040801,\n",
       "       0.18698005, 0.02382347, 0.05786341, 0.01449674, 0.01332898,\n",
       "       0.05749581])"
      ]
     },
     "execution_count": 65,
     "metadata": {},
     "output_type": "execute_result"
    }
   ],
   "source": [
    "rfecv_imp"
   ]
  },
  {
   "cell_type": "code",
   "execution_count": 66,
   "id": "07abd422-29d3-44ad-bed0-e4a845ed8158",
   "metadata": {
    "colab": {
     "base_uri": "https://localhost:8080/"
    },
    "id": "07abd422-29d3-44ad-bed0-e4a845ed8158",
    "outputId": "7824204f-3808-4219-f814-a872095fbeb0"
   },
   "outputs": [
    {
     "data": {
      "text/plain": [
       "35"
      ]
     },
     "execution_count": 66,
     "metadata": {},
     "output_type": "execute_result"
    }
   ],
   "source": [
    "len(X.columns)"
   ]
  },
  {
   "cell_type": "code",
   "execution_count": 67,
   "id": "c51c4898-2813-4727-8e3f-882d3ce9b763",
   "metadata": {
    "id": "c51c4898-2813-4727-8e3f-882d3ce9b763"
   },
   "outputs": [],
   "source": [
    "#Remove the none important features\n",
    "X_rf = X_train.copy()\n",
    "X_Dropped =  (len(X_rf.columns) != 32) and X_rf.drop(X_rf.columns[np.where(rfecv.support_ == False)[0]], axis=1, inplace=True)"
   ]
  },
  {
   "cell_type": "code",
   "execution_count": 68,
   "id": "a3a33141-da4a-49ab-8aca-f3a193fa75d0",
   "metadata": {
    "colab": {
     "base_uri": "https://localhost:8080/"
    },
    "id": "a3a33141-da4a-49ab-8aca-f3a193fa75d0",
    "outputId": "52a0291f-9fe9-4ed8-c8b1-62bdb2990897"
   },
   "outputs": [
    {
     "data": {
      "text/plain": [
       "21"
      ]
     },
     "execution_count": 68,
     "metadata": {},
     "output_type": "execute_result"
    }
   ],
   "source": [
    "len(X_rf.columns)"
   ]
  },
  {
   "cell_type": "code",
   "execution_count": 69,
   "id": "06de6319-2d6c-471d-8308-a59ad975edf1",
   "metadata": {
    "id": "06de6319-2d6c-471d-8308-a59ad975edf1"
   },
   "outputs": [],
   "source": [
    "rfecv_colname=list(X_rf.columns)"
   ]
  },
  {
   "cell_type": "code",
   "execution_count": 70,
   "id": "b2f0b346-fe9c-40d4-90c0-8014bfed2f2c",
   "metadata": {
    "id": "b2f0b346-fe9c-40d4-90c0-8014bfed2f2c"
   },
   "outputs": [],
   "source": [
    "#Create dict for datafram\n",
    "rfecv_dict={'Feature':rfecv_colname,'Importance':rfecv_imp}\n",
    "\n",
    "#Create dataframe\n",
    "rfecv_feature_imp=pd.DataFrame(rfecv_dict)"
   ]
  },
  {
   "cell_type": "code",
   "execution_count": 71,
   "id": "6c8ef655-9d5f-4539-9d99-a99ebf7c087b",
   "metadata": {
    "id": "6c8ef655-9d5f-4539-9d99-a99ebf7c087b"
   },
   "outputs": [],
   "source": [
    "rfecv_feature_rank = rfecv_feature_imp.sort_values(by='Importance',ascending = False)"
   ]
  },
  {
   "cell_type": "code",
   "execution_count": 72,
   "id": "c957cc6a-f78b-4533-b6b4-ec463b88de98",
   "metadata": {
    "colab": {
     "base_uri": "https://localhost:8080/",
     "height": 708
    },
    "id": "c957cc6a-f78b-4533-b6b4-ec463b88de98",
    "outputId": "fd68621f-9085-41df-bd08-d600c9e97c82"
   },
   "outputs": [
    {
     "data": {
      "text/html": [
       "<div>\n",
       "<style scoped>\n",
       "    .dataframe tbody tr th:only-of-type {\n",
       "        vertical-align: middle;\n",
       "    }\n",
       "\n",
       "    .dataframe tbody tr th {\n",
       "        vertical-align: top;\n",
       "    }\n",
       "\n",
       "    .dataframe thead th {\n",
       "        text-align: right;\n",
       "    }\n",
       "</style>\n",
       "<table border=\"1\" class=\"dataframe\">\n",
       "  <thead>\n",
       "    <tr style=\"text-align: right;\">\n",
       "      <th></th>\n",
       "      <th>Feature</th>\n",
       "      <th>Importance</th>\n",
       "    </tr>\n",
       "  </thead>\n",
       "  <tbody>\n",
       "    <tr>\n",
       "      <th>15</th>\n",
       "      <td>Contract_Month-to-month</td>\n",
       "      <td>0.186980</td>\n",
       "    </tr>\n",
       "    <tr>\n",
       "      <th>0</th>\n",
       "      <td>tenure</td>\n",
       "      <td>0.172454</td>\n",
       "    </tr>\n",
       "    <tr>\n",
       "      <th>2</th>\n",
       "      <td>TotalCharges</td>\n",
       "      <td>0.120902</td>\n",
       "    </tr>\n",
       "    <tr>\n",
       "      <th>1</th>\n",
       "      <td>MonthlyCharges</td>\n",
       "      <td>0.096529</td>\n",
       "    </tr>\n",
       "    <tr>\n",
       "      <th>7</th>\n",
       "      <td>InternetService_Fiber optic</td>\n",
       "      <td>0.085973</td>\n",
       "    </tr>\n",
       "    <tr>\n",
       "      <th>17</th>\n",
       "      <td>Contract_Two year</td>\n",
       "      <td>0.057863</td>\n",
       "    </tr>\n",
       "    <tr>\n",
       "      <th>20</th>\n",
       "      <td>PaymentMethod_Electronic check</td>\n",
       "      <td>0.057496</td>\n",
       "    </tr>\n",
       "    <tr>\n",
       "      <th>8</th>\n",
       "      <td>InternetService_No</td>\n",
       "      <td>0.038538</td>\n",
       "    </tr>\n",
       "    <tr>\n",
       "      <th>16</th>\n",
       "      <td>Contract_One year</td>\n",
       "      <td>0.023823</td>\n",
       "    </tr>\n",
       "    <tr>\n",
       "      <th>6</th>\n",
       "      <td>InternetService_DSL</td>\n",
       "      <td>0.022686</td>\n",
       "    </tr>\n",
       "    <tr>\n",
       "      <th>10</th>\n",
       "      <td>OnlineSecurity_Yes</td>\n",
       "      <td>0.019997</td>\n",
       "    </tr>\n",
       "    <tr>\n",
       "      <th>9</th>\n",
       "      <td>OnlineSecurity_No</td>\n",
       "      <td>0.018944</td>\n",
       "    </tr>\n",
       "    <tr>\n",
       "      <th>18</th>\n",
       "      <td>PaperlessBilling_No</td>\n",
       "      <td>0.014497</td>\n",
       "    </tr>\n",
       "    <tr>\n",
       "      <th>19</th>\n",
       "      <td>PaperlessBilling_Yes</td>\n",
       "      <td>0.013329</td>\n",
       "    </tr>\n",
       "    <tr>\n",
       "      <th>13</th>\n",
       "      <td>TechSupport_Yes</td>\n",
       "      <td>0.012227</td>\n",
       "    </tr>\n",
       "    <tr>\n",
       "      <th>4</th>\n",
       "      <td>SeniorCitizen_Yes</td>\n",
       "      <td>0.010623</td>\n",
       "    </tr>\n",
       "    <tr>\n",
       "      <th>14</th>\n",
       "      <td>StreamingMovies_No</td>\n",
       "      <td>0.010408</td>\n",
       "    </tr>\n",
       "    <tr>\n",
       "      <th>12</th>\n",
       "      <td>TechSupport_No</td>\n",
       "      <td>0.009911</td>\n",
       "    </tr>\n",
       "    <tr>\n",
       "      <th>3</th>\n",
       "      <td>SeniorCitizen_No</td>\n",
       "      <td>0.009440</td>\n",
       "    </tr>\n",
       "    <tr>\n",
       "      <th>5</th>\n",
       "      <td>MultipleLines_Yes</td>\n",
       "      <td>0.008854</td>\n",
       "    </tr>\n",
       "    <tr>\n",
       "      <th>11</th>\n",
       "      <td>OnlineBackup_No</td>\n",
       "      <td>0.008525</td>\n",
       "    </tr>\n",
       "  </tbody>\n",
       "</table>\n",
       "</div>"
      ],
      "text/plain": [
       "                           Feature  Importance\n",
       "15         Contract_Month-to-month    0.186980\n",
       "0                           tenure    0.172454\n",
       "2                     TotalCharges    0.120902\n",
       "1                   MonthlyCharges    0.096529\n",
       "7      InternetService_Fiber optic    0.085973\n",
       "17               Contract_Two year    0.057863\n",
       "20  PaymentMethod_Electronic check    0.057496\n",
       "8               InternetService_No    0.038538\n",
       "16               Contract_One year    0.023823\n",
       "6              InternetService_DSL    0.022686\n",
       "10              OnlineSecurity_Yes    0.019997\n",
       "9                OnlineSecurity_No    0.018944\n",
       "18             PaperlessBilling_No    0.014497\n",
       "19            PaperlessBilling_Yes    0.013329\n",
       "13                 TechSupport_Yes    0.012227\n",
       "4                SeniorCitizen_Yes    0.010623\n",
       "14              StreamingMovies_No    0.010408\n",
       "12                  TechSupport_No    0.009911\n",
       "3                 SeniorCitizen_No    0.009440\n",
       "5                MultipleLines_Yes    0.008854\n",
       "11                 OnlineBackup_No    0.008525"
      ]
     },
     "execution_count": 72,
     "metadata": {},
     "output_type": "execute_result"
    }
   ],
   "source": [
    "rfecv_feature_rank.head(21)"
   ]
  },
  {
   "cell_type": "markdown",
   "id": "846a7c6b-e976-46c0-b007-af4fc5614ff6",
   "metadata": {
    "id": "846a7c6b-e976-46c0-b007-af4fc5614ff6"
   },
   "source": [
    "### RF - Classification report w. RFECV"
   ]
  },
  {
   "cell_type": "code",
   "execution_count": 73,
   "id": "ab142186-7674-4856-939e-022df0e41f8c",
   "metadata": {
    "colab": {
     "base_uri": "https://localhost:8080/"
    },
    "id": "ab142186-7674-4856-939e-022df0e41f8c",
    "outputId": "b97207ee-0a96-47e9-b6b7-5bf10f7cda1b"
   },
   "outputs": [
    {
     "name": "stdout",
     "output_type": "stream",
     "text": [
      "Accuracy of random forest classifier on test set: 0.78953\n"
     ]
    }
   ],
   "source": [
    "print('Accuracy of random forest classifier on test set: {:.5f}'.format(rfecv_model.score(X_test, y_test)))"
   ]
  },
  {
   "cell_type": "code",
   "execution_count": 74,
   "id": "d4ee901d-ef3d-4156-abe1-b335344fbcb7",
   "metadata": {
    "colab": {
     "base_uri": "https://localhost:8080/"
    },
    "id": "d4ee901d-ef3d-4156-abe1-b335344fbcb7",
    "outputId": "c93fbf8e-70d9-4f68-d76d-7d9629e0084b"
   },
   "outputs": [
    {
     "name": "stdout",
     "output_type": "stream",
     "text": [
      "              precision    recall  f1-score   support\n",
      "\n",
      "           0     0.8294    0.8954    0.8611      1281\n",
      "           1     0.6427    0.5052    0.5657       477\n",
      "\n",
      "    accuracy                         0.7895      1758\n",
      "   macro avg     0.7360    0.7003    0.7134      1758\n",
      "weighted avg     0.7787    0.7895    0.7810      1758\n",
      "\n"
     ]
    }
   ],
   "source": [
    "print(classification_report(y_test,y_pred_rfcv, digits=4))"
   ]
  },
  {
   "cell_type": "markdown",
   "id": "59b4d7cc-0e1f-4015-ba68-9ea41efcb30f",
   "metadata": {
    "id": "59b4d7cc-0e1f-4015-ba68-9ea41efcb30f"
   },
   "source": [
    "### RF - Confusion matrix w. RFECV"
   ]
  },
  {
   "cell_type": "code",
   "execution_count": 75,
   "id": "69ce8158-a981-48ed-93cb-f5aa6dae50e0",
   "metadata": {
    "colab": {
     "base_uri": "https://localhost:8080/",
     "height": 242
    },
    "id": "69ce8158-a981-48ed-93cb-f5aa6dae50e0",
    "outputId": "f5a62cb1-1bd9-499a-a553-f3f9e1cf28f5"
   },
   "outputs": [
    {
     "data": {
      "image/png": "[encoded data removed]",
      "text/plain": [
       "<Figure size 288x216 with 2 Axes>"
      ]
     },
     "metadata": {
      "needs_background": "light"
     },
     "output_type": "display_data"
    }
   ],
   "source": [
    "# Call confusion_matrix function from sklearn.metrics using actual y_test and predicted y_test data sets \n",
    "plt.figure(figsize=(4,3))\n",
    "sns.heatmap(\n",
    "    confusion_matrix(\n",
    "        y_test,\n",
    "        y_pred_rfcv\n",
    "    ),\n",
    "    annot=True,\n",
    "    fmt = \"d\",\n",
    "    linewidths=3\n",
    ")\n",
    "plt.xlabel(\"predicted\")\n",
    "plt.ylabel(\"true\")\n",
    "plt.title(\"RANDOM FOREST with RFECV - CONFUSION MATRIX\",fontsize=14)\n",
    "plt.show()"
   ]
  },
  {
   "cell_type": "markdown",
   "id": "5a8a5e3c-39bd-4041-b144-c4a32c696041",
   "metadata": {
    "id": "5a8a5e3c-39bd-4041-b144-c4a32c696041"
   },
   "source": [
    "## Logistic regression"
   ]
  },
  {
   "cell_type": "code",
   "execution_count": 76,
   "id": "-l5SjUKfKckV",
   "metadata": {
    "id": "-l5SjUKfKckV"
   },
   "outputs": [],
   "source": [
    "# Save dataframe column titles to list for reassigning after min max scale \n",
    "X_Lr = X.copy()\n",
    "cols = X_Lr.columns"
   ]
  },
  {
   "cell_type": "code",
   "execution_count": 77,
   "id": "ZW11PCItKW5l",
   "metadata": {
    "id": "ZW11PCItKW5l"
   },
   "outputs": [],
   "source": [
    "# Instantiate min-max scaling object\n",
    "mm = MinMaxScaler()\n",
    "\n",
    "# Fit and transform our feature dataframe\n",
    "X_Lr = pd.DataFrame(mm.fit_transform(X_Lr))\n",
    "\n",
    "# Reassign column names so new dataframe has corresponding names\n",
    "X_Lr.columns = cols"
   ]
  },
  {
   "cell_type": "code",
   "execution_count": 78,
   "id": "t0_dsvpthp2g",
   "metadata": {
    "id": "t0_dsvpthp2g"
   },
   "outputs": [],
   "source": [
    "# Initialize the training set and test set\n",
    "X_train, X_test, y_train, y_test = train_test_split(\n",
    "    X_Lr,\n",
    "    y,\n",
    "    random_state=69\n",
    ")"
   ]
  },
  {
   "cell_type": "markdown",
   "id": "abBOaepyW8yv",
   "metadata": {
    "id": "abBOaepyW8yv"
   },
   "source": [
    "### Optimal use of hyper parameter"
   ]
  },
  {
   "cell_type": "code",
   "execution_count": 79,
   "id": "MKWU7NxIXC7q",
   "metadata": {
    "colab": {
     "base_uri": "https://localhost:8080/"
    },
    "id": "MKWU7NxIXC7q",
    "outputId": "fb9ca371-00ea-43b7-8cab-637ff6b6155b"
   },
   "outputs": [
    {
     "name": "stderr",
     "output_type": "stream",
     "text": [
      "/Library/Frameworks/Python.framework/Versions/3.9/lib/python3.9/site-packages/sklearn/linear_model/_logistic.py:814: ConvergenceWarning: lbfgs failed to converge (status=1):\n",
      "STOP: TOTAL NO. of ITERATIONS REACHED LIMIT.\n",
      "\n",
      "Increase the number of iterations (max_iter) or scale the data as shown in:\n",
      "    https://scikit-learn.org/stable/modules/preprocessing.html\n",
      "Please also refer to the documentation for alternative solver options:\n",
      "    https://scikit-learn.org/stable/modules/linear_model.html#logistic-regression\n",
      "  n_iter_i = _check_optimize_result(\n",
      "/Library/Frameworks/Python.framework/Versions/3.9/lib/python3.9/site-packages/sklearn/linear_model/_logistic.py:814: ConvergenceWarning: lbfgs failed to converge (status=1):\n",
      "STOP: TOTAL NO. of ITERATIONS REACHED LIMIT.\n",
      "\n",
      "Increase the number of iterations (max_iter) or scale the data as shown in:\n",
      "    https://scikit-learn.org/stable/modules/preprocessing.html\n",
      "Please also refer to the documentation for alternative solver options:\n",
      "    https://scikit-learn.org/stable/modules/linear_model.html#logistic-regression\n",
      "  n_iter_i = _check_optimize_result(\n",
      "/Library/Frameworks/Python.framework/Versions/3.9/lib/python3.9/site-packages/sklearn/linear_model/_logistic.py:814: ConvergenceWarning: lbfgs failed to converge (status=1):\n",
      "STOP: TOTAL NO. of ITERATIONS REACHED LIMIT.\n",
      "\n",
      "Increase the number of iterations (max_iter) or scale the data as shown in:\n",
      "    https://scikit-learn.org/stable/modules/preprocessing.html\n",
      "Please also refer to the documentation for alternative solver options:\n",
      "    https://scikit-learn.org/stable/modules/linear_model.html#logistic-regression\n",
      "  n_iter_i = _check_optimize_result(\n",
      "/Library/Frameworks/Python.framework/Versions/3.9/lib/python3.9/site-packages/sklearn/linear_model/_logistic.py:814: ConvergenceWarning: lbfgs failed to converge (status=1):\n",
      "STOP: TOTAL NO. of ITERATIONS REACHED LIMIT.\n",
      "\n",
      "Increase the number of iterations (max_iter) or scale the data as shown in:\n",
      "    https://scikit-learn.org/stable/modules/preprocessing.html\n",
      "Please also refer to the documentation for alternative solver options:\n",
      "    https://scikit-learn.org/stable/modules/linear_model.html#logistic-regression\n",
      "  n_iter_i = _check_optimize_result(\n",
      "/Library/Frameworks/Python.framework/Versions/3.9/lib/python3.9/site-packages/sklearn/linear_model/_logistic.py:814: ConvergenceWarning: lbfgs failed to converge (status=1):\n",
      "STOP: TOTAL NO. of ITERATIONS REACHED LIMIT.\n",
      "\n",
      "Increase the number of iterations (max_iter) or scale the data as shown in:\n",
      "    https://scikit-learn.org/stable/modules/preprocessing.html\n",
      "Please also refer to the documentation for alternative solver options:\n",
      "    https://scikit-learn.org/stable/modules/linear_model.html#logistic-regression\n",
      "  n_iter_i = _check_optimize_result(\n",
      "/Library/Frameworks/Python.framework/Versions/3.9/lib/python3.9/site-packages/sklearn/linear_model/_logistic.py:814: ConvergenceWarning: lbfgs failed to converge (status=1):\n",
      "STOP: TOTAL NO. of ITERATIONS REACHED LIMIT.\n",
      "\n",
      "Increase the number of iterations (max_iter) or scale the data as shown in:\n",
      "    https://scikit-learn.org/stable/modules/preprocessing.html\n",
      "Please also refer to the documentation for alternative solver options:\n",
      "    https://scikit-learn.org/stable/modules/linear_model.html#logistic-regression\n",
      "  n_iter_i = _check_optimize_result(\n",
      "/Library/Frameworks/Python.framework/Versions/3.9/lib/python3.9/site-packages/sklearn/linear_model/_logistic.py:814: ConvergenceWarning: lbfgs failed to converge (status=1):\n",
      "STOP: TOTAL NO. of ITERATIONS REACHED LIMIT.\n",
      "\n",
      "Increase the number of iterations (max_iter) or scale the data as shown in:\n",
      "    https://scikit-learn.org/stable/modules/preprocessing.html\n",
      "Please also refer to the documentation for alternative solver options:\n",
      "    https://scikit-learn.org/stable/modules/linear_model.html#logistic-regression\n",
      "  n_iter_i = _check_optimize_result(\n",
      "/Library/Frameworks/Python.framework/Versions/3.9/lib/python3.9/site-packages/sklearn/linear_model/_logistic.py:814: ConvergenceWarning: lbfgs failed to converge (status=1):\n",
      "STOP: TOTAL NO. of ITERATIONS REACHED LIMIT.\n",
      "\n",
      "Increase the number of iterations (max_iter) or scale the data as shown in:\n",
      "    https://scikit-learn.org/stable/modules/preprocessing.html\n",
      "Please also refer to the documentation for alternative solver options:\n",
      "    https://scikit-learn.org/stable/modules/linear_model.html#logistic-regression\n",
      "  n_iter_i = _check_optimize_result(\n",
      "/Library/Frameworks/Python.framework/Versions/3.9/lib/python3.9/site-packages/sklearn/linear_model/_logistic.py:814: ConvergenceWarning: lbfgs failed to converge (status=1):\n",
      "STOP: TOTAL NO. of ITERATIONS REACHED LIMIT.\n",
      "\n",
      "Increase the number of iterations (max_iter) or scale the data as shown in:\n",
      "    https://scikit-learn.org/stable/modules/preprocessing.html\n",
      "Please also refer to the documentation for alternative solver options:\n",
      "    https://scikit-learn.org/stable/modules/linear_model.html#logistic-regression\n",
      "  n_iter_i = _check_optimize_result(\n",
      "/Library/Frameworks/Python.framework/Versions/3.9/lib/python3.9/site-packages/sklearn/linear_model/_logistic.py:814: ConvergenceWarning: lbfgs failed to converge (status=1):\n",
      "STOP: TOTAL NO. of ITERATIONS REACHED LIMIT.\n",
      "\n",
      "Increase the number of iterations (max_iter) or scale the data as shown in:\n",
      "    https://scikit-learn.org/stable/modules/preprocessing.html\n",
      "Please also refer to the documentation for alternative solver options:\n",
      "    https://scikit-learn.org/stable/modules/linear_model.html#logistic-regression\n",
      "  n_iter_i = _check_optimize_result(\n",
      "/Library/Frameworks/Python.framework/Versions/3.9/lib/python3.9/site-packages/sklearn/linear_model/_logistic.py:814: ConvergenceWarning: lbfgs failed to converge (status=1):\n",
      "STOP: TOTAL NO. of ITERATIONS REACHED LIMIT.\n",
      "\n",
      "Increase the number of iterations (max_iter) or scale the data as shown in:\n",
      "    https://scikit-learn.org/stable/modules/preprocessing.html\n",
      "Please also refer to the documentation for alternative solver options:\n",
      "    https://scikit-learn.org/stable/modules/linear_model.html#logistic-regression\n",
      "  n_iter_i = _check_optimize_result(\n",
      "/Library/Frameworks/Python.framework/Versions/3.9/lib/python3.9/site-packages/sklearn/linear_model/_logistic.py:814: ConvergenceWarning: lbfgs failed to converge (status=1):\n",
      "STOP: TOTAL NO. of ITERATIONS REACHED LIMIT.\n",
      "\n",
      "Increase the number of iterations (max_iter) or scale the data as shown in:\n",
      "    https://scikit-learn.org/stable/modules/preprocessing.html\n",
      "Please also refer to the documentation for alternative solver options:\n",
      "    https://scikit-learn.org/stable/modules/linear_model.html#logistic-regression\n",
      "  n_iter_i = _check_optimize_result(\n",
      "/Library/Frameworks/Python.framework/Versions/3.9/lib/python3.9/site-packages/sklearn/linear_model/_logistic.py:814: ConvergenceWarning: lbfgs failed to converge (status=1):\n",
      "STOP: TOTAL NO. of ITERATIONS REACHED LIMIT.\n",
      "\n",
      "Increase the number of iterations (max_iter) or scale the data as shown in:\n",
      "    https://scikit-learn.org/stable/modules/preprocessing.html\n",
      "Please also refer to the documentation for alternative solver options:\n",
      "    https://scikit-learn.org/stable/modules/linear_model.html#logistic-regression\n",
      "  n_iter_i = _check_optimize_result(\n",
      "/Library/Frameworks/Python.framework/Versions/3.9/lib/python3.9/site-packages/sklearn/linear_model/_logistic.py:814: ConvergenceWarning: lbfgs failed to converge (status=1):\n",
      "STOP: TOTAL NO. of ITERATIONS REACHED LIMIT.\n",
      "\n",
      "Increase the number of iterations (max_iter) or scale the data as shown in:\n",
      "    https://scikit-learn.org/stable/modules/preprocessing.html\n",
      "Please also refer to the documentation for alternative solver options:\n",
      "    https://scikit-learn.org/stable/modules/linear_model.html#logistic-regression\n",
      "  n_iter_i = _check_optimize_result(\n",
      "/Library/Frameworks/Python.framework/Versions/3.9/lib/python3.9/site-packages/sklearn/linear_model/_logistic.py:814: ConvergenceWarning: lbfgs failed to converge (status=1):\n",
      "STOP: TOTAL NO. of ITERATIONS REACHED LIMIT.\n",
      "\n",
      "Increase the number of iterations (max_iter) or scale the data as shown in:\n",
      "    https://scikit-learn.org/stable/modules/preprocessing.html\n",
      "Please also refer to the documentation for alternative solver options:\n",
      "    https://scikit-learn.org/stable/modules/linear_model.html#logistic-regression\n",
      "  n_iter_i = _check_optimize_result(\n",
      "/Library/Frameworks/Python.framework/Versions/3.9/lib/python3.9/site-packages/sklearn/linear_model/_logistic.py:814: ConvergenceWarning: lbfgs failed to converge (status=1):\n",
      "STOP: TOTAL NO. of ITERATIONS REACHED LIMIT.\n",
      "\n",
      "Increase the number of iterations (max_iter) or scale the data as shown in:\n",
      "    https://scikit-learn.org/stable/modules/preprocessing.html\n",
      "Please also refer to the documentation for alternative solver options:\n",
      "    https://scikit-learn.org/stable/modules/linear_model.html#logistic-regression\n",
      "  n_iter_i = _check_optimize_result(\n",
      "/Library/Frameworks/Python.framework/Versions/3.9/lib/python3.9/site-packages/sklearn/linear_model/_logistic.py:814: ConvergenceWarning: lbfgs failed to converge (status=1):\n",
      "STOP: TOTAL NO. of ITERATIONS REACHED LIMIT.\n",
      "\n",
      "Increase the number of iterations (max_iter) or scale the data as shown in:\n",
      "    https://scikit-learn.org/stable/modules/preprocessing.html\n",
      "Please also refer to the documentation for alternative solver options:\n",
      "    https://scikit-learn.org/stable/modules/linear_model.html#logistic-regression\n",
      "  n_iter_i = _check_optimize_result(\n",
      "/Library/Frameworks/Python.framework/Versions/3.9/lib/python3.9/site-packages/scipy/optimize/linesearch.py:478: LineSearchWarning: The line search algorithm did not converge\n",
      "  warn('The line search algorithm did not converge', LineSearchWarning)\n",
      "/Library/Frameworks/Python.framework/Versions/3.9/lib/python3.9/site-packages/scipy/optimize/linesearch.py:327: LineSearchWarning: The line search algorithm did not converge\n",
      "  warn('The line search algorithm did not converge', LineSearchWarning)\n",
      "/Library/Frameworks/Python.framework/Versions/3.9/lib/python3.9/site-packages/sklearn/linear_model/_logistic.py:814: ConvergenceWarning: lbfgs failed to converge (status=1):\n",
      "STOP: TOTAL NO. of ITERATIONS REACHED LIMIT.\n",
      "\n",
      "Increase the number of iterations (max_iter) or scale the data as shown in:\n",
      "    https://scikit-learn.org/stable/modules/preprocessing.html\n",
      "Please also refer to the documentation for alternative solver options:\n",
      "    https://scikit-learn.org/stable/modules/linear_model.html#logistic-regression\n",
      "  n_iter_i = _check_optimize_result(\n",
      "/Library/Frameworks/Python.framework/Versions/3.9/lib/python3.9/site-packages/sklearn/linear_model/_logistic.py:814: ConvergenceWarning: lbfgs failed to converge (status=1):\n",
      "STOP: TOTAL NO. of ITERATIONS REACHED LIMIT.\n",
      "\n",
      "Increase the number of iterations (max_iter) or scale the data as shown in:\n",
      "    https://scikit-learn.org/stable/modules/preprocessing.html\n",
      "Please also refer to the documentation for alternative solver options:\n",
      "    https://scikit-learn.org/stable/modules/linear_model.html#logistic-regression\n",
      "  n_iter_i = _check_optimize_result(\n",
      "/Library/Frameworks/Python.framework/Versions/3.9/lib/python3.9/site-packages/sklearn/linear_model/_logistic.py:814: ConvergenceWarning: lbfgs failed to converge (status=1):\n",
      "STOP: TOTAL NO. of ITERATIONS REACHED LIMIT.\n",
      "\n",
      "Increase the number of iterations (max_iter) or scale the data as shown in:\n",
      "    https://scikit-learn.org/stable/modules/preprocessing.html\n",
      "Please also refer to the documentation for alternative solver options:\n",
      "    https://scikit-learn.org/stable/modules/linear_model.html#logistic-regression\n",
      "  n_iter_i = _check_optimize_result(\n",
      "/Library/Frameworks/Python.framework/Versions/3.9/lib/python3.9/site-packages/sklearn/linear_model/_logistic.py:814: ConvergenceWarning: lbfgs failed to converge (status=1):\n",
      "STOP: TOTAL NO. of ITERATIONS REACHED LIMIT.\n",
      "\n",
      "Increase the number of iterations (max_iter) or scale the data as shown in:\n",
      "    https://scikit-learn.org/stable/modules/preprocessing.html\n",
      "Please also refer to the documentation for alternative solver options:\n",
      "    https://scikit-learn.org/stable/modules/linear_model.html#logistic-regression\n",
      "  n_iter_i = _check_optimize_result(\n",
      "/Library/Frameworks/Python.framework/Versions/3.9/lib/python3.9/site-packages/sklearn/linear_model/_logistic.py:814: ConvergenceWarning: lbfgs failed to converge (status=1):\n",
      "STOP: TOTAL NO. of ITERATIONS REACHED LIMIT.\n",
      "\n",
      "Increase the number of iterations (max_iter) or scale the data as shown in:\n",
      "    https://scikit-learn.org/stable/modules/preprocessing.html\n",
      "Please also refer to the documentation for alternative solver options:\n",
      "    https://scikit-learn.org/stable/modules/linear_model.html#logistic-regression\n",
      "  n_iter_i = _check_optimize_result(\n"
     ]
    },
    {
     "name": "stdout",
     "output_type": "stream",
     "text": [
      "Best: 0.804891 using {'C': 0.1, 'solver': 'newton-cg'}\n",
      "0.804322 (0.009341) with: {'C': 100, 'solver': 'newton-cg'}\n",
      "0.798492 (0.006650) with: {'C': 100, 'solver': 'lbfgs'}\n",
      "0.803184 (0.006497) with: {'C': 100, 'solver': 'liblinear'}\n",
      "0.804322 (0.009341) with: {'C': 10, 'solver': 'newton-cg'}\n",
      "0.799487 (0.006524) with: {'C': 10, 'solver': 'lbfgs'}\n",
      "0.803184 (0.006497) with: {'C': 10, 'solver': 'liblinear'}\n",
      "0.803469 (0.007674) with: {'C': 1.0, 'solver': 'newton-cg'}\n",
      "0.799345 (0.006438) with: {'C': 1.0, 'solver': 'lbfgs'}\n",
      "0.803184 (0.006485) with: {'C': 1.0, 'solver': 'liblinear'}\n",
      "0.804891 (0.006043) with: {'C': 0.1, 'solver': 'newton-cg'}\n",
      "0.800625 (0.006927) with: {'C': 0.1, 'solver': 'lbfgs'}\n",
      "0.804464 (0.006603) with: {'C': 0.1, 'solver': 'liblinear'}\n",
      "0.804180 (0.007685) with: {'C': 0.01, 'solver': 'newton-cg'}\n",
      "0.801762 (0.007019) with: {'C': 0.01, 'solver': 'lbfgs'}\n",
      "0.803184 (0.007994) with: {'C': 0.01, 'solver': 'liblinear'}\n"
     ]
    }
   ],
   "source": [
    "# define models and parameters\n",
    "lr_model = LogisticRegression()\n",
    "solvers = ['newton-cg', 'lbfgs', 'liblinear']\n",
    "c_values = [100, 10, 1.0, 0.1, 0.01]\n",
    "# define grid search\n",
    "lr_grid = dict(\n",
    "    solver=solvers,\n",
    "    C=c_values\n",
    ")\n",
    "\n",
    "lr_grid_search = GridSearchCV(\n",
    "    estimator = lr_model,\n",
    "     param_grid = lr_grid, \n",
    "     n_jobs = -1,\n",
    "     scoring = 'accuracy',\n",
    "     error_score = 0\n",
    ")\n",
    "\n",
    "lr_grid_result = lr_grid_search.fit(X,y)\n",
    "# summarize results\n",
    "print(\"Best: %f using %s\" % (lr_grid_result.best_score_, lr_grid_result.best_params_))\n",
    "means = lr_grid_result.cv_results_['mean_test_score']\n",
    "stds = lr_grid_result.cv_results_['std_test_score']\n",
    "params = lr_grid_result.cv_results_['params']\n",
    "for mean, stdev, param in zip(means, stds, params):\n",
    "    print(\"%f (%f) with: %r\" % (mean, stdev, param))"
   ]
  },
  {
   "cell_type": "code",
   "execution_count": 80,
   "id": "583fecc2-e8be-4dee-9067-44690ce456c4",
   "metadata": {
    "id": "583fecc2-e8be-4dee-9067-44690ce456c4"
   },
   "outputs": [],
   "source": [
    "# Create classifier with logistic regression\n",
    "logreg = LogisticRegression(C = 0.1, solver ='newton-cg', random_state=50)\n"
   ]
  },
  {
   "cell_type": "code",
   "execution_count": 81,
   "id": "27dec0f1-b9e4-4c84-b739-4c8c5a3248f6",
   "metadata": {
    "id": "27dec0f1-b9e4-4c84-b739-4c8c5a3248f6"
   },
   "outputs": [],
   "source": [
    "#Fit model\n",
    "logreg_model = logreg.fit(X_train,y_train)\n",
    "\n",
    "#Predict\n",
    "Log_y_pred_logreg = logreg_model.predict(X_test)"
   ]
  },
  {
   "cell_type": "markdown",
   "id": "3f8e344f-afbc-4a66-9e5f-6f7075258824",
   "metadata": {
    "id": "3f8e344f-afbc-4a66-9e5f-6f7075258824"
   },
   "source": [
    "### LR - Classification report"
   ]
  },
  {
   "cell_type": "code",
   "execution_count": 82,
   "id": "b6bc4af3-5f23-448c-a857-f1c8744882b0",
   "metadata": {
    "colab": {
     "base_uri": "https://localhost:8080/"
    },
    "id": "b6bc4af3-5f23-448c-a857-f1c8744882b0",
    "outputId": "8bb03641-dac9-4029-d481-c075eaf05e0e"
   },
   "outputs": [
    {
     "name": "stdout",
     "output_type": "stream",
     "text": [
      "Accuracy of LR classifier on test without RFECV: 0.7878270762\n"
     ]
    }
   ],
   "source": [
    "print('Accuracy of LR classifier on test without RFECV: {:.10f}'.format(logreg_model.score(X_test, y_test)))"
   ]
  },
  {
   "cell_type": "code",
   "execution_count": 83,
   "id": "e5a36ed0-ddd8-4f3f-ae6c-f71c124033d2",
   "metadata": {
    "colab": {
     "base_uri": "https://localhost:8080/"
    },
    "id": "e5a36ed0-ddd8-4f3f-ae6c-f71c124033d2",
    "outputId": "86452a53-00e7-467b-bda9-4b07bd8332ca"
   },
   "outputs": [
    {
     "name": "stdout",
     "output_type": "stream",
     "text": [
      "              precision    recall  f1-score   support\n",
      "\n",
      "           0     0.8290    0.8931    0.8598      1281\n",
      "           1     0.6376    0.5052    0.5637       477\n",
      "\n",
      "    accuracy                         0.7878      1758\n",
      "   macro avg     0.7333    0.6991    0.7118      1758\n",
      "weighted avg     0.7770    0.7878    0.7795      1758\n",
      "\n"
     ]
    }
   ],
   "source": [
    "print(classification_report(y_test,Log_y_pred_logreg, digits=4))"
   ]
  },
  {
   "cell_type": "markdown",
   "id": "3a32bb7d-0760-4763-8d99-82b16cf647b7",
   "metadata": {
    "id": "3a32bb7d-0760-4763-8d99-82b16cf647b7"
   },
   "source": [
    "### LR - Confusion matrix"
   ]
  },
  {
   "cell_type": "code",
   "execution_count": 84,
   "id": "b6f081d7",
   "metadata": {
    "colab": {
     "base_uri": "https://localhost:8080/",
     "height": 242
    },
    "id": "b6f081d7",
    "outputId": "c32f2052-ed90-414b-c930-ebb742ddc54a"
   },
   "outputs": [
    {
     "data": {
      "image/png": "[encoded data removed]",
      "text/plain": [
       "<Figure size 288x216 with 2 Axes>"
      ]
     },
     "metadata": {
      "needs_background": "light"
     },
     "output_type": "display_data"
    }
   ],
   "source": [
    "# Call confusion_matrix function from sklearn.metrics using actual y_test and predicted y_test data sets \n",
    "plt.figure(figsize=(4,3))\n",
    "sns.heatmap(\n",
    "    confusion_matrix(\n",
    "        y_test,\n",
    "        Log_y_pred_logreg\n",
    "    ),\n",
    "    annot=True,\n",
    "    fmt = \"d\",\n",
    "    linewidths=3\n",
    ")\n",
    "plt.xlabel(\"predicted\")\n",
    "plt.ylabel(\"true\")\n",
    "plt.title(\"Linear Regression - CONFUSION MATRIX\",fontsize=14)\n",
    "plt.show()\n"
   ]
  },
  {
   "cell_type": "markdown",
   "id": "d81ab61f-2106-4d5f-a417-ac8bfc666586",
   "metadata": {
    "id": "d81ab61f-2106-4d5f-a417-ac8bfc666586"
   },
   "source": [
    "### LR - Feature importance"
   ]
  },
  {
   "cell_type": "code",
   "execution_count": 85,
   "id": "1db3ced9",
   "metadata": {
    "id": "1db3ced9"
   },
   "outputs": [],
   "source": [
    "importance = logreg.coef_[0]"
   ]
  },
  {
   "cell_type": "code",
   "execution_count": 86,
   "id": "9fef80a2-3731-4dd1-899d-f577ed158c0f",
   "metadata": {
    "id": "9fef80a2-3731-4dd1-899d-f577ed158c0f"
   },
   "outputs": [],
   "source": [
    "log_imp=list(importance)"
   ]
  },
  {
   "cell_type": "code",
   "execution_count": 87,
   "id": "0cd68f39-ac4e-40cc-af36-ea32ed4a7f50",
   "metadata": {
    "id": "0cd68f39-ac4e-40cc-af36-ea32ed4a7f50"
   },
   "outputs": [],
   "source": [
    "log_colname=list(X.columns)"
   ]
  },
  {
   "cell_type": "code",
   "execution_count": 88,
   "id": "b0b78bf0",
   "metadata": {
    "colab": {
     "base_uri": "https://localhost:8080/",
     "height": 363
    },
    "id": "b0b78bf0",
    "outputId": "5a95f2bd-4028-4878-b51a-6e6b3383ed01"
   },
   "outputs": [
    {
     "data": {
      "text/html": [
       "<div>\n",
       "<style scoped>\n",
       "    .dataframe tbody tr th:only-of-type {\n",
       "        vertical-align: middle;\n",
       "    }\n",
       "\n",
       "    .dataframe tbody tr th {\n",
       "        vertical-align: top;\n",
       "    }\n",
       "\n",
       "    .dataframe thead th {\n",
       "        text-align: right;\n",
       "    }\n",
       "</style>\n",
       "<table border=\"1\" class=\"dataframe\">\n",
       "  <thead>\n",
       "    <tr style=\"text-align: right;\">\n",
       "      <th></th>\n",
       "      <th>Column_Names_rfc</th>\n",
       "      <th>coaf</th>\n",
       "    </tr>\n",
       "  </thead>\n",
       "  <tbody>\n",
       "    <tr>\n",
       "      <th>12</th>\n",
       "      <td>InternetService_Fiber optic</td>\n",
       "      <td>0.759317</td>\n",
       "    </tr>\n",
       "    <tr>\n",
       "      <th>26</th>\n",
       "      <td>Contract_Month-to-month</td>\n",
       "      <td>0.734109</td>\n",
       "    </tr>\n",
       "    <tr>\n",
       "      <th>33</th>\n",
       "      <td>PaymentMethod_Electronic check</td>\n",
       "      <td>0.254819</td>\n",
       "    </tr>\n",
       "    <tr>\n",
       "      <th>14</th>\n",
       "      <td>OnlineSecurity_No</td>\n",
       "      <td>0.216948</td>\n",
       "    </tr>\n",
       "    <tr>\n",
       "      <th>20</th>\n",
       "      <td>TechSupport_No</td>\n",
       "      <td>0.146948</td>\n",
       "    </tr>\n",
       "    <tr>\n",
       "      <th>25</th>\n",
       "      <td>StreamingMovies_Yes</td>\n",
       "      <td>0.146417</td>\n",
       "    </tr>\n",
       "    <tr>\n",
       "      <th>30</th>\n",
       "      <td>PaperlessBilling_Yes</td>\n",
       "      <td>0.141776</td>\n",
       "    </tr>\n",
       "    <tr>\n",
       "      <th>4</th>\n",
       "      <td>SeniorCitizen_Yes</td>\n",
       "      <td>0.121023</td>\n",
       "    </tr>\n",
       "    <tr>\n",
       "      <th>1</th>\n",
       "      <td>MonthlyCharges</td>\n",
       "      <td>0.111504</td>\n",
       "    </tr>\n",
       "    <tr>\n",
       "      <th>10</th>\n",
       "      <td>MultipleLines_Yes</td>\n",
       "      <td>0.107372</td>\n",
       "    </tr>\n",
       "  </tbody>\n",
       "</table>\n",
       "</div>"
      ],
      "text/plain": [
       "                  Column_Names_rfc      coaf\n",
       "12     InternetService_Fiber optic  0.759317\n",
       "26         Contract_Month-to-month  0.734109\n",
       "33  PaymentMethod_Electronic check  0.254819\n",
       "14               OnlineSecurity_No  0.216948\n",
       "20                  TechSupport_No  0.146948\n",
       "25             StreamingMovies_Yes  0.146417\n",
       "30            PaperlessBilling_Yes  0.141776\n",
       "4                SeniorCitizen_Yes  0.121023\n",
       "1                   MonthlyCharges  0.111504\n",
       "10               MultipleLines_Yes  0.107372"
      ]
     },
     "execution_count": 88,
     "metadata": {},
     "output_type": "execute_result"
    }
   ],
   "source": [
    "#Create dict for datafram\n",
    "log_dict={'Column_Names_rfc':log_colname,'coaf':log_imp}\n",
    "\n",
    "#Create dataframe\n",
    "log_feature_imp = pd.DataFrame(log_dict)\n",
    "\n",
    "log_feature_rank = log_feature_imp.sort_values(by='coaf',ascending = False)\n",
    "\n",
    "log_feature_rank.head(10)"
   ]
  },
  {
   "cell_type": "markdown",
   "id": "eefa6d06-a30f-4d10-bf60-ed767ad1cd9e",
   "metadata": {
    "id": "eefa6d06-a30f-4d10-bf60-ed767ad1cd9e"
   },
   "source": [
    "## Logistic regression w. RFECV\n"
   ]
  },
  {
   "cell_type": "code",
   "execution_count": 89,
   "id": "84af7047-87ef-4e35-9321-901d6a289f14",
   "metadata": {
    "id": "84af7047-87ef-4e35-9321-901d6a289f14"
   },
   "outputs": [],
   "source": [
    "# create our LR_model\n",
    "rfecv_LR = RFECV(estimator=logreg_model, cv=StratifiedKFold(6), scoring=\"accuracy\")\n",
    "\n",
    "# Fit the model to our X and y training sets\n",
    "rfecv_model_LR = rfecv_LR.fit(X_train, y_train)\n",
    "\n",
    "#predict\n",
    "y_pred_rfcv_LR = rfecv_model_LR.predict(X_test)"
   ]
  },
  {
   "cell_type": "code",
   "execution_count": 90,
   "id": "048c64d1-e9d7-4ccd-a1ed-69afb51bab3f",
   "metadata": {
    "colab": {
     "base_uri": "https://localhost:8080/"
    },
    "id": "048c64d1-e9d7-4ccd-a1ed-69afb51bab3f",
    "outputId": "75775b2c-141f-4fa9-f357-a46c3fa7601c"
   },
   "outputs": [
    {
     "name": "stdout",
     "output_type": "stream",
     "text": [
      "Optimal feature amount: 25\n",
      "Chosen features that have been removed: ['Contract_One year', 'Dependents_No', 'DeviceProtection_No', 'DeviceProtection_Yes', 'InternetService_DSL', 'Partner_No', 'Partner_Yes', 'PaymentMethod_Bank transfer (automatic)', 'PaymentMethod_Credit card (automatic)', 'PaymentMethod_Mailed check']\n"
     ]
    }
   ],
   "source": [
    "#Print results\n",
    "print('Optimal feature amount:',rfecv_model_LR.n_features_)\n",
    "\n",
    "# Here we look into our orignal columns to see which are listen in our Recursive model of features\n",
    "print('Chosen features that have been removed:', list(X.columns[rfecv_model_LR.support_] ^ X.columns))"
   ]
  },
  {
   "cell_type": "markdown",
   "id": "rJtaRAKmO9g7",
   "metadata": {
    "id": "rJtaRAKmO9g7"
   },
   "source": [
    "### LR - Classification report w. RFECV"
   ]
  },
  {
   "cell_type": "code",
   "execution_count": 91,
   "id": "bad5a3b4-136f-4462-a317-4840171cd627",
   "metadata": {
    "colab": {
     "base_uri": "https://localhost:8080/"
    },
    "id": "bad5a3b4-136f-4462-a317-4840171cd627",
    "outputId": "1904fe2d-be74-4473-fc1a-874d1b688dad"
   },
   "outputs": [
    {
     "name": "stdout",
     "output_type": "stream",
     "text": [
      "Accuracy of LR classifier on test with RFECV:: 0.7912400455\n"
     ]
    }
   ],
   "source": [
    "print('Accuracy of LR classifier on test with RFECV:: {:.10}'.format(rfecv_model_LR.score(X_test, y_test)))"
   ]
  },
  {
   "cell_type": "code",
   "execution_count": 92,
   "id": "49ee5e17-dc30-4175-b38b-090b61aa746e",
   "metadata": {
    "colab": {
     "base_uri": "https://localhost:8080/"
    },
    "id": "49ee5e17-dc30-4175-b38b-090b61aa746e",
    "outputId": "7bd0be1b-e392-4ba5-fa8d-5dfad36c6b14"
   },
   "outputs": [
    {
     "name": "stdout",
     "output_type": "stream",
     "text": [
      "              precision    recall  f1-score   support\n",
      "\n",
      "           0     0.8307    0.8962    0.8622      1281\n",
      "           1     0.6463    0.5094    0.5698       477\n",
      "\n",
      "    accuracy                         0.7912      1758\n",
      "   macro avg     0.7385    0.7028    0.7160      1758\n",
      "weighted avg     0.7806    0.7912    0.7828      1758\n",
      "\n"
     ]
    }
   ],
   "source": [
    "print(classification_report(y_test,y_pred_rfcv_LR, digits=4))"
   ]
  },
  {
   "cell_type": "code",
   "execution_count": 93,
   "id": "5badf67c-d844-45ed-9cd3-3779c52703a3",
   "metadata": {
    "id": "5badf67c-d844-45ed-9cd3-3779c52703a3"
   },
   "outputs": [],
   "source": [
    "#Get the coef\n",
    "rfecv_imp_LR = list(rfecv_model_LR.estimator_.coef_[0])"
   ]
  },
  {
   "cell_type": "code",
   "execution_count": 94,
   "id": "e4b1599b-40be-4564-9dd2-690cec565701",
   "metadata": {
    "colab": {
     "base_uri": "https://localhost:8080/"
    },
    "id": "e4b1599b-40be-4564-9dd2-690cec565701",
    "outputId": "24b7e570-d590-4527-ad83-2c50fcf5b690"
   },
   "outputs": [
    {
     "data": {
      "text/plain": [
       "35"
      ]
     },
     "execution_count": 94,
     "metadata": {},
     "output_type": "execute_result"
    }
   ],
   "source": [
    "#Get Cols\n",
    "X_LR = X.copy()\n",
    "len(X_LR.columns)"
   ]
  },
  {
   "cell_type": "code",
   "execution_count": 95,
   "id": "6e3fdc55-5d89-4fa6-bc1f-e6e153b11fdc",
   "metadata": {
    "colab": {
     "base_uri": "https://localhost:8080/"
    },
    "id": "6e3fdc55-5d89-4fa6-bc1f-e6e153b11fdc",
    "outputId": "899007e6-28a1-420f-b45b-b5c3307e8aa0"
   },
   "outputs": [
    {
     "data": {
      "text/plain": [
       "25"
      ]
     },
     "execution_count": 95,
     "metadata": {},
     "output_type": "execute_result"
    }
   ],
   "source": [
    "rfecv_colName_LR = X_LR.drop(X_LR.columns[np.where(rfecv_model_LR.support_ == False)[0]], axis=1, inplace=True)\n",
    "LR_Colnames = list(X_LR.columns)\n",
    "len(LR_Colnames)"
   ]
  },
  {
   "cell_type": "code",
   "execution_count": 96,
   "id": "310f31bd-217a-40e8-8fcb-554e6c3c21cc",
   "metadata": {
    "id": "310f31bd-217a-40e8-8fcb-554e6c3c21cc"
   },
   "outputs": [],
   "source": [
    "#Create dict for datafram\n",
    "rfecv_dict_LR = {'Feature':LR_Colnames,'Coaf':rfecv_imp_LR}"
   ]
  },
  {
   "cell_type": "code",
   "execution_count": 97,
   "id": "7b78e09a-903c-48b8-b70d-ba091ac35887",
   "metadata": {
    "id": "7b78e09a-903c-48b8-b70d-ba091ac35887"
   },
   "outputs": [],
   "source": [
    "#Create dataframe\n",
    "rfecv_feature_imp_LR = pd.DataFrame(rfecv_dict_LR)"
   ]
  },
  {
   "cell_type": "code",
   "execution_count": 98,
   "id": "46c3c06a-d627-4fb8-af8a-df3eff71c801",
   "metadata": {
    "id": "46c3c06a-d627-4fb8-af8a-df3eff71c801"
   },
   "outputs": [],
   "source": [
    "# SOrt the table for coef\n",
    "rfecv_feature_coef = rfecv_feature_imp_LR.sort_values(by='Coaf',ascending = False)"
   ]
  },
  {
   "cell_type": "markdown",
   "id": "DKVon1YhOWSS",
   "metadata": {
    "id": "DKVon1YhOWSS"
   },
   "source": [
    "### LR - Feature Coef w. RFECV"
   ]
  },
  {
   "cell_type": "code",
   "execution_count": 99,
   "id": "b6f16384-e6f5-450c-853d-6fb253465f0e",
   "metadata": {
    "colab": {
     "base_uri": "https://localhost:8080/",
     "height": 833
    },
    "id": "b6f16384-e6f5-450c-853d-6fb253465f0e",
    "outputId": "4f89cbb6-67b5-4141-aa27-4cbff554ed95"
   },
   "outputs": [
    {
     "data": {
      "text/html": [
       "<div>\n",
       "<style scoped>\n",
       "    .dataframe tbody tr th:only-of-type {\n",
       "        vertical-align: middle;\n",
       "    }\n",
       "\n",
       "    .dataframe tbody tr th {\n",
       "        vertical-align: top;\n",
       "    }\n",
       "\n",
       "    .dataframe thead th {\n",
       "        text-align: right;\n",
       "    }\n",
       "</style>\n",
       "<table border=\"1\" class=\"dataframe\">\n",
       "  <thead>\n",
       "    <tr style=\"text-align: right;\">\n",
       "      <th></th>\n",
       "      <th>Feature</th>\n",
       "      <th>Coaf</th>\n",
       "    </tr>\n",
       "  </thead>\n",
       "  <tbody>\n",
       "    <tr>\n",
       "      <th>20</th>\n",
       "      <td>Contract_Month-to-month</td>\n",
       "      <td>0.782372</td>\n",
       "    </tr>\n",
       "    <tr>\n",
       "      <th>8</th>\n",
       "      <td>InternetService_Fiber optic</td>\n",
       "      <td>0.714191</td>\n",
       "    </tr>\n",
       "    <tr>\n",
       "      <th>24</th>\n",
       "      <td>PaymentMethod_Electronic check</td>\n",
       "      <td>0.334081</td>\n",
       "    </tr>\n",
       "    <tr>\n",
       "      <th>10</th>\n",
       "      <td>OnlineSecurity_No</td>\n",
       "      <td>0.216929</td>\n",
       "    </tr>\n",
       "    <tr>\n",
       "      <th>19</th>\n",
       "      <td>StreamingMovies_Yes</td>\n",
       "      <td>0.146231</td>\n",
       "    </tr>\n",
       "    <tr>\n",
       "      <th>14</th>\n",
       "      <td>TechSupport_No</td>\n",
       "      <td>0.146193</td>\n",
       "    </tr>\n",
       "    <tr>\n",
       "      <th>23</th>\n",
       "      <td>PaperlessBilling_Yes</td>\n",
       "      <td>0.142145</td>\n",
       "    </tr>\n",
       "    <tr>\n",
       "      <th>4</th>\n",
       "      <td>SeniorCitizen_Yes</td>\n",
       "      <td>0.116314</td>\n",
       "    </tr>\n",
       "    <tr>\n",
       "      <th>7</th>\n",
       "      <td>MultipleLines_Yes</td>\n",
       "      <td>0.106160</td>\n",
       "    </tr>\n",
       "    <tr>\n",
       "      <th>1</th>\n",
       "      <td>MonthlyCharges</td>\n",
       "      <td>0.105806</td>\n",
       "    </tr>\n",
       "    <tr>\n",
       "      <th>17</th>\n",
       "      <td>StreamingTV_Yes</td>\n",
       "      <td>0.096797</td>\n",
       "    </tr>\n",
       "    <tr>\n",
       "      <th>12</th>\n",
       "      <td>OnlineBackup_No</td>\n",
       "      <td>0.092979</td>\n",
       "    </tr>\n",
       "    <tr>\n",
       "      <th>13</th>\n",
       "      <td>OnlineBackup_Yes</td>\n",
       "      <td>-0.092980</td>\n",
       "    </tr>\n",
       "    <tr>\n",
       "      <th>16</th>\n",
       "      <td>StreamingTV_No</td>\n",
       "      <td>-0.096798</td>\n",
       "    </tr>\n",
       "    <tr>\n",
       "      <th>6</th>\n",
       "      <td>MultipleLines_No</td>\n",
       "      <td>-0.106161</td>\n",
       "    </tr>\n",
       "    <tr>\n",
       "      <th>3</th>\n",
       "      <td>SeniorCitizen_No</td>\n",
       "      <td>-0.116315</td>\n",
       "    </tr>\n",
       "    <tr>\n",
       "      <th>22</th>\n",
       "      <td>PaperlessBilling_No</td>\n",
       "      <td>-0.142147</td>\n",
       "    </tr>\n",
       "    <tr>\n",
       "      <th>15</th>\n",
       "      <td>TechSupport_Yes</td>\n",
       "      <td>-0.146194</td>\n",
       "    </tr>\n",
       "    <tr>\n",
       "      <th>18</th>\n",
       "      <td>StreamingMovies_No</td>\n",
       "      <td>-0.146233</td>\n",
       "    </tr>\n",
       "    <tr>\n",
       "      <th>5</th>\n",
       "      <td>Dependents_Yes</td>\n",
       "      <td>-0.201842</td>\n",
       "    </tr>\n",
       "    <tr>\n",
       "      <th>11</th>\n",
       "      <td>OnlineSecurity_Yes</td>\n",
       "      <td>-0.216931</td>\n",
       "    </tr>\n",
       "    <tr>\n",
       "      <th>2</th>\n",
       "      <td>TotalCharges</td>\n",
       "      <td>-0.385878</td>\n",
       "    </tr>\n",
       "    <tr>\n",
       "      <th>21</th>\n",
       "      <td>Contract_Two year</td>\n",
       "      <td>-0.641253</td>\n",
       "    </tr>\n",
       "    <tr>\n",
       "      <th>9</th>\n",
       "      <td>InternetService_No</td>\n",
       "      <td>-0.856237</td>\n",
       "    </tr>\n",
       "    <tr>\n",
       "      <th>0</th>\n",
       "      <td>tenure</td>\n",
       "      <td>-1.680509</td>\n",
       "    </tr>\n",
       "  </tbody>\n",
       "</table>\n",
       "</div>"
      ],
      "text/plain": [
       "                           Feature      Coaf\n",
       "20         Contract_Month-to-month  0.782372\n",
       "8      InternetService_Fiber optic  0.714191\n",
       "24  PaymentMethod_Electronic check  0.334081\n",
       "10               OnlineSecurity_No  0.216929\n",
       "19             StreamingMovies_Yes  0.146231\n",
       "14                  TechSupport_No  0.146193\n",
       "23            PaperlessBilling_Yes  0.142145\n",
       "4                SeniorCitizen_Yes  0.116314\n",
       "7                MultipleLines_Yes  0.106160\n",
       "1                   MonthlyCharges  0.105806\n",
       "17                 StreamingTV_Yes  0.096797\n",
       "12                 OnlineBackup_No  0.092979\n",
       "13                OnlineBackup_Yes -0.092980\n",
       "16                  StreamingTV_No -0.096798\n",
       "6                 MultipleLines_No -0.106161\n",
       "3                 SeniorCitizen_No -0.116315\n",
       "22             PaperlessBilling_No -0.142147\n",
       "15                 TechSupport_Yes -0.146194\n",
       "18              StreamingMovies_No -0.146233\n",
       "5                   Dependents_Yes -0.201842\n",
       "11              OnlineSecurity_Yes -0.216931\n",
       "2                     TotalCharges -0.385878\n",
       "21               Contract_Two year -0.641253\n",
       "9               InternetService_No -0.856237\n",
       "0                           tenure -1.680509"
      ]
     },
     "execution_count": 99,
     "metadata": {},
     "output_type": "execute_result"
    }
   ],
   "source": [
    "rfecv_feature_coef"
   ]
  },
  {
   "cell_type": "markdown",
   "id": "6sqrEDt7Oh-D",
   "metadata": {
    "id": "6sqrEDt7Oh-D"
   },
   "source": [
    "### LR - Confusion matrix w. RFECV"
   ]
  },
  {
   "cell_type": "code",
   "execution_count": 100,
   "id": "5b1d3443-bde6-4f4c-b52e-65a6a7c03845",
   "metadata": {
    "colab": {
     "base_uri": "https://localhost:8080/",
     "height": 242
    },
    "id": "5b1d3443-bde6-4f4c-b52e-65a6a7c03845",
    "outputId": "719d7d7d-c1a2-476e-80bc-aa75492d4d5e"
   },
   "outputs": [
    {
     "data": {
      "image/png": "[encoded data removed]",
      "text/plain": [
       "<Figure size 288x216 with 2 Axes>"
      ]
     },
     "metadata": {
      "needs_background": "light"
     },
     "output_type": "display_data"
    }
   ],
   "source": [
    "plt.figure(figsize=(4,3))\n",
    "sns.heatmap(confusion_matrix(y_test, y_pred_rfcv_LR),\n",
    "                annot=True,fmt = \"d\",linecolor=\"k\",linewidths=3)\n",
    "    \n",
    "plt.title(\" Decision tree with RFECV - CONFUSION MATRIX\",fontsize=14)\n",
    "plt.xlabel(\"predicted\")\n",
    "plt.ylabel(\"true\")\n",
    "plt.show()"
   ]
  },
  {
   "cell_type": "code",
   "execution_count": null,
   "id": "a27b6772-8ac8-407b-8c5b-6b55cf80dae1",
   "metadata": {
    "id": "a27b6772-8ac8-407b-8c5b-6b55cf80dae1"
   },
   "outputs": [],
   "source": []
  },
  {
   "cell_type": "markdown",
   "id": "jUwBrMRL2XhV",
   "metadata": {
    "id": "jUwBrMRL2XhV"
   },
   "source": [
    "# Evaluation"
   ]
  },
  {
   "cell_type": "markdown",
   "id": "CqDPKajltP4I",
   "metadata": {
    "id": "CqDPKajltP4I"
   },
   "source": [
    "## Get training data"
   ]
  },
  {
   "cell_type": "code",
   "execution_count": 101,
   "id": "nuswEzAmpbHs",
   "metadata": {
    "id": "nuswEzAmpbHs"
   },
   "outputs": [],
   "source": [
    "# Initialize the training set and test set\n",
    "X_train, X_test, y_train, y_test = train_test_split(\n",
    "    X,\n",
    "    y,\n",
    "    random_state=69\n",
    ")"
   ]
  },
  {
   "cell_type": "markdown",
   "id": "Tg-zY3EotSxD",
   "metadata": {
    "id": "Tg-zY3EotSxD"
   },
   "source": [
    "## create ROC curve"
   ]
  },
  {
   "cell_type": "code",
   "execution_count": 103,
   "id": "YXY_i76D2aTS",
   "metadata": {
    "colab": {
     "base_uri": "https://localhost:8080/",
     "height": 690
    },
    "id": "YXY_i76D2aTS",
    "outputId": "d3f2870e-c354-4714-b1ab-7e4da3bdf4bb"
   },
   "outputs": [
    {
     "name": "stdout",
     "output_type": "stream",
     "text": [
      "DecisionTree:0.8238887334154887\n",
      "LogisticRegression:0.6401085367989172\n",
      "RandomForrest:0.8411078216212765\n"
     ]
    },
    {
     "data": {
      "text/plain": [
       "<Figure size 432x288 with 0 Axes>"
      ]
     },
     "metadata": {},
     "output_type": "display_data"
    },
    {
     "data": {
      "image/png": "[encoded data removed]",
      "text/plain": [
       "<Figure size 864x720 with 1 Axes>"
      ]
     },
     "metadata": {
      "needs_background": "light"
     },
     "output_type": "display_data"
    }
   ],
   "source": [
    "from sklearn import metrics\n",
    "#Initialize figure \n",
    "plt.figure()\n",
    "### Get the tree model predict the properbility for each of the models\n",
    "dt_prediction = Decision_rfecv_model.predict_proba(X_test)\n",
    "rf_prediction = rfecv_model.predict_proba(X_test)\n",
    "lr_prediction = rfecv_model_LR.predict_proba(X_test)\n",
    "\n",
    "#Get the metrics/ plots for the ROC curve against y test target\n",
    "fpr_dt,tpr_dt,thresholds = metrics.roc_curve(y_test,dt_prediction[:,1],pos_label=1)\n",
    "fpr_lr,tpr_lr,thresholds = metrics.roc_curve(y_test,lr_prediction[:,1],pos_label=1)\n",
    "fpr_rf,tpr_rf,thresholds = metrics.roc_curve(y_test,rf_prediction[:,1],pos_label=1)\n",
    "\n",
    "# our metrics\n",
    "print(\"DecisionTree:{0}\".format(metrics.auc(fpr_dt,tpr_dt)))\n",
    "print(\"LogisticRegression:{0}\".format(metrics.auc(fpr_lr,tpr_lr)))\n",
    "print(\"RandomForrest:{0}\".format(metrics.auc(fpr_rf,tpr_rf)))\n",
    "\n",
    "# show figure\n",
    "fig=plt.figure(figsize=(12,10))\n",
    "ax=fig.add_subplot(111)\n",
    "ax.plot([0,1],[0,1],ls=\"--\")\n",
    "ax.set_xlabel('FalsePositiveRate')\n",
    "ax.set_ylabel('TruePositiveRate')\n",
    "ax.set_title('ROCcurve')\n",
    "ax.set_xlim([0.0,1.0])\n",
    "ax.set_ylim([0.0,1.0])\n",
    "ax.plot(fpr_dt,tpr_dt,label=\"DecisionTree\")\n",
    "ax.plot(fpr_lr,tpr_lr,label=\"LogisticRegression\")\n",
    "ax.plot(fpr_rf,tpr_rf,label=\"RandomForrest\")\n",
    "ax.legend(loc=\"lower right\")\n",
    "plt.show()\n",
    "\n"
   ]
  },
  {
   "cell_type": "markdown",
   "id": "U1TMie0wRrlk",
   "metadata": {
    "id": "U1TMie0wRrlk"
   },
   "source": [
    "## Churn rate by tenure\n"
   ]
  },
  {
   "cell_type": "code",
   "execution_count": 104,
   "id": "fy1gzPShNeXP",
   "metadata": {
    "colab": {
     "base_uri": "https://localhost:8080/",
     "height": 513
    },
    "id": "fy1gzPShNeXP",
    "outputId": "a5ee076b-b02a-490f-96ac-529658609dba"
   },
   "outputs": [
    {
     "data": {
      "image/png": "[encoded data removed]",
      "text/plain": [
       "<Figure size 360x576 with 1 Axes>"
      ]
     },
     "metadata": {
      "needs_background": "light"
     },
     "output_type": "display_data"
    }
   ],
   "source": [
    "plt.figure(figsize=(5, 8))\n",
    "sns.boxplot(x = df_new.Churn, y = df_new.tenure)\n",
    "plt.ylabel('Tenure')\n",
    "plt.title('Churn vs Tenure')\n",
    "plt.show()\n",
    "plt.close()"
   ]
  },
  {
   "cell_type": "code",
   "execution_count": 105,
   "id": "ZcnFN3UWQwWz",
   "metadata": {
    "colab": {
     "base_uri": "https://localhost:8080/"
    },
    "id": "ZcnFN3UWQwWz",
    "outputId": "d0e90d51-0dbe-4236-8c57-bc56f6281c34"
   },
   "outputs": [
    {
     "data": {
      "text/plain": [
       "tenure_0-12     2175\n",
       "tenure_60+      1407\n",
       "tenure_12-24    1024\n",
       "tenure_24-36     832\n",
       "tenure_48-60     832\n",
       "tenure_36-48     762\n",
       "Name: grp_tenure, dtype: int64"
      ]
     },
     "execution_count": 105,
     "metadata": {},
     "output_type": "execute_result"
    }
   ],
   "source": [
    "def tenure_count(row):\n",
    "    if row['tenure'] <= 12 :\n",
    "        return 'tenure_0-12'\n",
    "    elif (row['tenure'] > 12 and row['tenure'] <= 24):\n",
    "        return 'tenure_12-24'\n",
    "    elif (row['tenure'] > 24 and row['tenure'] <= 36):\n",
    "        return 'tenure_24-36'\n",
    "    elif (row['tenure'] > 36 and row['tenure'] <= 48):\n",
    "        return 'tenure_36-48'\n",
    "    elif (row['tenure'] > 48 and row['tenure'] <= 60):\n",
    "        return 'tenure_48-60'\n",
    "    else:\n",
    "        return 'tenure_60+'\n",
    "    \n",
    "df_new['grp_tenure'] = df_new.apply(tenure_count,axis = 1)\n",
    "df_new['grp_tenure'].value_counts()"
   ]
  },
  {
   "cell_type": "code",
   "execution_count": 106,
   "id": "d5bXaQUFRJkV",
   "metadata": {
    "id": "d5bXaQUFRJkV"
   },
   "outputs": [],
   "source": [
    "def plot_bar(df_new,var1,var2):\n",
    "    grp = df_new.groupby(var1)[var2].value_counts()\n",
    "    grp.unstack().plot(kind = 'bar')\n",
    "    plt.xlabel(var1)\n",
    "    plt.ylabel(\"Count of Churn Customers\")\n",
    "    plt.title(\"Churn Customer Distribution by {}\".format(var1)) "
   ]
  },
  {
   "cell_type": "code",
   "execution_count": 107,
   "id": "4Ck0fThJQwjo",
   "metadata": {
    "colab": {
     "base_uri": "https://localhost:8080/",
     "height": 352
    },
    "id": "4Ck0fThJQwjo",
    "outputId": "05098324-2caa-455e-c97a-7eb3a9992c31"
   },
   "outputs": [
    {
     "data": {
      "image/png": "[encoded data removed]",
      "text/plain": [
       "<Figure size 432x288 with 1 Axes>"
      ]
     },
     "metadata": {
      "needs_background": "light"
     },
     "output_type": "display_data"
    }
   ],
   "source": [
    "plot_bar(df_new,'grp_tenure','Churn')"
   ]
  },
  {
   "cell_type": "markdown",
   "id": "8YkZzG7tcHaW",
   "metadata": {
    "id": "8YkZzG7tcHaW"
   },
   "source": [
    "# Churn rate distribution by contract (contract month to month)"
   ]
  },
  {
   "cell_type": "code",
   "execution_count": 108,
   "id": "IqwOc9eKjZUL",
   "metadata": {
    "colab": {
     "base_uri": "https://localhost:8080/"
    },
    "id": "IqwOc9eKjZUL",
    "outputId": "b7dd5492-e151-4136-fe72-31e6c6908053"
   },
   "outputs": [
    {
     "data": {
      "text/plain": [
       "Month-to-month    3875\n",
       "Two year          1685\n",
       "One year          1472\n",
       "Name: Contract, dtype: int64"
      ]
     },
     "execution_count": 108,
     "metadata": {},
     "output_type": "execute_result"
    }
   ],
   "source": [
    "df_new['Contract'].value_counts()"
   ]
  },
  {
   "cell_type": "code",
   "execution_count": 109,
   "id": "Mfro4QLwQwsO",
   "metadata": {
    "colab": {
     "base_uri": "https://localhost:8080/"
    },
    "id": "Mfro4QLwQwsO",
    "outputId": "fa725c2c-cde1-45c5-a809-970ef2c29f65"
   },
   "outputs": [
    {
     "data": {
      "text/plain": [
       "Month_to_month    3875\n",
       "Two_year          1685\n",
       "One_year          1472\n",
       "Name: grp_contract, dtype: int64"
      ]
     },
     "execution_count": 109,
     "metadata": {},
     "output_type": "execute_result"
    }
   ],
   "source": [
    "def contract_count(row):\n",
    "    if row['Contract'] == 'Month-to-month' :\n",
    "        return 'Month_to_month'\n",
    "    elif row['Contract'] == 'Two year' :\n",
    "        return 'Two_year'\n",
    "    elif row['Contract'] == 'One year':\n",
    "        return 'One_year'\n",
    "    else:\n",
    "      return 'Other'\n",
    "    \n",
    "df_new['grp_contract'] = df_new.apply(contract_count ,axis = 1)\n",
    "df_new['grp_contract'].value_counts()"
   ]
  },
  {
   "cell_type": "code",
   "execution_count": 110,
   "id": "ZvuCFRaxkuhA",
   "metadata": {
    "id": "ZvuCFRaxkuhA"
   },
   "outputs": [],
   "source": [
    "def plot_bar(df_new,var1,var2):\n",
    "    grp = df_new.groupby(var1)[var2].value_counts()\n",
    "    grp.unstack().plot(kind = 'bar')\n",
    "    plt.xlabel(var1)\n",
    "    plt.ylabel(\"Count of Churn Customers\")\n",
    "    plt.title(\"Churn Customer Distribution by {}\".format(var1)) "
   ]
  },
  {
   "cell_type": "code",
   "execution_count": 111,
   "id": "wo4UW0ovkv8Z",
   "metadata": {
    "colab": {
     "base_uri": "https://localhost:8080/",
     "height": 369
    },
    "id": "wo4UW0ovkv8Z",
    "outputId": "7df7c8ed-c69a-4f14-aa65-8cc154c312f7"
   },
   "outputs": [
    {
     "data": {
      "image/png": "[encoded data removed]",
      "text/plain": [
       "<Figure size 432x288 with 1 Axes>"
      ]
     },
     "metadata": {
      "needs_background": "light"
     },
     "output_type": "display_data"
    }
   ],
   "source": [
    "plot_bar(df_new,'grp_contract','Churn')"
   ]
  },
  {
   "cell_type": "markdown",
   "id": "DnPZYSg4mC2Y",
   "metadata": {
    "id": "DnPZYSg4mC2Y"
   },
   "source": [
    "# Churn rate distribution by internet service"
   ]
  },
  {
   "cell_type": "code",
   "execution_count": 112,
   "id": "5L6vT49xmQmn",
   "metadata": {
    "colab": {
     "base_uri": "https://localhost:8080/"
    },
    "id": "5L6vT49xmQmn",
    "outputId": "c5e3eef0-829d-4b5d-8632-2240be9bc960"
   },
   "outputs": [
    {
     "data": {
      "text/plain": [
       "Fiber optic    3096\n",
       "DSL            2416\n",
       "No             1520\n",
       "Name: InternetService, dtype: int64"
      ]
     },
     "execution_count": 112,
     "metadata": {},
     "output_type": "execute_result"
    }
   ],
   "source": [
    "df_new['InternetService'].value_counts()"
   ]
  },
  {
   "cell_type": "code",
   "execution_count": 113,
   "id": "xbYjJIz5mZgu",
   "metadata": {
    "colab": {
     "base_uri": "https://localhost:8080/"
    },
    "id": "xbYjJIz5mZgu",
    "outputId": "7a8840c0-c25a-4d8d-ff4b-b6a9c0a597ee"
   },
   "outputs": [
    {
     "data": {
      "text/plain": [
       "Fiber_optic    3096\n",
       "DSL            2416\n",
       "No             1520\n",
       "Name: grp_internet_service, dtype: int64"
      ]
     },
     "execution_count": 113,
     "metadata": {},
     "output_type": "execute_result"
    }
   ],
   "source": [
    "def internet_count(row):\n",
    "    if row['InternetService'] == 'Fiber optic' :\n",
    "        return 'Fiber_optic'\n",
    "    elif row['InternetService'] == 'DSL' :\n",
    "        return 'DSL'\n",
    "    elif row['InternetService'] == 'No':\n",
    "        return 'No'\n",
    "    else:\n",
    "      return 'Other'\n",
    "    \n",
    "df_new['grp_internet_service'] = df_new.apply(internet_count ,axis = 1)\n",
    "df_new['grp_internet_service'].value_counts()"
   ]
  },
  {
   "cell_type": "code",
   "execution_count": 114,
   "id": "VIS0r47wms4T",
   "metadata": {
    "id": "VIS0r47wms4T"
   },
   "outputs": [],
   "source": [
    "def plot_bar(df_new,var1,var2):\n",
    "    grp = df_new.groupby(var1)[var2].value_counts()\n",
    "    grp.unstack().plot(kind = 'bar')\n",
    "    plt.xlabel(var1)\n",
    "    plt.ylabel(\"Count of Churn Customers\")\n",
    "    plt.title(\"Churn Customer Distribution by {}\".format(var1)) "
   ]
  },
  {
   "cell_type": "code",
   "execution_count": 115,
   "id": "aFBxQJHumtYz",
   "metadata": {
    "colab": {
     "base_uri": "https://localhost:8080/",
     "height": 340
    },
    "id": "aFBxQJHumtYz",
    "outputId": "afd9df4e-2087-4b07-ae4a-84d789a150ea"
   },
   "outputs": [
    {
     "data": {
      "image/png": "[encoded data removed]",
      "text/plain": [
       "<Figure size 432x288 with 1 Axes>"
      ]
     },
     "metadata": {
      "needs_background": "light"
     },
     "output_type": "display_data"
    }
   ],
   "source": [
    "plot_bar(df_new,'grp_internet_service','Churn')"
   ]
  },
  {
   "cell_type": "code",
   "execution_count": null,
   "id": "YpOKmUAFmyAB",
   "metadata": {
    "id": "YpOKmUAFmyAB"
   },
   "outputs": [],
   "source": []
  },
  {
   "cell_type": "code",
   "execution_count": null,
   "id": "ef228b59-75cc-4efe-a7f8-2fffbf37cbdc",
   "metadata": {},
   "outputs": [],
   "source": []
  }
 ],
 "metadata": {
  "colab": {
   "collapsed_sections": [],
   "name": "Kopi af Projekt.ipynb",
   "provenance": [],
   "toc_visible": true
  },
  "kernelspec": {
   "display_name": "Python 3 (ipykernel)",
   "language": "python",
   "name": "python3"
  },
  "language_info": {
   "codemirror_mode": {
    "name": "ipython",
    "version": 3
   },
   "file_extension": ".py",
   "mimetype": "text/x-python",
   "name": "python",
   "nbconvert_exporter": "python",
   "pygments_lexer": "ipython3",
   "version": "3.9.7"
  },
  "toc-showcode": false
 },
 "nbformat": 4,
 "nbformat_minor": 5
}
