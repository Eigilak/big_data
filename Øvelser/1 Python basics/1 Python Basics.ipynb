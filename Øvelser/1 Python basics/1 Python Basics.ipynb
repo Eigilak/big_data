{
 "cells": [
  {
   "cell_type": "markdown",
   "metadata": {},
   "source": [
    "# Python Basics"
   ]
  },
  {
   "cell_type": "markdown",
   "metadata": {},
   "source": [
    "# 1\n",
    "Create a list of names:"
   ]
  },
  {
   "cell_type": "code",
   "execution_count": 2,
   "metadata": {
    "tags": []
   },
   "outputs": [],
   "source": [
    "a = [\"Sally\", \"Fred\", \"Tom\", \"Mary\"]\n"
   ]
  },
  {
   "cell_type": "markdown",
   "metadata": {},
   "source": [
    "Write a loop that prints the names that are exactly four letters long. Test on several other lists. "
   ]
  },
  {
   "cell_type": "code",
   "execution_count": 3,
   "metadata": {},
   "outputs": [
    {
     "name": "stdout",
     "output_type": "stream",
     "text": [
      "Fred\n",
      "Tom\n",
      "Mary\n"
     ]
    }
   ],
   "source": [
    "for x in a:\n",
    "    if 4 >= len(x):\n",
    "        print(x)"
   ]
  },
  {
   "cell_type": "markdown",
   "metadata": {
    "tags": []
   },
   "source": [
    "Create a modified version that prints the final two letters of each name in the list, using slicing.\n"
   ]
  },
  {
   "cell_type": "code",
   "execution_count": 5,
   "metadata": {
    "tags": []
   },
   "outputs": [
    {
     "name": "stdout",
     "output_type": "stream",
     "text": [
      "ly\n",
      "ed\n",
      "om\n",
      "ry\n"
     ]
    }
   ],
   "source": [
    "for x in a:\n",
    "    print(x[-2:])"
   ]
  },
  {
   "cell_type": "markdown",
   "metadata": {},
   "source": [
    "# 2 "
   ]
  },
  {
   "cell_type": "markdown",
   "metadata": {},
   "source": [
    "Given a list of integers, write a loop that prints only the odd integers in the list. Use the modulo (%) operator. "
   ]
  },
  {
   "cell_type": "code",
   "execution_count": 7,
   "metadata": {
    "tags": []
   },
   "outputs": [
    {
     "name": "stdout",
     "output_type": "stream",
     "text": [
      "this is a even num 2\n",
      "this is a even num 4\n",
      "this is a even num 6\n",
      "this is a even num 8\n",
      "this is a even num 10\n"
     ]
    }
   ],
   "source": [
    "ints = [1, 2, 3, 4, 5, 6, 7, 8, 9, 10];\n",
    "for x in ints:\n",
    "    if (x % 2) == 0:\n",
    "        print(\"this is a even num\", x)"
   ]
  },
  {
   "cell_type": "markdown",
   "metadata": {
    "tags": []
   },
   "source": [
    "Do the same without a loop, using a list comprehension.\n"
   ]
  },
  {
   "cell_type": "code",
   "execution_count": 8,
   "metadata": {},
   "outputs": [
    {
     "name": "stdout",
     "output_type": "stream",
     "text": [
      "[2, 4, 6, 8, 10]\n"
     ]
    }
   ],
   "source": [
    "ints = [1, 2, 3, 4, 5, 6, 7, 8, 9, 10]\n",
    "newlist = [int(x) for x in ints if (x % 2) == 0]\n",
    "print(newlist)"
   ]
  },
  {
   "cell_type": "markdown",
   "metadata": {},
   "source": [
    "# 3"
   ]
  },
  {
   "cell_type": "markdown",
   "metadata": {},
   "source": [
    "Have the user input their name. Then print \"hello [NAME]. Your name is [LENGTH] characters long\". For example if the user inputs the name \"Dan\", you should print \"Hello Dan. Your name is 3 characters long.\" (hint: use the input function)"
   ]
  },
  {
   "cell_type": "code",
   "execution_count": 9,
   "metadata": {},
   "outputs": [
    {
     "name": "stdin",
     "output_type": "stream",
     "text": [
      "What is your name?\n",
      " Rininging\n"
     ]
    },
    {
     "name": "stdout",
     "output_type": "stream",
     "text": [
      "Hey Rininging\n",
      "Your name is 9 long\n"
     ]
    }
   ],
   "source": [
    "name = input(\"What is your name?\\n\")\n",
    "print(\"Hey\", name)\n",
    "print(\"Your name is\", len(name), \"long\")"
   ]
  },
  {
   "cell_type": "markdown",
   "metadata": {},
   "source": [
    "# 4"
   ]
  },
  {
   "cell_type": "markdown",
   "metadata": {},
   "source": [
    "Write a function, using def, that takes two numerical arguments, and returns the larger one.\n"
   ]
  },
  {
   "cell_type": "code",
   "execution_count": 11,
   "metadata": {},
   "outputs": [
    {
     "name": "stdin",
     "output_type": "stream",
     "text": [
      "write number 23123123\n",
      "write number 3123123123\n"
     ]
    },
    {
     "name": "stdout",
     "output_type": "stream",
     "text": [
      "3123123123\n"
     ]
    }
   ],
   "source": [
    "def largest(num1,num2):\n",
    "    print(max(num1, num2))\n",
    "    \n",
    "\n",
    "input1 = input(\"write number\")\n",
    "input2 = input(\"write number\")\n",
    "largest(input1, input2)\n"
   ]
  },
  {
   "cell_type": "markdown",
   "metadata": {},
   "source": [
    "# 5"
   ]
  },
  {
   "cell_type": "markdown",
   "metadata": {},
   "source": [
    "Write a function, using def, that returns the largest number in a list.\n"
   ]
  },
  {
   "cell_type": "code",
   "execution_count": 12,
   "metadata": {},
   "outputs": [
    {
     "name": "stdout",
     "output_type": "stream",
     "text": [
      "7810\n"
     ]
    }
   ],
   "source": [
    "def largestNumList(list):\n",
    "    print(max(list))\n",
    "    \n",
    "listNum = [1, 2, 5, 6, 7810, 2091, 1, 4]\n",
    "largestNumList(listNum)"
   ]
  },
  {
   "cell_type": "markdown",
   "metadata": {},
   "source": [
    "# 6"
   ]
  },
  {
   "cell_type": "markdown",
   "metadata": {},
   "source": [
    "Write a function, addArrays, that takes two numpy arrays as arguments, and returns an array consisting of the sum of the corresponding elements of the two arrays. (make sure you import numpy first) For example:\n",
    "\n",
    "addArrays(numpy.array([1,2,3]), numpy.array([4,5,6])\n",
    "\n",
    "array([5,7,9])\n",
    "\n"
   ]
  },
  {
   "cell_type": "code",
   "execution_count": 15,
   "metadata": {},
   "outputs": [
    {
     "name": "stdout",
     "output_type": "stream",
     "text": [
      "[     1      2      3      4      5      6      6 123123 123123     32\n",
      "      1      4      5      6]\n"
     ]
    }
   ],
   "source": [
    "import numpy as numpy\n",
    "\n",
    "def mergeArr(arr1,arr2):\n",
    "    merged = numpy.concatenate((arr1, arr2))\n",
    "    print(merged)\n",
    "    \n",
    "arr1 = [1,2,3,4,5,6,6]\n",
    "arr2 = [123123,123123,32,1,4,5,6]\n",
    "\n",
    "mergeArr(arr1, arr2)\n",
    "\n"
   ]
  },
  {
   "cell_type": "markdown",
   "metadata": {},
   "source": [
    "# 7"
   ]
  },
  {
   "cell_type": "markdown",
   "metadata": {},
   "source": [
    "Write a function that takes two lists as arguments, and returns a list consisting of the sum of the corresponding elements of the two lists. \n",
    "For example\n",
    "\n",
    "addLists([1,2,3], [4,5,6]) \n",
    "\n",
    "[5,7,9]\n"
   ]
  },
  {
   "cell_type": "code",
   "execution_count": 3,
   "metadata": {
    "tags": []
   },
   "outputs": [
    {
     "name": "stdout",
     "output_type": "stream",
     "text": [
      "[3, 42, 6, 9]\n"
     ]
    }
   ],
   "source": [
    "import operator as operator\n",
    "def sum(list1, list2):\n",
    "    merge = list(map(operator.add, list1, list2));\n",
    "    print(merge)\n",
    "    \n",
    "arr1 = [1,2,4,5]\n",
    "arr2 = [2,40,2,4]\n",
    "sum(arr1,arr2)"
   ]
  },
  {
   "cell_type": "markdown",
   "metadata": {},
   "source": [
    "Write a dictionary entry with three key value pairs: (\"town\": \"madison\"), (\"street\": \"main\"),(\"address\":\"1217\")\n"
   ]
  },
  {
   "cell_type": "code",
   "execution_count": 4,
   "metadata": {
    "tags": []
   },
   "outputs": [
    {
     "name": "stdin",
     "output_type": "stream",
     "text": [
      "Town kbh\n",
      "address edvard\n",
      "main 2\n"
     ]
    },
    {
     "name": "stdout",
     "output_type": "stream",
     "text": [
      "{'town': 'kbh', 'address': 'edvard', 'main': '2'}\n"
     ]
    }
   ],
   "source": [
    "dict = {}\n",
    "dict['town'] = input(\"Town\")\n",
    "dict['address'] = input(\"address\")\n",
    "dict['main'] = input(\"main\")\n",
    "\n",
    "print(dict)\n",
    "\n",
    "\n"
   ]
  },
  {
   "cell_type": "markdown",
   "metadata": {},
   "source": [
    "# 9"
   ]
  },
  {
   "cell_type": "markdown",
   "metadata": {},
   "source": [
    "Create a list of five dictionary entries, each of which has the three keys given above, with different values. Write a loop that takes a list of dictionaries like the above, and prints entries where \"town\" is equal to \"madison\".\n"
   ]
  },
  {
   "cell_type": "code",
   "execution_count": 10,
   "metadata": {
    "tags": []
   },
   "outputs": [
    {
     "name": "stdin",
     "output_type": "stream",
     "text": [
      "Town Eigil\n",
      "address hansen\n",
      "main Hovsa\n"
     ]
    },
    {
     "name": "stdout",
     "output_type": "stream",
     "text": [
      "town = Eigil\n",
      "address = hansen\n",
      "main = Hovsa\n"
     ]
    }
   ],
   "source": [
    "dict = {}\n",
    "dict['town'] = input(\"Town\")\n",
    "dict['address'] = input(\"address\")\n",
    "dict['main'] = input(\"main\")\n",
    "\n",
    "\n",
    "for x in dict.items():\n",
    "    print(x[0], \"=\", x[1])\n",
    "    \n"
   ]
  },
  {
   "cell_type": "markdown",
   "metadata": {},
   "source": [
    "# 10"
   ]
  },
  {
   "cell_type": "markdown",
   "metadata": {},
   "source": [
    "Write a loop that takes a list of dictionaries like the above, and creates a new list with only those entries where \"town\" is equal to \"madison\". Use a list filter to do the same without a loop.\n"
   ]
  },
  {
   "cell_type": "code",
   "execution_count": 19,
   "metadata": {},
   "outputs": [
    {
     "name": "stdout",
     "output_type": "stream",
     "text": [
      "{'town': 'madision'}\n"
     ]
    }
   ],
   "source": [
    "dicty = {\"name\": \"eigil\", \"town\": \"madision\", \"address\": \"hell\"}\n",
    "\n",
    "filter = {x: myDic[x] for x in myDic if myDic[x] == \"madision\"}\n",
    "\n",
    "print(filter)\n"
   ]
  },
  {
   "cell_type": "code",
   "execution_count": null,
   "metadata": {},
   "outputs": [],
   "source": []
  }
 ],
 "metadata": {
  "kernelspec": {
   "display_name": "Python 3",
   "language": "python",
   "name": "python3"
  },
  "language_info": {
   "codemirror_mode": {
    "name": "ipython",
    "version": 3
   },
   "file_extension": ".py",
   "mimetype": "text/x-python",
   "name": "python",
   "nbconvert_exporter": "python",
   "pygments_lexer": "ipython3",
   "version": "3.8.8"
  }
 },
 "nbformat": 4,
 "nbformat_minor": 4
}
