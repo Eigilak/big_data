{
 "cells": [
  {
   "cell_type": "markdown",
   "metadata": {},
   "source": [
    "<title>Regression Models</title>"
   ]
  },
  {
   "cell_type": "markdown",
   "metadata": {},
   "source": [
    "<title>Regression Models</title>\n"
   ]
  },
  {
   "cell_type": "markdown",
   "metadata": {},
   "source": [
    "<h1>Regression Models</h1>"
   ]
  },
  {
   "cell_type": "code",
   "execution_count": 3,
   "metadata": {},
   "outputs": [],
   "source": [
    "import pandas as pd\n",
    "import numpy as np\n",
    "\n",
    "from sklearn.linear_model import LinearRegression\n",
    "\n"
   ]
  },
  {
   "cell_type": "markdown",
   "metadata": {},
   "source": [
    "### Question 1\n",
    "Read the HomesSoldHellerup.csv file, using the pandas read_csv method (note that the separator is a semicolon and not a comma, which is the default). How many different values are there for the Type feature? What about Type of Sale?"
   ]
  },
  {
   "cell_type": "code",
   "execution_count": 4,
   "metadata": {},
   "outputs": [
    {
     "data": {
      "text/plain": [
       "(2160, 10)"
      ]
     },
     "execution_count": 4,
     "metadata": {},
     "output_type": "execute_result"
    }
   ],
   "source": [
    "df = pd.read_csv('HomesSoldHellerup.csv',';')\n",
    "df.shape"
   ]
  },
  {
   "cell_type": "code",
   "execution_count": 5,
   "metadata": {},
   "outputs": [
    {
     "data": {
      "text/plain": [
       "(2145, 10)"
      ]
     },
     "execution_count": 5,
     "metadata": {},
     "output_type": "execute_result"
    }
   ],
   "source": [
    "df.drop_duplicates(inplace = True)\n",
    "df.shape"
   ]
  },
  {
   "cell_type": "code",
   "execution_count": 100,
   "metadata": {},
   "outputs": [
    {
     "data": {
      "text/html": [
       "<div>\n",
       "<style scoped>\n",
       "    .dataframe tbody tr th:only-of-type {\n",
       "        vertical-align: middle;\n",
       "    }\n",
       "\n",
       "    .dataframe tbody tr th {\n",
       "        vertical-align: top;\n",
       "    }\n",
       "\n",
       "    .dataframe thead th {\n",
       "        text-align: right;\n",
       "    }\n",
       "</style>\n",
       "<table border=\"1\" class=\"dataframe\">\n",
       "  <thead>\n",
       "    <tr style=\"text-align: right;\">\n",
       "      <th></th>\n",
       "      <th>Road name</th>\n",
       "      <th>Road Number</th>\n",
       "      <th>Type</th>\n",
       "      <th>m2</th>\n",
       "      <th>Build Year</th>\n",
       "      <th>ZipCode</th>\n",
       "      <th>City</th>\n",
       "      <th>Date of Sale</th>\n",
       "      <th>Type of Sale</th>\n",
       "      <th>Price</th>\n",
       "    </tr>\n",
       "  </thead>\n",
       "  <tbody>\n",
       "    <tr>\n",
       "      <th>1207</th>\n",
       "      <td>Kildegårdsvej</td>\n",
       "      <td>67B</td>\n",
       "      <td>Rækkehus</td>\n",
       "      <td>133</td>\n",
       "      <td>2015</td>\n",
       "      <td>2900</td>\n",
       "      <td>Hellerup</td>\n",
       "      <td>13-02-14</td>\n",
       "      <td>Alm. Salg</td>\n",
       "      <td>4995000</td>\n",
       "    </tr>\n",
       "    <tr>\n",
       "      <th>1227</th>\n",
       "      <td>Kildegårdsvej</td>\n",
       "      <td>18B</td>\n",
       "      <td>Rækkehus</td>\n",
       "      <td>136</td>\n",
       "      <td>2015</td>\n",
       "      <td>2900</td>\n",
       "      <td>Hellerup</td>\n",
       "      <td>05-05-15</td>\n",
       "      <td>Alm. Salg</td>\n",
       "      <td>5845000</td>\n",
       "    </tr>\n",
       "    <tr>\n",
       "      <th>1208</th>\n",
       "      <td>Kildegårdsvej</td>\n",
       "      <td>67A</td>\n",
       "      <td>Rækkehus</td>\n",
       "      <td>144</td>\n",
       "      <td>2015</td>\n",
       "      <td>2900</td>\n",
       "      <td>Hellerup</td>\n",
       "      <td>07-04-14</td>\n",
       "      <td>Alm. Salg</td>\n",
       "      <td>5495000</td>\n",
       "    </tr>\n",
       "    <tr>\n",
       "      <th>1209</th>\n",
       "      <td>Kildegårdsvej</td>\n",
       "      <td>65B</td>\n",
       "      <td>Rækkehus</td>\n",
       "      <td>144</td>\n",
       "      <td>2015</td>\n",
       "      <td>2900</td>\n",
       "      <td>Hellerup</td>\n",
       "      <td>20-12-13</td>\n",
       "      <td>Alm. Salg</td>\n",
       "      <td>5595000</td>\n",
       "    </tr>\n",
       "    <tr>\n",
       "      <th>1210</th>\n",
       "      <td>Kildegårdsvej</td>\n",
       "      <td>65A</td>\n",
       "      <td>Rækkehus</td>\n",
       "      <td>133</td>\n",
       "      <td>2015</td>\n",
       "      <td>2900</td>\n",
       "      <td>Hellerup</td>\n",
       "      <td>27-01-14</td>\n",
       "      <td>Alm. Salg</td>\n",
       "      <td>4995000</td>\n",
       "    </tr>\n",
       "  </tbody>\n",
       "</table>\n",
       "</div>"
      ],
      "text/plain": [
       "            Road name Road Number      Type   m2  Build Year  ZipCode  \\\n",
       "1207  Kildegårdsvej           67B  Rækkehus  133        2015     2900   \n",
       "1227  Kildegårdsvej           18B  Rækkehus  136        2015     2900   \n",
       "1208  Kildegårdsvej           67A  Rækkehus  144        2015     2900   \n",
       "1209  Kildegårdsvej           65B  Rækkehus  144        2015     2900   \n",
       "1210  Kildegårdsvej           65A  Rækkehus  133        2015     2900   \n",
       "\n",
       "          City Date of Sale Type of Sale    Price  \n",
       "1207  Hellerup     13-02-14    Alm. Salg  4995000  \n",
       "1227  Hellerup     05-05-15    Alm. Salg  5845000  \n",
       "1208  Hellerup     07-04-14    Alm. Salg  5495000  \n",
       "1209  Hellerup     20-12-13    Alm. Salg  5595000  \n",
       "1210  Hellerup     27-01-14    Alm. Salg  4995000  "
      ]
     },
     "execution_count": 100,
     "metadata": {},
     "output_type": "execute_result"
    }
   ],
   "source": [
    "df.sort_values('Build Year', ascending = False).head()"
   ]
  },
  {
   "cell_type": "code",
   "execution_count": 7,
   "metadata": {},
   "outputs": [
    {
     "data": {
      "text/plain": [
       "Lejlighed          1222\n",
       "Villa               742\n",
       "Rækkehus            174\n",
       "Stuehus               3\n",
       "Døgninstitution       2\n",
       "Erhverv               2\n",
       "Name: Type, dtype: int64"
      ]
     },
     "execution_count": 7,
     "metadata": {},
     "output_type": "execute_result"
    }
   ],
   "source": [
    "df['Type'].value_counts()"
   ]
  },
  {
   "cell_type": "code",
   "execution_count": 8,
   "metadata": {},
   "outputs": [
    {
     "data": {
      "text/plain": [
       "Alm. Salg    1967\n",
       "Fam. Salg     109\n",
       "Andet          48\n",
       "Auktion        21\n",
       "Name: Type of Sale, dtype: int64"
      ]
     },
     "execution_count": 8,
     "metadata": {},
     "output_type": "execute_result"
    }
   ],
   "source": [
    "df['Type of Sale'].value_counts()"
   ]
  },
  {
   "cell_type": "markdown",
   "metadata": {},
   "source": [
    "## Question 2\n",
    "Assign to X a dataframe with the single feature, m2, which is the size of the home in square meters. The target value y is Price. "
   ]
  },
  {
   "cell_type": "code",
   "execution_count": 9,
   "metadata": {},
   "outputs": [],
   "source": [
    "X = df[['m2']]\n",
    "y = df[['Price']]"
   ]
  },
  {
   "cell_type": "markdown",
   "metadata": {},
   "source": [
    "## Question 4\n",
    "Build a linear regression model to predict price, based on size of the home. Fit the model to X and y, and report the score."
   ]
  },
  {
   "cell_type": "code",
   "execution_count": 10,
   "metadata": {},
   "outputs": [
    {
     "name": "stdout",
     "output_type": "stream",
     "text": [
      "Accuracy on training set: 0.379\n"
     ]
    }
   ],
   "source": [
    "l_model = LinearRegression()\n",
    "l_model.fit(X,y)\n",
    "print(\"Accuracy on training set: {:.3f}\".format(l_model.score(X, y)))"
   ]
  },
  {
   "cell_type": "markdown",
   "metadata": {},
   "source": [
    "## Question 5\n",
    "Add the feature 'Build Year' to X, and build a linear regression model and report the score."
   ]
  },
  {
   "cell_type": "code",
   "execution_count": 12,
   "metadata": {},
   "outputs": [
    {
     "name": "stdout",
     "output_type": "stream",
     "text": [
      "Accuracy on training set: 0.394\n"
     ]
    }
   ],
   "source": [
    "X = df[['m2', 'Build Year']]\n",
    "\n",
    "l_model = LinearRegression()\n",
    "l_model.fit(X,y)\n",
    "print(\"Accuracy on training set: {:.3f}\".format(l_model.score(X, y)))"
   ]
  },
  {
   "cell_type": "markdown",
   "metadata": {},
   "source": [
    "## Question 6\n",
    "Use get_dummies to add the additional features, 'Type of Sale', and 'Type'. You still want to include m2 and 'Build Year'. Note that get_dummies will only create dummy features for nominal values -- it will ignore numerical features like m2 and 'Build Year'. List the dummy features that were created for the feature 'Type'."
   ]
  },
  {
   "cell_type": "code",
   "execution_count": 87,
   "metadata": {
    "tags": []
   },
   "outputs": [
    {
     "data": {
      "text/html": [
       "<div>\n",
       "<style scoped>\n",
       "    .dataframe tbody tr th:only-of-type {\n",
       "        vertical-align: middle;\n",
       "    }\n",
       "\n",
       "    .dataframe tbody tr th {\n",
       "        vertical-align: top;\n",
       "    }\n",
       "\n",
       "    .dataframe thead th {\n",
       "        text-align: right;\n",
       "    }\n",
       "</style>\n",
       "<table border=\"1\" class=\"dataframe\">\n",
       "  <thead>\n",
       "    <tr style=\"text-align: right;\">\n",
       "      <th></th>\n",
       "      <th>m2</th>\n",
       "      <th>Build Year</th>\n",
       "      <th>Type of Sale_Alm. Salg</th>\n",
       "      <th>Type of Sale_Andet</th>\n",
       "      <th>Type of Sale_Auktion</th>\n",
       "      <th>Type of Sale_Fam. Salg</th>\n",
       "      <th>Type_Døgninstitution</th>\n",
       "      <th>Type_Erhverv</th>\n",
       "      <th>Type_Lejlighed</th>\n",
       "      <th>Type_Rækkehus</th>\n",
       "      <th>Type_Stuehus</th>\n",
       "      <th>Type_Villa</th>\n",
       "    </tr>\n",
       "  </thead>\n",
       "  <tbody>\n",
       "    <tr>\n",
       "      <th>0</th>\n",
       "      <td>54</td>\n",
       "      <td>1932</td>\n",
       "      <td>1</td>\n",
       "      <td>0</td>\n",
       "      <td>0</td>\n",
       "      <td>0</td>\n",
       "      <td>0</td>\n",
       "      <td>0</td>\n",
       "      <td>1</td>\n",
       "      <td>0</td>\n",
       "      <td>0</td>\n",
       "      <td>0</td>\n",
       "    </tr>\n",
       "    <tr>\n",
       "      <th>1</th>\n",
       "      <td>87</td>\n",
       "      <td>1932</td>\n",
       "      <td>1</td>\n",
       "      <td>0</td>\n",
       "      <td>0</td>\n",
       "      <td>0</td>\n",
       "      <td>0</td>\n",
       "      <td>0</td>\n",
       "      <td>1</td>\n",
       "      <td>0</td>\n",
       "      <td>0</td>\n",
       "      <td>0</td>\n",
       "    </tr>\n",
       "    <tr>\n",
       "      <th>2</th>\n",
       "      <td>63</td>\n",
       "      <td>1932</td>\n",
       "      <td>1</td>\n",
       "      <td>0</td>\n",
       "      <td>0</td>\n",
       "      <td>0</td>\n",
       "      <td>0</td>\n",
       "      <td>0</td>\n",
       "      <td>1</td>\n",
       "      <td>0</td>\n",
       "      <td>0</td>\n",
       "      <td>0</td>\n",
       "    </tr>\n",
       "    <tr>\n",
       "      <th>3</th>\n",
       "      <td>54</td>\n",
       "      <td>1932</td>\n",
       "      <td>1</td>\n",
       "      <td>0</td>\n",
       "      <td>0</td>\n",
       "      <td>0</td>\n",
       "      <td>0</td>\n",
       "      <td>0</td>\n",
       "      <td>1</td>\n",
       "      <td>0</td>\n",
       "      <td>0</td>\n",
       "      <td>0</td>\n",
       "    </tr>\n",
       "    <tr>\n",
       "      <th>4</th>\n",
       "      <td>63</td>\n",
       "      <td>1932</td>\n",
       "      <td>1</td>\n",
       "      <td>0</td>\n",
       "      <td>0</td>\n",
       "      <td>0</td>\n",
       "      <td>0</td>\n",
       "      <td>0</td>\n",
       "      <td>1</td>\n",
       "      <td>0</td>\n",
       "      <td>0</td>\n",
       "      <td>0</td>\n",
       "    </tr>\n",
       "  </tbody>\n",
       "</table>\n",
       "</div>"
      ],
      "text/plain": [
       "   m2  Build Year  Type of Sale_Alm. Salg  Type of Sale_Andet  \\\n",
       "0  54        1932                       1                   0   \n",
       "1  87        1932                       1                   0   \n",
       "2  63        1932                       1                   0   \n",
       "3  54        1932                       1                   0   \n",
       "4  63        1932                       1                   0   \n",
       "\n",
       "   Type of Sale_Auktion  Type of Sale_Fam. Salg  Type_Døgninstitution  \\\n",
       "0                     0                       0                     0   \n",
       "1                     0                       0                     0   \n",
       "2                     0                       0                     0   \n",
       "3                     0                       0                     0   \n",
       "4                     0                       0                     0   \n",
       "\n",
       "   Type_Erhverv  Type_Lejlighed  Type_Rækkehus  Type_Stuehus  Type_Villa  \n",
       "0             0               1              0             0           0  \n",
       "1             0               1              0             0           0  \n",
       "2             0               1              0             0           0  \n",
       "3             0               1              0             0           0  \n",
       "4             0               1              0             0           0  "
      ]
     },
     "execution_count": 87,
     "metadata": {},
     "output_type": "execute_result"
    }
   ],
   "source": [
    "data = df[['m2','Build Year', 'Type of Sale', 'Type']]\n",
    "X = pd.get_dummies(data)\n",
    "X.head()"
   ]
  },
  {
   "cell_type": "code",
   "execution_count": 92,
   "metadata": {
    "tags": []
   },
   "outputs": [
    {
     "data": {
      "text/plain": [
       "Index(['m2', 'Build Year', 'Type of Sale_Alm. Salg', 'Type of Sale_Andet',\n",
       "       'Type of Sale_Auktion', 'Type of Sale_Fam. Salg',\n",
       "       'Type_Døgninstitution', 'Type_Erhverv', 'Type_Lejlighed',\n",
       "       'Type_Rækkehus', 'Type_Stuehus', 'Type_Villa'],\n",
       "      dtype='object')"
      ]
     },
     "execution_count": 92,
     "metadata": {},
     "output_type": "execute_result"
    }
   ],
   "source": [
    "X.columns"
   ]
  },
  {
   "cell_type": "code",
   "execution_count": 88,
   "metadata": {},
   "outputs": [
    {
     "data": {
      "text/plain": [
       "['Type of Sale_Alm. Salg',\n",
       " 'Type of Sale_Andet',\n",
       " 'Type of Sale_Auktion',\n",
       " 'Type of Sale_Fam. Salg',\n",
       " 'Type_Døgninstitution',\n",
       " 'Type_Erhverv',\n",
       " 'Type_Lejlighed',\n",
       " 'Type_Rækkehus',\n",
       " 'Type_Stuehus',\n",
       " 'Type_Villa']"
      ]
     },
     "execution_count": 88,
     "metadata": {},
     "output_type": "execute_result"
    }
   ],
   "source": [
    "filtered = filter(lambda data: 'Type' in data, dummyData)\n",
    "list(filtered)"
   ]
  },
  {
   "cell_type": "markdown",
   "metadata": {},
   "source": [
    "## Question 7\n",
    "Fit the Linear Regression model again, and report the score."
   ]
  },
  {
   "cell_type": "code",
   "execution_count": 89,
   "metadata": {},
   "outputs": [
    {
     "name": "stdout",
     "output_type": "stream",
     "text": [
      "Accuracy on training set: 0.426\n"
     ]
    }
   ],
   "source": [
    "l_model = LinearRegression()\n",
    "l_model.fit(X,y)\n",
    "print(\"Accuracy on training set: {:.3f}\".format(l_model.score(X, y)))"
   ]
  },
  {
   "cell_type": "markdown",
   "metadata": {},
   "source": [
    "## Question 8\n",
    "Find out the effect of different features on the price. To do this access <b>coef_</b>, which is an attribute of any linear model. (See <a href=https://scikit-learn.org/stable/modules/generated/sklearn.linear_model.LinearRegression.html>doc on linear regression</a>, including definition of <b>coef_</b> and other attributes.) Print the value of <b>coef_</b>, which is a list of floats.\n"
   ]
  },
  {
   "cell_type": "code",
   "execution_count": 90,
   "metadata": {},
   "outputs": [
    {
     "name": "stdout",
     "output_type": "stream",
     "text": [
      "[[   42293.78448289    13969.05849691   -60187.47785591   546904.10176572\n",
      "   1982542.70561375 -2469259.32952356 -4981407.8889136  10703033.528919\n",
      "     78817.17903665  -111142.39054315 -5232459.23993837  -456841.18856055]]\n"
     ]
    }
   ],
   "source": [
    "coaf = l_model.coef_\n",
    "print (coaf)"
   ]
  },
  {
   "cell_type": "markdown",
   "metadata": {},
   "source": [
    "## Question 9\n",
    "Now we need to connect the coefficients to the attribute names, which are given by <b>X.columns</b>. Use <b>zip</b> to produce a list of tuples, of the form <attribute_name, coefficient>.  Finally, use <b>sorted</b> to sort the tuples by coefficient value. \n",
    "\n",
    "<i>(Hint: with <b>sorted</b> you can use the optional argument <b>key</b> like this: <b>key = lambda e:e[1]</b>. This selects the second element of each tuple as the key to sort on.)</i>\n"
   ]
  },
  {
   "cell_type": "code",
   "execution_count": 95,
   "metadata": {},
   "outputs": [
    {
     "data": {
      "text/plain": [
       "[('Type_Erhverv', 10703033.528918996),\n",
       " ('Type of Sale_Auktion', 1982542.7056137521),\n",
       " ('Type of Sale_Andet', 546904.1017657183),\n",
       " ('Type_Lejlighed', 78817.17903665116),\n",
       " ('m2', 42293.784482889),\n",
       " ('Build Year', 13969.058496905316),\n",
       " ('Type of Sale_Alm. Salg', -60187.47785590975),\n",
       " ('Type_Rækkehus', -111142.39054314664),\n",
       " ('Type_Villa', -456841.1885605481),\n",
       " ('Type of Sale_Fam. Salg', -2469259.3295235597),\n",
       " ('Type_Døgninstitution', -4981407.888913597),\n",
       " ('Type_Stuehus', -5232459.239938369)]"
      ]
     },
     "execution_count": 95,
     "metadata": {},
     "output_type": "execute_result"
    }
   ],
   "source": [
    "zipped = sorted(zip(X.columns,coaf[0]),key = lambda e:e[1], reverse=True)\n",
    "zipped"
   ]
  },
  {
   "cell_type": "markdown",
   "metadata": {},
   "source": [
    "## Question 10\n",
    "Try to find the best model you can -- try things like\n",
    "<ul>\n",
    "    <li>Add a year of sale feature. You have to extract that from the 'Date of Sale' feature.)</li>\n",
    "    <li>Add Road Name dummy values. To do this you should probably find the most frequent road names, and create an \"other\" value for all the infrequent ones.</li>\n",
    "    <li>Other features? Other model parameters? Other models? ideas?</li>\n",
    "    \n",
    "</ul>\n",
    "\n",
    "Report the best results you get, and explain why you got them.\n"
   ]
  },
  {
   "cell_type": "code",
   "execution_count": 185,
   "metadata": {},
   "outputs": [
    {
     "data": {
      "text/plain": [
       "Tuborgvej             133\n",
       "Strandvejen           111\n",
       "Tuborg Havnepark       98\n",
       "Blidahpark             86\n",
       "Tranegårdsvej          80\n",
       "                     ... \n",
       "Kildegårds Have         1\n",
       "Lundeborgvej            1\n",
       "Nerievej                1\n",
       "Morgenvej               1\n",
       "Dalsvinget              1\n",
       "Name: Road name, Length: 179, dtype: int64"
      ]
     },
     "execution_count": 185,
     "metadata": {},
     "output_type": "execute_result"
    }
   ],
   "source": [
    "df['Road name'].value_counts()"
   ]
  },
  {
   "cell_type": "code",
   "execution_count": 238,
   "metadata": {},
   "outputs": [
    {
     "data": {
      "text/html": [
       "<div>\n",
       "<style scoped>\n",
       "    .dataframe tbody tr th:only-of-type {\n",
       "        vertical-align: middle;\n",
       "    }\n",
       "\n",
       "    .dataframe tbody tr th {\n",
       "        vertical-align: top;\n",
       "    }\n",
       "\n",
       "    .dataframe thead th {\n",
       "        text-align: right;\n",
       "    }\n",
       "</style>\n",
       "<table border=\"1\" class=\"dataframe\">\n",
       "  <thead>\n",
       "    <tr style=\"text-align: right;\">\n",
       "      <th></th>\n",
       "      <th>m2</th>\n",
       "      <th>Build Year</th>\n",
       "      <th>Type of Sale</th>\n",
       "      <th>Type</th>\n",
       "      <th>Road name</th>\n",
       "      <th>Year of Sale</th>\n",
       "    </tr>\n",
       "  </thead>\n",
       "  <tbody>\n",
       "    <tr>\n",
       "      <th>0</th>\n",
       "      <td>54</td>\n",
       "      <td>1932</td>\n",
       "      <td>Alm. Salg</td>\n",
       "      <td>Lejlighed</td>\n",
       "      <td>Tuborgvej</td>\n",
       "      <td>2015</td>\n",
       "    </tr>\n",
       "    <tr>\n",
       "      <th>1</th>\n",
       "      <td>87</td>\n",
       "      <td>1932</td>\n",
       "      <td>Alm. Salg</td>\n",
       "      <td>Lejlighed</td>\n",
       "      <td>Tuborgvej</td>\n",
       "      <td>2015</td>\n",
       "    </tr>\n",
       "    <tr>\n",
       "      <th>2</th>\n",
       "      <td>63</td>\n",
       "      <td>1932</td>\n",
       "      <td>Alm. Salg</td>\n",
       "      <td>Lejlighed</td>\n",
       "      <td>Tuborgvej</td>\n",
       "      <td>2010</td>\n",
       "    </tr>\n",
       "    <tr>\n",
       "      <th>3</th>\n",
       "      <td>54</td>\n",
       "      <td>1932</td>\n",
       "      <td>Alm. Salg</td>\n",
       "      <td>Lejlighed</td>\n",
       "      <td>Tuborgvej</td>\n",
       "      <td>2012</td>\n",
       "    </tr>\n",
       "    <tr>\n",
       "      <th>4</th>\n",
       "      <td>63</td>\n",
       "      <td>1932</td>\n",
       "      <td>Alm. Salg</td>\n",
       "      <td>Lejlighed</td>\n",
       "      <td>Tuborgvej</td>\n",
       "      <td>2012</td>\n",
       "    </tr>\n",
       "    <tr>\n",
       "      <th>...</th>\n",
       "      <td>...</td>\n",
       "      <td>...</td>\n",
       "      <td>...</td>\n",
       "      <td>...</td>\n",
       "      <td>...</td>\n",
       "      <td>...</td>\n",
       "    </tr>\n",
       "    <tr>\n",
       "      <th>2155</th>\n",
       "      <td>163</td>\n",
       "      <td>1900</td>\n",
       "      <td>Alm. Salg</td>\n",
       "      <td>Villa</td>\n",
       "      <td>Other</td>\n",
       "      <td>2015</td>\n",
       "    </tr>\n",
       "    <tr>\n",
       "      <th>2156</th>\n",
       "      <td>128</td>\n",
       "      <td>1915</td>\n",
       "      <td>Alm. Salg</td>\n",
       "      <td>Villa</td>\n",
       "      <td>Other</td>\n",
       "      <td>2010</td>\n",
       "    </tr>\n",
       "    <tr>\n",
       "      <th>2157</th>\n",
       "      <td>182</td>\n",
       "      <td>1963</td>\n",
       "      <td>Alm. Salg</td>\n",
       "      <td>Villa</td>\n",
       "      <td>Other</td>\n",
       "      <td>2013</td>\n",
       "    </tr>\n",
       "    <tr>\n",
       "      <th>2158</th>\n",
       "      <td>202</td>\n",
       "      <td>2007</td>\n",
       "      <td>Alm. Salg</td>\n",
       "      <td>Villa</td>\n",
       "      <td>Other</td>\n",
       "      <td>2012</td>\n",
       "    </tr>\n",
       "    <tr>\n",
       "      <th>2159</th>\n",
       "      <td>202</td>\n",
       "      <td>2011</td>\n",
       "      <td>Alm. Salg</td>\n",
       "      <td>Villa</td>\n",
       "      <td>Other</td>\n",
       "      <td>2010</td>\n",
       "    </tr>\n",
       "  </tbody>\n",
       "</table>\n",
       "<p>2145 rows × 6 columns</p>\n",
       "</div>"
      ],
      "text/plain": [
       "       m2  Build Year Type of Sale       Type    Road name  Year of Sale\n",
       "0      54        1932    Alm. Salg  Lejlighed  Tuborgvej            2015\n",
       "1      87        1932    Alm. Salg  Lejlighed  Tuborgvej            2015\n",
       "2      63        1932    Alm. Salg  Lejlighed  Tuborgvej            2010\n",
       "3      54        1932    Alm. Salg  Lejlighed  Tuborgvej            2012\n",
       "4      63        1932    Alm. Salg  Lejlighed  Tuborgvej            2012\n",
       "...   ...         ...          ...        ...          ...           ...\n",
       "2155  163        1900    Alm. Salg      Villa        Other          2015\n",
       "2156  128        1915    Alm. Salg      Villa        Other          2010\n",
       "2157  182        1963    Alm. Salg      Villa        Other          2013\n",
       "2158  202        2007    Alm. Salg      Villa        Other          2012\n",
       "2159  202        2011    Alm. Salg      Villa        Other          2010\n",
       "\n",
       "[2145 rows x 6 columns]"
      ]
     },
     "execution_count": 238,
     "metadata": {},
     "output_type": "execute_result"
    }
   ],
   "source": [
    "# add year of sale feature\n",
    "data_org = df[['m2','Build Year', 'Type of Sale', 'Type', 'Road name']]\n",
    "data = data_org.copy()\n",
    "data['Year of Sale'] = pd.DatetimeIndex(df['Date of Sale']).year\n",
    "data['Road name'] = data_org['Road name'].apply(lambda x: x if('tuborg' in x.lower()) else 'Other')\n",
    "\n",
    "data\n"
   ]
  },
  {
   "cell_type": "code",
   "execution_count": 239,
   "metadata": {},
   "outputs": [
    {
     "data": {
      "text/plain": [
       "Other                 1852\n",
       "Tuborgvej              133\n",
       "Tuborg Havnepark        98\n",
       "Tuborg Boulevard        29\n",
       "Tuborg Sundpark         29\n",
       "Tuborg Parkvej           4\n",
       "Name: Road name, dtype: int64"
      ]
     },
     "execution_count": 239,
     "metadata": {},
     "output_type": "execute_result"
    }
   ],
   "source": [
    "data['Road name'].value_counts()"
   ]
  },
  {
   "cell_type": "code",
   "execution_count": 240,
   "metadata": {},
   "outputs": [
    {
     "data": {
      "text/html": [
       "<div>\n",
       "<style scoped>\n",
       "    .dataframe tbody tr th:only-of-type {\n",
       "        vertical-align: middle;\n",
       "    }\n",
       "\n",
       "    .dataframe tbody tr th {\n",
       "        vertical-align: top;\n",
       "    }\n",
       "\n",
       "    .dataframe thead th {\n",
       "        text-align: right;\n",
       "    }\n",
       "</style>\n",
       "<table border=\"1\" class=\"dataframe\">\n",
       "  <thead>\n",
       "    <tr style=\"text-align: right;\">\n",
       "      <th></th>\n",
       "      <th>m2</th>\n",
       "      <th>Build Year</th>\n",
       "      <th>Year of Sale</th>\n",
       "      <th>Type of Sale_Alm. Salg</th>\n",
       "      <th>Type of Sale_Andet</th>\n",
       "      <th>Type of Sale_Auktion</th>\n",
       "      <th>Type of Sale_Fam. Salg</th>\n",
       "      <th>Type_Døgninstitution</th>\n",
       "      <th>Type_Erhverv</th>\n",
       "      <th>Type_Lejlighed</th>\n",
       "      <th>Type_Rækkehus</th>\n",
       "      <th>Type_Stuehus</th>\n",
       "      <th>Type_Villa</th>\n",
       "      <th>Road name_Other</th>\n",
       "      <th>Road name_Tuborg Boulevard</th>\n",
       "      <th>Road name_Tuborg Havnepark</th>\n",
       "      <th>Road name_Tuborg Parkvej</th>\n",
       "      <th>Road name_Tuborg Sundpark</th>\n",
       "      <th>Road name_Tuborgvej</th>\n",
       "    </tr>\n",
       "  </thead>\n",
       "  <tbody>\n",
       "    <tr>\n",
       "      <th>0</th>\n",
       "      <td>54</td>\n",
       "      <td>1932</td>\n",
       "      <td>2015</td>\n",
       "      <td>1</td>\n",
       "      <td>0</td>\n",
       "      <td>0</td>\n",
       "      <td>0</td>\n",
       "      <td>0</td>\n",
       "      <td>0</td>\n",
       "      <td>1</td>\n",
       "      <td>0</td>\n",
       "      <td>0</td>\n",
       "      <td>0</td>\n",
       "      <td>0</td>\n",
       "      <td>0</td>\n",
       "      <td>0</td>\n",
       "      <td>0</td>\n",
       "      <td>0</td>\n",
       "      <td>1</td>\n",
       "    </tr>\n",
       "    <tr>\n",
       "      <th>1</th>\n",
       "      <td>87</td>\n",
       "      <td>1932</td>\n",
       "      <td>2015</td>\n",
       "      <td>1</td>\n",
       "      <td>0</td>\n",
       "      <td>0</td>\n",
       "      <td>0</td>\n",
       "      <td>0</td>\n",
       "      <td>0</td>\n",
       "      <td>1</td>\n",
       "      <td>0</td>\n",
       "      <td>0</td>\n",
       "      <td>0</td>\n",
       "      <td>0</td>\n",
       "      <td>0</td>\n",
       "      <td>0</td>\n",
       "      <td>0</td>\n",
       "      <td>0</td>\n",
       "      <td>1</td>\n",
       "    </tr>\n",
       "    <tr>\n",
       "      <th>3</th>\n",
       "      <td>54</td>\n",
       "      <td>1932</td>\n",
       "      <td>2012</td>\n",
       "      <td>1</td>\n",
       "      <td>0</td>\n",
       "      <td>0</td>\n",
       "      <td>0</td>\n",
       "      <td>0</td>\n",
       "      <td>0</td>\n",
       "      <td>1</td>\n",
       "      <td>0</td>\n",
       "      <td>0</td>\n",
       "      <td>0</td>\n",
       "      <td>0</td>\n",
       "      <td>0</td>\n",
       "      <td>0</td>\n",
       "      <td>0</td>\n",
       "      <td>0</td>\n",
       "      <td>1</td>\n",
       "    </tr>\n",
       "    <tr>\n",
       "      <th>4</th>\n",
       "      <td>63</td>\n",
       "      <td>1932</td>\n",
       "      <td>2012</td>\n",
       "      <td>1</td>\n",
       "      <td>0</td>\n",
       "      <td>0</td>\n",
       "      <td>0</td>\n",
       "      <td>0</td>\n",
       "      <td>0</td>\n",
       "      <td>1</td>\n",
       "      <td>0</td>\n",
       "      <td>0</td>\n",
       "      <td>0</td>\n",
       "      <td>0</td>\n",
       "      <td>0</td>\n",
       "      <td>0</td>\n",
       "      <td>0</td>\n",
       "      <td>0</td>\n",
       "      <td>1</td>\n",
       "    </tr>\n",
       "    <tr>\n",
       "      <th>2</th>\n",
       "      <td>63</td>\n",
       "      <td>1932</td>\n",
       "      <td>2010</td>\n",
       "      <td>1</td>\n",
       "      <td>0</td>\n",
       "      <td>0</td>\n",
       "      <td>0</td>\n",
       "      <td>0</td>\n",
       "      <td>0</td>\n",
       "      <td>1</td>\n",
       "      <td>0</td>\n",
       "      <td>0</td>\n",
       "      <td>0</td>\n",
       "      <td>0</td>\n",
       "      <td>0</td>\n",
       "      <td>0</td>\n",
       "      <td>0</td>\n",
       "      <td>0</td>\n",
       "      <td>1</td>\n",
       "    </tr>\n",
       "  </tbody>\n",
       "</table>\n",
       "</div>"
      ],
      "text/plain": [
       "   m2  Build Year  Year of Sale  Type of Sale_Alm. Salg  Type of Sale_Andet  \\\n",
       "0  54        1932          2015                       1                   0   \n",
       "1  87        1932          2015                       1                   0   \n",
       "3  54        1932          2012                       1                   0   \n",
       "4  63        1932          2012                       1                   0   \n",
       "2  63        1932          2010                       1                   0   \n",
       "\n",
       "   Type of Sale_Auktion  Type of Sale_Fam. Salg  Type_Døgninstitution  \\\n",
       "0                     0                       0                     0   \n",
       "1                     0                       0                     0   \n",
       "3                     0                       0                     0   \n",
       "4                     0                       0                     0   \n",
       "2                     0                       0                     0   \n",
       "\n",
       "   Type_Erhverv  Type_Lejlighed  Type_Rækkehus  Type_Stuehus  Type_Villa  \\\n",
       "0             0               1              0             0           0   \n",
       "1             0               1              0             0           0   \n",
       "3             0               1              0             0           0   \n",
       "4             0               1              0             0           0   \n",
       "2             0               1              0             0           0   \n",
       "\n",
       "   Road name_Other  Road name_Tuborg Boulevard    \\\n",
       "0                0                             0   \n",
       "1                0                             0   \n",
       "3                0                             0   \n",
       "4                0                             0   \n",
       "2                0                             0   \n",
       "\n",
       "   Road name_Tuborg Havnepark    Road name_Tuborg Parkvej    \\\n",
       "0                             0                           0   \n",
       "1                             0                           0   \n",
       "3                             0                           0   \n",
       "4                             0                           0   \n",
       "2                             0                           0   \n",
       "\n",
       "   Road name_Tuborg Sundpark    Road name_Tuborgvej    \n",
       "0                            0                      1  \n",
       "1                            0                      1  \n",
       "3                            0                      1  \n",
       "4                            0                      1  \n",
       "2                            0                      1  "
      ]
     },
     "execution_count": 240,
     "metadata": {},
     "output_type": "execute_result"
    }
   ],
   "source": [
    "# Print Year of sale lates\n",
    "X = pd.get_dummies(data)\n",
    "X.head().sort_values('Year of Sale', ascending = False)"
   ]
  },
  {
   "cell_type": "code",
   "execution_count": 241,
   "metadata": {},
   "outputs": [
    {
     "name": "stdout",
     "output_type": "stream",
     "text": [
      "Accuracy on training set: 0.450\n"
     ]
    }
   ],
   "source": [
    "# predection score / 1 is best \n",
    "l_model = LinearRegression()\n",
    "l_model.fit(X,y)\n",
    "print(\"Accuracy on training set: {:.3f}\".format(l_model.score(X, y)))"
   ]
  },
  {
   "cell_type": "code",
   "execution_count": 242,
   "metadata": {},
   "outputs": [],
   "source": [
    "# 1 score 0.642 - no extra features\n",
    "# 2 score 0.427 - Year of sale\n",
    "# 3 sclre 0.437 - road name\n",
    "# 3 score 0.450 - contains tuborg"
   ]
  },
  {
   "cell_type": "code",
   "execution_count": null,
   "metadata": {},
   "outputs": [],
   "source": []
  },
  {
   "cell_type": "code",
   "execution_count": null,
   "metadata": {},
   "outputs": [],
   "source": []
  },
  {
   "cell_type": "code",
   "execution_count": null,
   "metadata": {},
   "outputs": [],
   "source": []
  },
  {
   "cell_type": "code",
   "execution_count": null,
   "metadata": {},
   "outputs": [],
   "source": []
  }
 ],
 "metadata": {
  "kernelspec": {
   "display_name": "Python 3",
   "language": "python",
   "name": "python3"
  },
  "language_info": {
   "codemirror_mode": {
    "name": "ipython",
    "version": 3
   },
   "file_extension": ".py",
   "mimetype": "text/x-python",
   "name": "python",
   "nbconvert_exporter": "python",
   "pygments_lexer": "ipython3",
   "version": "3.8.8"
  }
 },
 "nbformat": 4,
 "nbformat_minor": 4
}
