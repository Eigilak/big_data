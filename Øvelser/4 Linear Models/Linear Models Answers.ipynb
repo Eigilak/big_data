{
 "cells": [
  {
   "cell_type": "markdown",
   "metadata": {},
   "source": [
    "<title>Regression Models</title>"
   ]
  },
  {
   "cell_type": "markdown",
   "metadata": {},
   "source": [
    "<title>Regression Models</title>\n"
   ]
  },
  {
   "cell_type": "markdown",
   "metadata": {},
   "source": [
    "<h1>Regression Models</h1>"
   ]
  },
  {
   "cell_type": "code",
   "execution_count": 1,
   "metadata": {},
   "outputs": [],
   "source": [
    "import pandas as pd\n",
    "import numpy as np\n",
    "\n",
    "from sklearn.linear_model import LinearRegression\n",
    "\n"
   ]
  },
  {
   "cell_type": "markdown",
   "metadata": {},
   "source": [
    "### Question 1\n",
    "Read the HomesSoldHellerup.csv file, using the pandas read_csv method (note that the separator is a semicolon and not a comma, which is the default). How many different values are there for the Type feature? What about Type of Sale?"
   ]
  },
  {
   "cell_type": "code",
   "execution_count": 2,
   "metadata": {},
   "outputs": [],
   "source": [
    "homes_df = pd.read_csv('HomesSoldHellerup.org.csv', sep=';')\n"
   ]
  },
  {
   "cell_type": "code",
   "execution_count": 3,
   "metadata": {},
   "outputs": [
    {
     "data": {
      "text/plain": [
       "Alm. Salg    1978\n",
       "Fam. Salg     109\n",
       "Andet          52\n",
       "Auktion        21\n",
       "Name: Type of Sale, dtype: int64"
      ]
     },
     "execution_count": 3,
     "metadata": {},
     "output_type": "execute_result"
    }
   ],
   "source": [
    "homes_df[ 'Type of Sale'].value_counts()"
   ]
  },
  {
   "cell_type": "code",
   "execution_count": 4,
   "metadata": {},
   "outputs": [
    {
     "data": {
      "text/plain": [
       "Lejlighed          1237\n",
       "Villa               742\n",
       "Rækkehus            174\n",
       "Stuehus               3\n",
       "Erhverv               2\n",
       "Døgninstitution       2\n",
       "Name: Type, dtype: int64"
      ]
     },
     "execution_count": 4,
     "metadata": {},
     "output_type": "execute_result"
    }
   ],
   "source": [
    "homes_df[ 'Type'].value_counts()"
   ]
  },
  {
   "cell_type": "code",
   "execution_count": 5,
   "metadata": {},
   "outputs": [
    {
     "data": {
      "text/html": [
       "<div>\n",
       "<style scoped>\n",
       "    .dataframe tbody tr th:only-of-type {\n",
       "        vertical-align: middle;\n",
       "    }\n",
       "\n",
       "    .dataframe tbody tr th {\n",
       "        vertical-align: top;\n",
       "    }\n",
       "\n",
       "    .dataframe thead th {\n",
       "        text-align: right;\n",
       "    }\n",
       "</style>\n",
       "<table border=\"1\" class=\"dataframe\">\n",
       "  <thead>\n",
       "    <tr style=\"text-align: right;\">\n",
       "      <th></th>\n",
       "      <th>Road name</th>\n",
       "      <th>Road Number</th>\n",
       "      <th>Type</th>\n",
       "      <th>m2</th>\n",
       "      <th>Build Year</th>\n",
       "      <th>ZipCode</th>\n",
       "      <th>City</th>\n",
       "      <th>Date of Sale</th>\n",
       "      <th>Type of Sale</th>\n",
       "      <th>Price</th>\n",
       "    </tr>\n",
       "  </thead>\n",
       "  <tbody>\n",
       "    <tr>\n",
       "      <th>0</th>\n",
       "      <td>Tuborgvej</td>\n",
       "      <td>54</td>\n",
       "      <td>Lejlighed</td>\n",
       "      <td>54</td>\n",
       "      <td>1932</td>\n",
       "      <td>2900</td>\n",
       "      <td>Hellerup</td>\n",
       "      <td>20-07-15</td>\n",
       "      <td>Alm. Salg</td>\n",
       "      <td>1700000</td>\n",
       "    </tr>\n",
       "    <tr>\n",
       "      <th>1</th>\n",
       "      <td>Tuborgvej</td>\n",
       "      <td>54</td>\n",
       "      <td>Lejlighed</td>\n",
       "      <td>87</td>\n",
       "      <td>1932</td>\n",
       "      <td>2900</td>\n",
       "      <td>Hellerup</td>\n",
       "      <td>12-05-15</td>\n",
       "      <td>Alm. Salg</td>\n",
       "      <td>2815000</td>\n",
       "    </tr>\n",
       "    <tr>\n",
       "      <th>2</th>\n",
       "      <td>Tuborgvej</td>\n",
       "      <td>54</td>\n",
       "      <td>Lejlighed</td>\n",
       "      <td>63</td>\n",
       "      <td>1932</td>\n",
       "      <td>2900</td>\n",
       "      <td>Hellerup</td>\n",
       "      <td>29-12-10</td>\n",
       "      <td>Alm. Salg</td>\n",
       "      <td>1575000</td>\n",
       "    </tr>\n",
       "    <tr>\n",
       "      <th>3</th>\n",
       "      <td>Tuborgvej</td>\n",
       "      <td>54</td>\n",
       "      <td>Lejlighed</td>\n",
       "      <td>54</td>\n",
       "      <td>1932</td>\n",
       "      <td>2900</td>\n",
       "      <td>Hellerup</td>\n",
       "      <td>10-04-12</td>\n",
       "      <td>Alm. Salg</td>\n",
       "      <td>1340000</td>\n",
       "    </tr>\n",
       "    <tr>\n",
       "      <th>4</th>\n",
       "      <td>Tuborgvej</td>\n",
       "      <td>54</td>\n",
       "      <td>Lejlighed</td>\n",
       "      <td>63</td>\n",
       "      <td>1932</td>\n",
       "      <td>2900</td>\n",
       "      <td>Hellerup</td>\n",
       "      <td>04-02-12</td>\n",
       "      <td>Alm. Salg</td>\n",
       "      <td>1435000</td>\n",
       "    </tr>\n",
       "  </tbody>\n",
       "</table>\n",
       "</div>"
      ],
      "text/plain": [
       "     Road name Road Number       Type  m2  Build Year  ZipCode      City  \\\n",
       "0  Tuborgvej            54  Lejlighed  54        1932     2900  Hellerup   \n",
       "1  Tuborgvej            54  Lejlighed  87        1932     2900  Hellerup   \n",
       "2  Tuborgvej            54  Lejlighed  63        1932     2900  Hellerup   \n",
       "3  Tuborgvej            54  Lejlighed  54        1932     2900  Hellerup   \n",
       "4  Tuborgvej            54  Lejlighed  63        1932     2900  Hellerup   \n",
       "\n",
       "  Date of Sale Type of Sale    Price  \n",
       "0     20-07-15    Alm. Salg  1700000  \n",
       "1     12-05-15    Alm. Salg  2815000  \n",
       "2     29-12-10    Alm. Salg  1575000  \n",
       "3     10-04-12    Alm. Salg  1340000  \n",
       "4     04-02-12    Alm. Salg  1435000  "
      ]
     },
     "execution_count": 5,
     "metadata": {},
     "output_type": "execute_result"
    }
   ],
   "source": [
    "homes_df.head()"
   ]
  },
  {
   "cell_type": "markdown",
   "metadata": {},
   "source": [
    "## Question 2\n",
    "Assign to X a dataframe with the single feature, m2, which is the size of the home in square meters. The target value y is Price. "
   ]
  },
  {
   "cell_type": "code",
   "execution_count": 6,
   "metadata": {},
   "outputs": [],
   "source": [
    "X = homes_df[['m2']]\n",
    "y = homes_df['Price']"
   ]
  },
  {
   "cell_type": "markdown",
   "metadata": {},
   "source": [
    "## Question 4\n",
    "Build a linear regression model to predict price, based on size of the home. Fit the model to X and y, and report the score."
   ]
  },
  {
   "cell_type": "code",
   "execution_count": 7,
   "metadata": {},
   "outputs": [
    {
     "name": "stdout",
     "output_type": "stream",
     "text": [
      "Score: 0.305\n"
     ]
    }
   ],
   "source": [
    "lr = LinearRegression()\n",
    "lr.fit(X,y)\n",
    "print(\"Score: {:.3f}\".format(lr.score(X, y)))"
   ]
  },
  {
   "cell_type": "markdown",
   "metadata": {},
   "source": [
    "## Question 5\n",
    "Add the feature 'Build Year' to X, and build a linear regression model and report the score."
   ]
  },
  {
   "cell_type": "code",
   "execution_count": 8,
   "metadata": {},
   "outputs": [
    {
     "name": "stdout",
     "output_type": "stream",
     "text": [
      "Score: 0.329\n"
     ]
    }
   ],
   "source": [
    "X = homes_df[['m2', 'Build Year']]\n",
    "\n",
    "lr = LinearRegression()\n",
    "lr.fit(X,y)\n",
    "print(\"Score: {:.3f}\".format(lr.score(X, y)))"
   ]
  },
  {
   "cell_type": "markdown",
   "metadata": {},
   "source": [
    "## Question 6\n",
    "Use get_dummies to add the additional features, 'Type of Sale', and 'Type'. You still want to include m2 and 'Build Year'. Note that get_dummies will only create dummy features for nominal values -- it will ignore numerical features like m2 and 'Build Year'. List the dummy features that were created for the feature 'Type'."
   ]
  },
  {
   "cell_type": "code",
   "execution_count": 9,
   "metadata": {},
   "outputs": [],
   "source": [
    "X = pd.get_dummies(homes_df[['m2','Build Year','Type of Sale', 'Type' ]])\n"
   ]
  },
  {
   "cell_type": "code",
   "execution_count": 10,
   "metadata": {},
   "outputs": [
    {
     "data": {
      "text/plain": [
       "Index(['m2', 'Build Year', 'Type of Sale_Alm. Salg', 'Type of Sale_Andet',\n",
       "       'Type of Sale_Auktion', 'Type of Sale_Fam. Salg',\n",
       "       'Type_Døgninstitution', 'Type_Erhverv', 'Type_Lejlighed',\n",
       "       'Type_Rækkehus', 'Type_Stuehus', 'Type_Villa'],\n",
       "      dtype='object')"
      ]
     },
     "execution_count": 10,
     "metadata": {},
     "output_type": "execute_result"
    }
   ],
   "source": [
    "X.columns"
   ]
  },
  {
   "cell_type": "markdown",
   "metadata": {},
   "source": [
    "'Type_Døgninstitution', 'Type_Erhverv', 'Type_Lejlighed',\n",
    "       'Type_Rækkehus', 'Type_Stuehus', 'Type_Villa'"
   ]
  },
  {
   "cell_type": "markdown",
   "metadata": {},
   "source": [
    "## Question 7\n",
    "Fit the Linear Regression model again, and report the score."
   ]
  },
  {
   "cell_type": "code",
   "execution_count": 11,
   "metadata": {},
   "outputs": [
    {
     "name": "stdout",
     "output_type": "stream",
     "text": [
      "Score: 0.363\n"
     ]
    }
   ],
   "source": [
    "lr = LinearRegression()\n",
    "lr.fit(X,y)\n",
    "print(\"Score: {:.3f}\".format(lr.score(X, y)))"
   ]
  },
  {
   "cell_type": "markdown",
   "metadata": {},
   "source": [
    "## Question 8\n",
    "Find out the effect of different features on the price. To do this access <b>coef_</b>, which is an attribute of any linear model. (See <a href=https://scikit-learn.org/stable/modules/generated/sklearn.linear_model.LinearRegression.html>doc on linear regression</a>, including definition of <b>coef_</b> and other attributes.) Print the value of <b>coef_</b>, which is a list of floats.\n"
   ]
  },
  {
   "cell_type": "code",
   "execution_count": 12,
   "metadata": {},
   "outputs": [
    {
     "name": "stdout",
     "output_type": "stream",
     "text": [
      "[   40959.89519333    18852.56505673  -496300.4103963   1791362.31936397\n",
      "  1621120.52395575 -2916182.43292341 -4648139.95096618 10697682.81861736\n",
      "    43977.96287313  -348335.82205067 -5235211.6656652   -509973.34280844]\n"
     ]
    }
   ],
   "source": [
    "coefs = lr.coef_\n",
    "print(coefs)"
   ]
  },
  {
   "cell_type": "markdown",
   "metadata": {},
   "source": [
    "## Question 9\n",
    "Now we need to connect the coefficients to the attribute names, which are given by <b>X.columns</b>. Use <b>zip</b> to produce a list of tuples, of the form <attribute_name, coefficient>.  Finally, use <b>sorted</b> to sort the tuples by coefficient value. \n",
    "\n",
    "<i>(Hint: with <b>sorted</b> you can use the optional argument <b>key</b> like this: <b>key = lambda e:e[1]</b>. This selects the second element of each tuple as the key to sort on.)</i>\n"
   ]
  },
  {
   "cell_type": "code",
   "execution_count": 13,
   "metadata": {},
   "outputs": [],
   "source": [
    "coefs = lr.coef_\n",
    "sorted_coefs = sorted ((zip(X.columns, coefs)),\n",
    "                key = lambda e:e[1], reverse=True)"
   ]
  },
  {
   "cell_type": "code",
   "execution_count": 14,
   "metadata": {},
   "outputs": [
    {
     "data": {
      "text/plain": [
       "[('Type_Erhverv', 10697682.818617364),\n",
       " ('Type of Sale_Andet', 1791362.3193639654),\n",
       " ('Type of Sale_Auktion', 1621120.523955755),\n",
       " ('Type_Lejlighed', 43977.96287313295),\n",
       " ('m2', 40959.89519333432),\n",
       " ('Build Year', 18852.565056728785),\n",
       " ('Type_Rækkehus', -348335.82205066684),\n",
       " ('Type of Sale_Alm. Salg', -496300.41039630433),\n",
       " ('Type_Villa', -509973.3428084418),\n",
       " ('Type of Sale_Fam. Salg', -2916182.4329234143),\n",
       " ('Type_Døgninstitution', -4648139.950966184),\n",
       " ('Type_Stuehus', -5235211.665665199)]"
      ]
     },
     "execution_count": 14,
     "metadata": {},
     "output_type": "execute_result"
    }
   ],
   "source": [
    "sorted_coefs"
   ]
  },
  {
   "cell_type": "markdown",
   "metadata": {},
   "source": [
    "## Question 10\n",
    "Try to find the best model you can -- try things like\n",
    "<ul>\n",
    "    <li>Add a year of sale feature. You have to extract that from the 'Date of Sale' feature.)</li>\n",
    "    <li>Add Road Name dummy values. To do this you should probably find the most frequent road names, and create an \"other\" value for all the infrequent ones.</li>\n",
    "    <li>Other features? Other model parameters? Other models? ideas?</li>\n",
    "    \n",
    "</ul>\n",
    "\n",
    "Report the best results you get, and explain why you got them.\n"
   ]
  },
  {
   "cell_type": "code",
   "execution_count": null,
   "metadata": {},
   "outputs": [],
   "source": []
  }
 ],
 "metadata": {
  "kernelspec": {
   "display_name": "Python 3",
   "language": "python",
   "name": "python3"
  },
  "language_info": {
   "codemirror_mode": {
    "name": "ipython",
    "version": 3
   },
   "file_extension": ".py",
   "mimetype": "text/x-python",
   "name": "python",
   "nbconvert_exporter": "python",
   "pygments_lexer": "ipython3",
   "version": "3.8.8"
  }
 },
 "nbformat": 4,
 "nbformat_minor": 4
}
