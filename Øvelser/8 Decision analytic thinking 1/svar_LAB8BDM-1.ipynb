{
 "cells": [
  {
   "cell_type": "markdown",
   "id": "2b3982f0",
   "metadata": {},
   "source": [
    "# Lab 08 Reinforcement Learning"
   ]
  },
  {
   "cell_type": "code",
   "execution_count": 4,
   "id": "ae5fb31b",
   "metadata": {
    "tags": []
   },
   "outputs": [],
   "source": [
    "import numpy as np\n",
    "import matplotlib.pyplot as plt"
   ]
  },
  {
   "cell_type": "markdown",
   "id": "e1096af6",
   "metadata": {},
   "source": [
    "First, we define a function that applies value function iteration. Just exectue the code below. Don't change it!"
   ]
  },
  {
   "cell_type": "code",
   "execution_count": 5,
   "id": "0c61a8cb",
   "metadata": {
    "tags": []
   },
   "outputs": [],
   "source": [
    "def vit(t_move,t_stay,reward,gamma):\n",
    "    '''\n",
    "    The function performs valuve function iteration. \n",
    "\n",
    "    Parameters\n",
    "    ----------\n",
    "    t_move : Transition probability matrix if agent decides to move -  2-d numpy array\n",
    "    t_stay : Transition probability matrix if agent decides to stay -  2-d numpy array\n",
    "    reward : Reward matrix for moving from one state to the next - 2-d numpy array\n",
    "    gamma : Discount factor - float >0 and <1 \n",
    "\n",
    "    Returns\n",
    "    -------\n",
    "    List with state values and optimal policy\n",
    "    \n",
    "    '''\n",
    "    v_0=np.zeros((5,5))\n",
    "    policy=[\"na\",\"na\",\"na\",\"na\",\"na\"]\n",
    "    c=100\n",
    "    ha=1\n",
    "    while c>0.0001:\n",
    "        v_c=np.copy(v_0)\n",
    "        if ha%10==0:\n",
    "            print(\"Iteration:\", ha)\n",
    "        \n",
    "        v_1_move=np.multiply(t_move,((reward+gamma*v_0))).sum(axis=1)\n",
    "        v_1_stay=np.multiply(t_stay,((reward+gamma*v_0))).sum(axis=1)\n",
    "        for i in range(0,5):\n",
    "            if v_1_move[i]>=v_1_stay[i]:\n",
    "                v_0[:,i]=v_1_move[i]\n",
    "                policy[i]=\"move\"\n",
    "            else:\n",
    "                v_0[:,i]=v_1_stay[i]\n",
    "                policy[i]=\"stay\"\n",
    "        c=np.absolute(v_c[0,:]-v_0[0,:]).sum()\n",
    "    \n",
    "    output=[v_0[0,:],policy]\n",
    "    \n",
    "    return output\n"
   ]
  },
  {
   "cell_type": "markdown",
   "id": "14c2c4f9",
   "metadata": {},
   "source": [
    "## Outline of the problem "
   ]
  },
  {
   "cell_type": "markdown",
   "id": "b320119f",
   "metadata": {},
   "source": [
    "Consider the following problem: We have an agent that wants to move from left to right. For this reason, the agent can choose \n",
    "between two actions, go (to the right) or stay. The agent starts in field A. If it chooses to go,\n",
    " it will deterministically (probability=100%) move to the next field. If it decides to stay, it will deterministically stay on the current field. The goal is to find a strategy that helps the agent move from left to right as fast as possible. \n",
    "    \n",
    " [A][B][C][D][E]\n",
    "  \n",
    "    \n",
    "    "
   ]
  },
  {
   "cell_type": "markdown",
   "id": "12e279dc",
   "metadata": {},
   "source": [
    "## Reward structure"
   ]
  },
  {
   "cell_type": "markdown",
   "id": "66bc8ff4",
   "metadata": {},
   "source": [
    "## Question 1"
   ]
  },
  {
   "cell_type": "markdown",
   "id": "6a10e72e",
   "metadata": {},
   "source": [
    "Let us now think about the reward structure:\n",
    "The agent will receive a reward of +1 only when it reaches the final state (state E). For all other transitions, the reward will be 0 (also if the agents remains in the final state). \n",
    "Please fill in the missing part in the reward matrix below. "
   ]
  },
  {
   "cell_type": "code",
   "execution_count": 6,
   "id": "4ee2f77f",
   "metadata": {
    "tags": []
   },
   "outputs": [],
   "source": [
    "r_0=np.array([0,0,0,0,1])\n",
    "r_1=np.array([0,0,0,0,0])\n",
    "reward=np.stack((r_0,r_0,r_0,r_0,r_1))"
   ]
  },
  {
   "cell_type": "code",
   "execution_count": 7,
   "id": "e9e1ce1e",
   "metadata": {},
   "outputs": [
    {
     "data": {
      "text/plain": [
       "array([[0, 0, 0, 0, 1],\n",
       "       [0, 0, 0, 0, 1],\n",
       "       [0, 0, 0, 0, 1],\n",
       "       [0, 0, 0, 0, 1],\n",
       "       [0, 0, 0, 0, 0]])"
      ]
     },
     "execution_count": 7,
     "metadata": {},
     "output_type": "execute_result"
    }
   ],
   "source": [
    "reward"
   ]
  },
  {
   "cell_type": "markdown",
   "id": "2b157370",
   "metadata": {},
   "source": [
    "## Transition matrix"
   ]
  },
  {
   "cell_type": "markdown",
   "id": "9e7f4adf",
   "metadata": {},
   "source": [
    "## Question 2 "
   ]
  },
  {
   "cell_type": "markdown",
   "id": "6d149483",
   "metadata": {},
   "source": [
    "Next, we will think about the transition probabilities, i.e. we have to find the transition matrices for the two actions \"move\" and \"stay\". Please fill out the code below."
   ]
  },
  {
   "cell_type": "code",
   "execution_count": 8,
   "id": "7ee6163f",
   "metadata": {},
   "outputs": [],
   "source": [
    "t_m_0=([0,1,0,0,0])\n",
    "t_m_1=([0,0,1,0,0])\n",
    "t_m_2=([0,0,0,1,0])\n",
    "t_m_3=([0,0,0,0,1])\n",
    "t_m_4=([0,0,0,0,0])\n",
    "t_move=np.stack((t_m_0,t_m_1,t_m_2,t_m_3,t_m_4))"
   ]
  },
  {
   "cell_type": "code",
   "execution_count": 9,
   "id": "c72b17d8",
   "metadata": {
    "tags": []
   },
   "outputs": [],
   "source": [
    "t_s_0=([1,0,0,0,0])\n",
    "t_s_1=([0,1,0,0,0])\n",
    "t_s_2=([0,1,0,0,0])\n",
    "t_s_3=([0,0,1,0,0])\n",
    "t_s_4=([0,0,0,1,0])\n",
    "t_stay=np.stack((t_s_0,t_s_1,t_s_2,t_s_3,t_s_4))"
   ]
  },
  {
   "cell_type": "code",
   "execution_count": 10,
   "id": "de18ef2f",
   "metadata": {},
   "outputs": [
    {
     "data": {
      "text/plain": [
       "array([[0, 1, 0, 0, 0],\n",
       "       [0, 0, 1, 0, 0],\n",
       "       [0, 0, 0, 1, 0],\n",
       "       [0, 0, 0, 0, 1],\n",
       "       [0, 0, 0, 0, 0]])"
      ]
     },
     "execution_count": 10,
     "metadata": {},
     "output_type": "execute_result"
    }
   ],
   "source": [
    "t_move"
   ]
  },
  {
   "cell_type": "code",
   "execution_count": 11,
   "id": "b7892b34",
   "metadata": {},
   "outputs": [
    {
     "data": {
      "text/plain": [
       "array([[1, 0, 0, 0, 0],\n",
       "       [0, 1, 0, 0, 0],\n",
       "       [0, 1, 0, 0, 0],\n",
       "       [0, 0, 1, 0, 0],\n",
       "       [0, 0, 0, 1, 0]])"
      ]
     },
     "execution_count": 11,
     "metadata": {},
     "output_type": "execute_result"
    }
   ],
   "source": [
    "t_stay"
   ]
  },
  {
   "cell_type": "markdown",
   "id": "1e587fb2",
   "metadata": {},
   "source": [
    "##  Setting a value for gamma"
   ]
  },
  {
   "cell_type": "markdown",
   "id": "ea87d7e4",
   "metadata": {},
   "source": [
    "## Question 3"
   ]
  },
  {
   "cell_type": "markdown",
   "id": "7e6a335c",
   "metadata": {},
   "source": [
    "Finally, we have to decide which discount factor we want to use. You can use every value between 0 and 1."
   ]
  },
  {
   "cell_type": "code",
   "execution_count": 12,
   "id": "0f761cef",
   "metadata": {
    "tags": []
   },
   "outputs": [],
   "source": [
    "gamma=0.7"
   ]
  },
  {
   "cell_type": "markdown",
   "id": "93e95478",
   "metadata": {},
   "source": [
    "## Compute the value function and the optimal policy"
   ]
  },
  {
   "cell_type": "markdown",
   "id": "301d6635",
   "metadata": {},
   "source": [
    "## Question 4 "
   ]
  },
  {
   "cell_type": "markdown",
   "id": "ba576378",
   "metadata": {},
   "source": [
    "Now we are ready to start the value function iteration and to compute the optimal policy. Call the function vit and store the result."
   ]
  },
  {
   "cell_type": "code",
   "execution_count": 13,
   "id": "17a12c2e",
   "metadata": {
    "tags": []
   },
   "outputs": [],
   "source": [
    "res=vit(t_move,t_stay,reward,gamma)"
   ]
  },
  {
   "cell_type": "markdown",
   "id": "18a27e2a",
   "metadata": {},
   "source": [
    "Have a look at the results. What are they telling you?"
   ]
  },
  {
   "cell_type": "code",
   "execution_count": 14,
   "id": "10996f15",
   "metadata": {},
   "outputs": [
    {
     "data": {
      "text/plain": [
       "array([0.67248588, 0.96074012, 1.37248588, 1.96074012, 1.37248588])"
      ]
     },
     "execution_count": 14,
     "metadata": {},
     "output_type": "execute_result"
    }
   ],
   "source": [
    "res[0]"
   ]
  },
  {
   "cell_type": "code",
   "execution_count": 15,
   "id": "a85923b6",
   "metadata": {},
   "outputs": [
    {
     "data": {
      "text/plain": [
       "['move', 'move', 'move', 'move', 'stay']"
      ]
     },
     "execution_count": 15,
     "metadata": {},
     "output_type": "execute_result"
    }
   ],
   "source": [
    "res[1]"
   ]
  },
  {
   "cell_type": "markdown",
   "id": "164646ef",
   "metadata": {},
   "source": [
    "Plot the optimal policy. Does this make sense to you?"
   ]
  },
  {
   "cell_type": "code",
   "execution_count": 16,
   "id": "0f581aef",
   "metadata": {},
   "outputs": [
    {
     "data": {
      "text/plain": [
       "[<matplotlib.lines.Line2D at 0x7fdfb008df70>]"
      ]
     },
     "execution_count": 16,
     "metadata": {},
     "output_type": "execute_result"
    },
    {
     "data": {
      "image/png": "[encoded data removed]",
      "text/plain": [
       "<Figure size 432x288 with 1 Axes>"
      ]
     },
     "metadata": {
      "needs_background": "light"
     },
     "output_type": "display_data"
    }
   ],
   "source": [
    "plt.plot([\"A\",\"B\",\"C\",\"D\",\"E\"],res[0])\n",
    "\n",
    "# Se simones eller lasses, du har ikke downloaded matplotlib så se deres resultat"
   ]
  },
  {
   "cell_type": "markdown",
   "id": "0844ec1b",
   "metadata": {},
   "source": [
    "## Question 5 "
   ]
  },
  {
   "cell_type": "markdown",
   "id": "26eb8aea",
   "metadata": {},
   "source": [
    "How does the results change if we change gamma? Try different values for gamma.\n",
    "Loop over different values of gamma and store the output of the value function in a list. The result should be a nested list."
   ]
  },
  {
   "cell_type": "code",
   "execution_count": 17,
   "id": "ec3c3988",
   "metadata": {},
   "outputs": [],
   "source": [
    "v_vals=[]\n",
    "\n",
    "for i in [0.1,0.2,0.3,0.4,0.5,0.6,0.7,0.8,0.9]:\n",
    "    v_vals.append((vit(t_move,t_stay,reward,i)[0]))"
   ]
  },
  {
   "cell_type": "code",
   "execution_count": 18,
   "id": "b9da446b",
   "metadata": {},
   "outputs": [
    {
     "data": {
      "text/plain": [
       "[array([1.0100e-03, 1.0100e-02, 1.0101e-01, 1.0101e+00, 1.0101e-01]),\n",
       " array([0.0083328, 0.041664 , 0.2083328, 1.041664 , 0.2083328]),\n",
       " array([0.02966838, 0.09889461, 0.32966838, 1.09889461, 0.32966838]),\n",
       " array([0.07618249, 0.19047299, 0.47618249, 1.19047299, 0.47618249]),\n",
       " array([0.16665649, 0.33331299, 0.66665649, 1.33331299, 0.66665649]),\n",
       " array([0.33746572, 0.56247943, 0.93746572, 1.56247943, 0.93746572]),\n",
       " array([0.67248588, 0.96074012, 1.37248588, 1.96074012, 1.37248588]),\n",
       " array([1.42214479, 1.77771583, 2.22214479, 2.77771583, 2.22214479]),\n",
       " array([3.83660536, 4.26294482, 4.73660536, 5.26294482, 4.73660536])]"
      ]
     },
     "execution_count": 18,
     "metadata": {},
     "output_type": "execute_result"
    }
   ],
   "source": [
    "v_vals"
   ]
  },
  {
   "cell_type": "code",
   "execution_count": 19,
   "id": "253af1e8",
   "metadata": {},
   "outputs": [
    {
     "data": {
      "text/plain": [
       "[['move', 'move', 'move', 'move', 'stay'],\n",
       " ['move', 'move', 'move', 'move', 'stay'],\n",
       " ['move', 'move', 'move', 'move', 'stay'],\n",
       " ['move', 'move', 'move', 'move', 'stay'],\n",
       " ['move', 'move', 'move', 'move', 'stay'],\n",
       " ['move', 'move', 'move', 'move', 'stay'],\n",
       " ['move', 'move', 'move', 'move', 'stay'],\n",
       " ['move', 'move', 'move', 'move', 'stay'],\n",
       " ['move', 'move', 'move', 'move', 'stay']]"
      ]
     },
     "execution_count": 19,
     "metadata": {},
     "output_type": "execute_result"
    }
   ],
   "source": [
    "v_vals=[]\n",
    "\n",
    "for i in [0.1,0.2,0.3,0.4,0.5,0.6,0.7,0.8,0.9]:\n",
    "    v_vals.append((vit(t_move,t_stay,reward,i)[1]))\n",
    "    \n",
    "v_vals"
   ]
  },
  {
   "cell_type": "markdown",
   "id": "ecfb51d6",
   "metadata": {},
   "source": [
    "## Question 6"
   ]
  },
  {
   "cell_type": "markdown",
   "id": "6c4fbaf7",
   "metadata": {},
   "source": [
    "Now we extend our state space. Instead of moving from point A to point E, the agent should now move from A to J (=there are 10 different states).\n",
    "Look at the function vit and change it accordingly.\n",
    "\n",
    " [A][B][C][D][E][F][G][H][I][J]"
   ]
  },
  {
   "cell_type": "code",
   "execution_count": 20,
   "id": "117bc670",
   "metadata": {},
   "outputs": [],
   "source": [
    "def vit_1(t_move,t_stay,t_back,reward,gamma):\n",
    "    '''\n",
    "    The function performs valuve function iteration. \n",
    "\n",
    "    Parameters\n",
    "    ----------\n",
    "    t_move : Transition probability matrix if agent decides to move -  2-d numpy array\n",
    "    t_stay : Transition probability matrix if agent decides to stay -  2-d numpy array\n",
    "    reward : Reward matrix for moving from one state to the next - 2-d numpy array\n",
    "    gamma : Discount factor - float >0 and <1 \n",
    "\n",
    "    Returns\n",
    "    -------\n",
    "    List with state values and optimal policy\n",
    "    \n",
    "    '''\n",
    "    v_0=np.zeros((10,10))\n",
    "    policy=[\"na\",\"na\",\"na\",\"na\",\"na\",\"na\",\"na\",\"na\",\"na\",\"na\"]\n",
    "    c=100\n",
    "    ha=1\n",
    "    while c>0.0001:\n",
    "        v_c=np.copy(v_0)\n",
    "        if ha%10==0:\n",
    "            print(\"Iteration:\", ha)\n",
    "        \n",
    "        v_1_move=np.multiply(t_move,((reward+gamma*v_0))).sum(axis=1)\n",
    "        v_1_stay=np.multiply(t_stay,((reward+gamma*v_0))).sum(axis=1)\n",
    "        v_1_back=np.multiply(t_back,((reward+gamma*v_0))).sum(axis=1)\n",
    "\n",
    "        for i in range(0,10):\n",
    "            if v_1_move[i]>=v_1_stay[i] and v_1_move[i]>=v_1_back[i]:\n",
    "                v_0[:,i]=v_1_move[i]\n",
    "                policy[i]=\"move\"\n",
    "            elif v_1_back[i]>=v_1_stay[i]:\n",
    "                v_0[:,i]=v_1_back[i]\n",
    "                policy[i]=\"back\"\n",
    "            else:\n",
    "                v_0[:,i]=v_1_stay[i]\n",
    "                policy[i]=\"stay\"\n",
    "        c=np.absolute(v_c[0,:]-v_0[0,:]).sum()\n",
    "    \n",
    "    output=[v_0[0,:],policy]\n",
    "    \n",
    "    return output"
   ]
  },
  {
   "cell_type": "markdown",
   "id": "424fd49c",
   "metadata": {},
   "source": [
    "## Question 7"
   ]
  },
  {
   "cell_type": "markdown",
   "id": "94d8802c",
   "metadata": {},
   "source": [
    "Unfortunately, we also have to change our reward structure. Please change it according to the new state space."
   ]
  },
  {
   "cell_type": "code",
   "execution_count": 21,
   "id": "8c6e0e40",
   "metadata": {},
   "outputs": [],
   "source": [
    "r_0=np.array([0,0,0,0,0,0,0,0,0,1])\n",
    "r_1=np.array([0,0,0,0,0,0,0,0,0,0])\n",
    "reward=np.stack((r_0,r_0,r_0,r_0,r_0,r_0,r_0,r_0,r_0,r_1))"
   ]
  },
  {
   "cell_type": "code",
   "execution_count": 22,
   "id": "5ca338c5",
   "metadata": {},
   "outputs": [
    {
     "data": {
      "text/plain": [
       "array([[0, 0, 0, 0, 0, 0, 0, 0, 0, 1],\n",
       "       [0, 0, 0, 0, 0, 0, 0, 0, 0, 1],\n",
       "       [0, 0, 0, 0, 0, 0, 0, 0, 0, 1],\n",
       "       [0, 0, 0, 0, 0, 0, 0, 0, 0, 1],\n",
       "       [0, 0, 0, 0, 0, 0, 0, 0, 0, 1],\n",
       "       [0, 0, 0, 0, 0, 0, 0, 0, 0, 1],\n",
       "       [0, 0, 0, 0, 0, 0, 0, 0, 0, 1],\n",
       "       [0, 0, 0, 0, 0, 0, 0, 0, 0, 1],\n",
       "       [0, 0, 0, 0, 0, 0, 0, 0, 0, 1],\n",
       "       [0, 0, 0, 0, 0, 0, 0, 0, 0, 0]])"
      ]
     },
     "execution_count": 22,
     "metadata": {},
     "output_type": "execute_result"
    }
   ],
   "source": [
    "reward"
   ]
  },
  {
   "cell_type": "markdown",
   "id": "157a0242",
   "metadata": {},
   "source": [
    "## Question 8"
   ]
  },
  {
   "cell_type": "markdown",
   "id": "69f5b590",
   "metadata": {},
   "source": [
    "Please also modify the transition probabilities."
   ]
  },
  {
   "cell_type": "code",
   "execution_count": 23,
   "id": "92cf3140",
   "metadata": {
    "tags": []
   },
   "outputs": [],
   "source": [
    "t_m_0=np.array([0,1,0,0,0,0,0,0,0,0])\n",
    "t_m_1=np.array([0,0,1,0,0,0,0,0,0,0])\n",
    "t_m_2=np.array([0,0,0,1,0,0,0,0,0,0])\n",
    "t_m_3=np.array([0,0,0,0,1,0,0,0,0,0])\n",
    "t_m_4=np.array([0,0,0,0,0,1,0,0,0,0])\n",
    "t_m_5=np.array([0,0,0,0,0,0,1,0,0,0])\n",
    "t_m_6=np.array([0,0,0,0,0,0,0,1,0,0])\n",
    "t_m_7=np.array([0,0,0,0,0,0,0,0,1,0])\n",
    "t_m_8=np.array([0,0,0,0,0,0,0,0,0,1])\n",
    "t_m_9=np.array([0,0,0,0,0,0,0,0,0,0])\n",
    "\n",
    "t_move=np.stack((t_m_0,t_m_1,t_m_2,t_m_3,t_m_4,t_m_5,t_m_6,t_m_7,t_m_8,t_m_9))\n",
    "\n",
    "\n",
    "t_s_0=np.array([1,0,0,0,0,0,0,0,0,0])\n",
    "t_s_1=np.array([0,1,0,0,0,0,0,0,0,0])\n",
    "t_s_2=np.array([0,0,1,0,0,0,0,0,0,0])\n",
    "t_s_3=np.array([0,0,0,1,0,0,0,0,0,0])\n",
    "t_s_4=np.array([0,0,0,0,1,0,0,0,0,0])\n",
    "t_s_5=np.array([0,0,0,0,0,1,0,0,0,0])\n",
    "t_s_6=np.array([0,0,0,0,0,0,1,0,0,0])\n",
    "t_s_7=np.array([0,0,0,0,0,0,0,1,0,0])\n",
    "t_s_8=np.array([0,0,0,0,0,0,0,0,1,0])\n",
    "t_s_9=np.array([0,0,0,0,0,0,0,0,0,1])\n",
    "\n",
    "t_stay=np.stack((t_s_0,t_s_1,t_s_2,t_s_3,t_s_4,t_s_5,t_s_6,t_s_7,t_s_8,t_s_9))\n",
    "\n",
    "t_b_0=np.array([0,0,0,0,0,0,0,0,0,0])\n",
    "t_b_1=np.array([1,0,0,0,0,0,0,0,0,0])\n",
    "t_b_2=np.array([0,1,0,0,0,0,0,0,0,0])\n",
    "t_b_3=np.array([0,0,1,0,0,0,0,0,0,0])\n",
    "t_b_4=np.array([0,0,0,1,0,0,0,0,0,0])\n",
    "t_b_5=np.array([0,0,0,0,1,0,0,0,0,0])\n",
    "t_b_6=np.array([0,0,0,0,0,1,0,0,0,0])\n",
    "t_b_7=np.array([0,0,0,0,0,0,1,0,0,0])\n",
    "t_b_8=np.array([0,0,0,0,0,0,0,1,0,0])\n",
    "t_b_9=np.array([0,0,0,0,0,0,0,0,1,0])\n",
    "\n",
    "t_back=np.stack((t_b_0,t_b_1,t_b_2,t_b_3,t_b_4,t_b_5,t_b_6,t_b_7,t_b_8,t_b_9))"
   ]
  },
  {
   "cell_type": "code",
   "execution_count": 24,
   "id": "2b9f2983",
   "metadata": {},
   "outputs": [
    {
     "data": {
      "text/plain": [
       "array([[1, 0, 0, 0, 0, 0, 0, 0, 0, 0],\n",
       "       [0, 1, 0, 0, 0, 0, 0, 0, 0, 0],\n",
       "       [0, 0, 1, 0, 0, 0, 0, 0, 0, 0],\n",
       "       [0, 0, 0, 1, 0, 0, 0, 0, 0, 0],\n",
       "       [0, 0, 0, 0, 1, 0, 0, 0, 0, 0],\n",
       "       [0, 0, 0, 0, 0, 1, 0, 0, 0, 0],\n",
       "       [0, 0, 0, 0, 0, 0, 1, 0, 0, 0],\n",
       "       [0, 0, 0, 0, 0, 0, 0, 1, 0, 0],\n",
       "       [0, 0, 0, 0, 0, 0, 0, 0, 1, 0],\n",
       "       [0, 0, 0, 0, 0, 0, 0, 0, 0, 1]])"
      ]
     },
     "execution_count": 24,
     "metadata": {},
     "output_type": "execute_result"
    }
   ],
   "source": [
    "t_stay"
   ]
  },
  {
   "cell_type": "code",
   "execution_count": 25,
   "id": "f1623a65",
   "metadata": {},
   "outputs": [
    {
     "data": {
      "text/plain": [
       "array([[0, 1, 0, 0, 0, 0, 0, 0, 0, 0],\n",
       "       [0, 0, 1, 0, 0, 0, 0, 0, 0, 0],\n",
       "       [0, 0, 0, 1, 0, 0, 0, 0, 0, 0],\n",
       "       [0, 0, 0, 0, 1, 0, 0, 0, 0, 0],\n",
       "       [0, 0, 0, 0, 0, 1, 0, 0, 0, 0],\n",
       "       [0, 0, 0, 0, 0, 0, 1, 0, 0, 0],\n",
       "       [0, 0, 0, 0, 0, 0, 0, 1, 0, 0],\n",
       "       [0, 0, 0, 0, 0, 0, 0, 0, 1, 0],\n",
       "       [0, 0, 0, 0, 0, 0, 0, 0, 0, 1],\n",
       "       [0, 0, 0, 0, 0, 0, 0, 0, 0, 0]])"
      ]
     },
     "execution_count": 25,
     "metadata": {},
     "output_type": "execute_result"
    }
   ],
   "source": [
    "t_move"
   ]
  },
  {
   "cell_type": "code",
   "execution_count": 26,
   "id": "381d9057",
   "metadata": {},
   "outputs": [
    {
     "data": {
      "text/plain": [
       "array([[0, 0, 0, 0, 0, 0, 0, 0, 0, 0],\n",
       "       [1, 0, 0, 0, 0, 0, 0, 0, 0, 0],\n",
       "       [0, 1, 0, 0, 0, 0, 0, 0, 0, 0],\n",
       "       [0, 0, 1, 0, 0, 0, 0, 0, 0, 0],\n",
       "       [0, 0, 0, 1, 0, 0, 0, 0, 0, 0],\n",
       "       [0, 0, 0, 0, 1, 0, 0, 0, 0, 0],\n",
       "       [0, 0, 0, 0, 0, 1, 0, 0, 0, 0],\n",
       "       [0, 0, 0, 0, 0, 0, 1, 0, 0, 0],\n",
       "       [0, 0, 0, 0, 0, 0, 0, 1, 0, 0],\n",
       "       [0, 0, 0, 0, 0, 0, 0, 0, 1, 0]])"
      ]
     },
     "execution_count": 26,
     "metadata": {},
     "output_type": "execute_result"
    }
   ],
   "source": [
    "t_back"
   ]
  },
  {
   "cell_type": "markdown",
   "id": "e7896a2e",
   "metadata": {},
   "source": [
    "## Question 9"
   ]
  },
  {
   "cell_type": "markdown",
   "id": "41514e73",
   "metadata": {},
   "source": [
    "Compute the optimal policy. Call the function vit_1 using the new reward and transition matrices and store the result."
   ]
  },
  {
   "cell_type": "code",
   "execution_count": 27,
   "id": "dca0a789",
   "metadata": {},
   "outputs": [],
   "source": [
    "res_1=vit_1(t_move,t_stay,t_back,reward,gamma)"
   ]
  },
  {
   "cell_type": "code",
   "execution_count": 28,
   "id": "7a67f4f7",
   "metadata": {},
   "outputs": [
    {
     "data": {
      "text/plain": [
       "array([0.11301366, 0.16146386, 0.23066266, 0.32953386, 0.47076266,\n",
       "       0.67253386, 0.96076266, 1.37253386, 1.96076266, 1.37253386])"
      ]
     },
     "execution_count": 28,
     "metadata": {},
     "output_type": "execute_result"
    }
   ],
   "source": [
    "res_1[0]"
   ]
  },
  {
   "cell_type": "code",
   "execution_count": 29,
   "id": "a6de8c13",
   "metadata": {},
   "outputs": [
    {
     "data": {
      "text/plain": [
       "['move',\n",
       " 'move',\n",
       " 'move',\n",
       " 'move',\n",
       " 'move',\n",
       " 'move',\n",
       " 'move',\n",
       " 'move',\n",
       " 'move',\n",
       " 'back']"
      ]
     },
     "execution_count": 29,
     "metadata": {},
     "output_type": "execute_result"
    }
   ],
   "source": [
    "res_1[1]"
   ]
  },
  {
   "cell_type": "markdown",
   "id": "2fc67a0b",
   "metadata": {},
   "source": [
    "## Question 10\n"
   ]
  },
  {
   "cell_type": "markdown",
   "id": "b89df491",
   "metadata": {},
   "source": [
    "Can you think about a more complicated problem? For instance, you could allow the agent to move back; change the reward structure; or change the state space. Try it out!"
   ]
  },
  {
   "cell_type": "code",
   "execution_count": null,
   "id": "e7059149",
   "metadata": {
    "collapsed": true,
    "jupyter": {
     "outputs_hidden": true
    }
   },
   "outputs": [],
   "source": []
  },
  {
   "cell_type": "code",
   "execution_count": null,
   "id": "f59bf050-287a-4ae7-b9ac-a7a1a5d88227",
   "metadata": {},
   "outputs": [],
   "source": []
  },
  {
   "cell_type": "code",
   "execution_count": null,
   "id": "bd7036c2-0da0-4d58-9d4c-089220dc13e1",
   "metadata": {},
   "outputs": [],
   "source": []
  },
  {
   "cell_type": "code",
   "execution_count": null,
   "id": "cfc104fd-c4c7-4e4e-84fc-c6ba0fc12f1b",
   "metadata": {},
   "outputs": [],
   "source": []
  }
 ],
 "metadata": {
  "kernelspec": {
   "display_name": "Python 3",
   "language": "python",
   "name": "python3"
  },
  "language_info": {
   "codemirror_mode": {
    "name": "ipython",
    "version": 3
   },
   "file_extension": ".py",
   "mimetype": "text/x-python",
   "name": "python",
   "nbconvert_exporter": "python",
   "pygments_lexer": "ipython3",
   "version": "3.8.8"
  }
 },
 "nbformat": 4,
 "nbformat_minor": 5
}
