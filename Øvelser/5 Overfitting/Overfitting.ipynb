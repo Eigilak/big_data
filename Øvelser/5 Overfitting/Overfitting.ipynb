{
 "cells": [
  {
   "cell_type": "markdown",
   "metadata": {},
   "source": [
    "<title>Regression Models</title>"
   ]
  },
  {
   "cell_type": "markdown",
   "metadata": {},
   "source": [
    "<title>Regression Models</title>\n"
   ]
  },
  {
   "cell_type": "markdown",
   "metadata": {},
   "source": [
    "<h1>Regression Models</h1>"
   ]
  },
  {
   "cell_type": "code",
   "execution_count": 2,
   "metadata": {},
   "outputs": [],
   "source": [
    "import pandas as pd\n",
    "import numpy as np\n",
    "\n",
    "from sklearn.model_selection import train_test_split\n",
    "\n",
    "from sklearn.linear_model import LinearRegression\n",
    "from sklearn.tree import DecisionTreeRegressor\n",
    "from sklearn.neighbors import KNeighborsRegressor\n",
    "from sklearn.ensemble import  RandomForestRegressor\n"
   ]
  },
  {
   "cell_type": "markdown",
   "metadata": {},
   "source": [
    "In Lab 4 you built several regression models for the HomesSoldHellerup dataset.\n",
    "We continue with that data here. Begin by reading the HomesSoldHellerup.csv file, using pd.read_csv."
   ]
  },
  {
   "cell_type": "code",
   "execution_count": 35,
   "metadata": {},
   "outputs": [],
   "source": [
    "homes_df = pd.read_csv('HomesSoldHellerup.csv', sep=';')"
   ]
  },
  {
   "cell_type": "code",
   "execution_count": 36,
   "metadata": {},
   "outputs": [
    {
     "data": {
      "text/html": [
       "<div>\n",
       "<style scoped>\n",
       "    .dataframe tbody tr th:only-of-type {\n",
       "        vertical-align: middle;\n",
       "    }\n",
       "\n",
       "    .dataframe tbody tr th {\n",
       "        vertical-align: top;\n",
       "    }\n",
       "\n",
       "    .dataframe thead th {\n",
       "        text-align: right;\n",
       "    }\n",
       "</style>\n",
       "<table border=\"1\" class=\"dataframe\">\n",
       "  <thead>\n",
       "    <tr style=\"text-align: right;\">\n",
       "      <th></th>\n",
       "      <th>Road name</th>\n",
       "      <th>Road Number</th>\n",
       "      <th>Type</th>\n",
       "      <th>m2</th>\n",
       "      <th>Build Year</th>\n",
       "      <th>ZipCode</th>\n",
       "      <th>City</th>\n",
       "      <th>Date of Sale</th>\n",
       "      <th>Type of Sale</th>\n",
       "      <th>Price</th>\n",
       "    </tr>\n",
       "  </thead>\n",
       "  <tbody>\n",
       "    <tr>\n",
       "      <th>0</th>\n",
       "      <td>Tuborgvej</td>\n",
       "      <td>54</td>\n",
       "      <td>Lejlighed</td>\n",
       "      <td>54</td>\n",
       "      <td>1932</td>\n",
       "      <td>2900</td>\n",
       "      <td>Hellerup</td>\n",
       "      <td>20-07-15</td>\n",
       "      <td>Alm. Salg</td>\n",
       "      <td>1700000</td>\n",
       "    </tr>\n",
       "    <tr>\n",
       "      <th>1</th>\n",
       "      <td>Tuborgvej</td>\n",
       "      <td>54</td>\n",
       "      <td>Lejlighed</td>\n",
       "      <td>87</td>\n",
       "      <td>1932</td>\n",
       "      <td>2900</td>\n",
       "      <td>Hellerup</td>\n",
       "      <td>12-05-15</td>\n",
       "      <td>Alm. Salg</td>\n",
       "      <td>2815000</td>\n",
       "    </tr>\n",
       "    <tr>\n",
       "      <th>2</th>\n",
       "      <td>Tuborgvej</td>\n",
       "      <td>54</td>\n",
       "      <td>Lejlighed</td>\n",
       "      <td>63</td>\n",
       "      <td>1932</td>\n",
       "      <td>2900</td>\n",
       "      <td>Hellerup</td>\n",
       "      <td>29-12-10</td>\n",
       "      <td>Alm. Salg</td>\n",
       "      <td>1575000</td>\n",
       "    </tr>\n",
       "    <tr>\n",
       "      <th>3</th>\n",
       "      <td>Tuborgvej</td>\n",
       "      <td>54</td>\n",
       "      <td>Lejlighed</td>\n",
       "      <td>54</td>\n",
       "      <td>1932</td>\n",
       "      <td>2900</td>\n",
       "      <td>Hellerup</td>\n",
       "      <td>10-04-12</td>\n",
       "      <td>Alm. Salg</td>\n",
       "      <td>1340000</td>\n",
       "    </tr>\n",
       "    <tr>\n",
       "      <th>4</th>\n",
       "      <td>Tuborgvej</td>\n",
       "      <td>54</td>\n",
       "      <td>Lejlighed</td>\n",
       "      <td>63</td>\n",
       "      <td>1932</td>\n",
       "      <td>2900</td>\n",
       "      <td>Hellerup</td>\n",
       "      <td>04-02-12</td>\n",
       "      <td>Alm. Salg</td>\n",
       "      <td>1435000</td>\n",
       "    </tr>\n",
       "    <tr>\n",
       "      <th>...</th>\n",
       "      <td>...</td>\n",
       "      <td>...</td>\n",
       "      <td>...</td>\n",
       "      <td>...</td>\n",
       "      <td>...</td>\n",
       "      <td>...</td>\n",
       "      <td>...</td>\n",
       "      <td>...</td>\n",
       "      <td>...</td>\n",
       "      <td>...</td>\n",
       "    </tr>\n",
       "    <tr>\n",
       "      <th>2155</th>\n",
       "      <td>Wiehesvej</td>\n",
       "      <td>13</td>\n",
       "      <td>Villa</td>\n",
       "      <td>163</td>\n",
       "      <td>1900</td>\n",
       "      <td>2900</td>\n",
       "      <td>Hellerup</td>\n",
       "      <td>22-06-15</td>\n",
       "      <td>Alm. Salg</td>\n",
       "      <td>8700000</td>\n",
       "    </tr>\n",
       "    <tr>\n",
       "      <th>2156</th>\n",
       "      <td>Wiehesvej</td>\n",
       "      <td>10</td>\n",
       "      <td>Villa</td>\n",
       "      <td>128</td>\n",
       "      <td>1915</td>\n",
       "      <td>2900</td>\n",
       "      <td>Hellerup</td>\n",
       "      <td>10-06-10</td>\n",
       "      <td>Alm. Salg</td>\n",
       "      <td>9100000</td>\n",
       "    </tr>\n",
       "    <tr>\n",
       "      <th>2157</th>\n",
       "      <td>Vinrankevej</td>\n",
       "      <td>9</td>\n",
       "      <td>Villa</td>\n",
       "      <td>182</td>\n",
       "      <td>1963</td>\n",
       "      <td>2900</td>\n",
       "      <td>Hellerup</td>\n",
       "      <td>17-09-13</td>\n",
       "      <td>Alm. Salg</td>\n",
       "      <td>7000000</td>\n",
       "    </tr>\n",
       "    <tr>\n",
       "      <th>2158</th>\n",
       "      <td>Vinrankevej</td>\n",
       "      <td>5</td>\n",
       "      <td>Villa</td>\n",
       "      <td>202</td>\n",
       "      <td>2007</td>\n",
       "      <td>2900</td>\n",
       "      <td>Hellerup</td>\n",
       "      <td>29-08-12</td>\n",
       "      <td>Alm. Salg</td>\n",
       "      <td>13500000</td>\n",
       "    </tr>\n",
       "    <tr>\n",
       "      <th>2159</th>\n",
       "      <td>Vinrankevej</td>\n",
       "      <td>3</td>\n",
       "      <td>Villa</td>\n",
       "      <td>202</td>\n",
       "      <td>2011</td>\n",
       "      <td>2900</td>\n",
       "      <td>Hellerup</td>\n",
       "      <td>09-07-10</td>\n",
       "      <td>Alm. Salg</td>\n",
       "      <td>4000000</td>\n",
       "    </tr>\n",
       "  </tbody>\n",
       "</table>\n",
       "<p>2160 rows × 10 columns</p>\n",
       "</div>"
      ],
      "text/plain": [
       "          Road name Road Number       Type   m2  Build Year  ZipCode  \\\n",
       "0       Tuborgvej            54  Lejlighed   54        1932     2900   \n",
       "1       Tuborgvej            54  Lejlighed   87        1932     2900   \n",
       "2       Tuborgvej            54  Lejlighed   63        1932     2900   \n",
       "3       Tuborgvej            54  Lejlighed   54        1932     2900   \n",
       "4       Tuborgvej            54  Lejlighed   63        1932     2900   \n",
       "...             ...         ...        ...  ...         ...      ...   \n",
       "2155    Wiehesvej            13      Villa  163        1900     2900   \n",
       "2156    Wiehesvej            10      Villa  128        1915     2900   \n",
       "2157  Vinrankevej             9      Villa  182        1963     2900   \n",
       "2158  Vinrankevej             5      Villa  202        2007     2900   \n",
       "2159  Vinrankevej             3      Villa  202        2011     2900   \n",
       "\n",
       "          City Date of Sale Type of Sale     Price  \n",
       "0     Hellerup     20-07-15    Alm. Salg   1700000  \n",
       "1     Hellerup     12-05-15    Alm. Salg   2815000  \n",
       "2     Hellerup     29-12-10    Alm. Salg   1575000  \n",
       "3     Hellerup     10-04-12    Alm. Salg   1340000  \n",
       "4     Hellerup     04-02-12    Alm. Salg   1435000  \n",
       "...        ...          ...          ...       ...  \n",
       "2155  Hellerup     22-06-15    Alm. Salg   8700000  \n",
       "2156  Hellerup     10-06-10    Alm. Salg   9100000  \n",
       "2157  Hellerup     17-09-13    Alm. Salg   7000000  \n",
       "2158  Hellerup     29-08-12    Alm. Salg  13500000  \n",
       "2159  Hellerup     09-07-10    Alm. Salg   4000000  \n",
       "\n",
       "[2160 rows x 10 columns]"
      ]
     },
     "execution_count": 36,
     "metadata": {},
     "output_type": "execute_result"
    }
   ],
   "source": [
    "homes_df"
   ]
  },
  {
   "cell_type": "markdown",
   "metadata": {},
   "source": [
    "## Question 1\n",
    "Assign to X a dataframe with the single feature, m2, which is the size of the home in square meters. The target value y is Price. Now Use train_test_split to create training and test data. List the four resulting values, and the shape of each (how many rows and columns)."
   ]
  },
  {
   "cell_type": "code",
   "execution_count": 41,
   "metadata": {},
   "outputs": [],
   "source": [
    "X = homes_df[['m2']]\n",
    "y = homes_df[['Price']]\n",
    "X_train, X_test, y_train, y_test = train_test_split(X,y)"
   ]
  },
  {
   "cell_type": "code",
   "execution_count": 42,
   "metadata": {},
   "outputs": [
    {
     "name": "stdout",
     "output_type": "stream",
     "text": [
      "(1620, 1)\n",
      "(1620, 1)\n",
      "(540, 1)\n",
      "(540, 1)\n"
     ]
    }
   ],
   "source": [
    "arr = [X_train, y_train, X_test, y_test]\n",
    "\n",
    "for x in arr:\n",
    "    print(x.shape)\n"
   ]
  },
  {
   "cell_type": "markdown",
   "metadata": {},
   "source": [
    "## Question 2\n",
    "Build a linear regression model to predict price, based on size of the home. Fit the model to X_train and y_train, and report the score for both train and test."
   ]
  },
  {
   "cell_type": "code",
   "execution_count": 44,
   "metadata": {},
   "outputs": [
    {
     "name": "stdout",
     "output_type": "stream",
     "text": [
      "Accuracy on training set: 0.308\n"
     ]
    }
   ],
   "source": [
    "l_model_train = LinearRegression()\n",
    "l_model_train.fit(X_train, y_train)\n",
    "print(\"Accuracy on training set: {:.3f}\".format(l_model_train.score(X_train, y_train)))"
   ]
  },
  {
   "cell_type": "code",
   "execution_count": 45,
   "metadata": {},
   "outputs": [
    {
     "name": "stdout",
     "output_type": "stream",
     "text": [
      "Accuracy on training set: 0.312\n"
     ]
    }
   ],
   "source": [
    "l_model_test = LinearRegression()\n",
    "l_model_test.fit(X_test, y_test)\n",
    "print(\"Accuracy on training set: {:.3f}\".format(l_model_test.score(X_test, y_test)))"
   ]
  },
  {
   "cell_type": "markdown",
   "metadata": {},
   "source": [
    "## Question 3\n",
    "Build a KNeighborsRegressor model on the same data, and report the score for both train and test."
   ]
  },
  {
   "cell_type": "code",
   "execution_count": 46,
   "metadata": {},
   "outputs": [],
   "source": [
    "  # instantiate the model and set the number of neighbors to consider to 3\n",
    "reg = KNeighborsRegressor()\n",
    "# fit the model using the training data and training targets "
   ]
  },
  {
   "cell_type": "code",
   "execution_count": 48,
   "metadata": {
    "tags": []
   },
   "outputs": [
    {
     "name": "stdout",
     "output_type": "stream",
     "text": [
      "Accuracy on training set: 0.466\n"
     ]
    }
   ],
   "source": [
    "reg.fit(X_train, y_train)\n",
    "print(\"Accuracy on training set: {:.3f}\".format(reg.score(X_train, y_train)))"
   ]
  },
  {
   "cell_type": "code",
   "execution_count": 50,
   "metadata": {},
   "outputs": [
    {
     "name": "stdout",
     "output_type": "stream",
     "text": [
      "Accuracy on training set: 0.316\n"
     ]
    }
   ],
   "source": [
    "reg.fit(X_train, y_train)\n",
    "print(\"Accuracy on training set: {:.3f}\".format(reg.score(X_test, y_test)))"
   ]
  },
  {
   "cell_type": "markdown",
   "metadata": {},
   "source": [
    "As you did in the previous lab. use get_dummies to add the additional features, 'Type of Sale', and 'Type'. You still want to include m2. "
   ]
  },
  {
   "cell_type": "code",
   "execution_count": 51,
   "metadata": {},
   "outputs": [],
   "source": [
    "X = pd.get_dummies(homes_df[['m2','Build Year','Type of Sale', 'Type' ]])"
   ]
  },
  {
   "cell_type": "markdown",
   "metadata": {},
   "source": [
    "## Question 4\n",
    "Fit the Linear Regression model again, and report on train and test score. Remember to first do the train-test split."
   ]
  },
  {
   "cell_type": "code",
   "execution_count": 53,
   "metadata": {},
   "outputs": [],
   "source": [
    "X_train, X_test, y_train, y_test = train_test_split(X,y)"
   ]
  },
  {
   "cell_type": "code",
   "execution_count": 54,
   "metadata": {},
   "outputs": [
    {
     "name": "stdout",
     "output_type": "stream",
     "text": [
      "(1620, 12)\n",
      "(1620, 1)\n",
      "(540, 12)\n",
      "(540, 1)\n"
     ]
    }
   ],
   "source": [
    "arr = [X_train, y_train, X_test, y_test]\n",
    "\n",
    "for x in arr:\n",
    "    print(x.shape)"
   ]
  },
  {
   "cell_type": "code",
   "execution_count": 57,
   "metadata": {},
   "outputs": [],
   "source": [
    "lr_model = LinearRegression()"
   ]
  },
  {
   "cell_type": "code",
   "execution_count": 58,
   "metadata": {},
   "outputs": [
    {
     "name": "stdout",
     "output_type": "stream",
     "text": [
      "Accuracy on training set: 0.400\n"
     ]
    }
   ],
   "source": [
    "lr_model.fit(X_train, y_train)\n",
    "print(\"Accuracy on training set: {:.3f}\".format(lr_model.score(X_train, y_train)))"
   ]
  },
  {
   "cell_type": "code",
   "execution_count": 59,
   "metadata": {},
   "outputs": [
    {
     "name": "stdout",
     "output_type": "stream",
     "text": [
      "Accuracy on testing set: 0.268\n"
     ]
    }
   ],
   "source": [
    "lr_model.fit(X_test, y_test)\n",
    "print(\"Accuracy on testing set: {:.3f}\".format(lr_model.score(X_test, y_test)))"
   ]
  },
  {
   "cell_type": "markdown",
   "metadata": {},
   "source": [
    "## Question 5\n",
    "Create a KNeighborsRegressor model on the same data, and report on training and test score."
   ]
  },
  {
   "cell_type": "code",
   "execution_count": 72,
   "metadata": {},
   "outputs": [
    {
     "name": "stdout",
     "output_type": "stream",
     "text": [
      "Score on training set: 0.675\n",
      "Score on test set: 0.592\n"
     ]
    }
   ],
   "source": [
    "kn = KNeighborsRegressor()\n",
    "kn.fit(X_train,y_train)\n",
    "print(\"Score on training set: {:.3f}\".format(kn.score(X_train, y_train)))\n",
    "print(\"Score on test set: {:.3f}\".format(kn.score(X_test, y_test)))"
   ]
  },
  {
   "cell_type": "markdown",
   "metadata": {},
   "source": [
    "## Question 6\n",
    "Try to change some hyperparameters on the KNeighborsRegressor to improve the score."
   ]
  },
  {
   "cell_type": "code",
   "execution_count": 74,
   "metadata": {},
   "outputs": [
    {
     "name": "stdout",
     "output_type": "stream",
     "text": [
      "Score on training set: 0.993\n",
      "Score on test set: 0.695\n"
     ]
    }
   ],
   "source": [
    "kn = KNeighborsRegressor(weights='distance', n_neighbors=30)\n",
    "kn.fit(X_train,y_train)\n",
    "print(\"Score on training set: {:.3f}\".format(kn.score(X_train, y_train)))\n",
    "print(\"Score on test set: {:.3f}\".format(kn.score(X_test, y_test)))\n"
   ]
  },
  {
   "cell_type": "markdown",
   "metadata": {},
   "source": [
    "## Question 7\n",
    "Create a DecisionTreeRegressor model, and fit that model to the training data, and report on training and test score."
   ]
  },
  {
   "cell_type": "code",
   "execution_count": 67,
   "metadata": {},
   "outputs": [
    {
     "name": "stdout",
     "output_type": "stream",
     "text": [
      "Score on training set: 0.993\n",
      "Score on test set: 0.566\n"
     ]
    }
   ],
   "source": [
    "dt = DecisionTreeRegressor()\n",
    "dt.fit(X_train,y_train)\n",
    "print(\"Score on training set: {:.3f}\".format(dt.score(X_train, y_train)))\n",
    "print(\"Score on test set: {:.3f}\".format(dt.score(X_test, y_test)))"
   ]
  },
  {
   "cell_type": "markdown",
   "metadata": {},
   "source": [
    "## Question 8\n",
    "Change some parameters to reduce overfitting on the DecisionTreeRegressor model.\n"
   ]
  },
  {
   "cell_type": "code",
   "execution_count": 68,
   "metadata": {},
   "outputs": [
    {
     "name": "stdout",
     "output_type": "stream",
     "text": [
      "Score on training set: 0.758\n",
      "Score on test set: 0.655\n"
     ]
    }
   ],
   "source": [
    "dt = DecisionTreeRegressor(max_depth=5)\n",
    "dt.fit(X_train,y_train)\n",
    "print(\"Score on training set: {:.3f}\".format(dt.score(X_train, y_train)))\n",
    "print(\"Score on test set: {:.3f}\".format(dt.score(X_test, y_test)))"
   ]
  },
  {
   "cell_type": "markdown",
   "metadata": {},
   "source": [
    "## Question 9\n",
    "Display the feature importance for each feature for the DecisionTreeRegressor model. The coefficients are stored in an attribute, feature_importance_, as described <a href=https://ogrisel.github.io/scikit-learn.org/sklearn-tutorial/modules/generated/sklearn.tree.DecisionTreeRegressor.html>here</a>. As you did with the linear regression features in the previous lab, you should sort a zipped list of the feature names and coefficients."
   ]
  },
  {
   "cell_type": "code",
   "execution_count": 69,
   "metadata": {},
   "outputs": [
    {
     "data": {
      "text/plain": [
       "[('m2', 0.5779160902454255),\n",
       " ('Build Year', 0.26823506217095006),\n",
       " ('Type of Sale_Andet', 0.10822960062030132),\n",
       " ('Type of Sale_Alm. Salg', 0.02987799192753933),\n",
       " ('Type_Villa', 0.015741255035783722),\n",
       " ('Type of Sale_Auktion', 0.0),\n",
       " ('Type of Sale_Fam. Salg', 0.0),\n",
       " ('Type_Døgninstitution', 0.0),\n",
       " ('Type_Erhverv', 0.0),\n",
       " ('Type_Lejlighed', 0.0),\n",
       " ('Type_Rækkehus', 0.0),\n",
       " ('Type_Stuehus', 0.0)]"
      ]
     },
     "execution_count": 69,
     "metadata": {},
     "output_type": "execute_result"
    }
   ],
   "source": [
    "coefs = dt.feature_importances_\n",
    "sorted_coefs = sorted ((zip(X.columns, coefs)),\n",
    "                key = lambda e:e[1], reverse=True)\n",
    "sorted_coefs"
   ]
  },
  {
   "cell_type": "markdown",
   "metadata": {},
   "source": [
    "##  Question 10\n",
    "Try to find the best model you can -- try things like\n",
    "<ul>\n",
    "    <li>Add new features (eg, year of sale, road name)</li>\n",
    "    <li>Try different models</li>\n",
    "    <li>Try different parameters of models</li>\n",
    "</ul>\n",
    "\n",
    "     "
   ]
  },
  {
   "cell_type": "code",
   "execution_count": 70,
   "metadata": {},
   "outputs": [
    {
     "name": "stderr",
     "output_type": "stream",
     "text": [
      "<ipython-input-70-aa89b21d10d4>:2: DataConversionWarning: A column-vector y was passed when a 1d array was expected. Please change the shape of y to (n_samples,), for example using ravel().\n",
      "  rf.fit(X_train,y_train)\n"
     ]
    },
    {
     "name": "stdout",
     "output_type": "stream",
     "text": [
      "Score on training set: 0.841\n",
      "Score on test set: 0.721\n"
     ]
    }
   ],
   "source": [
    "#lol har ingen ide\n"
   ]
  },
  {
   "cell_type": "code",
   "execution_count": null,
   "metadata": {},
   "outputs": [],
   "source": []
  }
 ],
 "metadata": {
  "kernelspec": {
   "display_name": "Python 3",
   "language": "python",
   "name": "python3"
  },
  "language_info": {
   "codemirror_mode": {
    "name": "ipython",
    "version": 3
   },
   "file_extension": ".py",
   "mimetype": "text/x-python",
   "name": "python",
   "nbconvert_exporter": "python",
   "pygments_lexer": "ipython3",
   "version": "3.8.8"
  }
 },
 "nbformat": 4,
 "nbformat_minor": 4
}
